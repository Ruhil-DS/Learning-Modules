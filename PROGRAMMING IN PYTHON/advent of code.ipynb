{
 "cells": [
  {
   "cell_type": "markdown",
   "id": "3f5c0f48",
   "metadata": {},
   "source": [
    "https://adventofcode.com/2021/"
   ]
  },
  {
   "cell_type": "markdown",
   "id": "7c7030db",
   "metadata": {
    "heading_collapsed": true
   },
   "source": [
    "# day1"
   ]
  },
  {
   "cell_type": "code",
   "execution_count": 1,
   "id": "aa902548",
   "metadata": {
    "hidden": true
   },
   "outputs": [
    {
     "name": "stdout",
     "output_type": "stream",
     "text": [
      "1342\n"
     ]
    }
   ],
   "source": [
    "f = open(\"day1.txt\", 'r')\n",
    "l2 = '_'\n",
    "count = 0\n",
    "l1 = int(f.readline().rstrip())\n",
    "        \n",
    "while l2 != '':\n",
    "    l2 = f.readline().rstrip()\n",
    "    if l2 != '':\n",
    "        l2 = int(l2)\n",
    "        if l2>l1:\n",
    "            count +=1\n",
    "    l1 = l2\n",
    "f.close()\n",
    "\n",
    "print(count)\n",
    "    "
   ]
  },
  {
   "cell_type": "code",
   "execution_count": 2,
   "id": "ca6d3556",
   "metadata": {
    "hidden": true
   },
   "outputs": [],
   "source": [
    "f = open(\"day1.txt\", 'r')\n",
    "\n",
    "s = f.readlines()\n",
    "\n",
    "data = []\n",
    "for i in range(len(s)):\n",
    "    data.append( int(s[i].rstrip()) )"
   ]
  },
  {
   "cell_type": "code",
   "execution_count": 3,
   "id": "eea34272",
   "metadata": {
    "hidden": true
   },
   "outputs": [],
   "source": [
    "import pandas as pd\n",
    "df = pd.Series(data)"
   ]
  },
  {
   "cell_type": "code",
   "execution_count": 4,
   "id": "df49552f",
   "metadata": {
    "hidden": true
   },
   "outputs": [],
   "source": [
    "rdf = df.rolling(3).sum()"
   ]
  },
  {
   "cell_type": "code",
   "execution_count": 5,
   "id": "c4cff8a0",
   "metadata": {
    "hidden": true
   },
   "outputs": [],
   "source": [
    "rdf = rdf[2:]"
   ]
  },
  {
   "cell_type": "code",
   "execution_count": 6,
   "id": "0aeea834",
   "metadata": {
    "hidden": true
   },
   "outputs": [],
   "source": [
    "rolling_data = rdf.to_list()"
   ]
  },
  {
   "cell_type": "code",
   "execution_count": 7,
   "id": "d88b8715",
   "metadata": {
    "hidden": true
   },
   "outputs": [
    {
     "name": "stdout",
     "output_type": "stream",
     "text": [
      "1378\n"
     ]
    }
   ],
   "source": [
    "count = 0\n",
    "for i in range(1, len(rolling_data)):\n",
    "    if rolling_data[i] > rolling_data[i-1]:\n",
    "        count +=1\n",
    "print(count)"
   ]
  },
  {
   "cell_type": "code",
   "execution_count": 8,
   "id": "87a04023",
   "metadata": {
    "hidden": true
   },
   "outputs": [],
   "source": [
    "test = [199,200,208,210,200,207,240,269,260,263] \n",
    "df_test = pd.Series(test)\n",
    "test_rolling = df_test.rolling(3).sum()\n"
   ]
  },
  {
   "cell_type": "code",
   "execution_count": 9,
   "id": "571e69d5",
   "metadata": {
    "hidden": true
   },
   "outputs": [],
   "source": [
    "test_rolling = test_rolling[2:]"
   ]
  },
  {
   "cell_type": "code",
   "execution_count": 10,
   "id": "ca2c79e7",
   "metadata": {
    "hidden": true
   },
   "outputs": [],
   "source": [
    "test = test_rolling.to_list()"
   ]
  },
  {
   "cell_type": "code",
   "execution_count": 11,
   "id": "023bbd14",
   "metadata": {
    "hidden": true
   },
   "outputs": [],
   "source": [
    "test.insert(0, 600)"
   ]
  },
  {
   "cell_type": "code",
   "execution_count": 12,
   "id": "2ab7a211",
   "metadata": {
    "hidden": true
   },
   "outputs": [
    {
     "name": "stdout",
     "output_type": "stream",
     "text": [
      "6\n"
     ]
    }
   ],
   "source": [
    "count = 0 \n",
    "for i in range(1,len(test)):\n",
    "    if test[i] > test[i-1]:\n",
    "        count +=1\n",
    "print(count)"
   ]
  },
  {
   "cell_type": "markdown",
   "id": "3fbe487a",
   "metadata": {},
   "source": [
    "# day 2"
   ]
  },
  {
   "cell_type": "code",
   "execution_count": 41,
   "id": "a0235a5d",
   "metadata": {},
   "outputs": [
    {
     "name": "stdout",
     "output_type": "stream",
     "text": [
      "2322630\n"
     ]
    }
   ],
   "source": [
    "fwd = 0\n",
    "dwn = 0\n",
    "with open('day2.txt', 'r') as f:\n",
    "    for lines in f:\n",
    "        cells = lines.strip().split(' ')\n",
    "        if cells[0] == 'forward':\n",
    "            fwd += int(cells[1])\n",
    "        elif cells[0] == 'down':\n",
    "            dwn += int(cells[1])\n",
    "        elif cells[0] == 'up':\n",
    "            dwn -= int(cells[1])\n",
    "\n",
    "print(fwd*dwn)"
   ]
  },
  {
   "cell_type": "code",
   "execution_count": 42,
   "id": "7b0d029b",
   "metadata": {},
   "outputs": [
    {
     "name": "stdout",
     "output_type": "stream",
     "text": [
      "2322630 2105273490\n"
     ]
    }
   ],
   "source": [
    "with open('day2.txt', 'r') as f:\n",
    "    input_data = f.read()\n",
    "    a = input_data.splitlines()\n",
    "\n",
    "horizontal, depth, aim = 0, 0, 0\n",
    "\n",
    "for i in a:\n",
    "    c, v = i.split()\n",
    "    if c == \"forward\":\n",
    "        horizontal += int(v)\n",
    "        depth += (int(v) * aim)\n",
    "    elif c == \"down\":\n",
    "        aim += int(v)\n",
    "    elif c == \"up\":\n",
    "        aim -= int(v)\n",
    "\n",
    "print(horizontal * aim, horizontal * depth)"
   ]
  },
  {
   "cell_type": "code",
   "execution_count": null,
   "id": "6fa09f41",
   "metadata": {},
   "outputs": [],
   "source": []
  }
 ],
 "metadata": {
  "kernelspec": {
   "display_name": "Python 3",
   "language": "python",
   "name": "python3"
  },
  "language_info": {
   "codemirror_mode": {
    "name": "ipython",
    "version": 3
   },
   "file_extension": ".py",
   "mimetype": "text/x-python",
   "name": "python",
   "nbconvert_exporter": "python",
   "pygments_lexer": "ipython3",
   "version": "3.8.8"
  },
  "toc": {
   "base_numbering": 1,
   "nav_menu": {},
   "number_sections": true,
   "sideBar": true,
   "skip_h1_title": false,
   "title_cell": "Table of Contents",
   "title_sidebar": "Contents",
   "toc_cell": false,
   "toc_position": {},
   "toc_section_display": true,
   "toc_window_display": false
  },
  "varInspector": {
   "cols": {
    "lenName": 16,
    "lenType": 16,
    "lenVar": 40
   },
   "kernels_config": {
    "python": {
     "delete_cmd_postfix": "",
     "delete_cmd_prefix": "del ",
     "library": "var_list.py",
     "varRefreshCmd": "print(var_dic_list())"
    },
    "r": {
     "delete_cmd_postfix": ") ",
     "delete_cmd_prefix": "rm(",
     "library": "var_list.r",
     "varRefreshCmd": "cat(var_dic_list()) "
    }
   },
   "types_to_exclude": [
    "module",
    "function",
    "builtin_function_or_method",
    "instance",
    "_Feature"
   ],
   "window_display": false
  }
 },
 "nbformat": 4,
 "nbformat_minor": 5
}

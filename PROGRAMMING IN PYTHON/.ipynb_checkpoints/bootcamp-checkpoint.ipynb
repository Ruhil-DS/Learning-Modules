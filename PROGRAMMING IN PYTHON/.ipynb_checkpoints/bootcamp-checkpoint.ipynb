{
 "cells": [
  {
   "cell_type": "markdown",
   "id": "4f48f083",
   "metadata": {},
   "source": [
    "SESSION 2, 20 OCT"
   ]
  },
  {
   "cell_type": "markdown",
   "id": "bc5c0e45",
   "metadata": {
    "heading_collapsed": true
   },
   "source": [
    "# Creating a list"
   ]
  },
  {
   "cell_type": "code",
   "execution_count": 51,
   "id": "bc6fa50c",
   "metadata": {
    "hidden": true
   },
   "outputs": [
    {
     "name": "stdout",
     "output_type": "stream",
     "text": [
      "CPU times: user 5 µs, sys: 0 ns, total: 5 µs\n",
      "Wall time: 8.82 µs\n"
     ]
    }
   ],
   "source": [
    "%%time\n",
    "import random\n",
    "\n",
    "def create_list(n, r):\n",
    "    l = []\n",
    "    for i in range(n):\n",
    "        l.append(random.randint(1, r))\n",
    "    l = list(set(l))\n",
    "    random.shuffle(l)\n",
    "    return l"
   ]
  },
  {
   "cell_type": "code",
   "execution_count": 66,
   "id": "64b3eb31",
   "metadata": {
    "hidden": true
   },
   "outputs": [
    {
     "data": {
      "text/plain": [
       "[7, 78, 38, 43, 68, 65, 87, 6, 83, 39]"
      ]
     },
     "execution_count": 66,
     "metadata": {},
     "output_type": "execute_result"
    }
   ],
   "source": [
    "create_list(10, 100)"
   ]
  },
  {
   "cell_type": "code",
   "execution_count": 67,
   "id": "2b996678",
   "metadata": {
    "hidden": true
   },
   "outputs": [],
   "source": [
    "def find_min(l):\n",
    "    return min(l)\n"
   ]
  },
  {
   "cell_type": "code",
   "execution_count": 71,
   "id": "ab176cb8",
   "metadata": {
    "hidden": true
   },
   "outputs": [],
   "source": [
    "def obvious_sort(l):\n",
    "    x = []\n",
    "    for i in range(len(l)):\n",
    "        m = find_min(l)\n",
    "        x.append(m)\n",
    "        l.remove(m)\n",
    "    return x\n",
    "        "
   ]
  },
  {
   "cell_type": "markdown",
   "id": "aac9ffa6",
   "metadata": {
    "hidden": true
   },
   "source": [
    "kth_smallest_min\n",
    "\n",
    "kth_smallest_sort\n",
    "\n",
    "kth_smallest_fast\n"
   ]
  },
  {
   "cell_type": "code",
   "execution_count": 72,
   "id": "7252f276",
   "metadata": {
    "hidden": true
   },
   "outputs": [
    {
     "data": {
      "text/plain": [
       "[1, 2, 3, 6, 10, 19]"
      ]
     },
     "execution_count": 72,
     "metadata": {},
     "output_type": "execute_result"
    }
   ],
   "source": [
    "obvious_sort([10,3,6,2,1,19])"
   ]
  },
  {
   "cell_type": "markdown",
   "id": "57fda2cc",
   "metadata": {
    "heading_collapsed": true
   },
   "source": [
    "# -  kth element using minimum "
   ]
  },
  {
   "cell_type": "code",
   "execution_count": 75,
   "id": "8b76e4e2",
   "metadata": {
    "hidden": true
   },
   "outputs": [],
   "source": [
    "def kth_element_min(l, k):\n",
    "    # kth shortest element\n",
    "    for i in range(k):\n",
    "        mini = find_min(l)\n",
    "        l.remove(mini)\n",
    "    return find_min(l)\n",
    "    "
   ]
  },
  {
   "cell_type": "code",
   "execution_count": 116,
   "id": "5e68c76f",
   "metadata": {
    "hidden": true
   },
   "outputs": [
    {
     "name": "stdout",
     "output_type": "stream",
     "text": [
      "143424\n"
     ]
    }
   ],
   "source": [
    "random.seed(42)\n",
    "l = create_list(10**4, 10**6)\n",
    "\n",
    "print(l[2])"
   ]
  },
  {
   "cell_type": "code",
   "execution_count": 117,
   "id": "0b8f9c2b",
   "metadata": {
    "hidden": true
   },
   "outputs": [
    {
     "name": "stdout",
     "output_type": "stream",
     "text": [
      "CPU times: user 1.45 ms, sys: 1 µs, total: 1.45 ms\n",
      "Wall time: 1.46 ms\n"
     ]
    },
    {
     "data": {
      "text/plain": [
       "206"
      ]
     },
     "execution_count": 117,
     "metadata": {},
     "output_type": "execute_result"
    }
   ],
   "source": [
    "%%time\n",
    "kth_element_min(l, 3)"
   ]
  },
  {
   "cell_type": "markdown",
   "id": "67b29f6f",
   "metadata": {
    "heading_collapsed": true
   },
   "source": [
    "# - Kth element using sorting"
   ]
  },
  {
   "cell_type": "code",
   "execution_count": 118,
   "id": "65cfddef",
   "metadata": {
    "hidden": true
   },
   "outputs": [],
   "source": [
    "def kth_element_sort(l, k):\n",
    "    l_sorted = obvious_sort(l)\n",
    "    return l_sorted[k] "
   ]
  },
  {
   "cell_type": "code",
   "execution_count": 124,
   "id": "6a8a5214",
   "metadata": {
    "hidden": true
   },
   "outputs": [
    {
     "name": "stdout",
     "output_type": "stream",
     "text": [
      "CPU times: user 2.32 s, sys: 37.8 ms, total: 2.36 s\n",
      "Wall time: 3.37 s\n"
     ]
    },
    {
     "data": {
      "text/plain": [
       "206"
      ]
     },
     "execution_count": 124,
     "metadata": {},
     "output_type": "execute_result"
    }
   ],
   "source": [
    "%%time\n",
    "random.seed(42)\n",
    "l = create_list(10**4, 10**6)\n",
    "\n",
    "kth_element_sort(l, 3)\n",
    "\n",
    "\n"
   ]
  },
  {
   "cell_type": "markdown",
   "id": "0e198e5d",
   "metadata": {
    "heading_collapsed": true
   },
   "source": [
    "# - Kth element using reccusion"
   ]
  },
  {
   "cell_type": "code",
   "execution_count": null,
   "id": "de3fb6d1",
   "metadata": {
    "hidden": true
   },
   "outputs": [],
   "source": []
  },
  {
   "cell_type": "markdown",
   "id": "c2844901",
   "metadata": {
    "heading_collapsed": true
   },
   "source": [
    "# without sort - distinct elements"
   ]
  },
  {
   "cell_type": "code",
   "execution_count": 15,
   "id": "64a748a0",
   "metadata": {
    "hidden": true
   },
   "outputs": [],
   "source": [
    "def distElements(L):\n",
    "    tracker = dict() \n",
    "    flag = True\n",
    "    for i in L:\n",
    "        if i in tracker:\n",
    "            flag = False\n",
    "            break\n",
    "        else:\n",
    "            tracker[i] = 1\n",
    "    if flag:\n",
    "        return 1\n",
    "    else:\n",
    "        return 0"
   ]
  },
  {
   "cell_type": "code",
   "execution_count": 17,
   "id": "ccb473a8",
   "metadata": {
    "hidden": true
   },
   "outputs": [
    {
     "data": {
      "text/plain": [
       "1"
      ]
     },
     "execution_count": 17,
     "metadata": {},
     "output_type": "execute_result"
    }
   ],
   "source": [
    "distElements([1,2,3,4,5])"
   ]
  },
  {
   "cell_type": "code",
   "execution_count": 91,
   "id": "49d539d6",
   "metadata": {
    "hidden": true
   },
   "outputs": [],
   "source": [
    "def find_min(l):\n",
    "    return min(l)\n",
    "def find_max(l):\n",
    "    return max(l)"
   ]
  },
  {
   "cell_type": "code",
   "execution_count": 114,
   "id": "98e45db5",
   "metadata": {
    "hidden": true
   },
   "outputs": [],
   "source": [
    "def distElements(L):\n",
    "    flag = True\n",
    "    for i in range(len(L)//2):\n",
    "        min1 = find_min(L) # find_min is already defined to find the minimum value in a list\n",
    "        max1 = find_max(L) # find_max is already defined to find the maximum value in a list\n",
    "        \n",
    "        \n",
    "        L.remove(min1)   # removing the 1st min element\n",
    "        L.remove(max1)   # removing the 1st max element\n",
    "        \n",
    "        min2 = find_min(L)   # finding the 2nd min element for comparison\n",
    "        max2 = find_max(L)   # finding the 2nd max element for comparison\n",
    "        if min1 == min2 or max1==max2:\n",
    "            flag = False # flag set to false if both minimum or both maximum equal, \n",
    "            break       # and used break to get out of loop\n",
    "            \n",
    "    if flag:\n",
    "        return 1\n",
    "    else:\n",
    "        return 0\n",
    "    "
   ]
  },
  {
   "cell_type": "code",
   "execution_count": 120,
   "id": "f3172364",
   "metadata": {
    "hidden": true
   },
   "outputs": [],
   "source": [
    "random.seed(42)\n",
    "l = create_list(10**4, 10**6)\n"
   ]
  },
  {
   "cell_type": "code",
   "execution_count": 121,
   "id": "7b9ff77f",
   "metadata": {
    "hidden": true
   },
   "outputs": [
    {
     "name": "stdout",
     "output_type": "stream",
     "text": [
      "CPU times: user 3.04 s, sys: 46.2 ms, total: 3.09 s\n",
      "Wall time: 3.32 s\n"
     ]
    },
    {
     "data": {
      "text/plain": [
       "1"
      ]
     },
     "execution_count": 121,
     "metadata": {},
     "output_type": "execute_result"
    }
   ],
   "source": [
    "%%time\n",
    "distElements(l)"
   ]
  },
  {
   "cell_type": "code",
   "execution_count": 130,
   "id": "d0885245",
   "metadata": {
    "hidden": true
   },
   "outputs": [],
   "source": [
    "def distElements2(L):\n",
    "    flag = True\n",
    "    for i in range(len(L)-1):\n",
    "        min1 = find_min(L) # find_min is already defined to find the minimum value in a list\n",
    "        #max1 = find_max(L) # find_max is already defined to find the maximum value in a list\n",
    "        \n",
    "        \n",
    "        L.remove(min1)\n",
    "        #L.remove(max1)\n",
    "        \n",
    "        min2 = find_min(L)\n",
    "        #max2 = find_max(L)\n",
    "        if min1 == min2: # or max1==max2:\n",
    "            flag = False\n",
    "            break\n",
    "            \n",
    "    if flag:\n",
    "        return 1\n",
    "    else:\n",
    "        return 0\n",
    "    "
   ]
  },
  {
   "cell_type": "code",
   "execution_count": 131,
   "id": "93366e10",
   "metadata": {
    "hidden": true
   },
   "outputs": [
    {
     "name": "stdout",
     "output_type": "stream",
     "text": [
      "24.8 ms ± 4.14 ms per loop (mean ± std. dev. of 7 runs, 10 loops each)\n"
     ]
    }
   ],
   "source": [
    "%%timeit\n",
    "\n",
    "random.seed(42)\n",
    "l = create_list(10**4, 10**6)\n"
   ]
  },
  {
   "cell_type": "code",
   "execution_count": 132,
   "id": "a9900428",
   "metadata": {
    "hidden": true
   },
   "outputs": [
    {
     "name": "stdout",
     "output_type": "stream",
     "text": [
      "3.67 s ± 324 ms per loop (mean ± std. dev. of 7 runs, 1 loop each)\n"
     ]
    }
   ],
   "source": [
    "%%timeit\n",
    "random.seed(42)\n",
    "l = create_list(10**4, 10**6)\n",
    "\n",
    "distElements2(l)"
   ]
  },
  {
   "cell_type": "code",
   "execution_count": 1,
   "id": "0fee6f94",
   "metadata": {
    "hidden": true
   },
   "outputs": [
    {
     "data": {
      "text/plain": [
       "'-------------'"
      ]
     },
     "execution_count": 1,
     "metadata": {},
     "output_type": "execute_result"
    }
   ],
   "source": [
    "# 3.35 s ± 167 ms per loop (mean ± std. dev. of 7 runs, 1 loop each)\n",
    "# FOR 1\n",
    "\n",
    "'''-------------'''\n",
    "\n",
    "# 3.67 s ± 324 ms per loop (mean ± std. dev. of 7 runs, 1 loop each)\n",
    "# for 2"
   ]
  },
  {
   "cell_type": "markdown",
   "id": "809a4289",
   "metadata": {},
   "source": [
    "# twitter\n"
   ]
  },
  {
   "cell_type": "code",
   "execution_count": 7,
   "id": "e98afbfa",
   "metadata": {},
   "outputs": [
    {
     "name": "stdout",
     "output_type": "stream",
     "text": [
      "Enter the tweetYe le pranav bhai, padhle mere device ka name\n",
      "Done!\n"
     ]
    }
   ],
   "source": [
    "import tweepy\n",
    "auth = tweepy.OAuthHandler(\"r5fdLw5ueZocRHLU509l90JDr\", \"9TTQ9lbI6KPzedjgfdrwNbwx34d2POQBEIy4d3mNzHsiUIRKjl\")\n",
    "auth.set_access_token(\"1355537289737240583-Kvsd9aojrHbw2hqBc6XxWvLxPa1C8j\", \"3zPQvzVrKAolaZ4GzI6WMGmChYfZsagjYKMENF7CahyAb\")\n",
    "api = tweepy.API(auth)\n",
    "tweet = input(\"Enter the tweet\")\n",
    "api.update_status(status =(tweet))\n",
    "print (\"Done!\")"
   ]
  },
  {
   "cell_type": "code",
   "execution_count": 6,
   "id": "9b39dd46",
   "metadata": {},
   "outputs": [
    {
     "name": "stdout",
     "output_type": "stream",
     "text": [
      "no\n"
     ]
    },
    {
     "ename": "AttributeError",
     "evalue": "'API' object has no attribute 'update_with_media'",
     "output_type": "error",
     "traceback": [
      "\u001b[0;31m---------------------------------------------------------------------------\u001b[0m",
      "\u001b[0;31mAttributeError\u001b[0m                            Traceback (most recent call last)",
      "\u001b[0;32m<ipython-input-6-dd981f97c552>\u001b[0m in \u001b[0;36m<module>\u001b[0;34m\u001b[0m\n\u001b[1;32m      7\u001b[0m \u001b[0mtweet\u001b[0m \u001b[0;34m=\u001b[0m \u001b[0minput\u001b[0m\u001b[0;34m(\u001b[0m\u001b[0;34m\"\"\u001b[0m\u001b[0;34m)\u001b[0m\u001b[0;34m\u001b[0m\u001b[0;34m\u001b[0m\u001b[0m\n\u001b[1;32m      8\u001b[0m \u001b[0mimage\u001b[0m\u001b[0;34m=\u001b[0m\u001b[0;34m\"C:/Users/facadmin1/Downloads/introdev.PNG\"\u001b[0m  \u001b[0;31m#Enter image location\u001b[0m\u001b[0;34m\u001b[0m\u001b[0;34m\u001b[0m\u001b[0m\n\u001b[0;32m----> 9\u001b[0;31m \u001b[0mapi\u001b[0m\u001b[0;34m.\u001b[0m\u001b[0mupdate_with_media\u001b[0m\u001b[0;34m(\u001b[0m\u001b[0mimage\u001b[0m\u001b[0;34m,\u001b[0m \u001b[0mtweet\u001b[0m\u001b[0;34m)\u001b[0m\u001b[0;34m\u001b[0m\u001b[0;34m\u001b[0m\u001b[0m\n\u001b[0m\u001b[1;32m     10\u001b[0m \u001b[0mprint\u001b[0m \u001b[0;34m(\u001b[0m\u001b[0;34m\"Done!\"\u001b[0m\u001b[0;34m)\u001b[0m\u001b[0;34m\u001b[0m\u001b[0;34m\u001b[0m\u001b[0m\n",
      "\u001b[0;31mAttributeError\u001b[0m: 'API' object has no attribute 'update_with_media'"
     ]
    }
   ],
   "source": [
    "#If want to post media\n",
    "\n",
    "import tweepy\n",
    "auth = tweepy.OAuthHandler(\"CONSUMER KEY HERE\", \"CONSUMER KEY SECRET HERE\")\n",
    "auth.set_access_token(\"ACCESS TOKEN HERE\", \"ACCESS TOKEN SECRET HERE\")\n",
    "api = tweepy.API(auth)\n",
    "tweet = input(\"\")\n",
    "image=\"C:/Users/facadmin1/Downloads/introdev.PNG\"  #Enter image location\n",
    "api.update_with_media(image, tweet)\n",
    "print (\"Done!\")"
   ]
  },
  {
   "cell_type": "code",
   "execution_count": null,
   "id": "9c6295aa",
   "metadata": {},
   "outputs": [],
   "source": [
    "ii"
   ]
  }
 ],
 "metadata": {
  "kernelspec": {
   "display_name": "Python 3",
   "language": "python",
   "name": "python3"
  },
  "language_info": {
   "codemirror_mode": {
    "name": "ipython",
    "version": 3
   },
   "file_extension": ".py",
   "mimetype": "text/x-python",
   "name": "python",
   "nbconvert_exporter": "python",
   "pygments_lexer": "ipython3",
   "version": "3.8.8"
  },
  "toc": {
   "base_numbering": 1,
   "nav_menu": {},
   "number_sections": true,
   "sideBar": true,
   "skip_h1_title": false,
   "title_cell": "Table of Contents",
   "title_sidebar": "Contents",
   "toc_cell": false,
   "toc_position": {},
   "toc_section_display": true,
   "toc_window_display": false
  },
  "varInspector": {
   "cols": {
    "lenName": 16,
    "lenType": 16,
    "lenVar": 40
   },
   "kernels_config": {
    "python": {
     "delete_cmd_postfix": "",
     "delete_cmd_prefix": "del ",
     "library": "var_list.py",
     "varRefreshCmd": "print(var_dic_list())"
    },
    "r": {
     "delete_cmd_postfix": ") ",
     "delete_cmd_prefix": "rm(",
     "library": "var_list.r",
     "varRefreshCmd": "cat(var_dic_list()) "
    }
   },
   "types_to_exclude": [
    "module",
    "function",
    "builtin_function_or_method",
    "instance",
    "_Feature"
   ],
   "window_display": false
  }
 },
 "nbformat": 4,
 "nbformat_minor": 5
}

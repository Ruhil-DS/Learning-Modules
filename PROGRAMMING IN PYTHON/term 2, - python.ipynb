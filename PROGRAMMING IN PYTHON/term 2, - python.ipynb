{
 "cells": [
  {
   "cell_type": "markdown",
   "id": "dd24c1e7",
   "metadata": {
    "heading_collapsed": true
   },
   "source": [
    "# week 1"
   ]
  },
  {
   "cell_type": "code",
   "execution_count": null,
   "id": "4bb62adb",
   "metadata": {
    "hidden": true
   },
   "outputs": [],
   "source": []
  },
  {
   "cell_type": "code",
   "execution_count": 2,
   "id": "a3715e47",
   "metadata": {
    "hidden": true
   },
   "outputs": [
    {
     "name": "stdout",
     "output_type": "stream",
     "text": [
      "sachin\n",
      "rohit\n",
      "False\n"
     ]
    }
   ],
   "source": [
    "name1 = input()\n",
    "name2 = input()\n",
    "\n",
    "print(name1<name2)"
   ]
  },
  {
   "cell_type": "code",
   "execution_count": 3,
   "id": "1e0e6f62",
   "metadata": {
    "hidden": true
   },
   "outputs": [
    {
     "name": "stdout",
     "output_type": "stream",
     "text": [
      "31\n"
     ]
    }
   ],
   "source": [
    "x = 2**5\n",
    "x1 = x//2\n",
    "x2 = x1//2\n",
    "x3 = x2//2\n",
    "x4 = x3//2\n",
    "x5 = x4//2\n",
    "\n",
    "print(x1+x2+x3+x4+x5)"
   ]
  },
  {
   "cell_type": "code",
   "execution_count": 4,
   "id": "fd9aa463",
   "metadata": {
    "hidden": true
   },
   "outputs": [
    {
     "name": "stdout",
     "output_type": "stream",
     "text": [
      "31\n"
     ]
    }
   ],
   "source": [
    "x = 2 ** 5\n",
    "x1 = x // 2\n",
    "x2 = x1 // 2\n",
    "x3 = x2 // 2\n",
    "x4 = x3 // 2\n",
    "x5 = x4 // 2\n",
    "print(x1 + x2 + x3 + x4 + x5)"
   ]
  },
  {
   "cell_type": "code",
   "execution_count": 9,
   "id": "900b10ac",
   "metadata": {
    "hidden": true
   },
   "outputs": [
    {
     "name": "stdout",
     "output_type": "stream",
     "text": [
      "hello\n",
      "ok\n"
     ]
    }
   ],
   "source": [
    "print(\"hello\\nok\")"
   ]
  },
  {
   "cell_type": "markdown",
   "id": "6c923a36",
   "metadata": {
    "heading_collapsed": true
   },
   "source": [
    "# week 2 practice"
   ]
  },
  {
   "cell_type": "code",
   "execution_count": 5,
   "id": "ae5da3ce",
   "metadata": {
    "hidden": true
   },
   "outputs": [
    {
     "name": "stdout",
     "output_type": "stream",
     "text": [
      "TacticT\n",
      "False\n"
     ]
    }
   ],
   "source": [
    "word = input()\n",
    "valid = False\n",
    "# both 'a' and 'z' are in lower case\n",
    "if 'a' <= word[0] <= 'z':\n",
    "    if word[0] == word[-1]:\n",
    "        valid = True\n",
    "print(valid)"
   ]
  },
  {
   "cell_type": "code",
   "execution_count": 10,
   "id": "ba120982",
   "metadata": {
    "hidden": true
   },
   "outputs": [
    {
     "name": "stdout",
     "output_type": "stream",
     "text": [
      "goodnessme\n",
      "long goodnessme\n"
     ]
    }
   ],
   "source": [
    "L = 5\n",
    "word = input()\n",
    "space = ' ' # there is a single space\n",
    "if len(word) < L:\n",
    "    word = 'short' + space + word\n",
    "elif L <= len(word) < 2 * L:\n",
    "    word = 'medium' + space + word\n",
    "else:\n",
    "    word = 'long' + space + word\n",
    "print(word)"
   ]
  },
  {
   "cell_type": "code",
   "execution_count": 13,
   "id": "64a0f2ea",
   "metadata": {
    "hidden": true
   },
   "outputs": [
    {
     "name": "stdout",
     "output_type": "stream",
     "text": [
      "0\n",
      "1\n",
      "4\n",
      "P2\n"
     ]
    }
   ],
   "source": [
    "x = int(input())\n",
    "y = int(input())\n",
    "z = int(input())\n",
    "\n",
    "# Block-1 Start\n",
    "if x > 0 or y > 0 or z > 0:\n",
    "    if (x > 0 and y > 0) or (y > 0 and z > 0) or (z > 0 and x > 0):\n",
    "        if x > 0 and y > 0 and z > 0:\n",
    "            print('P3')\n",
    "        else:\n",
    "            print('P2')\n",
    "    else:\n",
    "        print('P1')\n",
    "# Block-1 End\n",
    "\n",
    "# Block-2 Start\n",
    "if x < 0 or y < 0 or z < 0:\n",
    "    if (x < 0 and y < 0) or (y < 0 and z < 0) or (z < 0 and x < 0):\n",
    "        if x < 0 and y < 0 and z < 0:\n",
    "            print('N3')\n",
    "        else:\n",
    "            print('N2')\n",
    "    else:\n",
    "        print('N1')\n",
    "# Block-2 End"
   ]
  },
  {
   "cell_type": "code",
   "execution_count": 14,
   "id": "588906ca",
   "metadata": {
    "hidden": true
   },
   "outputs": [
    {
     "name": "stdout",
     "output_type": "stream",
     "text": [
      "this sentence has 5 words\n",
      "5\n"
     ]
    }
   ],
   "source": [
    "sentence = input()\n",
    "space = ' ' # there is a single space between the quotes\n",
    "num_words = sentence.count(space) + 1\n",
    "print(num_words)"
   ]
  },
  {
   "cell_type": "code",
   "execution_count": 16,
   "id": "92954015",
   "metadata": {
    "hidden": true
   },
   "outputs": [
    {
     "name": "stdout",
     "output_type": "stream",
     "text": [
      "ABC\n",
      "XYZ\n",
      "MR\n",
      "fname lname\n",
      "999\n",
      "Student record:\n",
      "    Dept: ABC\n",
      "    Course: XYZ\n",
      "    Name: MR FNAME LNAME\n",
      "    Roll No: 999\n",
      "    Library Card No: AX999\n"
     ]
    }
   ],
   "source": [
    "dept    = input()\n",
    "course  = input()\n",
    "prefix  = input()\n",
    "name    = input()\n",
    "roll_no = input()\n",
    "name = prefix + \" \" + name.upper() # one space\n",
    "lib_id = dept[0] + course[0] + roll_no\n",
    "print(\"Student record:\")\n",
    "indent = '    ' # four spaces\n",
    "print(indent + \"Dept:\", dept)\n",
    "\n",
    "print(indent + \"Name:\", name)\n",
    "print(indent + \"Roll No:\", roll_no)\n",
    "print(indent + \"Library Card No:\", lib_id)"
   ]
  },
  {
   "cell_type": "code",
   "execution_count": 19,
   "id": "79dd3e1e",
   "metadata": {
    "hidden": true
   },
   "outputs": [
    {
     "name": "stdout",
     "output_type": "stream",
     "text": [
      ")(][}{\n",
      "PERFECT!\n"
     ]
    }
   ],
   "source": [
    "word = input()\n",
    "match = False\n",
    "if word.count('(') == word.count(')'):\n",
    "    if word.count('[') == word.count(']'):\n",
    "        if word.count('{') == word.count('}'):\n",
    "            match = True\n",
    "if match:\n",
    "    print('PERFECT!')\n",
    "else:\n",
    "    print('IMPERFECT!')"
   ]
  },
  {
   "cell_type": "markdown",
   "id": "ba3e5f04",
   "metadata": {
    "heading_collapsed": true
   },
   "source": [
    "# week 2 GPa"
   ]
  },
  {
   "cell_type": "code",
   "execution_count": 74,
   "id": "f430190c",
   "metadata": {
    "hidden": true
   },
   "outputs": [
    {
     "name": "stdout",
     "output_type": "stream",
     "text": [
      "AE12IO343U\n",
      "aeiou\n"
     ]
    }
   ],
   "source": [
    "a = input()\n",
    "string = a.lower()\n",
    "\n",
    "vowels = \"\"\n",
    "if((\"a\" not in string) and (\"e\" not in string) and (\"i\" not in string) and (\"o\"not in string) and (\"u\" not in string)  ):\n",
    "    vowels=\"none\"\n",
    "\n",
    "elif(\"a\" in string):\n",
    "    vowels += \"a\"\n",
    "if(\"e\" in string):\n",
    "    vowels += \"e\"\n",
    "if(\"i\" in string):\n",
    "    vowels += \"i\"\n",
    "if(\"o\" in string):\n",
    "    vowels += \"o\"\n",
    "if(\"u\" in string):\n",
    "    vowels += \"u\"\n",
    "\n",
    "print(vowels)"
   ]
  },
  {
   "cell_type": "code",
   "execution_count": 65,
   "id": "46e2fa8b",
   "metadata": {
    "hidden": true
   },
   "outputs": [
    {
     "name": "stdout",
     "output_type": "stream",
     "text": [
      "Abc\n",
      "10-02-2001\n",
      "Abd\n",
      "10-02-2001\n",
      "Abd\n"
     ]
    }
   ],
   "source": [
    "p1 = input()\n",
    "p1_dob = input()\n",
    "\n",
    "p2 = input()\n",
    "p2_dob = input()\n",
    "\n",
    "\n",
    "if(int(p1_dob[-4:]) > int(p2_dob[-4:]) ):\n",
    "    print(p1)\n",
    "elif(int(p1_dob[-4:]) < int(p2_dob[-4:]) ):\n",
    "    print(p2)\n",
    "\n",
    "elif( (int(p1_dob[-4:]) == int(p2_dob[-4:]) ) and (int(p1_dob[3:5]) > int(p2_dob[3:5])) ):\n",
    "    print(p1)\n",
    "elif( (int(p1_dob[-4:]) == int(p2_dob[-4:]) ) and (int(p1_dob[3:5]) < int(p2_dob[3:5])) ):\n",
    "    print(p2)\n",
    "    \n",
    "    \n",
    "elif( (int(p1_dob[-4:]) == int(p2_dob[-4:]) ) \n",
    "        and (int(p1_dob[3:5]) == int(p2_dob[3:5])) \n",
    "        and (int(p1_dob[:2]) > int(p2_dob[:2])) ):\n",
    "    print(p1)\n",
    "elif( (int(p1_dob[-4:]) == int(p2_dob[-4:]) ) \n",
    "        and (int(p1_dob[3:5]) == int(p2_dob[3:5])) \n",
    "        and (int(p1_dob[:2]) < int(p2_dob[:2])) ):\n",
    "    print(p2)\n",
    "\n",
    "elif(p1_dob == p2_dob):\n",
    "    if(p1>p2):\n",
    "        print(p1)\n",
    "    else:\n",
    "        print(p2)"
   ]
  },
  {
   "cell_type": "code",
   "execution_count": 69,
   "id": "468e8312",
   "metadata": {
    "hidden": true
   },
   "outputs": [
    {
     "name": "stdout",
     "output_type": "stream",
     "text": [
      "abcd1234\n",
      "True\n"
     ]
    }
   ],
   "source": [
    "pswd = input()\n",
    "\n",
    "if( ( len(pswd) < 8) or (len(pswd)>32 ) ):\n",
    "    print(False)\n",
    "elif( pswd[0].isdigit() ):\n",
    "    print(False)\n",
    "elif( (\"/\" in pswd) or ( \"\\\\\" in pswd) or (\"=\" in pswd) or (\"'\" in pswd) or ('\"' in pswd) or (\" \" in pswd)   ):\n",
    "    print(False)\n",
    "else:\n",
    "    print(True)"
   ]
  },
  {
   "cell_type": "markdown",
   "id": "590a82e3",
   "metadata": {
    "heading_collapsed": true
   },
   "source": [
    "# week 3"
   ]
  },
  {
   "cell_type": "code",
   "execution_count": 4,
   "id": "7c9658bc",
   "metadata": {
    "hidden": true
   },
   "outputs": [
    {
     "name": "stdout",
     "output_type": "stream",
     "text": [
      "enter \n",
      "1947\n",
      "yey\n"
     ]
    }
   ],
   "source": [
    "year = int(input(\"enter \\n\"))\n",
    "\n",
    "while (year != 1947):\n",
    "    print(\"nope\")\n",
    "    year = int(input(\"enter again \\n\"))\n",
    "if(year==1947):\n",
    "    print(\"yey\")"
   ]
  },
  {
   "cell_type": "code",
   "execution_count": 10,
   "id": "73f4a640",
   "metadata": {
    "hidden": true
   },
   "outputs": [
    {
     "name": "stdout",
     "output_type": "stream",
     "text": [
      "1\n",
      "3\n",
      "5\n",
      "7\n",
      "9\n"
     ]
    }
   ],
   "source": [
    "for i in range(1, 11,2):\n",
    "    print(i)"
   ]
  },
  {
   "cell_type": "code",
   "execution_count": 4,
   "id": "e7e9109d",
   "metadata": {
    "hidden": true
   },
   "outputs": [
    {
     "name": "stdout",
     "output_type": "stream",
     "text": [
      "40\n"
     ]
    }
   ],
   "source": [
    "flag = False\n",
    "while flag !=True:\n",
    "    for i in range(1, 41):\n",
    "        fi = i**2 + i +41\n",
    "        if (fi%41==0):\n",
    "            flag = True\n",
    "            print(i)\n",
    "            break"
   ]
  },
  {
   "cell_type": "code",
   "execution_count": 9,
   "id": "f49d674a",
   "metadata": {
    "hidden": true
   },
   "outputs": [
    {
     "name": "stdout",
     "output_type": "stream",
     "text": [
      "1   2\n",
      "2   4\n",
      "3   6\n",
      "4   8\n",
      "5   10\n",
      "6   12\n",
      "7   14\n",
      "8   16\n",
      "9   18\n",
      "10   20\n"
     ]
    }
   ],
   "source": [
    "count = 0\n",
    "num = 2\n",
    "while count < 10:\n",
    "    print(count+1,\" \",num)\n",
    "    num += 2\n",
    "    count += 1"
   ]
  },
  {
   "cell_type": "code",
   "execution_count": 12,
   "id": "16cb68c7",
   "metadata": {
    "hidden": true
   },
   "outputs": [
    {
     "name": "stdout",
     "output_type": "stream",
     "text": [
      "|1|2|3|4|5|\n"
     ]
    }
   ],
   "source": [
    "for char in 'a1b2c3d4e5':    \n",
    "    if char in 'abcde':\n",
    "        print('|', end = '') # there is no space between the quotes\n",
    "        continue    \n",
    "    print(char, end = '')  # there is no space between the quotes\n",
    "print('|')"
   ]
  },
  {
   "cell_type": "code",
   "execution_count": 15,
   "id": "95fa01d0",
   "metadata": {
    "hidden": true
   },
   "outputs": [
    {
     "name": "stdout",
     "output_type": "stream",
     "text": [
      "256\n",
      "8\n"
     ]
    }
   ],
   "source": [
    "x = int(input())\n",
    "y = 0\n",
    "while x > 1:\n",
    "    x = x // 2\n",
    "    y = y + 1\n",
    "print(y)"
   ]
  },
  {
   "cell_type": "code",
   "execution_count": 23,
   "id": "d1379a02",
   "metadata": {
    "hidden": true
   },
   "outputs": [
    {
     "name": "stdout",
     "output_type": "stream",
     "text": [
      "1000\n",
      "4\n"
     ]
    }
   ],
   "source": [
    "x = int(input())\n",
    "i = 0\n",
    "while x % (10 ** i) != x:\n",
    "    i = i + 1\n",
    "print(i)"
   ]
  },
  {
   "cell_type": "code",
   "execution_count": 34,
   "id": "63260bf7",
   "metadata": {
    "hidden": true
   },
   "outputs": [
    {
     "data": {
      "text/plain": [
       "55"
      ]
     },
     "execution_count": 34,
     "metadata": {},
     "output_type": "execute_result"
    }
   ],
   "source": [
    "155%100"
   ]
  },
  {
   "cell_type": "code",
   "execution_count": 35,
   "id": "5e033843",
   "metadata": {
    "hidden": true
   },
   "outputs": [
    {
     "name": "stdout",
     "output_type": "stream",
     "text": [
      "udymts\n"
     ]
    }
   ],
   "source": [
    "alpha = 'abcdefghijklmnopqrstuvwxyz'\n",
    "shift = 5\n",
    "word = 'python'\n",
    "encoded_word = ''  # there is no space between quotes\n",
    "for char in word:\n",
    "    shifted_index = (alpha.index(char) + shift) % 26\n",
    "    encoded_char = alpha[shifted_index]\n",
    "    encoded_word += encoded_char\n",
    "print(encoded_word)"
   ]
  },
  {
   "cell_type": "code",
   "execution_count": 36,
   "id": "7b5d9388",
   "metadata": {
    "hidden": true
   },
   "outputs": [
    {
     "name": "stdout",
     "output_type": "stream",
     "text": [
      "Albus Percival Brian Wulfric Dumbledore\n",
      "APBWD\n"
     ]
    }
   ],
   "source": [
    "name = input()\n",
    "nick = ''    # there is no space between the quotes\n",
    "space = ' ' # there is one space between the quotes\n",
    "first_char = True\n",
    "for char in name:\n",
    "    if first_char == True:\n",
    "        nick = nick + char\n",
    "        first_char = False\n",
    "    if char == space:\n",
    "        first_char = True\n",
    "print(nick)"
   ]
  },
  {
   "cell_type": "code",
   "execution_count": 44,
   "id": "df98af75",
   "metadata": {
    "hidden": true
   },
   "outputs": [
    {
     "name": "stdout",
     "output_type": "stream",
     "text": [
      "aaaaaaaaaa\n",
      "True\n"
     ]
    }
   ],
   "source": [
    "word = input()\n",
    "valid = True\n",
    "for i in range(len(word)):\n",
    "    char = word[i]\n",
    "    if (i % 2 == 0) and (char not in 'aeiou'):\n",
    "        valid = False\n",
    "print(valid)"
   ]
  },
  {
   "cell_type": "code",
   "execution_count": 60,
   "id": "555db35c",
   "metadata": {
    "hidden": true
   },
   "outputs": [],
   "source": [
    "boxes= '|1|4|1|5|9|'\n",
    "num = 0\n",
    "total = 0\n",
    "for i in range(len(boxes)):\n",
    "    if i % 2 == 0:\n",
    "        continue\n",
    "    coins = int(boxes[i])\n",
    "    total += coins\n",
    "    num += 1\n",
    "avg = total / num"
   ]
  },
  {
   "cell_type": "code",
   "execution_count": 62,
   "id": "059f17ad",
   "metadata": {
    "hidden": true
   },
   "outputs": [
    {
     "name": "stdout",
     "output_type": "stream",
     "text": [
      "4.0\n"
     ]
    }
   ],
   "source": [
    "print(avg)"
   ]
  },
  {
   "cell_type": "code",
   "execution_count": 49,
   "id": "0e86f7a9",
   "metadata": {
    "hidden": true
   },
   "outputs": [],
   "source": [
    "import numpy as np\n"
   ]
  },
  {
   "cell_type": "code",
   "execution_count": 50,
   "id": "9518d0d6",
   "metadata": {
    "hidden": true
   },
   "outputs": [
    {
     "data": {
      "text/plain": [
       "4.0"
      ]
     },
     "execution_count": 50,
     "metadata": {},
     "output_type": "execute_result"
    }
   ],
   "source": [
    "np.average([1,4,1,5,9])"
   ]
  },
  {
   "cell_type": "code",
   "execution_count": 73,
   "id": "51974c7e",
   "metadata": {
    "hidden": true
   },
   "outputs": [
    {
     "name": "stdout",
     "output_type": "stream",
     "text": [
      "7\n",
      "13\n"
     ]
    }
   ],
   "source": [
    "n = int(input())\n",
    "F_prev = 1\n",
    "F_curr = 1\n",
    "for i in range(n - 2):\n",
    "    temp = F_prev + F_curr\n",
    "    F_prev = F_curr\n",
    "    F_curr = temp\n",
    "print(F_curr)"
   ]
  },
  {
   "cell_type": "code",
   "execution_count": 78,
   "id": "aa44163f",
   "metadata": {
    "hidden": true
   },
   "outputs": [
    {
     "name": "stdout",
     "output_type": "stream",
     "text": [
      "0,1\n",
      "0,2\n",
      "0,3\n",
      "0,4\n",
      "0,5\n",
      "0,6\n",
      "0,7\n",
      "0,8\n",
      "0,9\n",
      "1,0\n",
      "1,2\n",
      "1,3\n",
      "1,4\n",
      "1,5\n",
      "1,6\n",
      "1,7\n",
      "1,8\n",
      "1,9\n",
      "2,0\n",
      "2,1\n",
      "2,3\n",
      "2,4\n",
      "2,5\n",
      "2,6\n",
      "2,7\n",
      "2,8\n",
      "2,9\n",
      "3,0\n",
      "3,1\n",
      "3,2\n",
      "3,4\n",
      "3,5\n",
      "3,6\n",
      "3,7\n",
      "3,8\n",
      "3,9\n",
      "4,0\n",
      "4,1\n",
      "4,2\n",
      "4,3\n",
      "4,5\n",
      "4,6\n",
      "4,7\n",
      "4,8\n",
      "4,9\n",
      "5,0\n",
      "5,1\n",
      "5,2\n",
      "5,3\n",
      "5,4\n",
      "5,6\n",
      "5,7\n",
      "5,8\n",
      "5,9\n",
      "6,0\n",
      "6,1\n",
      "6,2\n",
      "6,3\n",
      "6,4\n",
      "6,5\n",
      "6,7\n",
      "6,8\n",
      "6,9\n",
      "7,0\n",
      "7,1\n",
      "7,2\n",
      "7,3\n",
      "7,4\n",
      "7,5\n",
      "7,6\n",
      "7,8\n",
      "7,9\n",
      "8,0\n",
      "8,1\n",
      "8,2\n",
      "8,3\n",
      "8,4\n",
      "8,5\n",
      "8,6\n",
      "8,7\n",
      "8,9\n",
      "9,0\n",
      "9,1\n",
      "9,2\n",
      "9,3\n",
      "9,4\n",
      "9,5\n",
      "9,6\n",
      "9,7\n",
      "9,8\n"
     ]
    }
   ],
   "source": [
    "for x in range(10):\n",
    "    for y in range(10):\n",
    "        if x != y:\n",
    "            print(f'{x},{y}')"
   ]
  },
  {
   "cell_type": "code",
   "execution_count": 94,
   "id": "315fc1d2",
   "metadata": {
    "hidden": true
   },
   "outputs": [
    {
     "name": "stdout",
     "output_type": "stream",
     "text": [
      "0,1\n",
      "0,2\n",
      "0,3\n",
      "0,4\n",
      "0,5\n",
      "0,6\n",
      "0,7\n",
      "0,8\n",
      "0,9\n",
      "1,0\n",
      "1,2\n",
      "1,3\n",
      "1,4\n",
      "1,5\n",
      "1,6\n",
      "1,7\n",
      "1,8\n",
      "1,9\n",
      "2,0\n",
      "2,1\n",
      "2,3\n",
      "2,4\n",
      "2,5\n",
      "2,6\n",
      "2,7\n",
      "2,8\n",
      "2,9\n",
      "3,0\n",
      "3,1\n",
      "3,2\n",
      "3,4\n",
      "3,5\n",
      "3,6\n",
      "3,7\n",
      "3,8\n",
      "3,9\n",
      "4,0\n",
      "4,1\n",
      "4,2\n",
      "4,3\n",
      "4,5\n",
      "4,6\n",
      "4,7\n",
      "4,8\n",
      "4,9\n",
      "5,0\n",
      "5,1\n",
      "5,2\n",
      "5,3\n",
      "5,4\n",
      "5,6\n",
      "5,7\n",
      "5,8\n",
      "5,9\n",
      "6,0\n",
      "6,1\n",
      "6,2\n",
      "6,3\n",
      "6,4\n",
      "6,5\n",
      "6,7\n",
      "6,8\n",
      "6,9\n",
      "7,0\n",
      "7,1\n",
      "7,2\n",
      "7,3\n",
      "7,4\n",
      "7,5\n",
      "7,6\n",
      "7,8\n",
      "7,9\n",
      "8,0\n",
      "8,1\n",
      "8,2\n",
      "8,3\n",
      "8,4\n",
      "8,5\n",
      "8,6\n",
      "8,7\n",
      "8,9\n",
      "9,0\n",
      "9,1\n",
      "9,2\n",
      "9,3\n",
      "9,4\n",
      "9,5\n",
      "9,6\n",
      "9,7\n",
      "9,8\n"
     ]
    }
   ],
   "source": [
    "x, y = 0, 0\n",
    "while x < 10:\n",
    "    y=0\n",
    "    while y < 10:\n",
    "        if x != y:\n",
    "            print(f'{x},{y}')\n",
    "        y += 1\n",
    "    x += 1"
   ]
  },
  {
   "cell_type": "markdown",
   "id": "519e651f",
   "metadata": {
    "heading_collapsed": true
   },
   "source": [
    "# week 3 GPa"
   ]
  },
  {
   "cell_type": "code",
   "execution_count": 136,
   "id": "ee4f237d",
   "metadata": {
    "hidden": true
   },
   "outputs": [
    {
     "name": "stdout",
     "output_type": "stream",
     "text": [
      "5\n"
     ]
    }
   ],
   "source": [
    "n = int(input())\n",
    "\n",
    "for i in range(2, n-1):\n",
    "    if(n%i==0):\n",
    "        print(i)\n",
    "        continue\n",
    "    \n",
    "    elif (i%(n) == 0):\n",
    "        print(n)\n",
    "        \n",
    "        "
   ]
  },
  {
   "cell_type": "code",
   "execution_count": 183,
   "id": "252fd896",
   "metadata": {
    "hidden": true
   },
   "outputs": [
    {
     "name": "stdout",
     "output_type": "stream",
     "text": [
      "79\n",
      "79\n"
     ]
    }
   ],
   "source": [
    "i = 2\n",
    "n = int(input())\n",
    "factors = set()\n",
    "while i * i <= n:\n",
    "    if n % i:\n",
    "        i += 1\n",
    "    else:\n",
    "        n //= i\n",
    "        factors.add(i)\n",
    "if n > 1:\n",
    "    factors.add(n)\n",
    "\n",
    "for each in factors:\n",
    "    print(each)"
   ]
  },
  {
   "cell_type": "code",
   "execution_count": 186,
   "id": "316aaed3",
   "metadata": {
    "hidden": true
   },
   "outputs": [
    {
     "name": "stdout",
     "output_type": "stream",
     "text": [
      "START\n",
      "UP\n",
      "RIGHT\n",
      "LEFT\n",
      "LEFT\n",
      "DOWN\n",
      "UP\n",
      "STOP\n"
     ]
    },
    {
     "data": {
      "text/plain": [
       "'\\nUP\\nRIGHT\\nLEFT\\nLEFT\\nDOWN\\nUP\\nSTOP\\n'"
      ]
     },
     "execution_count": 186,
     "metadata": {},
     "output_type": "execute_result"
    }
   ],
   "source": [
    "#manhattan distance\n",
    "l = list()\n",
    "n = input()\n",
    "x, y = 0,0\n",
    "if n=='START':\n",
    "    while n != \"STOP\":\n",
    "        n = input()\n",
    "        l.append(n)\n",
    "\n",
    "for i in range(len(l)):\n",
    "    if l[i] == 'UP':\n",
    "        y += 1\n",
    "    elif l[i] == 'DOWN':\n",
    "        y -= 1\n",
    "    elif l[i] == 'LEFT':\n",
    "        x -=1\n",
    "    elif l[i] == 'RIGHT':\n",
    "        x += 1\n",
    "\n",
    "man = abs(x) + abs(y)\n",
    "print(man)\n",
    "\n",
    "'''\n",
    "UP\n",
    "RIGHT\n",
    "LEFT\n",
    "LEFT\n",
    "DOWN\n",
    "UP\n",
    "STOP\n",
    "'''\n",
    "    "
   ]
  },
  {
   "cell_type": "code",
   "execution_count": 194,
   "id": "7cb8b240",
   "metadata": {
    "hidden": true
   },
   "outputs": [
    {
     "name": "stdout",
     "output_type": "stream",
     "text": [
      "daceaaa\n",
      "aaaacde"
     ]
    }
   ],
   "source": [
    "word = input()\n",
    "\n",
    "word = word.lower()\n",
    "l = []\n",
    "\n",
    "for i in range(len(word)):\n",
    "    l.append(word[i])\n",
    "\n",
    "l = sorted(l)\n",
    "for i in l:\n",
    "    print(i, end='')"
   ]
  },
  {
   "cell_type": "code",
   "execution_count": 254,
   "id": "958c151e",
   "metadata": {
    "code_folding": [],
    "hidden": true
   },
   "outputs": [
    {
     "name": "stdout",
     "output_type": "stream",
     "text": [
      "98888886543\n",
      "invalid\n"
     ]
    }
   ],
   "source": [
    "'''\n",
    "1) The number should start with one of these digits: 6, 7, 8, 9\n",
    "(2) The number should be exactly 10 digits long.\n",
    "(3) No digit should appear more than 7 times in the number.\n",
    "(4) No digit should appear more than 5 times in a row in the numbe\n",
    "'''\n",
    "\n",
    "num = input()\n",
    "val = 'valid'\n",
    "###----------------\n",
    "\n",
    "l = []\n",
    "for i in range(len(num)):\n",
    "    l.append(num[i])\n",
    "\n",
    "d = {i:l.count(i) for i in l}\n",
    "for k,v in d.items():\n",
    "    if v>=7:\n",
    "        val = 'invalid' \n",
    "        \n",
    "\n",
    " \n",
    "for i in range(len(num)-5):\n",
    "    if(num[i] == num[i+1]==num[i+2]==num[i+3]==num[i+4]==num[i+5]):\n",
    "        val = 'invalid' \n",
    "        \n",
    "   \n",
    "    \n",
    "###-------------\n",
    "\n",
    "if(num[0] not in '6789'):\n",
    "    val = 'invalid' \n",
    "    \n",
    "    \n",
    "elif(len(num) != 10):\n",
    "    val = 'invalid' \n",
    "\n",
    "\n",
    "\n",
    "if(val == 'invalid'):\n",
    "    print('invalid')\n",
    "else:\n",
    "    print('valid')\n"
   ]
  },
  {
   "cell_type": "code",
   "execution_count": 242,
   "id": "8affebf1",
   "metadata": {
    "hidden": true
   },
   "outputs": [
    {
     "ename": "NameError",
     "evalue": "name 'n' is not defined",
     "output_type": "error",
     "traceback": [
      "\u001b[0;31m---------------------------------------------------------------------------\u001b[0m",
      "\u001b[0;31mNameError\u001b[0m                                 Traceback (most recent call last)",
      "\u001b[0;32m<ipython-input-242-c4ec2699a4cf>\u001b[0m in \u001b[0;36m<module>\u001b[0;34m\u001b[0m\n\u001b[0;32m----> 1\u001b[0;31m \u001b[0;32mdel\u001b[0m \u001b[0mn\u001b[0m\u001b[0;34m\u001b[0m\u001b[0;34m\u001b[0m\u001b[0m\n\u001b[0m",
      "\u001b[0;31mNameError\u001b[0m: name 'n' is not defined"
     ]
    }
   ],
   "source": [
    "del n"
   ]
  },
  {
   "cell_type": "code",
   "execution_count": 216,
   "id": "89502b01",
   "metadata": {
    "hidden": true
   },
   "outputs": [
    {
     "name": "stdout",
     "output_type": "stream",
     "text": [
      "invalid\n"
     ]
    }
   ],
   "source": [
    "for k,v in d.items():\n",
    "    if v>7:\n",
    "        print(\"invalid\")"
   ]
  },
  {
   "cell_type": "code",
   "execution_count": 222,
   "id": "1f3df70a",
   "metadata": {
    "hidden": true
   },
   "outputs": [
    {
     "data": {
      "text/plain": [
       "True"
      ]
     },
     "execution_count": 222,
     "metadata": {},
     "output_type": "execute_result"
    }
   ],
   "source": [
    "5==5==5==5"
   ]
  },
  {
   "cell_type": "code",
   "execution_count": 229,
   "id": "4ed5ba3d",
   "metadata": {
    "hidden": true
   },
   "outputs": [
    {
     "name": "stdout",
     "output_type": "stream",
     "text": [
      "0\n",
      "1\n",
      "invalid\n",
      "2\n",
      "3\n",
      "4\n",
      "5\n"
     ]
    }
   ],
   "source": [
    "num = '9888888765'\n",
    "for i in range(6):\n",
    "    print(i)\n",
    "    if(num[i] == num[i+1]==num[i+2]==num[i+3]==num[i+4]==num[i+5]):\n",
    "        print(\"invalid\")\n",
    "    else:\n",
    "        continue"
   ]
  },
  {
   "cell_type": "code",
   "execution_count": 4,
   "id": "fc59f892",
   "metadata": {
    "hidden": true
   },
   "outputs": [
    {
     "name": "stdout",
     "output_type": "stream",
     "text": [
      "5\n",
      "1\n",
      "1,2\n",
      "1,2,3\n",
      "1,2,3,4\n",
      "1,2,3,4,5\n",
      "1,2,3,4\n",
      "1,2,3\n",
      "1,2\n",
      "1\n"
     ]
    }
   ],
   "source": [
    "#arow example\n",
    "'''\n",
    "1\n",
    "1,2\n",
    "\n",
    "'''\n",
    "\n",
    "n = int(input())\n",
    "i = 0\n",
    "temp = ''\n",
    "for i in range(0, n):\n",
    "    print(temp + str(i+1), sep=',')\n",
    "    temp +=  str(i+1) + ','\n",
    "#temp = ''\n",
    "for i in range(n-1, 0, -1):\n",
    "    temp = temp[-i-1:]\n",
    "    print(temp)\n",
    "    \n",
    "    "
   ]
  },
  {
   "cell_type": "markdown",
   "id": "0035a223",
   "metadata": {
    "heading_collapsed": true
   },
   "source": [
    "# random code"
   ]
  },
  {
   "cell_type": "code",
   "execution_count": 325,
   "id": "ceffc739",
   "metadata": {
    "hidden": true
   },
   "outputs": [
    {
     "data": {
      "text/plain": [
       "[38, 40, 49, 35, 94, 83, 100, 90, 87, 77]"
      ]
     },
     "execution_count": 325,
     "metadata": {},
     "output_type": "execute_result"
    }
   ],
   "source": [
    "data"
   ]
  },
  {
   "cell_type": "code",
   "execution_count": 326,
   "id": "97715b4c",
   "metadata": {
    "hidden": true
   },
   "outputs": [
    {
     "data": {
      "text/plain": [
       "693"
      ]
     },
     "execution_count": 326,
     "metadata": {},
     "output_type": "execute_result"
    }
   ],
   "source": [
    "np.sum(data)"
   ]
  },
  {
   "cell_type": "code",
   "execution_count": 327,
   "id": "fe3250ea",
   "metadata": {
    "hidden": true
   },
   "outputs": [
    {
     "data": {
      "text/plain": [
       "69.3"
      ]
     },
     "execution_count": 327,
     "metadata": {},
     "output_type": "execute_result"
    }
   ],
   "source": [
    "0.1*693\n"
   ]
  },
  {
   "cell_type": "code",
   "execution_count": 328,
   "id": "37fa3242",
   "metadata": {
    "hidden": true
   },
   "outputs": [],
   "source": [
    "data = [1,2,3,4,5,6,7,8,9,10,11,12,13,14,15,16,17,18,19,20,21,22,23,24,25,26]"
   ]
  },
  {
   "cell_type": "code",
   "execution_count": 329,
   "id": "6b3d7e9a",
   "metadata": {
    "hidden": true
   },
   "outputs": [
    {
     "data": {
      "text/plain": [
       "26"
      ]
     },
     "execution_count": 329,
     "metadata": {},
     "output_type": "execute_result"
    }
   ],
   "source": [
    "len(data) "
   ]
  },
  {
   "cell_type": "code",
   "execution_count": 330,
   "id": "70cd757d",
   "metadata": {
    "hidden": true
   },
   "outputs": [
    {
     "data": {
      "text/plain": [
       "13.5"
      ]
     },
     "execution_count": 330,
     "metadata": {},
     "output_type": "execute_result"
    }
   ],
   "source": [
    "np.mean(data) "
   ]
  },
  {
   "cell_type": "code",
   "execution_count": 344,
   "id": "369caef8",
   "metadata": {
    "hidden": true
   },
   "outputs": [
    {
     "name": "stdout",
     "output_type": "stream",
     "text": [
      "ye lo, proof ki ye input h : abccd\n",
      "aur ye humara output abcd\n"
     ]
    }
   ],
   "source": [
    "string = \"abcdefghijklmnopqrstuvwxyz\"\n",
    "\n",
    "word = input(\"ye lo, proof ki ye input h : \").lower()\n",
    "\n",
    "sort = ''\n",
    "\n",
    "for i in string:\n",
    "    if(i in word):\n",
    "        sort +=i\n",
    "print(\"aur ye humara output\", sort)"
   ]
  },
  {
   "cell_type": "code",
   "execution_count": 1,
   "id": "9f34ef7e",
   "metadata": {
    "hidden": true
   },
   "outputs": [],
   "source": [
    "import numpy as np"
   ]
  },
  {
   "cell_type": "code",
   "execution_count": null,
   "id": "9e40f51a",
   "metadata": {
    "hidden": true
   },
   "outputs": [],
   "source": [
    "x = np.random.binomial(100, 0.5)\n",
    "y = np.random.uniform(-1, 1)"
   ]
  },
  {
   "cell_type": "code",
   "execution_count": 9,
   "id": "1563b3e6",
   "metadata": {
    "hidden": true
   },
   "outputs": [
    {
     "data": {
      "text/plain": [
       "[30, 39, 44, 46, 73, 89, 91, 96, 112, 115]"
      ]
     },
     "execution_count": 9,
     "metadata": {},
     "output_type": "execute_result"
    }
   ],
   "source": [
    "data"
   ]
  },
  {
   "cell_type": "code",
   "execution_count": 12,
   "id": "c2b550e4",
   "metadata": {
    "hidden": true
   },
   "outputs": [],
   "source": [
    "import scipy.stats as sp"
   ]
  },
  {
   "cell_type": "code",
   "execution_count": 13,
   "id": "10fd824a",
   "metadata": {
    "hidden": true
   },
   "outputs": [
    {
     "data": {
      "text/plain": [
       "50.25"
      ]
     },
     "execution_count": 13,
     "metadata": {},
     "output_type": "execute_result"
    }
   ],
   "source": [
    "sp.iqr(data)"
   ]
  },
  {
   "cell_type": "code",
   "execution_count": null,
   "id": "4ec71620",
   "metadata": {
    "hidden": true
   },
   "outputs": [],
   "source": []
  },
  {
   "cell_type": "code",
   "execution_count": null,
   "id": "c28d5765",
   "metadata": {
    "hidden": true
   },
   "outputs": [],
   "source": []
  },
  {
   "cell_type": "markdown",
   "id": "9524d417",
   "metadata": {
    "heading_collapsed": true
   },
   "source": [
    "# week 4"
   ]
  },
  {
   "cell_type": "code",
   "execution_count": 26,
   "id": "80454e3a",
   "metadata": {
    "hidden": true
   },
   "outputs": [],
   "source": [
    "x = np.array([2,5,7,65])\n",
    "y = np.array([5,12,63,5])\n"
   ]
  },
  {
   "cell_type": "code",
   "execution_count": 27,
   "id": "b1fe2514",
   "metadata": {
    "hidden": true
   },
   "outputs": [
    {
     "data": {
      "text/plain": [
       "836"
      ]
     },
     "execution_count": 27,
     "metadata": {},
     "output_type": "execute_result"
    }
   ],
   "source": [
    "np.dot(x,y)"
   ]
  },
  {
   "cell_type": "code",
   "execution_count": 28,
   "id": "4d577bc4",
   "metadata": {
    "hidden": true
   },
   "outputs": [],
   "source": [
    "x = [2,5,7,65]\n",
    "y = [5,12,63,5]\n"
   ]
  },
  {
   "cell_type": "code",
   "execution_count": 33,
   "id": "e122a968",
   "metadata": {
    "hidden": true
   },
   "outputs": [],
   "source": [
    "x= np.mat([[1,2,3], [4,5,6], [7,8,9]])\n",
    "\n",
    "y = np.mat([[1,2,1], [6,2,3], [4,2,1]])"
   ]
  },
  {
   "cell_type": "code",
   "execution_count": 34,
   "id": "4cc5dfdf",
   "metadata": {
    "hidden": true
   },
   "outputs": [
    {
     "data": {
      "text/plain": [
       "matrix([[25, 12, 10],\n",
       "        [58, 30, 25],\n",
       "        [91, 48, 40]])"
      ]
     },
     "execution_count": 34,
     "metadata": {},
     "output_type": "execute_result"
    }
   ],
   "source": [
    "\n",
    "x*y"
   ]
  },
  {
   "cell_type": "code",
   "execution_count": 37,
   "id": "1209179d",
   "metadata": {
    "hidden": true
   },
   "outputs": [
    {
     "data": {
      "text/plain": [
       "[1]"
      ]
     },
     "execution_count": 37,
     "metadata": {},
     "output_type": "execute_result"
    }
   ],
   "source": [
    "l = []\n",
    "l + [1]"
   ]
  },
  {
   "cell_type": "code",
   "execution_count": 38,
   "id": "5056620f",
   "metadata": {
    "hidden": true
   },
   "outputs": [],
   "source": [
    "l = [1,2,3,4,5,6]"
   ]
  },
  {
   "cell_type": "code",
   "execution_count": 40,
   "id": "48fd9e5c",
   "metadata": {
    "hidden": true
   },
   "outputs": [
    {
     "data": {
      "text/plain": [
       "[1, 2, 3, 4, 5]"
      ]
     },
     "execution_count": 40,
     "metadata": {},
     "output_type": "execute_result"
    }
   ],
   "source": [
    "l[:-1]"
   ]
  },
  {
   "cell_type": "code",
   "execution_count": 42,
   "id": "46db0810",
   "metadata": {
    "hidden": true
   },
   "outputs": [
    {
     "data": {
      "text/plain": [
       "[1, 2, 3, 4, 5]"
      ]
     },
     "execution_count": 42,
     "metadata": {},
     "output_type": "execute_result"
    }
   ],
   "source": [
    "l[0:len(l)-1]"
   ]
  },
  {
   "cell_type": "code",
   "execution_count": 44,
   "id": "81c62b93",
   "metadata": {
    "hidden": true
   },
   "outputs": [
    {
     "name": "stdout",
     "output_type": "stream",
     "text": [
      "0\n",
      "1\n",
      "2\n",
      "3\n",
      "4\n"
     ]
    }
   ],
   "source": [
    "for i in range(5):\n",
    "    print(i)"
   ]
  },
  {
   "cell_type": "code",
   "execution_count": 48,
   "id": "0be57838",
   "metadata": {
    "hidden": true
   },
   "outputs": [],
   "source": [
    "X = [5,2,7,1]"
   ]
  },
  {
   "cell_type": "code",
   "execution_count": 49,
   "id": "925d3819",
   "metadata": {
    "hidden": true
   },
   "outputs": [
    {
     "data": {
      "text/plain": [
       "79"
      ]
     },
     "execution_count": 49,
     "metadata": {},
     "output_type": "execute_result"
    }
   ],
   "source": [
    "np.dot(X,X)"
   ]
  },
  {
   "cell_type": "code",
   "execution_count": 50,
   "id": "efef580f",
   "metadata": {
    "hidden": true
   },
   "outputs": [],
   "source": [
    "i, dp = 0, 0\n",
    "while i < len(X):\n",
    "    dp += X[i] ** 2\n",
    "    i += 1"
   ]
  },
  {
   "cell_type": "code",
   "execution_count": 52,
   "id": "f811b274",
   "metadata": {
    "hidden": true
   },
   "outputs": [
    {
     "data": {
      "text/plain": [
       "79"
      ]
     },
     "execution_count": 52,
     "metadata": {},
     "output_type": "execute_result"
    }
   ],
   "source": [
    "dp"
   ]
  },
  {
   "cell_type": "code",
   "execution_count": 76,
   "id": "5be7d412",
   "metadata": {
    "hidden": true
   },
   "outputs": [],
   "source": [
    "dp = 0\n",
    "for elem in X:\n",
    "    dp += elem * elem"
   ]
  },
  {
   "cell_type": "code",
   "execution_count": 77,
   "id": "0751273a",
   "metadata": {
    "hidden": true
   },
   "outputs": [
    {
     "data": {
      "text/plain": [
       "79"
      ]
     },
     "execution_count": 77,
     "metadata": {},
     "output_type": "execute_result"
    }
   ],
   "source": [
    "dp"
   ]
  },
  {
   "cell_type": "code",
   "execution_count": 63,
   "id": "626134eb",
   "metadata": {
    "hidden": true
   },
   "outputs": [
    {
     "data": {
      "text/plain": [
       "4"
      ]
     },
     "execution_count": 63,
     "metadata": {},
     "output_type": "execute_result"
    }
   ],
   "source": [
    "X[1]*X[1]"
   ]
  },
  {
   "cell_type": "code",
   "execution_count": 86,
   "id": "c848a339",
   "metadata": {
    "hidden": true
   },
   "outputs": [],
   "source": [
    "import random\n",
    "\n",
    "rolls = [ ]\n",
    "for i in range(100000):\n",
    "    # randint includes the endpoints\n",
    "    roll = random.randint(1, 6)\n",
    "    rolls.append(roll)\n",
    "\n",
    "count = 0\n",
    "primes = [2, 3, 5]\n",
    "for roll in rolls:\n",
    "    if roll in primes:\n",
    "        count += 1"
   ]
  },
  {
   "cell_type": "code",
   "execution_count": 87,
   "id": "68e16de5",
   "metadata": {
    "hidden": true
   },
   "outputs": [],
   "source": [
    "some_var = count / len(rolls)"
   ]
  },
  {
   "cell_type": "code",
   "execution_count": 88,
   "id": "c0e377b3",
   "metadata": {
    "hidden": true
   },
   "outputs": [
    {
     "data": {
      "text/plain": [
       "0.49975"
      ]
     },
     "execution_count": 88,
     "metadata": {},
     "output_type": "execute_result"
    }
   ],
   "source": [
    "some_var"
   ]
  },
  {
   "cell_type": "code",
   "execution_count": 313,
   "id": "50e817df",
   "metadata": {
    "hidden": true
   },
   "outputs": [],
   "source": [
    "L = [20,21,22,23,24,25,26,27,28,29,30]\n",
    "S = 0\n",
    "for x in L:\n",
    "    S += x\n",
    "\n",
    "flag = False\n",
    "y = -1\n",
    "for x in L:\n",
    "    if x * len(L) == S:\n",
    "        flag = True\n",
    "        y = x\n",
    "        break"
   ]
  },
  {
   "cell_type": "code",
   "execution_count": 314,
   "id": "eb2022b6",
   "metadata": {
    "hidden": true
   },
   "outputs": [
    {
     "name": "stdout",
     "output_type": "stream",
     "text": [
      "275 25 5 True\n"
     ]
    }
   ],
   "source": [
    "print(S, y, len(L)//2, flag)"
   ]
  },
  {
   "cell_type": "code",
   "execution_count": 136,
   "id": "f7310ab6",
   "metadata": {
    "hidden": true
   },
   "outputs": [
    {
     "name": "stdout",
     "output_type": "stream",
     "text": [
      "seriously this world needs heroes like you now more than ever\n",
      "11\n"
     ]
    }
   ],
   "source": [
    "L = input().split(' ')  # there is a single space between the quotes\n",
    "for i in range(len(L) - 1):\n",
    "    if len(L[i]) > len(L[i + 1]):\n",
    "        L[i], L[i + 1] = L[i + 1], L[i]\n",
    "\n",
    "count = 0\n",
    "for i in range(len(L)):\n",
    "    if len(L[i]) <= len(L[-1]):\n",
    "        count += 1\n",
    "\n",
    "print(count)"
   ]
  },
  {
   "cell_type": "code",
   "execution_count": 138,
   "id": "64b979ca",
   "metadata": {
    "hidden": true
   },
   "outputs": [],
   "source": [
    "n = 7\n",
    "flag = True\n",
    "while (flag==True):\n",
    "    if (n%2003)==0:\n",
    "        flag = False\n",
    "    else:\n",
    "        n = str(n)\n",
    "        n = n+'7'\n",
    "        n = int(n)\n",
    "    \n",
    "    "
   ]
  },
  {
   "cell_type": "code",
   "execution_count": 139,
   "id": "d19ebf2b",
   "metadata": {
    "hidden": true
   },
   "outputs": [
    {
     "name": "stdout",
     "output_type": "stream",
     "text": [
      "77777777777777777777777777777777777777777777777777777777777777777777777777777777777777777777777777777777777777777777777777777777777777777777777777777777777777777777777777777777777777777777777777777777777777777777777777777777777777777777777777777777777777777777777777777777777777777777777777777777777777777777777777777777777777777777777777777777777777777777777777777777777777777777777777777777777777777777777777777777777777777777777777777777777777777777777777777777777777777777777777777777777777777777777777777777777777777777777777777777777777777777777777777777777777777777777777777777777777777777777777777777777777777777777777777777777777777777777777777777777777777777777777777777777777777777777777777777777777777777777777777777777777777777777777777777777777777777777777777777777777777777777777777777777777777777777777777777777777777777777777777777777777777777777777777777777777777777777777777777777777777777777777777777777777777777777777777777777777777777777777777777777777777777777777777777777777777\n"
     ]
    }
   ],
   "source": [
    "print(n)"
   ]
  },
  {
   "cell_type": "code",
   "execution_count": 141,
   "id": "3a48b4e3",
   "metadata": {
    "hidden": true
   },
   "outputs": [
    {
     "data": {
      "text/plain": [
       "1001"
      ]
     },
     "execution_count": 141,
     "metadata": {},
     "output_type": "execute_result"
    }
   ],
   "source": [
    "len(str(n))"
   ]
  },
  {
   "cell_type": "code",
   "execution_count": 151,
   "id": "b67dad57",
   "metadata": {
    "hidden": true
   },
   "outputs": [
    {
     "name": "stdout",
     "output_type": "stream",
     "text": [
      "5\n",
      "1,2,3,4,5\n",
      "6,7,8,9,10\n",
      "11,12,13,14,15\n",
      "16,17,18,19,20\n",
      "21,22,23,24,25\n",
      "325\n"
     ]
    }
   ],
   "source": [
    "n = int(input())\n",
    "M = [ ]\n",
    "for i in range(n):\n",
    "    row = [ ]\n",
    "    for num in input().split(','):\n",
    "        row.append(int(num))\n",
    "    M.append(row)\n",
    "\n",
    "some_var = 0\n",
    "for i in range(n):\n",
    "    for j in range(n):\n",
    "        some_var += M[i][j]\n",
    "\n",
    "print(some_var)"
   ]
  },
  {
   "cell_type": "code",
   "execution_count": 152,
   "id": "c2a2bcd7",
   "metadata": {
    "hidden": true
   },
   "outputs": [
    {
     "name": "stdout",
     "output_type": "stream",
     "text": [
      "[7, 8, 10, 18, 47, 90]\n"
     ]
    }
   ],
   "source": [
    "L = [90, 47, 8, 18, 10, 7]\n",
    "S = [L[0]]\n",
    "for i in range(1, len(L)):\n",
    "    flag = True\n",
    "    for j in range(len(S)):\n",
    "        if L[i] < S[j]:\n",
    "            before_j = S[: j]\n",
    "            new_j = [L[i]]\n",
    "            after_j = S[j: ]\n",
    "            S = before_j + new_j + after_j\n",
    "            flag = False\n",
    "            break\n",
    "    if flag:\n",
    "        S.append(L[i])\n",
    "print(S)"
   ]
  },
  {
   "cell_type": "code",
   "execution_count": 153,
   "id": "d91f33dc",
   "metadata": {
    "hidden": true
   },
   "outputs": [
    {
     "name": "stdout",
     "output_type": "stream",
     "text": [
      "0\n"
     ]
    }
   ],
   "source": [
    "for i in range(1):\n",
    "    print(i)"
   ]
  },
  {
   "cell_type": "code",
   "execution_count": 154,
   "id": "f78cd7e9",
   "metadata": {
    "hidden": true
   },
   "outputs": [],
   "source": [
    "l = [10]\n"
   ]
  },
  {
   "cell_type": "code",
   "execution_count": 155,
   "id": "42e8833d",
   "metadata": {
    "hidden": true
   },
   "outputs": [
    {
     "data": {
      "text/plain": [
       "[]"
      ]
     },
     "execution_count": 155,
     "metadata": {},
     "output_type": "execute_result"
    }
   ],
   "source": [
    "l[:0]"
   ]
  },
  {
   "cell_type": "code",
   "execution_count": 156,
   "id": "22d9361f",
   "metadata": {
    "hidden": true
   },
   "outputs": [
    {
     "data": {
      "text/plain": [
       "[10]"
      ]
     },
     "execution_count": 156,
     "metadata": {},
     "output_type": "execute_result"
    }
   ],
   "source": [
    "l[0:]"
   ]
  },
  {
   "cell_type": "code",
   "execution_count": 302,
   "id": "73ff3fc0",
   "metadata": {
    "hidden": true
   },
   "outputs": [],
   "source": [
    "M = [\n",
    "    [1, 1, -1],\n",
    "    [-1, 2, 0],\n",
    "    [-1, 0, 5]\n",
    "]"
   ]
  },
  {
   "cell_type": "code",
   "execution_count": 303,
   "id": "28824781",
   "metadata": {
    "hidden": true
   },
   "outputs": [
    {
     "name": "stdout",
     "output_type": "stream",
     "text": [
      "YES\n"
     ]
    }
   ],
   "source": [
    "sym = True\n",
    "for i in range(len(M)):\n",
    "    for j in range(i):\n",
    "        if(M[i][j] == M[j][i]):\n",
    "            sym = True\n",
    "        else:\n",
    "            sym = False\n",
    "            break\n",
    "if sym:\n",
    "    print('YES')\n",
    "else:\n",
    "    print('NO')"
   ]
  },
  {
   "cell_type": "code",
   "execution_count": 300,
   "id": "2743fc81",
   "metadata": {
    "hidden": true
   },
   "outputs": [],
   "source": [
    "M = [\n",
    "    [1, 1, -1],\n",
    "    [-5, 2, 0],\n",
    "    [-11, 10, 5]\n",
    "]"
   ]
  },
  {
   "cell_type": "markdown",
   "id": "1c50ff9a",
   "metadata": {},
   "source": [
    "# week 4 GPa"
   ]
  },
  {
   "cell_type": "markdown",
   "id": "72afbf87",
   "metadata": {
    "heading_collapsed": true
   },
   "source": [
    "## grpa 1"
   ]
  },
  {
   "cell_type": "code",
   "execution_count": 24,
   "id": "9a680fbe",
   "metadata": {
    "hidden": true
   },
   "outputs": [
    {
     "name": "stdout",
     "output_type": "stream",
     "text": [
      "hi lets see\n",
      "hii\n",
      "NO\n"
     ]
    }
   ],
   "source": [
    "count = 0\n",
    "words = input() \n",
    "l = words.split()\n",
    "w = input() \n",
    "for word in l :\n",
    "    if word == w :\n",
    "        count = count + 1\n",
    "if count>0:\n",
    "    print(\"YES\")\n",
    "    print(count) \n",
    "else:\n",
    "    print(\"NO\")\n",
    "\n",
    "        "
   ]
  },
  {
   "cell_type": "code",
   "execution_count": 22,
   "id": "d96587ab",
   "metadata": {
    "hidden": true
   },
   "outputs": [
    {
     "data": {
      "text/plain": [
       "['hi', 'lets', 'see', 'if', 'this', 'works']"
      ]
     },
     "execution_count": 22,
     "metadata": {},
     "output_type": "execute_result"
    }
   ],
   "source": [
    "l"
   ]
  },
  {
   "cell_type": "code",
   "execution_count": null,
   "id": "9208f1d9",
   "metadata": {
    "hidden": true
   },
   "outputs": [],
   "source": []
  },
  {
   "cell_type": "code",
   "execution_count": null,
   "id": "bdec1bbc",
   "metadata": {
    "hidden": true
   },
   "outputs": [],
   "source": []
  },
  {
   "cell_type": "markdown",
   "id": "aab811fe",
   "metadata": {
    "heading_collapsed": true
   },
   "source": [
    "## grpa 2"
   ]
  },
  {
   "cell_type": "code",
   "execution_count": 18,
   "id": "319d2ea9",
   "metadata": {
    "hidden": true
   },
   "outputs": [
    {
     "name": "stdout",
     "output_type": "stream",
     "text": [
      "lets see\n",
      "see\n",
      "NO\n"
     ]
    }
   ],
   "source": [
    "l = []\n",
    "count = 0\n",
    "words = input() \n",
    "l.append(words) \n",
    "w = input() \n",
    "for word in words :\n",
    "    if word == w  :\n",
    "        count = count + 1\n",
    "if count>0:\n",
    "    print(\"YES\")\n",
    "    print(count) \n",
    "else:\n",
    "    print(\"NO\")\n",
    "\n",
    "        "
   ]
  },
  {
   "cell_type": "code",
   "execution_count": 9,
   "id": "bcf57ede",
   "metadata": {
    "hidden": true
   },
   "outputs": [],
   "source": [
    "def solution(marks):\n",
    "    ### Enter your solution below this line\n",
    "    ### Indent your entire code by one unit (4 spaces) to the right\n",
    "    length = ((len(marks)) -1)\n",
    "    \n",
    "    #sorting\n",
    "    S = []\n",
    "    for i in range(len(marks)):\n",
    "        S.append(min(marks))\n",
    "        marks.remove(min(marks))\n",
    "    \n",
    "    #sorting ends\n",
    "    if (length+1)%2==0:\n",
    "        m1 = ((length)/2)\n",
    "        m2 = ((length)/2)+1\n",
    "              \n",
    "        median = (S[int(m1)] + S[int(m2)] )/2\n",
    "    else:\n",
    "        m1 = (length)/2\n",
    "        median = S[int(m1)]\n",
    "    ### Enter your solution above this line\n",
    "    return median"
   ]
  },
  {
   "cell_type": "code",
   "execution_count": 7,
   "id": "079903f0",
   "metadata": {
    "hidden": true
   },
   "outputs": [
    {
     "data": {
      "text/plain": [
       "25.0"
      ]
     },
     "execution_count": 7,
     "metadata": {},
     "output_type": "execute_result"
    }
   ],
   "source": [
    "l = [10,30,20,30,50, 20]\n",
    "solution(l)"
   ]
  },
  {
   "cell_type": "code",
   "execution_count": 8,
   "id": "bbe2ed43",
   "metadata": {
    "hidden": true
   },
   "outputs": [
    {
     "ename": "IndexError",
     "evalue": "list index out of range",
     "output_type": "error",
     "traceback": [
      "\u001b[0;31m---------------------------------------------------------------------------\u001b[0m",
      "\u001b[0;31mIndexError\u001b[0m                                Traceback (most recent call last)",
      "\u001b[0;32m<ipython-input-8-e06c19d7cdea>\u001b[0m in \u001b[0;36m<module>\u001b[0;34m\u001b[0m\n\u001b[0;32m----> 1\u001b[0;31m \u001b[0ml\u001b[0m\u001b[0;34m[\u001b[0m\u001b[0mint\u001b[0m\u001b[0;34m(\u001b[0m\u001b[0;34m(\u001b[0m\u001b[0mlen\u001b[0m\u001b[0;34m(\u001b[0m\u001b[0ml\u001b[0m\u001b[0;34m)\u001b[0m\u001b[0;34m-\u001b[0m\u001b[0;36m1\u001b[0m\u001b[0;34m)\u001b[0m\u001b[0;34m/\u001b[0m\u001b[0;36m2\u001b[0m\u001b[0;34m)\u001b[0m\u001b[0;34m]\u001b[0m\u001b[0;34m\u001b[0m\u001b[0;34m\u001b[0m\u001b[0m\n\u001b[0m",
      "\u001b[0;31mIndexError\u001b[0m: list index out of range"
     ]
    }
   ],
   "source": [
    "l[int((len(l)-1)/2)]"
   ]
  },
  {
   "cell_type": "code",
   "execution_count": 111,
   "id": "233c2dde",
   "metadata": {
    "hidden": true
   },
   "outputs": [],
   "source": [
    "l = [22,14,56,10,1,89,54,23,8]\n",
    "\n",
    "s = []\n",
    "\n",
    "for i in range(len(l)):\n",
    "    s.append(min(l))\n",
    "    l.remove(min(l))\n",
    "        "
   ]
  },
  {
   "cell_type": "code",
   "execution_count": 113,
   "id": "04131c19",
   "metadata": {
    "hidden": true
   },
   "outputs": [
    {
     "data": {
      "text/plain": [
       "[1, 8, 10, 14, 22, 23, 54, 56, 89]"
      ]
     },
     "execution_count": 113,
     "metadata": {},
     "output_type": "execute_result"
    }
   ],
   "source": [
    "s"
   ]
  },
  {
   "cell_type": "markdown",
   "id": "4721d3e8",
   "metadata": {
    "heading_collapsed": true
   },
   "source": [
    "## grpa 3"
   ]
  },
  {
   "cell_type": "code",
   "execution_count": 169,
   "id": "f276c157",
   "metadata": {
    "hidden": true
   },
   "outputs": [
    {
     "name": "stdout",
     "output_type": "stream",
     "text": [
      "1\n",
      "5\n",
      "5\n",
      "25\n"
     ]
    }
   ],
   "source": [
    "n = int(input())\n",
    "\n",
    "#step 1, making matrices, M1 and M2\n",
    "A = []\n",
    "B = []\n",
    "for i in range(n):\n",
    "    r = input()\n",
    "    r = r.split(\",\")\n",
    "    for i in range(len(r)):\n",
    "        r[i] = int(r[i])\n",
    "    A.append(r)\n",
    "\n",
    "for i in range(n):\n",
    "    r = input()\n",
    "    r = r.split(\",\")\n",
    "    for i in range(len(r)):\n",
    "        r[i] = int(r[i])\n",
    "    B.append(r)\n",
    "#step 1 end\n",
    "\n",
    "import numpy as np\n",
    "\n",
    "A = np.mat(A)\n",
    "B = np.mat(B)\n",
    "\n",
    "AB = np.array(A.dot(B))\n",
    "for i in range(len(AB)):\n",
    "    for j in range(n):\n",
    "        if j != n-1:\n",
    "            print(AB[i][j], end=',')\n",
    "        else:\n",
    "            print(AB[i][j])\n",
    "            \n"
   ]
  },
  {
   "cell_type": "code",
   "execution_count": 171,
   "id": "fb43cee3",
   "metadata": {
    "hidden": true
   },
   "outputs": [
    {
     "name": "stdout",
     "output_type": "stream",
     "text": [
      "1\n",
      "2\n",
      "6\n"
     ]
    },
    {
     "ename": "IndexError",
     "evalue": "list index out of range",
     "output_type": "error",
     "traceback": [
      "\u001b[0;31m---------------------------------------------------------------------------\u001b[0m",
      "\u001b[0;31mIndexError\u001b[0m                                Traceback (most recent call last)",
      "\u001b[0;32m<ipython-input-171-a68f24885c47>\u001b[0m in \u001b[0;36m<module>\u001b[0;34m\u001b[0m\n\u001b[1;32m     28\u001b[0m     \u001b[0;32mfor\u001b[0m \u001b[0mj\u001b[0m \u001b[0;32min\u001b[0m \u001b[0mrange\u001b[0m\u001b[0;34m(\u001b[0m\u001b[0mn\u001b[0m\u001b[0;34m-\u001b[0m\u001b[0;36m1\u001b[0m\u001b[0;34m)\u001b[0m\u001b[0;34m:\u001b[0m\u001b[0;34m\u001b[0m\u001b[0;34m\u001b[0m\u001b[0m\n\u001b[1;32m     29\u001b[0m         \u001b[0mprint\u001b[0m\u001b[0;34m(\u001b[0m\u001b[0mm\u001b[0m\u001b[0;34m[\u001b[0m\u001b[0mi\u001b[0m\u001b[0;34m]\u001b[0m\u001b[0;34m[\u001b[0m\u001b[0mj\u001b[0m\u001b[0;34m]\u001b[0m\u001b[0;34m,\u001b[0m\u001b[0mend\u001b[0m\u001b[0;34m=\u001b[0m\u001b[0;34m\",\"\u001b[0m\u001b[0;34m)\u001b[0m\u001b[0;34m\u001b[0m\u001b[0;34m\u001b[0m\u001b[0m\n\u001b[0;32m---> 30\u001b[0;31m     \u001b[0mprint\u001b[0m\u001b[0;34m(\u001b[0m\u001b[0mm\u001b[0m\u001b[0;34m[\u001b[0m\u001b[0mi\u001b[0m\u001b[0;34m]\u001b[0m\u001b[0;34m[\u001b[0m\u001b[0mj\u001b[0m\u001b[0;34m+\u001b[0m\u001b[0;36m1\u001b[0m\u001b[0;34m]\u001b[0m\u001b[0;34m)\u001b[0m\u001b[0;34m\u001b[0m\u001b[0;34m\u001b[0m\u001b[0m\n\u001b[0m\u001b[1;32m     31\u001b[0m \u001b[0;34m\u001b[0m\u001b[0m\n\u001b[1;32m     32\u001b[0m '''\n",
      "\u001b[0;31mIndexError\u001b[0m: list index out of range"
     ]
    }
   ],
   "source": [
    "a=[] \n",
    "b=[] \n",
    "m = []\n",
    "n=int(input()) \n",
    "for i in range(n): \n",
    "    f=input().split(',') \n",
    "    for j in range(n): \n",
    "        f[j]=int(f[j]) \n",
    "    a.append(f) \n",
    "for i in range(n): \n",
    "    f=input().split(',') \n",
    "    for j in range(n): \n",
    "        f[j]=int(f[j]) \n",
    "    b.append(f) \n",
    "     \n",
    "for i in range(n): \n",
    "    f=[] \n",
    "    for j in range(n): \n",
    "        f.append(0) \n",
    "    m.append(f) \n",
    "\n",
    "for i in range(n): \n",
    "    for j in range(n): \n",
    "        for k in range(n): \n",
    "            m[i][j]+=(a[i][k]*b[k][j]) \n",
    "\n",
    "for i in range(n): \n",
    "    for j in range(n-1): \n",
    "        print(m[i][j],end=\",\") \n",
    "    print(m[i][j+1])\n",
    "    \n",
    "'''\n",
    "for i in range(len(AB)):\n",
    "    for j in range(n):\n",
    "        if j != n-1:\n",
    "            print(AB[i][j], end=',')\n",
    "        else:\n",
    "            print(AB[i][j])\n",
    "            \n",
    "'''"
   ]
  },
  {
   "cell_type": "markdown",
   "id": "3b81a45c",
   "metadata": {
    "heading_collapsed": true
   },
   "source": [
    "## grpa 4\n"
   ]
  },
  {
   "cell_type": "code",
   "execution_count": 183,
   "id": "4abe20ab",
   "metadata": {
    "hidden": true
   },
   "outputs": [
    {
     "name": "stdout",
     "output_type": "stream",
     "text": [
      "\n",
      "\n"
     ]
    }
   ],
   "source": [
    "name=input().split(',')  \n",
    "dob=input().split(',') \n",
    "s=[] \n",
    "f=[] \n",
    "for i in range(len(dob)): \n",
    "  for j in range(len(dob)): \n",
    "    if i!=j: \n",
    "      if dob[i]==dob[j]: \n",
    "        if name[i]<name[j]: \n",
    "          f=[] \n",
    "          f.append(name[i]) \n",
    "          f.append(name[j]) \n",
    "          s.append(f) \n",
    "        else: \n",
    "          f=[] \n",
    "          f.append(name[j]) \n",
    "          f.append(name[i]) \n",
    "          s.append(f) \n",
    "#removing duplicates\n",
    "temp = [] \n",
    "for x in s: \n",
    "    if x not in temp: \n",
    "        temp.append(x) \n",
    "s=temp\n",
    "#removing dups end\n",
    "\n",
    "s.sort()\n",
    "    \n",
    "#printing the output\n",
    "for i in range(len(s)):\n",
    "    for j in range(len(s[0])):\n",
    "        if j !=1:\n",
    "            print(s[i][j], end=',')\n",
    "        else:\n",
    "            print(s[i][j])"
   ]
  },
  {
   "cell_type": "code",
   "execution_count": 175,
   "id": "b4675ba7",
   "metadata": {
    "hidden": true
   },
   "outputs": [
    {
     "name": "stdout",
     "output_type": "stream",
     "text": [
      "[['kalam', 'sachin'], ['priya', 'sandeep'], ['priya', 'stella'], ['sandeep', 'stella']]\n"
     ]
    }
   ],
   "source": [
    "print(s)"
   ]
  },
  {
   "cell_type": "code",
   "execution_count": 178,
   "id": "e094cf58",
   "metadata": {
    "hidden": true
   },
   "outputs": [
    {
     "name": "stdout",
     "output_type": "stream",
     "text": [
      "kalam,sachin\n",
      "priya,sandeep\n",
      "priya,stella\n",
      "sandeep,stella\n"
     ]
    }
   ],
   "source": [
    "for i in range(len(s)):\n",
    "    for j in range(len(s[0])):\n",
    "        if j !=1:\n",
    "            print(s[i][j], end=',')\n",
    "        else:\n",
    "            print(s[i][j])"
   ]
  },
  {
   "cell_type": "code",
   "execution_count": 181,
   "id": "e37fa320",
   "metadata": {
    "hidden": true
   },
   "outputs": [
    {
     "ename": "TypeError",
     "evalue": "unhashable type: 'list'",
     "output_type": "error",
     "traceback": [
      "\u001b[0;31m---------------------------------------------------------------------------\u001b[0m",
      "\u001b[0;31mTypeError\u001b[0m                                 Traceback (most recent call last)",
      "\u001b[0;32m<ipython-input-181-032436be8cb4>\u001b[0m in \u001b[0;36m<module>\u001b[0;34m\u001b[0m\n\u001b[0;32m----> 1\u001b[0;31m \u001b[0mset\u001b[0m\u001b[0;34m(\u001b[0m\u001b[0ms\u001b[0m\u001b[0;34m)\u001b[0m\u001b[0;34m\u001b[0m\u001b[0;34m\u001b[0m\u001b[0m\n\u001b[0m",
      "\u001b[0;31mTypeError\u001b[0m: unhashable type: 'list'"
     ]
    }
   ],
   "source": [
    "set(s)"
   ]
  },
  {
   "cell_type": "markdown",
   "id": "c7990322",
   "metadata": {
    "heading_collapsed": true
   },
   "source": [
    "## grpa 5"
   ]
  },
  {
   "cell_type": "code",
   "execution_count": 189,
   "id": "dda3f650",
   "metadata": {
    "hidden": true
   },
   "outputs": [
    {
     "name": "stdout",
     "output_type": "stream",
     "text": [
      "3\n",
      "1,2\n",
      "2,3,\n",
      "5,4\n",
      "3,3\n",
      "2,3\n"
     ]
    }
   ],
   "source": [
    "n = int(input())\n",
    "a = []\n",
    "d = []\n",
    "c = 0\n",
    "for i in range(n):\n",
    "    f = input().split(',')\n",
    "    f[0] = int(f[0])\n",
    "    f[1] = int(f[1])\n",
    "    a.append(f)\n",
    "p = input().split(',')\n",
    "p[0] = int(p[0])\n",
    "p[1] = int(p[1])\n",
    "for i in range(n):\n",
    "    for j in range(2):\n",
    "        c += ((a[i][j]-p[j])**2)\n",
    "    d.append(c)\n",
    "    c = 0\n",
    "min = 1000000\n",
    "m = []\n",
    "for i in range(n):\n",
    "    if d[i] < min:\n",
    "        min = d[i]\n",
    "        m = []\n",
    "        m.append(a[i])\n",
    "    elif d[i] == min:\n",
    "        m.append(a[i])\n",
    "for i in range(len(m)):\n",
    "    for j in range(2):\n",
    "        if j == 0:\n",
    "            print(m[i][j], end=',')\n",
    "        else:\n",
    "            print(m[i][j])"
   ]
  },
  {
   "cell_type": "code",
   "execution_count": 186,
   "id": "e5281031",
   "metadata": {
    "hidden": true
   },
   "outputs": [
    {
     "data": {
      "text/plain": [
       "[[1, 2], [3, 5], [6, 12]]"
      ]
     },
     "execution_count": 186,
     "metadata": {},
     "output_type": "execute_result"
    }
   ],
   "source": [
    "a"
   ]
  },
  {
   "cell_type": "markdown",
   "id": "0b3c2115",
   "metadata": {},
   "source": [
    "# week 5\n"
   ]
  },
  {
   "cell_type": "markdown",
   "id": "c126be9c",
   "metadata": {
    "heading_collapsed": true
   },
   "source": [
    "## GA"
   ]
  },
  {
   "cell_type": "markdown",
   "id": "88ccc874",
   "metadata": {
    "hidden": true
   },
   "source": [
    "\n",
    "ANS_1 = True\n",
    "\n",
    "ANS_2 = A\n",
    "\n",
    "ANS_3 = 4\n",
    "\n",
    "ANS_4 = A\n",
    "\n",
    "ANS_5 = 1, 3, 5\n",
    "\n",
    "ANS_6 = 2,3,5\n",
    "\n",
    "ANS_7 = C\n",
    "\n",
    "ANS_8 = D \n",
    "\n",
    "ANS_9 = 2\n"
   ]
  },
  {
   "cell_type": "markdown",
   "id": "91f0ccae",
   "metadata": {
    "hidden": true
   },
   "source": [
    "$$\n",
    "-180-144x +101x^2 + 52x^3 -18x^4 -4x^5 + x^6\n",
    "$$"
   ]
  },
  {
   "cell_type": "code",
   "execution_count": 102,
   "id": "94dd181a",
   "metadata": {
    "hidden": true
   },
   "outputs": [
    {
     "data": {
      "text/plain": [
       "[2, 3]"
      ]
     },
     "execution_count": 102,
     "metadata": {},
     "output_type": "execute_result"
    }
   ],
   "source": [
    "poly_zeros([-180, -144, 101, 52, -18, -4, 1],0, 4)"
   ]
  },
  {
   "cell_type": "code",
   "execution_count": null,
   "id": "2aae1cec",
   "metadata": {
    "hidden": true
   },
   "outputs": [],
   "source": []
  },
  {
   "cell_type": "code",
   "execution_count": null,
   "id": "2fe2e1df",
   "metadata": {
    "hidden": true
   },
   "outputs": [],
   "source": []
  },
  {
   "cell_type": "markdown",
   "id": "5f730699",
   "metadata": {
    "heading_collapsed": true
   },
   "source": [
    "## GRPA 1"
   ]
  },
  {
   "cell_type": "code",
   "execution_count": 151,
   "id": "4989d126",
   "metadata": {
    "hidden": true
   },
   "outputs": [],
   "source": [
    "def get_range(l):\n",
    "    \n",
    "    mini = l[0] # initialising mini to 1st(0th) element\n",
    "    \n",
    "    # for look for finding minimum value\n",
    "    for i in range(1, len(l)): \n",
    "        if l[i]<mini:\n",
    "            mini = l[i]\n",
    "    \n",
    "    # for look for finding maximum value\n",
    "    maxi = l[0]  # initialising maxi to 1st(0th) element\n",
    "    for i in range(1, len(l)):\n",
    "        if l[i]>mini:\n",
    "            maxi = l[i]\n",
    "    \n",
    "    #return float(\"{:.2f}\".format(maxi-mini))\n",
    "    return maxi-mini"
   ]
  },
  {
   "cell_type": "code",
   "execution_count": 152,
   "id": "57efecf7",
   "metadata": {
    "hidden": true
   },
   "outputs": [
    {
     "data": {
      "text/plain": [
       "0.1999999999999993"
      ]
     },
     "execution_count": 152,
     "metadata": {},
     "output_type": "execute_result"
    }
   ],
   "source": [
    "get_range([9.0,9.2])"
   ]
  },
  {
   "cell_type": "markdown",
   "id": "098e0efd",
   "metadata": {
    "heading_collapsed": true
   },
   "source": [
    "## GRPA 2"
   ]
  },
  {
   "cell_type": "code",
   "execution_count": 178,
   "id": "dd4b77a8",
   "metadata": {
    "hidden": true
   },
   "outputs": [],
   "source": [
    "#divisor\n",
    "#sum of divisors\n",
    "# is_perfect function, return true or false\n",
    "\n",
    "'''VERIFIED FUNCTION'''\n",
    "def divisor(number):   \n",
    "    n = 1\n",
    "    divisors = list()\n",
    "    while n<number:\n",
    "        if number%n==0:     # if number gives modulo 0, it is a divisor\n",
    "            divisors.append(n)   # appending the number to the list we created\n",
    "        n += 1    # incrementing n because while loop\n",
    "    return divisors\n",
    "\n",
    "''' VERIFIED FUNCTION ENDS'''\n",
    "    \n",
    "def is_perfect(number):\n",
    "    \n",
    "    lod = divisor(number) # list of divisor\n",
    "    sod = 0 # sum of divisors\n",
    "    for i in (lod):\n",
    "        sod += i\n",
    "    if sod == number:\n",
    "        return True\n",
    "    else:\n",
    "        return False\n",
    "    \n",
    "    \n",
    "    "
   ]
  },
  {
   "cell_type": "code",
   "execution_count": 179,
   "id": "2f492719",
   "metadata": {
    "hidden": true
   },
   "outputs": [
    {
     "data": {
      "text/plain": [
       "True"
      ]
     },
     "execution_count": 179,
     "metadata": {},
     "output_type": "execute_result"
    }
   ],
   "source": [
    "is_perfect(6)"
   ]
  },
  {
   "cell_type": "markdown",
   "id": "bee37628",
   "metadata": {
    "heading_collapsed": true
   },
   "source": [
    "## GRPA 3"
   ]
  },
  {
   "cell_type": "markdown",
   "id": "e60bb519",
   "metadata": {
    "hidden": true
   },
   "source": [
    "The distance between two words is defined as follows:\n",
    "\n",
    "It is -1, if the words are of unequal lengths.\n",
    "If the word-lengths are equal, it is the sum of the distances between letters at corresponding positions in the words. For example:\n",
    "$$\n",
    "d_{\\text{word}}(\\text{dog}, \\text{cat}) = d_{\\text{letter}}(\\text{d}, \\text{c}) + d_{\\text{letter}}(\\text{o}, \\text{a}) + d_{\\text{letter}}(\\text{g}, \\text{t}) = 1 + 14 + 13 = 28d \n",
    "$$\n",
    "word\n",
    "​\n",
    " (dog,cat)=d \n",
    "letter\n",
    "​\n",
    " (d,c)+d \n",
    "letter\n",
    "​\n",
    " (o,a)+d \n",
    "letter\n",
    "​\n",
    " (g,t)=1+14+13=28"
   ]
  },
  {
   "cell_type": "code",
   "execution_count": 194,
   "id": "259e53d2",
   "metadata": {
    "hidden": true
   },
   "outputs": [],
   "source": [
    "# FUNCTION VERIFIED\n",
    "def d_letter(i,j):\n",
    "    alpha = 'abcdefghijklmnopqrstuvwxyz'\n",
    "    if i<j:\n",
    "        mini = i # setting the smaller and larger letter\n",
    "        maxi = j\n",
    "    else:\n",
    "        mini = j\n",
    "        maxi = i\n",
    "        \n",
    "    # using for look to calculate the position of each letters\n",
    "    for i in range(len(alpha)):\n",
    "        if alpha[i] == mini:\n",
    "            init_point = i\n",
    "        if alpha[i] == maxi:\n",
    "            last_point = i\n",
    "    \n",
    "    # calculating the distance between each letter\n",
    "    dist = last_point-init_point\n",
    "    \n",
    "    return dist\n",
    "    \n",
    "# FUNCTION VERIFIED - END\n",
    "\n",
    "# FUNCTION 2 - START\n",
    "# VERIFIED\n",
    "def distance(w1, w2):\n",
    "    if len(w1) != len(w2):\n",
    "        return -1\n",
    "    \n",
    "    n = len(w1)\n",
    "    dist = 0\n",
    "    for i in range(n):\n",
    "        dist += d_letter(w1[i], w2[i])\n",
    "        \n",
    "    return dist\n",
    "\n",
    "# FUNCTION 2 ENDS"
   ]
  },
  {
   "cell_type": "code",
   "execution_count": 196,
   "id": "6554ea6e",
   "metadata": {
    "hidden": true
   },
   "outputs": [
    {
     "data": {
      "text/plain": [
       "4"
      ]
     },
     "execution_count": 196,
     "metadata": {},
     "output_type": "execute_result"
    }
   ],
   "source": [
    "d_word('great', 'greet')"
   ]
  },
  {
   "cell_type": "markdown",
   "id": "deb6c7cb",
   "metadata": {
    "heading_collapsed": true
   },
   "source": [
    "## GRPA 4"
   ]
  },
  {
   "cell_type": "code",
   "execution_count": 266,
   "id": "049b58f4",
   "metadata": {
    "code_folding": [
     2,
     28
    ],
    "hidden": true
   },
   "outputs": [],
   "source": [
    "# works perfectly fine\n",
    "# FUNCTION 1\n",
    "def row_col_diag(mat):\n",
    "    n = len(mat)\n",
    "    rows = mat.copy() #copying mat for row\n",
    "    columns = []\n",
    "    diag1 = []\n",
    "    diag2 = []\n",
    "    \n",
    "    #columns list loop\n",
    "    for j in range(n):\n",
    "        temp = []\n",
    "        for i in range(len(mat)):\n",
    "            temp.append(mat[i][j])\n",
    "        columns.append(temp)\n",
    "    \n",
    "    #diagonal list loop\n",
    "    for i in range(n):\n",
    "        for j in range(n):\n",
    "            if i==j:\n",
    "                diag1.append(mat[i][j])\n",
    "        diag2.append(mat[i][n-i-1])\n",
    "            \n",
    "            \n",
    "    return rows, columns, diag1, diag2\n",
    "# FUNCTION 1 ENDS, WORKS\n",
    "\n",
    "\n",
    "def is_magic(mat):\n",
    "    r,c,d1,d2 = row_col_diag(mat)\n",
    "    \n",
    "    rl = []\n",
    "    cl = []\n",
    "    for i in range(len(r)):\n",
    "        sum_r = 0\n",
    "        for j in range(len(r)):\n",
    "             sum_r += r[i][j]\n",
    "        rl.append(sum_r)\n",
    "    \n",
    "    for i in range(len(rl)-1):\n",
    "        if rl[i] != rl[i+1]:\n",
    "            return \"NO\"\n",
    "        # row loop ends\n",
    "\n",
    "        \n",
    "    # column loop\n",
    "    for i in range(len(c)):\n",
    "        sum_c = 0\n",
    "        for j in range(len(c)):\n",
    "             sum_c += c[i][j]\n",
    "        cl.append(sum_c)\n",
    "    \n",
    "    for i in range(len(cl) -1):\n",
    "        if cl[i] != cl[i+1]:\n",
    "            return \"NO\"\n",
    "    # column loop ends\n",
    "    \n",
    "    \n",
    "    # diag loop\n",
    "    sum_d1 = 0\n",
    "    sum_d2 = 0\n",
    "    for i in (d1):\n",
    "        sum_d1 += i\n",
    "    for i in (d2):\n",
    "        sum_d2 += i\n",
    "    if sum_d1 != sum_d2:\n",
    "        return \"NO\"\n",
    "    \n",
    "    #print(rl, cl, sep=\"\\n\")\n",
    "    if (rl[0] == cl[0] == sum_d1 == sum_d2):\n",
    "        return \"YES\""
   ]
  },
  {
   "cell_type": "code",
   "execution_count": null,
   "id": "bc99c776",
   "metadata": {
    "hidden": true
   },
   "outputs": [],
   "source": []
  },
  {
   "cell_type": "code",
   "execution_count": 269,
   "id": "01133f49",
   "metadata": {
    "hidden": true
   },
   "outputs": [],
   "source": [
    "mat = [\n",
    "    [1,2,3],\n",
    "    [2,3,4],\n",
    "    [5,7,9]\n",
    "]\n"
   ]
  },
  {
   "cell_type": "code",
   "execution_count": 267,
   "id": "904c59c5",
   "metadata": {
    "hidden": true
   },
   "outputs": [],
   "source": [
    "mat = [\n",
    "    [1,1,1],\n",
    "    [1,1,1],\n",
    "    [1,1,1]\n",
    "]"
   ]
  },
  {
   "cell_type": "code",
   "execution_count": 270,
   "id": "7729be96",
   "metadata": {
    "hidden": true
   },
   "outputs": [
    {
     "data": {
      "text/plain": [
       "'NO'"
      ]
     },
     "execution_count": 270,
     "metadata": {},
     "output_type": "execute_result"
    }
   ],
   "source": [
    "is_magic(mat)"
   ]
  },
  {
   "cell_type": "code",
   "execution_count": 227,
   "id": "92abe216",
   "metadata": {
    "hidden": true
   },
   "outputs": [
    {
     "data": {
      "text/plain": [
       "[3, 3, 5]"
      ]
     },
     "execution_count": 227,
     "metadata": {},
     "output_type": "execute_result"
    }
   ],
   "source": [
    "d2"
   ]
  },
  {
   "cell_type": "markdown",
   "id": "419ade50",
   "metadata": {
    "heading_collapsed": true
   },
   "source": [
    "## GRPA 5"
   ]
  },
  {
   "cell_type": "code",
   "execution_count": 280,
   "id": "744e575f",
   "metadata": {
    "hidden": true
   },
   "outputs": [],
   "source": [
    "def transpose(mat):\n",
    "    import numpy as np\n",
    "    return print(np.transpose(mat))"
   ]
  },
  {
   "cell_type": "code",
   "execution_count": 281,
   "id": "650dc9fd",
   "metadata": {
    "hidden": true
   },
   "outputs": [
    {
     "name": "stdout",
     "output_type": "stream",
     "text": [
      "[[1 3 5]\n",
      " [2 4 6]]\n"
     ]
    }
   ],
   "source": [
    "transpose([\n",
    "    [1,2],\n",
    "    [3,4],\n",
    "    [5,6]\n",
    "])"
   ]
  },
  {
   "cell_type": "raw",
   "id": "21976c45",
   "metadata": {
    "hidden": true
   },
   "source": []
  },
  {
   "cell_type": "code",
   "execution_count": 288,
   "id": "a0140a20",
   "metadata": {
    "hidden": true
   },
   "outputs": [
    {
     "name": "stdout",
     "output_type": "stream",
     "text": [
      "0.10000000000000009\n"
     ]
    }
   ],
   "source": [
    "print(1.1-1)\n"
   ]
  },
  {
   "cell_type": "markdown",
   "id": "f29c9334",
   "metadata": {},
   "source": [
    "# Random code\n"
   ]
  },
  {
   "cell_type": "code",
   "execution_count": 42,
   "id": "74d95d5a",
   "metadata": {},
   "outputs": [],
   "source": [
    "\n",
    "C = []\n",
    "for i in range(n):\n",
    "    C.append([])\n",
    "\n",
    "for i in range(n):\n",
    "    for j in range(n):\n",
    "        C[i].append(0)"
   ]
  },
  {
   "cell_type": "code",
   "execution_count": 43,
   "id": "6a77b461",
   "metadata": {},
   "outputs": [
    {
     "name": "stdout",
     "output_type": "stream",
     "text": [
      "[[0, 0, 0, 0], [0, 0, 0, 0], [0, 0, 0, 0], [0, 0, 0, 0]]\n"
     ]
    }
   ],
   "source": [
    "print(C)"
   ]
  },
  {
   "cell_type": "code",
   "execution_count": null,
   "id": "9db56012",
   "metadata": {},
   "outputs": [],
   "source": []
  }
 ],
 "metadata": {
  "kernelspec": {
   "display_name": "Python 3",
   "language": "python",
   "name": "python3"
  },
  "language_info": {
   "codemirror_mode": {
    "name": "ipython",
    "version": 3
   },
   "file_extension": ".py",
   "mimetype": "text/x-python",
   "name": "python",
   "nbconvert_exporter": "python",
   "pygments_lexer": "ipython3",
   "version": "3.8.8"
  },
  "toc": {
   "base_numbering": 1,
   "nav_menu": {},
   "number_sections": true,
   "sideBar": true,
   "skip_h1_title": false,
   "title_cell": "Table of Contents",
   "title_sidebar": "Contents",
   "toc_cell": false,
   "toc_position": {},
   "toc_section_display": true,
   "toc_window_display": false
  },
  "varInspector": {
   "cols": {
    "lenName": 16,
    "lenType": 16,
    "lenVar": 40
   },
   "kernels_config": {
    "python": {
     "delete_cmd_postfix": "",
     "delete_cmd_prefix": "del ",
     "library": "var_list.py",
     "varRefreshCmd": "print(var_dic_list())"
    },
    "r": {
     "delete_cmd_postfix": ") ",
     "delete_cmd_prefix": "rm(",
     "library": "var_list.r",
     "varRefreshCmd": "cat(var_dic_list()) "
    }
   },
   "types_to_exclude": [
    "module",
    "function",
    "builtin_function_or_method",
    "instance",
    "_Feature"
   ],
   "window_display": false
  }
 },
 "nbformat": 4,
 "nbformat_minor": 5
}

{
 "cells": [
  {
   "cell_type": "markdown",
   "id": "4b94f50e",
   "metadata": {},
   "source": [
    "# Day 1"
   ]
  },
  {
   "cell_type": "markdown",
   "id": "0e42da0d",
   "metadata": {},
   "source": [
    "## Data types\n",
    "\n"
   ]
  },
  {
   "cell_type": "code",
   "execution_count": 4,
   "id": "9e04158d",
   "metadata": {},
   "outputs": [],
   "source": [
    "# int\n",
    "\n",
    "# float \n",
    "\n",
    "# string\n",
    "\n",
    "# boolean"
   ]
  },
  {
   "cell_type": "code",
   "execution_count": 11,
   "id": "ca2545f4",
   "metadata": {},
   "outputs": [],
   "source": [
    "a = -1"
   ]
  },
  {
   "cell_type": "code",
   "execution_count": 12,
   "id": "1c255313",
   "metadata": {},
   "outputs": [
    {
     "data": {
      "text/plain": [
       "int"
      ]
     },
     "execution_count": 12,
     "metadata": {},
     "output_type": "execute_result"
    }
   ],
   "source": [
    "type(a)"
   ]
  },
  {
   "cell_type": "code",
   "execution_count": 13,
   "id": "cd25b30b",
   "metadata": {},
   "outputs": [
    {
     "data": {
      "text/plain": [
       "True"
      ]
     },
     "execution_count": 13,
     "metadata": {},
     "output_type": "execute_result"
    }
   ],
   "source": [
    "bool(a)"
   ]
  },
  {
   "cell_type": "code",
   "execution_count": 23,
   "id": "2792db79",
   "metadata": {},
   "outputs": [
    {
     "name": "stdout",
     "output_type": "stream",
     "text": [
      "9\n"
     ]
    }
   ],
   "source": [
    "# 3 types --- Arithmatic, relational, logical\n",
    "# -------------------------------\n",
    "\n",
    "# arithmatic - perform mathematical operations\n",
    "# +, -, *, /, //, %, **\n",
    "\n",
    "print(19//2)"
   ]
  },
  {
   "cell_type": "markdown",
   "id": "1989c764",
   "metadata": {},
   "source": [
    "### arithmatic operators"
   ]
  },
  {
   "cell_type": "code",
   "execution_count": 25,
   "id": "8fe9ce00",
   "metadata": {},
   "outputs": [
    {
     "data": {
      "text/plain": [
       "3"
      ]
     },
     "execution_count": 25,
     "metadata": {},
     "output_type": "execute_result"
    }
   ],
   "source": [
    "7//2"
   ]
  },
  {
   "cell_type": "markdown",
   "id": "dfff55b3",
   "metadata": {},
   "source": [
    ">:(\n",
    "):<\n",
    "<#(._. )#>\n",
    "   J J\n",
    "<#(._.)#>\n",
    "   L L\n",
    "<#( ._.)#>\n",
    "    L L"
   ]
  },
  {
   "cell_type": "markdown",
   "id": "40613971",
   "metadata": {},
   "source": [
    "2 concepts -\n",
    "\n",
    "    - assignment (=)\n",
    "    - equality check (==)\n",
    "    "
   ]
  },
  {
   "cell_type": "code",
   "execution_count": 23,
   "id": "491b0505",
   "metadata": {},
   "outputs": [],
   "source": [
    "a = 10"
   ]
  },
  {
   "cell_type": "code",
   "execution_count": 25,
   "id": "49f25322",
   "metadata": {},
   "outputs": [
    {
     "data": {
      "text/plain": [
       "False"
      ]
     },
     "execution_count": 25,
     "metadata": {},
     "output_type": "execute_result"
    }
   ],
   "source": [
    "a == 12"
   ]
  },
  {
   "cell_type": "code",
   "execution_count": 29,
   "id": "e051119e",
   "metadata": {},
   "outputs": [
    {
     "data": {
      "text/plain": [
       "1"
      ]
     },
     "execution_count": 29,
     "metadata": {},
     "output_type": "execute_result"
    }
   ],
   "source": [
    "# modulus operator - gives the remainder\n",
    "\n",
    "10%3"
   ]
  },
  {
   "cell_type": "code",
   "execution_count": 30,
   "id": "45975535",
   "metadata": {},
   "outputs": [
    {
     "data": {
      "text/plain": [
       "8"
      ]
     },
     "execution_count": 30,
     "metadata": {},
     "output_type": "execute_result"
    }
   ],
   "source": [
    "# exponential - raises a number to that power\n",
    "\n",
    "2**3"
   ]
  },
  {
   "cell_type": "markdown",
   "id": "20451be7",
   "metadata": {},
   "source": [
    "### relational operators"
   ]
  },
  {
   "cell_type": "code",
   "execution_count": null,
   "id": "4b1fb086",
   "metadata": {},
   "outputs": [],
   "source": [
    "# for comparison\n",
    "# >, <, >=, <=, ==, !="
   ]
  },
  {
   "cell_type": "code",
   "execution_count": 33,
   "id": "31bcca98",
   "metadata": {},
   "outputs": [
    {
     "data": {
      "text/plain": [
       "True"
      ]
     },
     "execution_count": 33,
     "metadata": {},
     "output_type": "execute_result"
    }
   ],
   "source": [
    "a == 10"
   ]
  },
  {
   "cell_type": "code",
   "execution_count": 34,
   "id": "8b6f2f15",
   "metadata": {},
   "outputs": [
    {
     "data": {
      "text/plain": [
       "True"
      ]
     },
     "execution_count": 34,
     "metadata": {},
     "output_type": "execute_result"
    }
   ],
   "source": [
    "5 != 10"
   ]
  },
  {
   "cell_type": "markdown",
   "id": "1006fedd",
   "metadata": {},
   "source": [
    "### logical operators"
   ]
  },
  {
   "cell_type": "code",
   "execution_count": 35,
   "id": "5e6b7707",
   "metadata": {},
   "outputs": [
    {
     "data": {
      "text/plain": [
       "'\\nT and T = T\\nT and F = F\\nT or T = T\\nT or F = T\\n(F and F, F or F ) = F\\n\\n'"
      ]
     },
     "execution_count": 35,
     "metadata": {},
     "output_type": "execute_result"
    }
   ],
   "source": [
    "# and or not\n",
    "\n",
    "'''\n",
    "T and T = T\n",
    "T and F = F\n",
    "T or T = T\n",
    "T or F = T\n",
    "(F and F, F or F ) = F\n",
    "\n",
    "'''"
   ]
  },
  {
   "cell_type": "code",
   "execution_count": 41,
   "id": "3858e65c",
   "metadata": {},
   "outputs": [
    {
     "data": {
      "text/plain": [
       "False"
      ]
     },
     "execution_count": 41,
     "metadata": {},
     "output_type": "execute_result"
    }
   ],
   "source": [
    "False and False"
   ]
  },
  {
   "cell_type": "code",
   "execution_count": 39,
   "id": "9480ebf7",
   "metadata": {},
   "outputs": [
    {
     "data": {
      "text/plain": [
       "False"
      ]
     },
     "execution_count": 39,
     "metadata": {},
     "output_type": "execute_result"
    }
   ],
   "source": [
    "not True"
   ]
  },
  {
   "cell_type": "code",
   "execution_count": 42,
   "id": "3bb247b5",
   "metadata": {},
   "outputs": [
    {
     "data": {
      "text/plain": [
       "'\\nF nor F - 1\\nT nor T - 0\\n\\n'"
      ]
     },
     "execution_count": 42,
     "metadata": {},
     "output_type": "execute_result"
    }
   ],
   "source": [
    "'''\n",
    "F nor F - 1\n",
    "T nor T - 0\n",
    "\n",
    "'''"
   ]
  },
  {
   "cell_type": "code",
   "execution_count": 47,
   "id": "bd1114e5",
   "metadata": {},
   "outputs": [],
   "source": [
    "a = '10.0'"
   ]
  },
  {
   "cell_type": "code",
   "execution_count": 48,
   "id": "740d55bb",
   "metadata": {},
   "outputs": [
    {
     "data": {
      "text/plain": [
       "str"
      ]
     },
     "execution_count": 48,
     "metadata": {},
     "output_type": "execute_result"
    }
   ],
   "source": [
    "type(a)"
   ]
  },
  {
   "cell_type": "code",
   "execution_count": 51,
   "id": "8ec6fbbd",
   "metadata": {},
   "outputs": [],
   "source": [
    "a,b,c,d,e,f,g = 1,2,3,4,5,6,7"
   ]
  },
  {
   "cell_type": "code",
   "execution_count": 54,
   "id": "139cceda",
   "metadata": {},
   "outputs": [],
   "source": [
    "a, g = g, a"
   ]
  },
  {
   "cell_type": "code",
   "execution_count": 55,
   "id": "19d48f9a",
   "metadata": {},
   "outputs": [
    {
     "data": {
      "text/plain": [
       "7"
      ]
     },
     "execution_count": 55,
     "metadata": {},
     "output_type": "execute_result"
    }
   ],
   "source": [
    "a"
   ]
  },
  {
   "cell_type": "code",
   "execution_count": 56,
   "id": "4587e1b7",
   "metadata": {},
   "outputs": [
    {
     "data": {
      "text/plain": [
       "1"
      ]
     },
     "execution_count": 56,
     "metadata": {},
     "output_type": "execute_result"
    }
   ],
   "source": [
    "g"
   ]
  },
  {
   "cell_type": "code",
   "execution_count": 57,
   "id": "104fd5b3",
   "metadata": {},
   "outputs": [],
   "source": [
    "del(a)"
   ]
  },
  {
   "cell_type": "code",
   "execution_count": 58,
   "id": "e2c44280",
   "metadata": {},
   "outputs": [
    {
     "ename": "NameError",
     "evalue": "name 'a' is not defined",
     "output_type": "error",
     "traceback": [
      "\u001b[0;31m---------------------------------------------------------------------------\u001b[0m",
      "\u001b[0;31mNameError\u001b[0m                                 Traceback (most recent call last)",
      "Input \u001b[0;32mIn [58]\u001b[0m, in \u001b[0;36m<module>\u001b[0;34m\u001b[0m\n\u001b[0;32m----> 1\u001b[0m \u001b[43ma\u001b[49m\n",
      "\u001b[0;31mNameError\u001b[0m: name 'a' is not defined"
     ]
    }
   ],
   "source": [
    "a"
   ]
  },
  {
   "cell_type": "code",
   "execution_count": 59,
   "id": "e6a20ac3",
   "metadata": {},
   "outputs": [
    {
     "data": {
      "text/plain": [
       "True"
      ]
     },
     "execution_count": 59,
     "metadata": {},
     "output_type": "execute_result"
    }
   ],
   "source": [
    "\"xyz\" in \"abcxyzdsiufheiugfduig\""
   ]
  },
  {
   "cell_type": "markdown",
   "id": "5a4fef1c",
   "metadata": {},
   "source": [
    "### String methods"
   ]
  },
  {
   "cell_type": "code",
   "execution_count": 89,
   "id": "197c1dfa",
   "metadata": {},
   "outputs": [],
   "source": [
    "text = \"1\""
   ]
  },
  {
   "cell_type": "code",
   "execution_count": 87,
   "id": "c8d36f25",
   "metadata": {},
   "outputs": [
    {
     "data": {
      "text/plain": [
       "'\\n.lower()\\n.upper()\\n.title()\\n.swapcase()\\n.islower()\\n\\n.isdigit()\\n\\n'"
      ]
     },
     "execution_count": 87,
     "metadata": {},
     "output_type": "execute_result"
    }
   ],
   "source": [
    "\"\"\"\n",
    ".lower()\n",
    ".upper()\n",
    ".title()\n",
    ".swapcase()\n",
    ".islower()\n",
    "\n",
    ".isdigit()\n",
    ".isalpha()\n",
    ".isalnum()\n",
    "\"\"\""
   ]
  },
  {
   "cell_type": "code",
   "execution_count": 90,
   "id": "eff0594a",
   "metadata": {},
   "outputs": [
    {
     "data": {
      "text/plain": [
       "True"
      ]
     },
     "execution_count": 90,
     "metadata": {},
     "output_type": "execute_result"
    }
   ],
   "source": [
    "text.isdigit()"
   ]
  },
  {
   "cell_type": "code",
   "execution_count": 98,
   "id": "1c02f02c",
   "metadata": {},
   "outputs": [
    {
     "data": {
      "text/plain": [
       "False"
      ]
     },
     "execution_count": 98,
     "metadata": {},
     "output_type": "execute_result"
    }
   ],
   "source": [
    "\"AbCdE-fGh\".isalnum()"
   ]
  },
  {
   "cell_type": "code",
   "execution_count": 107,
   "id": "460730ff",
   "metadata": {},
   "outputs": [
    {
     "data": {
      "text/plain": [
       "'Python'"
      ]
     },
     "execution_count": 107,
     "metadata": {},
     "output_type": "execute_result"
    }
   ],
   "source": [
    "\"---Python---\".strip(\"-\")"
   ]
  },
  {
   "cell_type": "code",
   "execution_count": 103,
   "id": "81f37386",
   "metadata": {},
   "outputs": [
    {
     "data": {
      "text/plain": [
       "'Python---'"
      ]
     },
     "execution_count": 103,
     "metadata": {},
     "output_type": "execute_result"
    }
   ],
   "source": [
    "\"---Python---\".lstrip(\"-\")"
   ]
  },
  {
   "cell_type": "code",
   "execution_count": 104,
   "id": "26e58f99",
   "metadata": {},
   "outputs": [
    {
     "data": {
      "text/plain": [
       "'---Python'"
      ]
     },
     "execution_count": 104,
     "metadata": {},
     "output_type": "execute_result"
    }
   ],
   "source": [
    "\"---Python---\".rstrip(\"-\")"
   ]
  },
  {
   "cell_type": "code",
   "execution_count": 111,
   "id": "5d697603",
   "metadata": {},
   "outputs": [
    {
     "data": {
      "text/plain": [
       "'python'"
      ]
     },
     "execution_count": 111,
     "metadata": {},
     "output_type": "execute_result"
    }
   ],
   "source": [
    "\"      python     \".strip()"
   ]
  },
  {
   "cell_type": "code",
   "execution_count": 109,
   "id": "10283e0d",
   "metadata": {},
   "outputs": [
    {
     "data": {
      "text/plain": [
       "7"
      ]
     },
     "execution_count": 109,
     "metadata": {},
     "output_type": "execute_result"
    }
   ],
   "source": [
    "\"---Pyt-hon---\".count(\"-\")"
   ]
  },
  {
   "cell_type": "code",
   "execution_count": 113,
   "id": "87e231b3",
   "metadata": {},
   "outputs": [
    {
     "data": {
      "text/plain": [
       "100"
      ]
     },
     "execution_count": 113,
     "metadata": {},
     "output_type": "execute_result"
    }
   ],
   "source": [
    "\"life\".count(\"happiness\") +100"
   ]
  },
  {
   "cell_type": "code",
   "execution_count": 114,
   "id": "c6fbee12",
   "metadata": {},
   "outputs": [],
   "source": [
    "# index()\n",
    "# replace()\n",
    "# startswith()\n",
    "# endswith()\n"
   ]
  },
  {
   "cell_type": "code",
   "execution_count": 31,
   "id": "9572e2ce",
   "metadata": {},
   "outputs": [
    {
     "data": {
      "text/plain": [
       "'K'"
      ]
     },
     "execution_count": 31,
     "metadata": {},
     "output_type": "execute_result"
    }
   ],
   "source": [
    "a = \"ANUCHKA\"\n",
    "a[-2]"
   ]
  },
  {
   "cell_type": "markdown",
   "id": "3ae97de4",
   "metadata": {},
   "source": [
    "## if-else"
   ]
  },
  {
   "cell_type": "code",
   "execution_count": 127,
   "id": "a2a8a905",
   "metadata": {},
   "outputs": [
    {
     "name": "stdout",
     "output_type": "stream",
     "text": [
      "Enter anything : 2\n"
     ]
    }
   ],
   "source": [
    "a = float( input(\"Enter anything : \") )"
   ]
  },
  {
   "cell_type": "code",
   "execution_count": 128,
   "id": "e5da2ae0",
   "metadata": {},
   "outputs": [
    {
     "data": {
      "text/plain": [
       "4.0"
      ]
     },
     "execution_count": 128,
     "metadata": {},
     "output_type": "execute_result"
    }
   ],
   "source": [
    "a*2"
   ]
  },
  {
   "cell_type": "code",
   "execution_count": 132,
   "id": "c26a0cdd",
   "metadata": {},
   "outputs": [
    {
     "name": "stdout",
     "output_type": "stream",
     "text": [
      "Enter your name : Anuchka\n",
      "hello Anuchka You should be happier!!!\n"
     ]
    }
   ],
   "source": [
    "name = input(\"Enter your name : \")\n",
    "\n",
    "if name == \"Anuchka\":\n",
    "    print(\"hello\", name, \"You should be happier!!!\")\n",
    "\n",
    "elif name == \"Pushpak\":\n",
    "        print(\"die\", name)\n",
    "else:\n",
    "    print(\"Who tf are you?\")"
   ]
  },
  {
   "cell_type": "code",
   "execution_count": 145,
   "id": "d279715e",
   "metadata": {},
   "outputs": [
    {
     "name": "stdout",
     "output_type": "stream",
     "text": [
      "Welcome to the game!!!\n",
      "Enter a number 0-5 : 4\n",
      "WUHUUUU, YOU WON THE GAME. YEYYY, PARTYYY\n"
     ]
    }
   ],
   "source": [
    "import random\n",
    "print(\"Welcome to the game!!!\")\n",
    "n = int(input(\"Enter a number 0-5 : \"))\n",
    "\n",
    "value = random.randint(0, 6)\n",
    "\n",
    "if n == value:\n",
    "    print(\"WUHUUUU, YOU WON THE GAME. YEYYY, PARTYYY\")\n",
    "else:\n",
    "    print(\"LMAO, loser!!\")\n",
    "    print(\"The answer was\", value)"
   ]
  },
  {
   "cell_type": "markdown",
   "id": "d47453fc",
   "metadata": {},
   "source": [
    "## While loop"
   ]
  },
  {
   "cell_type": "code",
   "execution_count": 148,
   "id": "0493ad12",
   "metadata": {},
   "outputs": [
    {
     "name": "stdout",
     "output_type": "stream",
     "text": [
      "Okay\n",
      "Okay\n",
      "Okay\n",
      "Okay\n",
      "Okay\n",
      "Okay\n"
     ]
    }
   ],
   "source": [
    "n = 0\n",
    "\n",
    "while n<=5:\n",
    "    print(\"Okay\")\n",
    "    n += 1\n"
   ]
  },
  {
   "cell_type": "code",
   "execution_count": 149,
   "id": "504d3e2d",
   "metadata": {},
   "outputs": [
    {
     "data": {
      "text/plain": [
       "range(0, 5)"
      ]
     },
     "execution_count": 149,
     "metadata": {},
     "output_type": "execute_result"
    }
   ],
   "source": [
    "range(5)"
   ]
  },
  {
   "cell_type": "code",
   "execution_count": 33,
   "id": "667bc59d",
   "metadata": {},
   "outputs": [
    {
     "name": "stdout",
     "output_type": "stream",
     "text": [
      "1\n",
      "2\n",
      "10\n",
      "23\n"
     ]
    }
   ],
   "source": [
    "L = [1, 2, 10, 23]\n",
    "\n",
    "for i in L:\n",
    "    print(i)"
   ]
  },
  {
   "cell_type": "code",
   "execution_count": 34,
   "id": "0ea69ed5",
   "metadata": {},
   "outputs": [
    {
     "name": "stdout",
     "output_type": "stream",
     "text": [
      "0\n",
      "2\n",
      "6\n",
      "8\n",
      "10\n"
     ]
    }
   ],
   "source": [
    "for i in range(0, 11, 2):\n",
    "    if i==4:\n",
    "        continue\n",
    "    print(i)\n",
    "    "
   ]
  },
  {
   "cell_type": "code",
   "execution_count": 168,
   "id": "1b78dd88",
   "metadata": {},
   "outputs": [
    {
     "name": "stdout",
     "output_type": "stream",
     "text": [
      "Welcome to the game!!!\n",
      "Enter a number 0-5 : 2\n",
      "Opps! You still have  9 chances left.\n",
      "4\n",
      "Enter a new number 0-5 : 4\n",
      "WUHUUUU, YOU WON THE GAME. YEYYY, PARTYYY\n",
      "Outside while loop\n"
     ]
    }
   ],
   "source": [
    "import random\n",
    "print(\"Welcome to the game!!!\")\n",
    "n = int(input(\"Enter a number 0-5 : \"))\n",
    "\n",
    "value = random.randint(0, 6)\n",
    "\n",
    "count = 1\n",
    "while count <=10:\n",
    "\n",
    "    if n == value:\n",
    "        print(\"WUHUUUU, YOU WON THE GAME. YEYYY, PARTYYY\")\n",
    "        break\n",
    "        continue\n",
    "        print(\"After break\")\n",
    "    else:\n",
    "        print(\"Opps! You still have \", (10-count), \"chances left.\")\n",
    "        print(value)\n",
    "        if (3-count) != 0:\n",
    "            n = int(input(\"Enter a new number 0-5 : \"))\n",
    "        else:\n",
    "            print(\"You lost the game! the answer was \",value )\n",
    "        count += 1\n",
    "        \n",
    "\n",
    "print(\"Outside while loop\")"
   ]
  },
  {
   "cell_type": "code",
   "execution_count": 175,
   "id": "b79a853e",
   "metadata": {},
   "outputs": [
    {
     "name": "stdout",
     "output_type": "stream",
     "text": [
      "0\n",
      "1\n",
      "inside the loop...\n",
      "outside the loop...\n"
     ]
    }
   ],
   "source": [
    "for n in range(11):\n",
    "    if n == 2:\n",
    "        print(\"inside the loop...\")\n",
    "        break\n",
    "    print(n)\n",
    "\n",
    "print(\"outside the loop...\")\n",
    "# 0,1,2,3,4,5,6,..."
   ]
  },
  {
   "cell_type": "markdown",
   "id": "0d95e5fc",
   "metadata": {},
   "source": [
    "## Lists, tuples, set"
   ]
  },
  {
   "cell_type": "code",
   "execution_count": 3,
   "id": "be0e6bf1",
   "metadata": {},
   "outputs": [],
   "source": [
    "# unique elements\n",
    "# order doesn't matter\n",
    "# print({1,5,6}  == {5,1,6})\n",
    "s = {2,5,1,3, \"okay\", 2,5,1,3, \"okay\"}\n"
   ]
  },
  {
   "cell_type": "code",
   "execution_count": 42,
   "id": "9b4e0072",
   "metadata": {},
   "outputs": [
    {
     "data": {
      "text/plain": [
       "{1, 2, 3, 5, 'okay'}"
      ]
     },
     "execution_count": 42,
     "metadata": {},
     "output_type": "execute_result"
    }
   ],
   "source": [
    "s"
   ]
  },
  {
   "cell_type": "code",
   "execution_count": 2,
   "id": "5516c22a",
   "metadata": {},
   "outputs": [],
   "source": [
    "# List - order is retained, \n",
    "\n",
    "L = [2,5,1,3, \"okay\", 2,5,1,3, \"okay\"]"
   ]
  },
  {
   "cell_type": "code",
   "execution_count": 44,
   "id": "1208586c",
   "metadata": {},
   "outputs": [
    {
     "data": {
      "text/plain": [
       "list"
      ]
     },
     "execution_count": 44,
     "metadata": {},
     "output_type": "execute_result"
    }
   ],
   "source": [
    "type(L)"
   ]
  },
  {
   "cell_type": "code",
   "execution_count": 45,
   "id": "4dedbbae",
   "metadata": {},
   "outputs": [
    {
     "data": {
      "text/plain": [
       "[2, 5, 1, 3, 'okay', 2, 5, 1, 3, 'okay']"
      ]
     },
     "execution_count": 45,
     "metadata": {},
     "output_type": "execute_result"
    }
   ],
   "source": [
    "L"
   ]
  },
  {
   "cell_type": "code",
   "execution_count": 49,
   "id": "bd267e0f",
   "metadata": {},
   "outputs": [],
   "source": [
    "s = set()"
   ]
  },
  {
   "cell_type": "code",
   "execution_count": null,
   "id": "2ab56d5d",
   "metadata": {},
   "outputs": [],
   "source": [
    "s.add(5)"
   ]
  },
  {
   "cell_type": "code",
   "execution_count": null,
   "id": "bdbf8fca",
   "metadata": {},
   "outputs": [],
   "source": [
    "L = list()\n",
    "L.append(2)"
   ]
  },
  {
   "cell_type": "code",
   "execution_count": 50,
   "id": "5e28f159",
   "metadata": {},
   "outputs": [],
   "source": [
    "s = {1,2,5,4}"
   ]
  },
  {
   "cell_type": "code",
   "execution_count": 51,
   "id": "9a1ed6c7",
   "metadata": {},
   "outputs": [
    {
     "data": {
      "text/plain": [
       "{1, 2, 4, 5}"
      ]
     },
     "execution_count": 51,
     "metadata": {},
     "output_type": "execute_result"
    }
   ],
   "source": [
    "s"
   ]
  },
  {
   "cell_type": "code",
   "execution_count": 1,
   "id": "3fcbfd2f",
   "metadata": {},
   "outputs": [],
   "source": [
    "# tuple\n",
    "\n",
    "t = (2,5,1,3, \"okay\", 2,5,1,3, \"okay\")\n"
   ]
  },
  {
   "cell_type": "code",
   "execution_count": 76,
   "id": "35d29d54",
   "metadata": {},
   "outputs": [
    {
     "data": {
      "text/plain": [
       "(2, 5, 1, 3, 'okay', 2, 5, 1, 3, 'okay')"
      ]
     },
     "execution_count": 76,
     "metadata": {},
     "output_type": "execute_result"
    }
   ],
   "source": [
    "t"
   ]
  },
  {
   "cell_type": "code",
   "execution_count": 72,
   "id": "1dcb94a5",
   "metadata": {},
   "outputs": [
    {
     "data": {
      "text/plain": [
       "tuple"
      ]
     },
     "execution_count": 72,
     "metadata": {},
     "output_type": "execute_result"
    }
   ],
   "source": [
    "type(t)"
   ]
  },
  {
   "cell_type": "code",
   "execution_count": 77,
   "id": "273a0d44",
   "metadata": {},
   "outputs": [
    {
     "data": {
      "text/plain": [
       "[2, 5, 1, 3, 'okay', 2, 5, 1, 3, 'okay']"
      ]
     },
     "execution_count": 77,
     "metadata": {},
     "output_type": "execute_result"
    }
   ],
   "source": [
    "L"
   ]
  },
  {
   "cell_type": "code",
   "execution_count": 78,
   "id": "537ec798",
   "metadata": {},
   "outputs": [
    {
     "data": {
      "text/plain": [
       "(2, 5, 1, 3, 'okay', 2, 5, 1, 3, 'okay')"
      ]
     },
     "execution_count": 78,
     "metadata": {},
     "output_type": "execute_result"
    }
   ],
   "source": [
    "t"
   ]
  },
  {
   "cell_type": "code",
   "execution_count": 80,
   "id": "235bac65",
   "metadata": {},
   "outputs": [],
   "source": [
    "L[4] = \"world\""
   ]
  },
  {
   "cell_type": "code",
   "execution_count": 82,
   "id": "e3f30a9f",
   "metadata": {},
   "outputs": [
    {
     "data": {
      "text/plain": [
       "[2, 5, 1, 3, 'world', 2, 5, 1, 3, 'okay']"
      ]
     },
     "execution_count": 82,
     "metadata": {},
     "output_type": "execute_result"
    }
   ],
   "source": [
    "L"
   ]
  },
  {
   "cell_type": "code",
   "execution_count": 83,
   "id": "30731578",
   "metadata": {},
   "outputs": [
    {
     "ename": "TypeError",
     "evalue": "'tuple' object does not support item assignment",
     "output_type": "error",
     "traceback": [
      "\u001b[0;31m---------------------------------------------------------------------------\u001b[0m",
      "\u001b[0;31mTypeError\u001b[0m                                 Traceback (most recent call last)",
      "\u001b[0;32m/var/folders/6j/v9zb038n2bxdy2_vbd43mhnc0000gn/T/ipykernel_43622/1583018103.py\u001b[0m in \u001b[0;36m<module>\u001b[0;34m\u001b[0m\n\u001b[0;32m----> 1\u001b[0;31m \u001b[0mt\u001b[0m\u001b[0;34m[\u001b[0m\u001b[0;36m4\u001b[0m\u001b[0;34m]\u001b[0m \u001b[0;34m=\u001b[0m \u001b[0;34m\"world\"\u001b[0m\u001b[0;34m\u001b[0m\u001b[0;34m\u001b[0m\u001b[0m\n\u001b[0m",
      "\u001b[0;31mTypeError\u001b[0m: 'tuple' object does not support item assignment"
     ]
    }
   ],
   "source": [
    "t[4] = \"world\""
   ]
  },
  {
   "cell_type": "markdown",
   "id": "8f6a858f",
   "metadata": {},
   "source": [
    "# Dictionary"
   ]
  },
  {
   "cell_type": "markdown",
   "id": "01089775",
   "metadata": {},
   "source": [
    "key-value pair"
   ]
  },
  {
   "cell_type": "code",
   "execution_count": 4,
   "id": "d99df4da",
   "metadata": {},
   "outputs": [],
   "source": [
    "d = {\"Anuchka\":\"bread kha rhai hai, abhi bhi\",\n",
    "    \"Ruhil\":\"Padha raha hai, abhi bhi\"}"
   ]
  },
  {
   "cell_type": "code",
   "execution_count": 5,
   "id": "4bf1ba5a",
   "metadata": {},
   "outputs": [],
   "source": [
    "d[\"Anuchka\"] = \"ke 2 bread bache hai\""
   ]
  },
  {
   "cell_type": "code",
   "execution_count": null,
   "id": "a8cc8497",
   "metadata": {},
   "outputs": [],
   "source": [
    "d = dict()"
   ]
  },
  {
   "cell_type": "code",
   "execution_count": 6,
   "id": "3d08a44b",
   "metadata": {},
   "outputs": [
    {
     "data": {
      "text/plain": [
       "{'Anuchka': 'ke 2 bread bache hai', 'Ruhil': 'Padha raha hai, abhi bhi'}"
      ]
     },
     "execution_count": 6,
     "metadata": {},
     "output_type": "execute_result"
    }
   ],
   "source": [
    "d"
   ]
  },
  {
   "cell_type": "code",
   "execution_count": 7,
   "id": "80397714",
   "metadata": {},
   "outputs": [],
   "source": [
    "L[4] = \"okay\""
   ]
  },
  {
   "cell_type": "code",
   "execution_count": 8,
   "id": "ecc6d3c7",
   "metadata": {},
   "outputs": [
    {
     "data": {
      "text/plain": [
       "2"
      ]
     },
     "execution_count": 8,
     "metadata": {},
     "output_type": "execute_result"
    }
   ],
   "source": [
    "L.count(\"okay\")"
   ]
  },
  {
   "cell_type": "code",
   "execution_count": 9,
   "id": "22cb68a3",
   "metadata": {},
   "outputs": [
    {
     "data": {
      "text/plain": [
       "[2, 5, 1, 3, 'okay', 2, 5, 1, 3, 'okay']"
      ]
     },
     "execution_count": 9,
     "metadata": {},
     "output_type": "execute_result"
    }
   ],
   "source": [
    "L"
   ]
  },
  {
   "cell_type": "code",
   "execution_count": 10,
   "id": "b90495ab",
   "metadata": {},
   "outputs": [],
   "source": [
    "L.append(\"Anuchka\")"
   ]
  },
  {
   "cell_type": "code",
   "execution_count": 11,
   "id": "f321ab76",
   "metadata": {},
   "outputs": [],
   "source": [
    "L.insert(0, \"okay\")"
   ]
  },
  {
   "cell_type": "code",
   "execution_count": 13,
   "id": "2bfce7e8",
   "metadata": {},
   "outputs": [
    {
     "data": {
      "text/plain": [
       "['okay', 2, 5, 1, 3, 'okay', 2, 5, 1, 3, 'okay', 'Anuchka']"
      ]
     },
     "execution_count": 13,
     "metadata": {},
     "output_type": "execute_result"
    }
   ],
   "source": [
    "L"
   ]
  },
  {
   "cell_type": "code",
   "execution_count": 14,
   "id": "8881ee1a",
   "metadata": {},
   "outputs": [
    {
     "data": {
      "text/plain": [
       "['okay', 2, 5, 1, 3, 'okay', 2, 5, 1, 3, 'okay', 'Anuchka']"
      ]
     },
     "execution_count": 14,
     "metadata": {},
     "output_type": "execute_result"
    }
   ],
   "source": [
    "L"
   ]
  },
  {
   "cell_type": "code",
   "execution_count": 15,
   "id": "c7ad7269",
   "metadata": {},
   "outputs": [],
   "source": [
    "L_copy = L"
   ]
  },
  {
   "cell_type": "code",
   "execution_count": 16,
   "id": "055cd763",
   "metadata": {},
   "outputs": [
    {
     "data": {
      "text/plain": [
       "['okay', 2, 5, 1, 3, 'okay', 2, 5, 1, 3, 'okay', 'Anuchka']"
      ]
     },
     "execution_count": 16,
     "metadata": {},
     "output_type": "execute_result"
    }
   ],
   "source": [
    "L_copy"
   ]
  },
  {
   "cell_type": "code",
   "execution_count": 18,
   "id": "05f4d868",
   "metadata": {},
   "outputs": [],
   "source": [
    "L_copy[0] = \"Ruhil\""
   ]
  },
  {
   "cell_type": "code",
   "execution_count": 19,
   "id": "201bde8d",
   "metadata": {},
   "outputs": [
    {
     "data": {
      "text/plain": [
       "['Ruhil', 2, 5, 1, 3, 'okay', 2, 5, 1, 3, 'okay', 'Anuchka']"
      ]
     },
     "execution_count": 19,
     "metadata": {},
     "output_type": "execute_result"
    }
   ],
   "source": [
    "L_copy"
   ]
  },
  {
   "cell_type": "code",
   "execution_count": 20,
   "id": "973d7f83",
   "metadata": {},
   "outputs": [
    {
     "data": {
      "text/plain": [
       "['Ruhil', 2, 5, 1, 3, 'okay', 2, 5, 1, 3, 'okay', 'Anuchka']"
      ]
     },
     "execution_count": 20,
     "metadata": {},
     "output_type": "execute_result"
    }
   ],
   "source": [
    "L"
   ]
  },
  {
   "cell_type": "code",
   "execution_count": null,
   "id": "52359d5e",
   "metadata": {},
   "outputs": [],
   "source": []
  },
  {
   "cell_type": "code",
   "execution_count": null,
   "id": "2b98a1ef",
   "metadata": {},
   "outputs": [],
   "source": []
  },
  {
   "cell_type": "code",
   "execution_count": null,
   "id": "e97e2926",
   "metadata": {},
   "outputs": [],
   "source": []
  },
  {
   "cell_type": "markdown",
   "id": "8ff61ad4",
   "metadata": {},
   "source": [
    "# Day 2"
   ]
  },
  {
   "cell_type": "code",
   "execution_count": 2,
   "id": "d716ab82",
   "metadata": {},
   "outputs": [],
   "source": [
    "import random\n"
   ]
  },
  {
   "cell_type": "code",
   "execution_count": 3,
   "id": "5b059633",
   "metadata": {},
   "outputs": [
    {
     "data": {
      "text/plain": [
       "5"
      ]
     },
     "execution_count": 3,
     "metadata": {},
     "output_type": "execute_result"
    }
   ],
   "source": [
    "random.randint(1,8)"
   ]
  },
  {
   "cell_type": "code",
   "execution_count": 4,
   "id": "7cb17e16",
   "metadata": {},
   "outputs": [],
   "source": [
    "text = \"abcdefg\"\n"
   ]
  },
  {
   "cell_type": "code",
   "execution_count": 9,
   "id": "e9a527ea",
   "metadata": {},
   "outputs": [
    {
     "data": {
      "text/plain": [
       "'f'"
      ]
     },
     "execution_count": 9,
     "metadata": {},
     "output_type": "execute_result"
    }
   ],
   "source": [
    "text[-2]"
   ]
  },
  {
   "cell_type": "code",
   "execution_count": 11,
   "id": "6bb9501f",
   "metadata": {},
   "outputs": [
    {
     "data": {
      "text/plain": [
       "'abcd'"
      ]
     },
     "execution_count": 11,
     "metadata": {},
     "output_type": "execute_result"
    }
   ],
   "source": [
    "text[0:4]"
   ]
  },
  {
   "cell_type": "markdown",
   "id": "138d7de9",
   "metadata": {
    "heading_collapsed": true
   },
   "source": [
    "## Q2"
   ]
  },
  {
   "cell_type": "code",
   "execution_count": 59,
   "id": "2a963ffd",
   "metadata": {
    "hidden": true
   },
   "outputs": [
    {
     "name": "stdout",
     "output_type": "stream",
     "text": [
      "Enter a number : \n",
      "1.5\n",
      "Number of digits in the given input number =  2\n"
     ]
    }
   ],
   "source": [
    "inp = input(\"Enter a number : \\n\")\n",
    "count = 0\n",
    "for i in inp:\n",
    "    if i.isdigit():\n",
    "        count +=1\n",
    "print(\"Number of digits in the given input number = \", count)\n"
   ]
  },
  {
   "cell_type": "markdown",
   "id": "8bb18881",
   "metadata": {
    "heading_collapsed": true
   },
   "source": [
    "## Q1"
   ]
  },
  {
   "cell_type": "code",
   "execution_count": 5,
   "id": "dd4f5153",
   "metadata": {
    "hidden": true
   },
   "outputs": [
    {
     "name": "stdout",
     "output_type": "stream",
     "text": [
      "Enter a number to get it's table - \n",
      "5\n",
      "Till what integer do you want your multiplication table to be printed? \n",
      "10\n",
      "5 X 1 = 5\n",
      "5 X 2 = 10\n",
      "5 X 3 = 15\n",
      "5 X 4 = 20\n",
      "5 X 5 = 25\n",
      "5 X 6 = 30\n",
      "5 X 7 = 35\n",
      "5 X 8 = 40\n",
      "5 X 9 = 45\n",
      "5 X 10 = 50\n"
     ]
    }
   ],
   "source": [
    "n = int(input(\"Enter a number to get it's table - \\n\"))\n",
    "till = int(input(\"Till what integer do you want your multiplication table to be printed? \\n\"))\n",
    "\n",
    "for i in range(1, till+1):\n",
    "    prod = n*i\n",
    "    print(\"{n} X {i} = {prod}\".format(n=n, i=i, prod=prod))\n",
    "    "
   ]
  },
  {
   "cell_type": "markdown",
   "id": "dec0fa9b",
   "metadata": {
    "heading_collapsed": true
   },
   "source": [
    "## Q3"
   ]
  },
  {
   "cell_type": "code",
   "execution_count": 15,
   "id": "b17ddc86",
   "metadata": {
    "hidden": true
   },
   "outputs": [
    {
     "name": "stdout",
     "output_type": "stream",
     "text": [
      " Quadratic equation : Ax^2 + Bx + C = 0\n",
      "Please enter the values for A, B and C for your quadratic equation - \n",
      "\n",
      "For A - 1\n",
      "\n",
      " For B - -4\n",
      "\n",
      " For C - 3\n",
      "Roots for the quadratic equation - \n",
      "1 -  3.0 \n",
      "2 -  1.0\n"
     ]
    }
   ],
   "source": [
    "print(\" Quadratic equation : Ax^2 + Bx + C = 0\")\n",
    "print(\"Please enter the values for A, B and C for your quadratic equation - \\n\")\n",
    "A,B,C = int(input(\"For A - \")), int(input(\"\\n For B - \")), int(input(\"\\n For C - \"))\n",
    "\n",
    "root1 = (-B + (B**2 - 4*A*C)**0.5 )/(2*A)\n",
    "root2 = (-B - (B**2 - 4*A*C)**0.5 )/(2*A)\n",
    "\n",
    "print(\"Roots for the quadratic equation - \")\n",
    "print(\"1 - \", root1, \"\\n2 - \", root2)"
   ]
  },
  {
   "cell_type": "markdown",
   "id": "275e07dd",
   "metadata": {
    "heading_collapsed": true
   },
   "source": [
    "## Q4"
   ]
  },
  {
   "cell_type": "code",
   "execution_count": 17,
   "id": "edc5144d",
   "metadata": {
    "hidden": true
   },
   "outputs": [
    {
     "name": "stdout",
     "output_type": "stream",
     "text": [
      "Enter a year : 2000\n",
      "2000 is a leap year.\n"
     ]
    }
   ],
   "source": [
    "year = int(input(\"Enter a year : \"))\n",
    "\n",
    "if year%4==0:\n",
    "    print(year, \"is a leap year.\")\n",
    "else:\n",
    "    print(year, \"is not a leap year\")"
   ]
  },
  {
   "cell_type": "markdown",
   "id": "3333f186",
   "metadata": {
    "heading_collapsed": true
   },
   "source": [
    "## Q8"
   ]
  },
  {
   "cell_type": "code",
   "execution_count": 21,
   "id": "3965bcf6",
   "metadata": {
    "hidden": true
   },
   "outputs": [
    {
     "name": "stdout",
     "output_type": "stream",
     "text": [
      "Enter 3 numbers - \n",
      "1st number - 1\n",
      "2nd number - 2\n",
      "3rd number - 3\n",
      "3 is the largest of the given numbers!\n"
     ]
    }
   ],
   "source": [
    "print(\"Enter 3 numbers - \")\n",
    "a, b, c = int(input(\"1st number - \")), int(input(\"2nd number - \")), int(input(\"3rd number - \"))\n",
    "\n",
    "print(max(a,b,c), \"is the largest of the given numbers!\")"
   ]
  },
  {
   "cell_type": "code",
   "execution_count": null,
   "id": "5f181cbb",
   "metadata": {
    "hidden": true
   },
   "outputs": [],
   "source": []
  },
  {
   "cell_type": "markdown",
   "id": "9a48b98e",
   "metadata": {},
   "source": [
    "# okokok\n"
   ]
  },
  {
   "cell_type": "code",
   "execution_count": null,
   "id": "403ac78f",
   "metadata": {},
   "outputs": [],
   "source": []
  }
 ],
 "metadata": {
  "kernelspec": {
   "display_name": "Python 3 (ipykernel)",
   "language": "python",
   "name": "python3"
  },
  "language_info": {
   "codemirror_mode": {
    "name": "ipython",
    "version": 3
   },
   "file_extension": ".py",
   "mimetype": "text/x-python",
   "name": "python",
   "nbconvert_exporter": "python",
   "pygments_lexer": "ipython3",
   "version": "3.9.10"
  },
  "toc": {
   "base_numbering": 1,
   "nav_menu": {},
   "number_sections": true,
   "sideBar": true,
   "skip_h1_title": false,
   "title_cell": "Table of Contents",
   "title_sidebar": "Contents",
   "toc_cell": false,
   "toc_position": {},
   "toc_section_display": true,
   "toc_window_display": false
  },
  "varInspector": {
   "cols": {
    "lenName": 16,
    "lenType": 16,
    "lenVar": 40
   },
   "kernels_config": {
    "python": {
     "delete_cmd_postfix": "",
     "delete_cmd_prefix": "del ",
     "library": "var_list.py",
     "varRefreshCmd": "print(var_dic_list())"
    },
    "r": {
     "delete_cmd_postfix": ") ",
     "delete_cmd_prefix": "rm(",
     "library": "var_list.r",
     "varRefreshCmd": "cat(var_dic_list()) "
    }
   },
   "types_to_exclude": [
    "module",
    "function",
    "builtin_function_or_method",
    "instance",
    "_Feature"
   ],
   "window_display": false
  }
 },
 "nbformat": 4,
 "nbformat_minor": 5
}

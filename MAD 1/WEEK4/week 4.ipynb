{
 "cells": [
  {
   "cell_type": "code",
   "execution_count": 24,
   "id": "a50eee06",
   "metadata": {},
   "outputs": [],
   "source": [
    "import pyhtml as h\n",
    "\n",
    "rows = []\n",
    "tot_marks = 100\n",
    "\n",
    "out = h.html(\n",
    "        h.head(\n",
    "            h.title(\"Student Data\")\n",
    "        ),\n",
    "        h.body(\n",
    "            h.h1(\"Student Details\"),\n",
    "            h.table(border=\"2px\")(\n",
    "                h.tr(\n",
    "                    h.th(\"Student id\"),\n",
    "                    h.th(\"Course id\"),\n",
    "                    h.th(\"Marks\")\n",
    "                ),\n",
    "                (h.tr(\n",
    "                    h.td(cell) for cell in row\n",
    "                ) for row in rows),\n",
    "                h.tr(\n",
    "                    h.td(colspan=\"2\", style=\"text-align:center\")(\"Total Marks\"),\n",
    "                    h.td(tot_marks)\n",
    "                )\n",
    "            )\n",
    "        )\n",
    "    )"
   ]
  },
  {
   "cell_type": "code",
   "execution_count": 26,
   "id": "e08e848a",
   "metadata": {},
   "outputs": [
    {
     "name": "stdout",
     "output_type": "stream",
     "text": [
      "<!DOCTYPE html>\n",
      "<html>\n",
      "  <head>\n",
      "    <title>\n",
      "      Student Data\n",
      "    </title>\n",
      "  </head>\n",
      "  <body>\n",
      "    <h1>\n",
      "      Student Details\n",
      "    </h1>\n",
      "    <table border=\"2px\">\n",
      "      <tr>\n",
      "        <th>\n",
      "          Student id\n",
      "        </th>\n",
      "        <th>\n",
      "          Course id\n",
      "        </th>\n",
      "        <th>\n",
      "          Marks\n",
      "        </th>\n",
      "      </tr>\n",
      "\n",
      "      <tr>\n",
      "        <td colspan=\"2\" style=\"text-align:center\">\n",
      "          Total Marks\n",
      "        </td>\n",
      "        <td>\n",
      "          100\n",
      "        </td>\n",
      "      </tr>\n",
      "    </table>\n",
      "  </body>\n",
      "</html>\n"
     ]
    }
   ],
   "source": [
    "print(out.render())"
   ]
  },
  {
   "cell_type": "code",
   "execution_count": 30,
   "id": "4145b810",
   "metadata": {},
   "outputs": [],
   "source": [
    "t = h.html(\n",
    "        h.head(\n",
    "            h.title(\"Something Went Wrong\")\n",
    "        ),\n",
    "        h.body(\n",
    "            h.h1(\"Wrong Inputs\"),\n",
    "            h.div(\"Something went wrong\")\n",
    "        )\n",
    "    )"
   ]
  },
  {
   "cell_type": "code",
   "execution_count": 31,
   "id": "0951e1d5",
   "metadata": {},
   "outputs": [
    {
     "name": "stdout",
     "output_type": "stream",
     "text": [
      "<!DOCTYPE html>\n",
      "<html>\n",
      "  <head>\n",
      "    <title>\n",
      "      Something Went Wrong\n",
      "    </title>\n",
      "  </head>\n",
      "  <body>\n",
      "    <h1>\n",
      "      Wrong Inputs\n",
      "    </h1>\n",
      "    <div>\n",
      "      Something went wrong\n",
      "    </div>\n",
      "  </body>\n",
      "</html>\n"
     ]
    }
   ],
   "source": [
    "print(t.render())"
   ]
  },
  {
   "cell_type": "code",
   "execution_count": null,
   "id": "87b3a038",
   "metadata": {},
   "outputs": [],
   "source": []
  }
 ],
 "metadata": {
  "kernelspec": {
   "display_name": "Python 3",
   "language": "python",
   "name": "python3"
  },
  "language_info": {
   "codemirror_mode": {
    "name": "ipython",
    "version": 3
   },
   "file_extension": ".py",
   "mimetype": "text/x-python",
   "name": "python",
   "nbconvert_exporter": "python",
   "pygments_lexer": "ipython3",
   "version": "3.8.8"
  },
  "toc": {
   "base_numbering": 1,
   "nav_menu": {},
   "number_sections": true,
   "sideBar": true,
   "skip_h1_title": false,
   "title_cell": "Table of Contents",
   "title_sidebar": "Contents",
   "toc_cell": false,
   "toc_position": {},
   "toc_section_display": true,
   "toc_window_display": false
  },
  "varInspector": {
   "cols": {
    "lenName": 16,
    "lenType": 16,
    "lenVar": 40
   },
   "kernels_config": {
    "python": {
     "delete_cmd_postfix": "",
     "delete_cmd_prefix": "del ",
     "library": "var_list.py",
     "varRefreshCmd": "print(var_dic_list())"
    },
    "r": {
     "delete_cmd_postfix": ") ",
     "delete_cmd_prefix": "rm(",
     "library": "var_list.r",
     "varRefreshCmd": "cat(var_dic_list()) "
    }
   },
   "types_to_exclude": [
    "module",
    "function",
    "builtin_function_or_method",
    "instance",
    "_Feature"
   ],
   "window_display": false
  }
 },
 "nbformat": 4,
 "nbformat_minor": 5
}

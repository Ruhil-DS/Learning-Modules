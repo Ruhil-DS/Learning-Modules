{
 "cells": [
  {
   "cell_type": "markdown",
   "id": "636f5aa1",
   "metadata": {},
   "source": [
    "# Hello"
   ]
  },
  {
   "cell_type": "code",
   "execution_count": 1,
   "id": "fb356b34",
   "metadata": {},
   "outputs": [],
   "source": [
    "import pyodbc"
   ]
  },
  {
   "cell_type": "code",
   "execution_count": null,
   "id": "39910232",
   "metadata": {},
   "outputs": [],
   "source": [
    "conn = pyodbc.connect()"
   ]
  },
  {
   "cell_type": "markdown",
   "id": "1457cad1",
   "metadata": {},
   "source": [
    "# GrPA 1"
   ]
  },
  {
   "cell_type": "code",
   "execution_count": null,
   "id": "71eb59c1",
   "metadata": {},
   "outputs": [],
   "source": [
    "import psycopg2\n",
    "import os\n",
    "import sys\n",
    "import string \n",
    "\n",
    "f = open(\"date.txt\",'r')\n",
    "date = f.readline()\n",
    "\n",
    "conn = None\n",
    "input_db = sys.argv[1] # database\n",
    "user = os.environ.get('PGUSER') # user\n",
    "pwd = os.environ.get('PGPASSWORD') # password\n",
    "host1 = os.environ.get('PGHOST') # host\n",
    "port1 = os.environ.get('PGPORT') # port\n",
    "conn = psycopg2.connect(database = input_db,\n",
    "                        user =user,\n",
    "                        password = pwd,\n",
    "                        host = host1,\n",
    "                        port = port1)\n",
    "cur = conn.cursor()\n",
    "cur.execute(\"select M.match_date, T.name \\\n",
    "            from matches M INNER JOIN match_referees P ON M.match_num = P.match_num\\\n",
    "            INNER JOIN referees T on P.referee = T.referee_id\")\n",
    "rows = cur.fetchall()\n",
    "for row in rows:\n",
    "    if str(row[0]) == date:\n",
    "        name = row[1]\n",
    "        L = []\n",
    "        count = 0\n",
    "        for i in name:\n",
    "            count += 1\n",
    "            if i == ' ':\n",
    "                L.append(count)\n",
    "\n",
    "        Output_name = ''\n",
    "        for i in range(len(L)):\n",
    "            if i == 0:\n",
    "                Output_name = Output_name + name[L[-1]:] + \" \" + name[0] + \".\"\n",
    "            else:\n",
    "                Output_name = Output_name + \" \" + name[L[i - 1]] + \".\"\n",
    "\n",
    "        print(Output_name)\n",
    "cur.close()"
   ]
  },
  {
   "cell_type": "markdown",
   "id": "2d393b3f",
   "metadata": {},
   "source": [
    "# GrPA 2\n"
   ]
  },
  {
   "cell_type": "code",
   "execution_count": null,
   "id": "7c5d8ac3",
   "metadata": {},
   "outputs": [],
   "source": [
    "import psycopg2\n",
    "import os\n",
    "import sys\n",
    "import math\n",
    "import string\n",
    "\n",
    "f = open(\"parameter.txt\",'r')\n",
    "char = f.readline()\n",
    "\n",
    "conn = None\n",
    "input_db = sys.argv[1]\n",
    "user = os.environ.get('PGUSER')\n",
    "pwd = os.environ.get('PGPASSWORD')\n",
    "host1 = os.environ.get('PGHOST')\n",
    "port1 = os.environ.get('PGPORT')\n",
    "conn = psycopg2.connect(database = input_db,\n",
    "                        user =user,\n",
    "                        password = pwd,\n",
    "                        host = host1,\n",
    "                        port = port1)\n",
    "cur = conn.cursor()\n",
    "cur.execute(f\"select SUM(host_team_score) \\\n",
    "            from matches inner join teams on matches.host_team_id = teams.team_id \\\n",
    "            where host_team_score > guest_team_score and teams.name LIKE '{char}%'\")\n",
    "rows = cur.fetchall()\n",
    "S = rows[0][0]\n",
    "X = round(math.cos((S*10)*(math.pi/180)),2)\n",
    "print(X)\n",
    "cur.close()"
   ]
  },
  {
   "cell_type": "markdown",
   "id": "ef8ae507",
   "metadata": {},
   "source": [
    "# Practice"
   ]
  },
  {
   "cell_type": "code",
   "execution_count": 19,
   "id": "0dc8cb3c",
   "metadata": {},
   "outputs": [
    {
     "name": "stdout",
     "output_type": "stream",
     "text": [
      "Steven, All Stars\n",
      "Srihan, Thunder\n",
      "Shlok, Amigos\n",
      "Rudrash, Thunder\n",
      "Raghav, Thunder\n",
      "Paul, All Stars\n",
      "Michael, Arawali\n",
      "Manas, Thunder\n",
      "Madhav, Amigos\n",
      "Joshua, All Stars\n",
      "Jerry, All Stars\n",
      "James, Black Eagles\n",
      "George, Black Eagles\n",
      "Finley, Black Eagles\n",
      "Charles, All Stars\n",
      "Bhaskar, Thunder\n",
      "Alexander, Black Eagles\n",
      "Ahmed, Amigos\n",
      "Advik, Amigos\n",
      "Adi, Amigos\n"
     ]
    }
   ],
   "source": [
    "import psycopg2 as pg\n",
    "import os\n",
    "import sys\n",
    "\n",
    "# Setting up the connection\n",
    "conn = None\n",
    "try:\n",
    "    input_db = sys.argv[1]\n",
    "    user = os.environ.get('PGUSER')\n",
    "    pwd = os.environ.get('PGPASSWORD')\n",
    "    host1 = os.environ.get('PGHOST')\n",
    "    port1 = os.environ.get('PGPORT')\n",
    "    conn = pg.connect(database = 'FLIS',\n",
    "                        user ='postgres',\n",
    "                        password = 'idwbt1tf',\n",
    "                        host = 'localhost',\n",
    "                        port = '5430')\n",
    "except:\n",
    "    print(\"okay lol\")\n",
    "\n",
    "\n",
    "def isprime(n):\n",
    "    if n < 2:\n",
    "        return False\n",
    "    for i in range(2, (n//2)+1):\n",
    "        if n % i == 0:\n",
    "            return False\n",
    "    return True\n",
    "\n",
    "\n",
    "# creating a curson\n",
    "cur = conn.cursor()\n",
    "\n",
    "# Executing SQL using the cursor\n",
    "\n",
    "statement1 = '''\n",
    "select jersey_no\n",
    "from players'''\n",
    "\n",
    "cur.execute(statement1)\n",
    "\n",
    "rows = cur.fetchall()\n",
    "\n",
    "prime_jersey = []\n",
    "for row in rows:\n",
    "    if isprime(row[0]):\n",
    "        prime_jersey.append(row[0])\n",
    "\n",
    "statement2 = '''\n",
    "SELECT p.name, t.name\n",
    "FROM players p, teams t\n",
    "WHERE p.jersey_no IN {prime_jersey}\n",
    "and p.team_id = t.team_id\n",
    "ORDER BY p.name DESC, t.name DESC\n",
    "'''.format(prime_jersey=tuple(prime_jersey))\n",
    "\n",
    "cur.execute(statement2)\n",
    "\n",
    "\n",
    "\n",
    "rows = cur.fetchall()\n",
    "\n",
    "count = 0\n",
    "for row in rows:\n",
    "    if count == 0:\n",
    "        count = 1\n",
    "    else:\n",
    "        print(row[0] + \", \" + row[1])\n"
   ]
  },
  {
   "cell_type": "code",
   "execution_count": 3,
   "id": "d632cdf0",
   "metadata": {},
   "outputs": [
    {
     "name": "stdout",
     "output_type": "stream",
     "text": [
      "A7778\n",
      "A7779\n",
      "A7770\n",
      "A7771\n",
      "A7772\n",
      "A7773\n"
     ]
    }
   ],
   "source": [
    "import psycopg2 as pg\n",
    "\n",
    "conn = None\n",
    "\n",
    "conn = pg.connect(database = 'FLIS',\n",
    "                        user ='postgres',\n",
    "                        password = 'idwbt1tf',\n",
    "                        host = 'localhost',\n",
    "                        port = '5430')\n",
    "\n",
    "curr = conn.cursor()\n",
    "\n",
    "statement = '''\n",
    "SELECT t.team_id \n",
    "FROM teams t\n",
    "WHERE t.jersey_home_color <> t.jersey_away_color\n",
    "ORDER BY t.team_id ASC;\n",
    "'''\n",
    "curr.execute(statement)\n",
    "\n",
    "def alpha_encoder(s):\n",
    "    alpha = 'ABCDEFGHIJKLMNOPQRSTUVWXYZ'\n",
    "    index = alpha.index(s)\n",
    "    return alpha[((index+7)%26)]\n",
    "\n",
    "def num_encoder(n):\n",
    "    return (n+7)%10\n",
    "\n",
    "    \n",
    "rows = curr.fetchall()\n",
    "\n",
    "\n",
    "for row in rows:\n",
    "    alpha = 'ABCDEFGHIJKLMNOPQRSTUVWXYZ'\n",
    "    output = ''\n",
    "    for i in row[0]:\n",
    "        if i in alpha:\n",
    "            cipher = alpha_encoder(i)\n",
    "            output += cipher\n",
    "        else:\n",
    "            cipher = num_encoder(int(i))\n",
    "            output += str(cipher)\n",
    "    print(output)\n"
   ]
  },
  {
   "cell_type": "code",
   "execution_count": null,
   "outputs": [],
   "source": [],
   "metadata": {
    "collapsed": false,
    "pycharm": {
     "name": "#%%\n"
    }
   }
  },
  {
   "cell_type": "markdown",
   "id": "dd5edf47",
   "metadata": {
    "pycharm": {
     "name": "#%% md\n"
    }
   },
   "source": [
    "# Oh wow"
   ]
  },
  {
   "cell_type": "code",
   "execution_count": 4,
   "outputs": [],
   "source": [
    "database = 'FLIS'\n",
    "user = 'postgres'\n",
    "password = 'idwbt1tf'\n",
    "port = '5430'\n",
    "host = 'localhost'"
   ],
   "metadata": {
    "collapsed": false,
    "pycharm": {
     "name": "#%%\n"
    }
   }
  },
  {
   "cell_type": "code",
   "execution_count": 14,
   "outputs": [
    {
     "name": "stdout",
     "output_type": "stream",
     "text": [
      "T0001\t\t\t\t\t\tAmigos\t\t\t\t\t\tLondon\t\t\t\t\t\tEmirates Stadium\t\t\t\t\t\tRed\n",
      "T0002\t\t\t\t\t\tThunder\t\t\t\t\t\tleeds\t\t\t\t\t\tVilla Park\t\t\t\t\t\tWhite\n",
      "T0003\t\t\t\t\t\tRainbow\t\t\t\t\t\tMoscow\t\t\t\t\t\tCity Park\t\t\t\t\t\tBlack\n",
      "T0004\t\t\t\t\t\tBlack Eagles\t\t\t\t\t\tNew York\t\t\t\t\t\tGriffin Prk\t\t\t\t\t\tOrange\n",
      "T0005\t\t\t\t\t\tAll Stars\t\t\t\t\t\tPune\t\t\t\t\t\tM S Maidan\t\t\t\t\t\tYellow\n",
      "T0006\t\t\t\t\t\tArawali\t\t\t\t\t\tHyderabad\t\t\t\t\t\tJ K Park\t\t\t\t\t\tPink\n"
     ]
    }
   ],
   "source": [
    "import psycopg2 as pg\n",
    "\n",
    "conn = pg.connect(database=database,\n",
    "                  user=user,\n",
    "                  password=password,\n",
    "                  port=port,\n",
    "                  host=host)\n",
    "\n",
    "curr = conn.cursor()\n",
    "\n",
    "statement = \"select * from teams\"\n",
    "\n",
    "curr.execute(statement)\n",
    "\n",
    "rows = curr.fetchall()\n",
    "\n",
    "for row in rows:\n",
    "    print(row[0], row[1], row[2], row[3], row[4], sep=\"\\t\\t\\t\\t\\t\\t\")\n",
    "\n",
    "curr.close()\n",
    "conn.close()"
   ],
   "metadata": {
    "collapsed": false,
    "pycharm": {
     "name": "#%%\n"
    }
   }
  },
  {
   "cell_type": "code",
   "execution_count": null,
   "outputs": [],
   "source": [],
   "metadata": {
    "collapsed": false,
    "pycharm": {
     "name": "#%%\n"
    }
   }
  }
 ],
 "metadata": {
  "kernelspec": {
   "display_name": "Python 3 (ipykernel)",
   "language": "python",
   "name": "python3"
  },
  "language_info": {
   "codemirror_mode": {
    "name": "ipython",
    "version": 3
   },
   "file_extension": ".py",
   "mimetype": "text/x-python",
   "name": "python",
   "nbconvert_exporter": "python",
   "pygments_lexer": "ipython3",
   "version": "3.9.10"
  },
  "toc": {
   "base_numbering": 1,
   "nav_menu": {},
   "number_sections": true,
   "sideBar": true,
   "skip_h1_title": false,
   "title_cell": "Table of Contents",
   "title_sidebar": "Contents",
   "toc_cell": false,
   "toc_position": {},
   "toc_section_display": true,
   "toc_window_display": false
  },
  "varInspector": {
   "cols": {
    "lenName": 16,
    "lenType": 16,
    "lenVar": 40
   },
   "kernels_config": {
    "python": {
     "delete_cmd_postfix": "",
     "delete_cmd_prefix": "del ",
     "library": "var_list.py",
     "varRefreshCmd": "print(var_dic_list())"
    },
    "r": {
     "delete_cmd_postfix": ") ",
     "delete_cmd_prefix": "rm(",
     "library": "var_list.r",
     "varRefreshCmd": "cat(var_dic_list()) "
    }
   },
   "types_to_exclude": [
    "module",
    "function",
    "builtin_function_or_method",
    "instance",
    "_Feature"
   ],
   "window_display": false
  }
 },
 "nbformat": 4,
 "nbformat_minor": 5
}
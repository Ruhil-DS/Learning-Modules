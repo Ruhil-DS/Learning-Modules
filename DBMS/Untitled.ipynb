{
 "cells": [
  {
   "cell_type": "markdown",
   "id": "4c7ff6c8",
   "metadata": {
    "heading_collapsed": true
   },
   "source": [
    "# secret information"
   ]
  },
  {
   "cell_type": "code",
   "execution_count": 1,
   "id": "3532ca99",
   "metadata": {
    "hidden": true
   },
   "outputs": [],
   "source": [
    "database = 'FLIS'\n",
    "user = 'user'\n",
    "pswd = 'idwbt1tf'\n",
    "host = 'localhost'\n",
    "port = '5430'\n"
   ]
  },
  {
   "cell_type": "markdown",
   "id": "f1e06e56",
   "metadata": {},
   "source": [
    "# Public information\n"
   ]
  },
  {
   "cell_type": "code",
   "execution_count": 3,
   "id": "b6fd7395",
   "metadata": {},
   "outputs": [],
   "source": [
    "import psycopg2 as pg"
   ]
  },
  {
   "cell_type": "markdown",
   "id": "fa51bf71",
   "metadata": {},
   "source": [
    "1 - connection\n",
    "\n",
    "2 - cursor\n",
    "\n",
    "3 - using cursor, execute statement\n",
    "\n",
    "4 - fetch the data\n",
    "\n",
    "5 - close connection"
   ]
  },
  {
   "cell_type": "code",
   "execution_count": 21,
   "id": "069ca295",
   "metadata": {},
   "outputs": [],
   "source": [
    "conn = pg.connect(database='FLIS',\n",
    "                 user='postgres',\n",
    "                 password=password,\n",
    "                 host = 'localhost',\n",
    "                 port='5430'\n",
    "                 )"
   ]
  },
  {
   "cell_type": "code",
   "execution_count": 22,
   "id": "4a173bc7",
   "metadata": {},
   "outputs": [],
   "source": [
    "curr = conn.cursor()"
   ]
  },
  {
   "cell_type": "code",
   "execution_count": 23,
   "id": "66acf9a3",
   "metadata": {},
   "outputs": [],
   "source": [
    "statement = '''\n",
    "SELECT *\n",
    "FROM teams\n",
    "'''"
   ]
  },
  {
   "cell_type": "code",
   "execution_count": 27,
   "id": "e1641fed",
   "metadata": {},
   "outputs": [],
   "source": [
    "zyz = curr.execute(statement)"
   ]
  },
  {
   "cell_type": "code",
   "execution_count": 28,
   "id": "282c7576",
   "metadata": {},
   "outputs": [],
   "source": [
    "rows = curr.fetchall()\n"
   ]
  },
  {
   "cell_type": "code",
   "execution_count": 29,
   "id": "5bc42cfd",
   "metadata": {},
   "outputs": [
    {
     "name": "stdout",
     "output_type": "stream",
     "text": [
      "T0001 Amigos London Emirates Stadium Red Blue\n",
      "T0002 Thunder leeds Villa Park White Red\n",
      "T0003 Rainbow Moscow City Park Black White\n",
      "T0004 Black Eagles New York Griffin Prk Orange Black\n",
      "T0005 All Stars Pune M S Maidan Yellow Pink\n",
      "T0006 Arawali Hyderabad J K Park Pink Yellow\n"
     ]
    }
   ],
   "source": [
    "for row in rows:\n",
    "    print(row[0], row[1],row[2], row[3], row[4], row[5])"
   ]
  },
  {
   "cell_type": "code",
   "execution_count": 30,
   "id": "9e184e9b",
   "metadata": {},
   "outputs": [],
   "source": [
    "curr.close()\n",
    "conn.close()"
   ]
  },
  {
   "cell_type": "code",
   "execution_count": null,
   "id": "3e33152f",
   "metadata": {},
   "outputs": [],
   "source": [
    "import sys\n",
    "import os\n",
    "import psycopg2 as pg    \n",
    "\n",
    "input_db = sys.argv[1]\n",
    "user = os.environ.get('PGUSER')\n",
    "pwd = os.environ.get('PGPASSWORD')\n",
    "host1 = os.environ.get('PGHOST')\n",
    "port1 = os.environ.get('PGPORT')"
   ]
  },
  {
   "cell_type": "markdown",
   "id": "02ddc30d",
   "metadata": {},
   "source": [
    "# Okay report\n"
   ]
  },
  {
   "cell_type": "code",
   "execution_count": 3,
   "id": "f1e2a670",
   "metadata": {},
   "outputs": [],
   "source": [
    "import psycopg2 as pg "
   ]
  },
  {
   "cell_type": "markdown",
   "id": "2464adaa",
   "metadata": {},
   "source": [
    "1 - connection\n",
    "\n",
    "2 - cursor\n",
    "\n",
    "3 - using cursor, execute statement\n",
    "\n",
    "4 - fetch the data\n",
    "\n",
    "5 - close connection"
   ]
  },
  {
   "cell_type": "code",
   "execution_count": 22,
   "id": "3a28eda6",
   "metadata": {},
   "outputs": [],
   "source": [
    "\n",
    "conn = pg.connect(database='FLIS',\n",
    "                 host='localhost',\n",
    "                 user='postgres',\n",
    "                 password=pswd,\n",
    "                 port='5430')\n"
   ]
  },
  {
   "cell_type": "code",
   "execution_count": 23,
   "id": "25dc10d7",
   "metadata": {},
   "outputs": [],
   "source": [
    "curr = conn.cursor()"
   ]
  },
  {
   "cell_type": "code",
   "execution_count": 24,
   "id": "2c4257e5",
   "metadata": {},
   "outputs": [],
   "source": [
    "\n",
    "statement = '''\n",
    "SELECT *\n",
    "FROM teams\n",
    "'''"
   ]
  },
  {
   "cell_type": "code",
   "execution_count": 25,
   "id": "5ccca78b",
   "metadata": {},
   "outputs": [],
   "source": [
    "curr.execute(statement)"
   ]
  },
  {
   "cell_type": "code",
   "execution_count": 28,
   "id": "c7ab2a19",
   "metadata": {},
   "outputs": [],
   "source": [
    "rows = curr.fetchall()"
   ]
  },
  {
   "cell_type": "code",
   "execution_count": 29,
   "id": "b222fb7b",
   "metadata": {},
   "outputs": [],
   "source": [
    "for row in rows:\n",
    "    print(row[0], row[1], row[2])"
   ]
  },
  {
   "cell_type": "code",
   "execution_count": 30,
   "id": "0c810bbd",
   "metadata": {},
   "outputs": [],
   "source": [
    "curr.close()\n",
    "conn.close()"
   ]
  },
  {
   "cell_type": "code",
   "execution_count": null,
   "id": "59db2c84",
   "metadata": {},
   "outputs": [],
   "source": []
  }
 ],
 "metadata": {
  "kernelspec": {
   "display_name": "Python 3 (ipykernel)",
   "language": "python",
   "name": "python3"
  },
  "language_info": {
   "codemirror_mode": {
    "name": "ipython",
    "version": 3
   },
   "file_extension": ".py",
   "mimetype": "text/x-python",
   "name": "python",
   "nbconvert_exporter": "python",
   "pygments_lexer": "ipython3",
   "version": "3.9.10"
  },
  "toc": {
   "base_numbering": 1,
   "nav_menu": {},
   "number_sections": true,
   "sideBar": true,
   "skip_h1_title": false,
   "title_cell": "Table of Contents",
   "title_sidebar": "Contents",
   "toc_cell": false,
   "toc_position": {},
   "toc_section_display": true,
   "toc_window_display": false
  },
  "varInspector": {
   "cols": {
    "lenName": 16,
    "lenType": 16,
    "lenVar": 40
   },
   "kernels_config": {
    "python": {
     "delete_cmd_postfix": "",
     "delete_cmd_prefix": "del ",
     "library": "var_list.py",
     "varRefreshCmd": "print(var_dic_list())"
    },
    "r": {
     "delete_cmd_postfix": ") ",
     "delete_cmd_prefix": "rm(",
     "library": "var_list.r",
     "varRefreshCmd": "cat(var_dic_list()) "
    }
   },
   "types_to_exclude": [
    "module",
    "function",
    "builtin_function_or_method",
    "instance",
    "_Feature"
   ],
   "window_display": false
  }
 },
 "nbformat": 4,
 "nbformat_minor": 5
}

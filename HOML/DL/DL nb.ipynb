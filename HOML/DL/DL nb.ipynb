{
 "cells": [
  {
   "cell_type": "code",
   "execution_count": 2,
   "id": "c857134d",
   "metadata": {},
   "outputs": [
    {
     "ename": "ModuleNotFoundError",
     "evalue": "No module named 'tensorflow'",
     "output_type": "error",
     "traceback": [
      "\u001b[0;31m---------------------------------------------------------------------------\u001b[0m",
      "\u001b[0;31mModuleNotFoundError\u001b[0m                       Traceback (most recent call last)",
      "Input \u001b[0;32mIn [2]\u001b[0m, in \u001b[0;36m<module>\u001b[0;34m\u001b[0m\n\u001b[0;32m----> 1\u001b[0m \u001b[38;5;28;01mimport\u001b[39;00m \u001b[38;5;21;01mtensorflow\u001b[39;00m \u001b[38;5;28;01mas\u001b[39;00m \u001b[38;5;21;01mtf\u001b[39;00m\n",
      "\u001b[0;31mModuleNotFoundError\u001b[0m: No module named 'tensorflow'"
     ]
    }
   ],
   "source": [
    "import tensorflow as tf"
   ]
  },
  {
   "cell_type": "code",
   "execution_count": 7,
   "id": "259cbc9f",
   "metadata": {},
   "outputs": [],
   "source": [
    "import tensorflow.keras as keras"
   ]
  },
  {
   "cell_type": "code",
   "execution_count": 12,
   "id": "6f16aa83",
   "metadata": {},
   "outputs": [
    {
     "data": {
      "text/plain": [
       "'2.6.0'"
      ]
     },
     "execution_count": 12,
     "metadata": {},
     "output_type": "execute_result"
    }
   ],
   "source": [
    "keras.__version__"
   ]
  },
  {
   "cell_type": "code",
   "execution_count": 8,
   "id": "9fd3f177",
   "metadata": {},
   "outputs": [],
   "source": [
    "fashion_mnist = keras.datasets.fashion_mnist"
   ]
  },
  {
   "cell_type": "code",
   "execution_count": 13,
   "id": "85b663ac",
   "metadata": {},
   "outputs": [
    {
     "data": {
      "text/plain": [
       "<module 'keras.api._v2.keras.datasets.fashion_mnist' from '/Users/pushpakruhil/opt/anaconda3/lib/python3.8/site-packages/keras/api/_v2/keras/datasets/fashion_mnist/__init__.py'>"
      ]
     },
     "execution_count": 13,
     "metadata": {},
     "output_type": "execute_result"
    }
   ],
   "source": [
    "fashion_mnist"
   ]
  },
  {
   "cell_type": "code",
   "execution_count": 15,
   "id": "63d16454",
   "metadata": {},
   "outputs": [],
   "source": [
    "(x_train_full, y_train_full), (x_test, y_test) = fashion_mnist.load_data()"
   ]
  },
  {
   "cell_type": "markdown",
   "id": "7698dd23",
   "metadata": {},
   "source": [
    "Here the data has already been shaped unlike the mnist data we previously used.\n",
    "\n",
    "each img is a 28x28 array\n",
    "\n",
    "also, dtype is int, instead of float"
   ]
  },
  {
   "cell_type": "code",
   "execution_count": 20,
   "id": "618fd780",
   "metadata": {},
   "outputs": [
    {
     "data": {
      "text/plain": [
       "(28, 28)"
      ]
     },
     "execution_count": 20,
     "metadata": {},
     "output_type": "execute_result"
    }
   ],
   "source": [
    "x_train_full[1].shape"
   ]
  },
  {
   "cell_type": "markdown",
   "id": "5b0a5f57",
   "metadata": {},
   "source": [
    "splitting the cross validation set from the training set"
   ]
  },
  {
   "cell_type": "code",
   "execution_count": 45,
   "id": "0f7e2bc5",
   "metadata": {},
   "outputs": [],
   "source": [
    "# splitting the CV set from the training set\n",
    "\n",
    "x_valid, x_train = x_train_full[:5000]/255, x_train_full[5000:]/255\n",
    "# Normalising the data between 0 and 1\n",
    "y_valid, y_train = y_train_full[:5000], y_train_full[5000:]"
   ]
  },
  {
   "cell_type": "code",
   "execution_count": 26,
   "id": "e61d53e8",
   "metadata": {},
   "outputs": [],
   "source": [
    "import matplotlib.pyplot as plt\n"
   ]
  },
  {
   "cell_type": "markdown",
   "id": "2c9afacb",
   "metadata": {},
   "source": [
    "displaying the image"
   ]
  },
  {
   "cell_type": "code",
   "execution_count": 108,
   "id": "46f17300",
   "metadata": {},
   "outputs": [
    {
     "data": {
      "text/plain": [
       "<matplotlib.image.AxesImage at 0x7fccc8cbd2e0>"
      ]
     },
     "execution_count": 108,
     "metadata": {},
     "output_type": "execute_result"
    },
    {
     "data": {
      "image/png": "[encoded data removed]",
      "text/plain": [
       "<Figure size 432x288 with 1 Axes>"
      ]
     },
     "metadata": {},
     "output_type": "display_data"
    }
   ],
   "source": [
    "plt.imshow(x_train_full[100], cmap= 'Blues' ) "
   ]
  },
  {
   "cell_type": "code",
   "execution_count": 49,
   "id": "2387cc55",
   "metadata": {},
   "outputs": [],
   "source": [
    "class_names = [\n",
    "    'T-SHIRT/TOP',\n",
    "    'TROUSER',\n",
    "    'PULLOVER',\n",
    "    'DRESS',\n",
    "    'COAT',\n",
    "    'SANDAL',\n",
    "    'SHIRT',\n",
    "    'SNEAKER',\n",
    "    'BAG',\n",
    "    'ANKLE BOOT'\n",
    "]"
   ]
  },
  {
   "cell_type": "code",
   "execution_count": 50,
   "id": "f9d63bb8",
   "metadata": {},
   "outputs": [
    {
     "data": {
      "text/plain": [
       "'T-SHIRT/TOP'"
      ]
     },
     "execution_count": 50,
     "metadata": {},
     "output_type": "execute_result"
    }
   ],
   "source": [
    "class_names[y_train[10]]"
   ]
  },
  {
   "cell_type": "markdown",
   "id": "357dcc91",
   "metadata": {
    "heading_collapsed": true
   },
   "source": [
    "# NN Classification model - Sequential API"
   ]
  },
  {
   "cell_type": "markdown",
   "id": "f53be6d8",
   "metadata": {
    "heading_collapsed": true,
    "hidden": true
   },
   "source": [
    "## Creating the model\n",
    "\n",
    "------\n",
    "equation - > \n",
    "$$H_{W,b}(X) = \\phi(XW + b)$$\n",
    "\n",
    "-----\n",
    "https://datascience.stackexchange.com/questions/37357/why-is-the-softmax-function-often-used-as-activation-function-of-output-layer-in"
   ]
  },
  {
   "cell_type": "code",
   "execution_count": 52,
   "id": "45078380",
   "metadata": {
    "hidden": true
   },
   "outputs": [],
   "source": [
    "model = keras.models.Sequential()\n",
    "# Simplest keras model, Sequential model.\n",
    "# Composed of a single stack of layers connected sequentially. [] ---> [] ---> [] ---> []\n",
    "\n",
    "\n",
    "model.add(keras.layers.Flatten(input_shape=(28,28)))\n",
    "# Flatten layer whose role is to convert each input image into 1D array. \n",
    "# Equivalent to using .reshape(-1,1)\n",
    "\n",
    "\n",
    "model.add(keras.layers.Dense(300, activation='relu'))\n",
    "# A dense hidden layer added with 300 neurons\n",
    "# Each dense layer manages its own weight between the neurons and their inputs.\\\n",
    "# also manages a vector of bias vectors (1 per neuron)\n",
    "# When input is provided, it computes the output as given in the equation above (in the heading)\n",
    "# ReLu = rectified linear unit\n",
    "\n",
    "\n",
    "model.add(keras.layers.Dense(100, activation='relu'))\n",
    "# another dense later with 100 neurons\n",
    "\n",
    "model.add(keras.layers.Dense(10, activation='softmax'))\n",
    "# a dense layer with 10 neurons, which basically represents 1 for each class from class_names\n",
    "# softmax is used as the activation here because the classes are exclusive.\n",
    "# softmax is used because .... (check link)"
   ]
  },
  {
   "cell_type": "code",
   "execution_count": 65,
   "id": "f1675e02",
   "metadata": {
    "hidden": true
   },
   "outputs": [],
   "source": [
    "# Another approach would be to pass a list of layers to sequential api while creating the model\n",
    "# instead of writing each layere sepeately.\n",
    "\n",
    "model = keras.models.Sequential([\n",
    "    (keras.layers.Flatten(input_shape=(28,28))),\n",
    "    (keras.layers.Dense(300, activation='relu')),\n",
    "    (keras.layers.Dense(100, activation='relu')),\n",
    "    (keras.layers.Dense(10, activation='softmax'))\n",
    "])"
   ]
  },
  {
   "cell_type": "code",
   "execution_count": 66,
   "id": "a9e9bcbc",
   "metadata": {
    "hidden": true
   },
   "outputs": [
    {
     "name": "stdout",
     "output_type": "stream",
     "text": [
      "Model: \"sequential\"\n",
      "_________________________________________________________________\n",
      "Layer (type)                 Output Shape              Param #   \n",
      "=================================================================\n",
      "flatten (Flatten)            (None, 784)               0         \n",
      "_________________________________________________________________\n",
      "dense (Dense)                (None, 300)               235500    \n",
      "_________________________________________________________________\n",
      "dense_1 (Dense)              (None, 100)               30100     \n",
      "_________________________________________________________________\n",
      "dense_2 (Dense)              (None, 10)                1010      \n",
      "=================================================================\n",
      "Total params: 266,610\n",
      "Trainable params: 266,610\n",
      "Non-trainable params: 0\n",
      "_________________________________________________________________\n"
     ]
    }
   ],
   "source": [
    "model.summary()"
   ]
  },
  {
   "cell_type": "code",
   "execution_count": 67,
   "id": "07a9830c",
   "metadata": {
    "hidden": true
   },
   "outputs": [],
   "source": [
    "# keras.backend.clear_session()\n",
    "# command to clear any created model"
   ]
  },
  {
   "cell_type": "code",
   "execution_count": 68,
   "id": "5525db09",
   "metadata": {
    "hidden": true
   },
   "outputs": [
    {
     "data": {
      "text/plain": [
       "235500"
      ]
     },
     "execution_count": 68,
     "metadata": {},
     "output_type": "execute_result"
    }
   ],
   "source": [
    "# PARAMETERS OF 2nd LAYER\n",
    "\n",
    "(784*300) + 300 \n",
    "# 784 from previous layer, 300 neurons, 300 bias terms"
   ]
  },
  {
   "cell_type": "code",
   "execution_count": 69,
   "id": "dd3a97c9",
   "metadata": {
    "hidden": true
   },
   "outputs": [
    {
     "data": {
      "text/plain": [
       "[<keras.layers.core.Flatten at 0x7fccec7eae20>,\n",
       " <keras.layers.core.Dense at 0x7fccebf700d0>,\n",
       " <keras.layers.core.Dense at 0x7fccec7d8910>,\n",
       " <keras.layers.core.Dense at 0x7fccebe19b80>]"
      ]
     },
     "execution_count": 69,
     "metadata": {},
     "output_type": "execute_result"
    }
   ],
   "source": [
    "model.layers"
   ]
  },
  {
   "cell_type": "code",
   "execution_count": 70,
   "id": "66e0c379",
   "metadata": {
    "hidden": true
   },
   "outputs": [
    {
     "data": {
      "text/plain": [
       "'dense'"
      ]
     },
     "execution_count": 70,
     "metadata": {},
     "output_type": "execute_result"
    }
   ],
   "source": [
    "hidden1 = model.layers[1]\n",
    "hidden1.name"
   ]
  },
  {
   "cell_type": "code",
   "execution_count": 73,
   "id": "287e90c7",
   "metadata": {
    "hidden": true
   },
   "outputs": [
    {
     "data": {
      "text/plain": [
       "True"
      ]
     },
     "execution_count": 73,
     "metadata": {},
     "output_type": "execute_result"
    }
   ],
   "source": [
    "model.get_layer('dense') is hidden1"
   ]
  },
  {
   "cell_type": "code",
   "execution_count": 74,
   "id": "464f4543",
   "metadata": {
    "hidden": true
   },
   "outputs": [],
   "source": [
    "weights, biases = hidden1.get_weights()"
   ]
  },
  {
   "cell_type": "code",
   "execution_count": 82,
   "id": "30c42f44",
   "metadata": {
    "hidden": true
   },
   "outputs": [
    {
     "data": {
      "text/plain": [
       "array([[ 0.04152402, -0.00277881,  0.06183192, ...,  0.03675502,\n",
       "         0.03472704, -0.00126877],\n",
       "       [ 0.03728353, -0.00712388, -0.01525171, ..., -0.03072106,\n",
       "         0.06411213, -0.07116213],\n",
       "       [-0.00015687, -0.0649602 , -0.06914236, ..., -0.07139722,\n",
       "         0.05623753, -0.05888776],\n",
       "       ...,\n",
       "       [-0.04850948,  0.03752149, -0.00818936, ..., -0.03363796,\n",
       "         0.00987049, -0.00488213],\n",
       "       [ 0.00718229,  0.07312204, -0.04285061, ..., -0.06778914,\n",
       "        -0.04553389,  0.00957724],\n",
       "       [-0.04682749,  0.03659555,  0.04777721, ...,  0.00554729,\n",
       "        -0.03287754,  0.04472458]], dtype=float32)"
      ]
     },
     "execution_count": 82,
     "metadata": {},
     "output_type": "execute_result"
    }
   ],
   "source": [
    "weights\n",
    "#random initialisation of weights to break the symmetry"
   ]
  },
  {
   "cell_type": "code",
   "execution_count": 85,
   "id": "8c18c95f",
   "metadata": {
    "hidden": true
   },
   "outputs": [
    {
     "data": {
      "text/plain": [
       "(784, 300)"
      ]
     },
     "execution_count": 85,
     "metadata": {},
     "output_type": "execute_result"
    }
   ],
   "source": [
    "weights.shape"
   ]
  },
  {
   "cell_type": "code",
   "execution_count": 83,
   "id": "88dbead2",
   "metadata": {
    "hidden": true
   },
   "outputs": [
    {
     "data": {
      "text/plain": [
       "array([0., 0., 0., 0., 0., 0., 0., 0., 0., 0., 0., 0., 0., 0., 0., 0., 0.,\n",
       "       0., 0., 0., 0., 0., 0., 0., 0., 0., 0., 0., 0., 0., 0., 0., 0., 0.,\n",
       "       0., 0., 0., 0., 0., 0., 0., 0., 0., 0., 0., 0., 0., 0., 0., 0., 0.,\n",
       "       0., 0., 0., 0., 0., 0., 0., 0., 0., 0., 0., 0., 0., 0., 0., 0., 0.,\n",
       "       0., 0., 0., 0., 0., 0., 0., 0., 0., 0., 0., 0., 0., 0., 0., 0., 0.,\n",
       "       0., 0., 0., 0., 0., 0., 0., 0., 0., 0., 0., 0., 0., 0., 0., 0., 0.,\n",
       "       0., 0., 0., 0., 0., 0., 0., 0., 0., 0., 0., 0., 0., 0., 0., 0., 0.,\n",
       "       0., 0., 0., 0., 0., 0., 0., 0., 0., 0., 0., 0., 0., 0., 0., 0., 0.,\n",
       "       0., 0., 0., 0., 0., 0., 0., 0., 0., 0., 0., 0., 0., 0., 0., 0., 0.,\n",
       "       0., 0., 0., 0., 0., 0., 0., 0., 0., 0., 0., 0., 0., 0., 0., 0., 0.,\n",
       "       0., 0., 0., 0., 0., 0., 0., 0., 0., 0., 0., 0., 0., 0., 0., 0., 0.,\n",
       "       0., 0., 0., 0., 0., 0., 0., 0., 0., 0., 0., 0., 0., 0., 0., 0., 0.,\n",
       "       0., 0., 0., 0., 0., 0., 0., 0., 0., 0., 0., 0., 0., 0., 0., 0., 0.,\n",
       "       0., 0., 0., 0., 0., 0., 0., 0., 0., 0., 0., 0., 0., 0., 0., 0., 0.,\n",
       "       0., 0., 0., 0., 0., 0., 0., 0., 0., 0., 0., 0., 0., 0., 0., 0., 0.,\n",
       "       0., 0., 0., 0., 0., 0., 0., 0., 0., 0., 0., 0., 0., 0., 0., 0., 0.,\n",
       "       0., 0., 0., 0., 0., 0., 0., 0., 0., 0., 0., 0., 0., 0., 0., 0., 0.,\n",
       "       0., 0., 0., 0., 0., 0., 0., 0., 0., 0., 0.], dtype=float32)"
      ]
     },
     "execution_count": 83,
     "metadata": {},
     "output_type": "execute_result"
    }
   ],
   "source": [
    "biases"
   ]
  },
  {
   "cell_type": "code",
   "execution_count": 84,
   "id": "a1298bc8",
   "metadata": {
    "hidden": true
   },
   "outputs": [
    {
     "data": {
      "text/plain": [
       "(300,)"
      ]
     },
     "execution_count": 84,
     "metadata": {},
     "output_type": "execute_result"
    }
   ],
   "source": [
    "biases.shape"
   ]
  },
  {
   "cell_type": "markdown",
   "id": "32a56eac",
   "metadata": {
    "heading_collapsed": true,
    "hidden": true
   },
   "source": [
    "## Compiling the model "
   ]
  },
  {
   "cell_type": "code",
   "execution_count": 89,
   "id": "3bfd3291",
   "metadata": {
    "hidden": true
   },
   "outputs": [],
   "source": [
    "# Compiling the model\n",
    "# We need to compile the model to specify the loss function and the optimiser to use\n",
    "\n",
    "model.compile(loss=\"sparse_categorical_crossentropy\",\n",
    "             optimizer='sgd',\n",
    "             metrics='accuracy')"
   ]
  },
  {
   "cell_type": "markdown",
   "id": "b58cd349",
   "metadata": {
    "heading_collapsed": true,
    "hidden": true
   },
   "source": [
    "## fitting the data"
   ]
  },
  {
   "cell_type": "code",
   "execution_count": 90,
   "id": "4bf2b61b",
   "metadata": {
    "hidden": true
   },
   "outputs": [
    {
     "name": "stdout",
     "output_type": "stream",
     "text": [
      "Epoch 1/35\n",
      "1719/1719 [==============================] - 6s 3ms/step - loss: 0.7039 - accuracy: 0.7714 - val_loss: 0.5252 - val_accuracy: 0.8186\n",
      "Epoch 2/35\n",
      "1719/1719 [==============================] - 5s 3ms/step - loss: 0.4846 - accuracy: 0.8309 - val_loss: 0.4466 - val_accuracy: 0.8508\n",
      "Epoch 3/35\n",
      "1719/1719 [==============================] - 5s 3ms/step - loss: 0.4407 - accuracy: 0.8461 - val_loss: 0.4102 - val_accuracy: 0.8612\n",
      "Epoch 4/35\n",
      "1719/1719 [==============================] - 5s 3ms/step - loss: 0.4145 - accuracy: 0.8540 - val_loss: 0.3931 - val_accuracy: 0.8650\n",
      "Epoch 5/35\n",
      "1719/1719 [==============================] - 5s 3ms/step - loss: 0.3946 - accuracy: 0.8622 - val_loss: 0.3745 - val_accuracy: 0.8744\n",
      "Epoch 6/35\n",
      "1719/1719 [==============================] - 5s 3ms/step - loss: 0.3786 - accuracy: 0.8664 - val_loss: 0.3630 - val_accuracy: 0.8746\n",
      "Epoch 7/35\n",
      "1719/1719 [==============================] - 5s 3ms/step - loss: 0.3654 - accuracy: 0.8700 - val_loss: 0.3737 - val_accuracy: 0.8688\n",
      "Epoch 8/35\n",
      "1719/1719 [==============================] - 5s 3ms/step - loss: 0.3543 - accuracy: 0.8759 - val_loss: 0.3567 - val_accuracy: 0.8764\n",
      "Epoch 9/35\n",
      "1719/1719 [==============================] - 5s 3ms/step - loss: 0.3445 - accuracy: 0.8788 - val_loss: 0.3739 - val_accuracy: 0.8682\n",
      "Epoch 10/35\n",
      "1719/1719 [==============================] - 5s 3ms/step - loss: 0.3348 - accuracy: 0.8815 - val_loss: 0.3591 - val_accuracy: 0.8716\n",
      "Epoch 11/35\n",
      "1719/1719 [==============================] - 5s 3ms/step - loss: 0.3258 - accuracy: 0.8841 - val_loss: 0.3386 - val_accuracy: 0.8790\n",
      "Epoch 12/35\n",
      "1719/1719 [==============================] - 5s 3ms/step - loss: 0.3193 - accuracy: 0.8859 - val_loss: 0.3369 - val_accuracy: 0.8792\n",
      "Epoch 13/35\n",
      "1719/1719 [==============================] - 5s 3ms/step - loss: 0.3108 - accuracy: 0.8903 - val_loss: 0.3249 - val_accuracy: 0.8844\n",
      "Epoch 14/35\n",
      "1719/1719 [==============================] - 5s 3ms/step - loss: 0.3041 - accuracy: 0.8905 - val_loss: 0.3282 - val_accuracy: 0.8838\n",
      "Epoch 15/35\n",
      "1719/1719 [==============================] - 5s 3ms/step - loss: 0.2980 - accuracy: 0.8927 - val_loss: 0.3424 - val_accuracy: 0.8792\n",
      "Epoch 16/35\n",
      "1719/1719 [==============================] - 5s 3ms/step - loss: 0.2922 - accuracy: 0.8953 - val_loss: 0.3283 - val_accuracy: 0.8864\n",
      "Epoch 17/35\n",
      "1719/1719 [==============================] - 5s 3ms/step - loss: 0.2870 - accuracy: 0.8973 - val_loss: 0.3264 - val_accuracy: 0.8866\n",
      "Epoch 18/35\n",
      "1719/1719 [==============================] - 6s 3ms/step - loss: 0.2807 - accuracy: 0.8989 - val_loss: 0.3158 - val_accuracy: 0.8890\n",
      "Epoch 19/35\n",
      "1719/1719 [==============================] - 6s 4ms/step - loss: 0.2754 - accuracy: 0.9011 - val_loss: 0.3234 - val_accuracy: 0.8816\n",
      "Epoch 20/35\n",
      "1719/1719 [==============================] - 6s 4ms/step - loss: 0.2705 - accuracy: 0.9034 - val_loss: 0.3018 - val_accuracy: 0.8914\n",
      "Epoch 21/35\n",
      "1719/1719 [==============================] - 6s 4ms/step - loss: 0.2658 - accuracy: 0.9038 - val_loss: 0.3073 - val_accuracy: 0.8882\n",
      "Epoch 22/35\n",
      "1719/1719 [==============================] - 6s 3ms/step - loss: 0.2606 - accuracy: 0.9068 - val_loss: 0.3153 - val_accuracy: 0.8912\n",
      "Epoch 23/35\n",
      "1719/1719 [==============================] - 6s 3ms/step - loss: 0.2566 - accuracy: 0.9076 - val_loss: 0.3112 - val_accuracy: 0.8852\n",
      "Epoch 24/35\n",
      "1719/1719 [==============================] - 5s 3ms/step - loss: 0.2514 - accuracy: 0.9091 - val_loss: 0.2996 - val_accuracy: 0.8956\n",
      "Epoch 25/35\n",
      "1719/1719 [==============================] - 5s 3ms/step - loss: 0.2472 - accuracy: 0.9113 - val_loss: 0.2945 - val_accuracy: 0.8970\n",
      "Epoch 26/35\n",
      "1719/1719 [==============================] - 5s 3ms/step - loss: 0.2447 - accuracy: 0.9121 - val_loss: 0.2997 - val_accuracy: 0.8924\n",
      "Epoch 27/35\n",
      "1719/1719 [==============================] - 5s 3ms/step - loss: 0.2387 - accuracy: 0.9142 - val_loss: 0.3203 - val_accuracy: 0.8842\n",
      "Epoch 28/35\n",
      "1719/1719 [==============================] - 5s 3ms/step - loss: 0.2363 - accuracy: 0.9149 - val_loss: 0.2967 - val_accuracy: 0.8946\n",
      "Epoch 29/35\n",
      "1719/1719 [==============================] - 6s 3ms/step - loss: 0.2320 - accuracy: 0.9169 - val_loss: 0.3112 - val_accuracy: 0.8856\n",
      "Epoch 30/35\n",
      "1719/1719 [==============================] - 6s 4ms/step - loss: 0.2280 - accuracy: 0.9176 - val_loss: 0.2944 - val_accuracy: 0.8954\n",
      "Epoch 31/35\n",
      "1719/1719 [==============================] - 6s 3ms/step - loss: 0.2245 - accuracy: 0.9189 - val_loss: 0.3109 - val_accuracy: 0.8876\n",
      "Epoch 32/35\n",
      "1719/1719 [==============================] - 6s 3ms/step - loss: 0.2212 - accuracy: 0.9205 - val_loss: 0.3097 - val_accuracy: 0.8870\n",
      "Epoch 33/35\n",
      "1719/1719 [==============================] - 6s 3ms/step - loss: 0.2174 - accuracy: 0.9230 - val_loss: 0.2860 - val_accuracy: 0.8986\n",
      "Epoch 34/35\n",
      "1719/1719 [==============================] - 5s 3ms/step - loss: 0.2137 - accuracy: 0.9234 - val_loss: 0.2980 - val_accuracy: 0.8938\n",
      "Epoch 35/35\n",
      "1719/1719 [==============================] - 5s 3ms/step - loss: 0.2108 - accuracy: 0.9242 - val_loss: 0.2881 - val_accuracy: 0.8980\n"
     ]
    }
   ],
   "source": [
    "history = model.fit(x_train, y_train, epochs=35, validation_data=(x_valid, y_valid))"
   ]
  },
  {
   "cell_type": "code",
   "execution_count": 95,
   "id": "172e1bab",
   "metadata": {
    "hidden": true
   },
   "outputs": [],
   "source": [
    "import pandas as pd\n",
    "import matplotlib.pyplot as plt\n",
    "import seaborn as sns\n",
    "plt.style.use( 'seaborn-white')\n",
    "\n",
    "sns.set_theme(color_codes=True)"
   ]
  },
  {
   "cell_type": "code",
   "execution_count": 96,
   "id": "94b4e177",
   "metadata": {
    "hidden": true
   },
   "outputs": [
    {
     "data": {
      "text/plain": [
       "(0.0, 1.0)"
      ]
     },
     "execution_count": 96,
     "metadata": {},
     "output_type": "execute_result"
    },
    {
     "data": {
      "image/png": "[encoded data removed]",
      "text/plain": [
       "<Figure size 576x360 with 1 Axes>"
      ]
     },
     "metadata": {},
     "output_type": "display_data"
    }
   ],
   "source": [
    "pd.DataFrame(history.history).plot(figsize=(8,5))\n",
    "plt.grid(True)\n",
    "plt.gca().set_ylim(0,1)\n",
    "\n"
   ]
  },
  {
   "cell_type": "markdown",
   "id": "c1156af8",
   "metadata": {
    "heading_collapsed": true,
    "hidden": true
   },
   "source": [
    "## Evaluation and Predictions"
   ]
  },
  {
   "cell_type": "code",
   "execution_count": 111,
   "id": "94208524",
   "metadata": {
    "hidden": true
   },
   "outputs": [
    {
     "name": "stdout",
     "output_type": "stream",
     "text": [
      "313/313 [==============================] - 1s 3ms/step - loss: 53.6467 - accuracy: 0.8693\n"
     ]
    },
    {
     "data": {
      "text/plain": [
       "86.93000078201294"
      ]
     },
     "execution_count": 111,
     "metadata": {},
     "output_type": "execute_result"
    }
   ],
   "source": [
    "(model.evaluate(x_test, y_test)[1] *100)"
   ]
  },
  {
   "cell_type": "code",
   "execution_count": 112,
   "id": "e1c232ff",
   "metadata": {
    "hidden": true
   },
   "outputs": [],
   "source": [
    "x_new = x_test[:3]\n",
    "y_proba = model.predict(x_new)"
   ]
  },
  {
   "cell_type": "code",
   "execution_count": 114,
   "id": "0bb54a06",
   "metadata": {
    "hidden": true
   },
   "outputs": [
    {
     "data": {
      "text/plain": [
       "array([[0., 0., 0., 0., 0., 0., 0., 0., 0., 1.],\n",
       "       [0., 0., 1., 0., 0., 0., 0., 0., 0., 0.],\n",
       "       [0., 1., 0., 0., 0., 0., 0., 0., 0., 0.]], dtype=float32)"
      ]
     },
     "execution_count": 114,
     "metadata": {},
     "output_type": "execute_result"
    }
   ],
   "source": [
    "y_proba.round(2)"
   ]
  },
  {
   "cell_type": "code",
   "execution_count": 138,
   "id": "f3a0e8aa",
   "metadata": {
    "hidden": true
   },
   "outputs": [
    {
     "data": {
      "text/plain": [
       "<matplotlib.image.AxesImage at 0x7fccc84b4d60>"
      ]
     },
     "execution_count": 138,
     "metadata": {},
     "output_type": "execute_result"
    },
    {
     "data": {
      "image/png": "[encoded data removed]",
      "text/plain": [
       "<Figure size 432x288 with 1 Axes>"
      ]
     },
     "metadata": {},
     "output_type": "display_data"
    }
   ],
   "source": [
    "plt.imshow(x_new[2], cmap='Blues')\n"
   ]
  },
  {
   "cell_type": "code",
   "execution_count": 123,
   "id": "56b6c8ab",
   "metadata": {
    "hidden": true
   },
   "outputs": [
    {
     "data": {
      "text/plain": [
       "'TROUSER'"
      ]
     },
     "execution_count": 123,
     "metadata": {},
     "output_type": "execute_result"
    }
   ],
   "source": [
    "class_names[1]"
   ]
  },
  {
   "cell_type": "code",
   "execution_count": 131,
   "id": "cbc6c90d",
   "metadata": {
    "hidden": true
   },
   "outputs": [],
   "source": [
    "y_pred = np.argmax(y_proba,axis=1)"
   ]
  },
  {
   "cell_type": "code",
   "execution_count": 133,
   "id": "28c0c7e1",
   "metadata": {
    "hidden": true
   },
   "outputs": [
    {
     "data": {
      "text/plain": [
       "array([9, 2, 1])"
      ]
     },
     "execution_count": 133,
     "metadata": {},
     "output_type": "execute_result"
    }
   ],
   "source": [
    "y_pred"
   ]
  },
  {
   "cell_type": "markdown",
   "id": "35360ee1",
   "metadata": {
    "heading_collapsed": true
   },
   "source": [
    "# NN Regression model - Sequential API"
   ]
  },
  {
   "cell_type": "code",
   "execution_count": 140,
   "id": "cb7a7368",
   "metadata": {
    "hidden": true
   },
   "outputs": [],
   "source": [
    "# we will use the fetch_california_housing() function to load the data from sk-learn\n",
    "# this contains only numerical attributes\n",
    "\n",
    "from sklearn.datasets import fetch_california_housing\n",
    "from sklearn.model_selection import train_test_split\n",
    "from sklearn.preprocessing import StandardScaler\n"
   ]
  },
  {
   "cell_type": "code",
   "execution_count": 141,
   "id": "faa16e1a",
   "metadata": {
    "hidden": true
   },
   "outputs": [],
   "source": [
    "housing = fetch_california_housing()\n",
    "\n",
    "x_train_full, x_test, y_train_full, y_test = train_test_split(housing.data, housing.target)\n",
    "\n",
    "x_train, x_valid, y_train, y_valid = train_test_split(x_train_full, y_train_full)"
   ]
  },
  {
   "cell_type": "code",
   "execution_count": 142,
   "id": "9cc6cae6",
   "metadata": {
    "hidden": true
   },
   "outputs": [],
   "source": [
    "scaler = StandardScaler()\n",
    "x_train = scaler.fit_transform(x_train)\n",
    "x_test = scaler.fit_transform(x_test)\n",
    "x_valid = scaler.fit_transform(x_valid)"
   ]
  },
  {
   "cell_type": "code",
   "execution_count": 144,
   "id": "36bc42ea",
   "metadata": {
    "hidden": true
   },
   "outputs": [
    {
     "name": "stdout",
     "output_type": "stream",
     "text": [
      "Epoch 1/25\n",
      "363/363 [==============================] - 2s 2ms/step - loss: 0.9083 - val_loss: 3.2575\n",
      "Epoch 2/25\n",
      "363/363 [==============================] - 1s 2ms/step - loss: 3.8455 - val_loss: 0.4465\n",
      "Epoch 3/25\n",
      "363/363 [==============================] - 2s 4ms/step - loss: 0.4550 - val_loss: 0.4208\n",
      "Epoch 4/25\n",
      "363/363 [==============================] - 1s 2ms/step - loss: 0.4137 - val_loss: 0.3997\n",
      "Epoch 5/25\n",
      "363/363 [==============================] - 1s 2ms/step - loss: 0.3971 - val_loss: 0.3997\n",
      "Epoch 6/25\n",
      "363/363 [==============================] - 1s 2ms/step - loss: 0.3935 - val_loss: 0.3977\n",
      "Epoch 7/25\n",
      "363/363 [==============================] - 1s 2ms/step - loss: 0.3869 - val_loss: 0.3967\n",
      "Epoch 8/25\n",
      "363/363 [==============================] - 1s 1ms/step - loss: 0.3842 - val_loss: 0.3902\n",
      "Epoch 9/25\n",
      "363/363 [==============================] - 1s 2ms/step - loss: 0.3801 - val_loss: 0.3963\n",
      "Epoch 10/25\n",
      "363/363 [==============================] - 1s 2ms/step - loss: 0.3811 - val_loss: 0.3889\n",
      "Epoch 11/25\n",
      "363/363 [==============================] - 1s 2ms/step - loss: 0.3812 - val_loss: 0.3946\n",
      "Epoch 12/25\n",
      "363/363 [==============================] - 1s 1ms/step - loss: 0.3760 - val_loss: 0.3837\n",
      "Epoch 13/25\n",
      "363/363 [==============================] - 1s 1ms/step - loss: 0.3732 - val_loss: 0.3742\n",
      "Epoch 14/25\n",
      "363/363 [==============================] - 1s 1ms/step - loss: 0.3695 - val_loss: 0.3925\n",
      "Epoch 15/25\n",
      "363/363 [==============================] - 1s 1ms/step - loss: 0.3683 - val_loss: 0.3957\n",
      "Epoch 16/25\n",
      "363/363 [==============================] - 1s 1ms/step - loss: 0.3672 - val_loss: 0.4747\n",
      "Epoch 17/25\n",
      "363/363 [==============================] - 1s 1ms/step - loss: 0.3681 - val_loss: 0.3745\n",
      "Epoch 18/25\n",
      "363/363 [==============================] - 1s 1ms/step - loss: 0.3648 - val_loss: 0.3692\n",
      "Epoch 19/25\n",
      "363/363 [==============================] - 1s 2ms/step - loss: 0.3630 - val_loss: 0.4951\n",
      "Epoch 20/25\n",
      "363/363 [==============================] - 1s 2ms/step - loss: 0.3702 - val_loss: 0.3850\n",
      "Epoch 21/25\n",
      "363/363 [==============================] - 1s 2ms/step - loss: 0.3602 - val_loss: 0.3668\n",
      "Epoch 22/25\n",
      "363/363 [==============================] - 1s 2ms/step - loss: 0.3610 - val_loss: 0.3771\n",
      "Epoch 23/25\n",
      "363/363 [==============================] - 1s 2ms/step - loss: 0.3567 - val_loss: 0.3760\n",
      "Epoch 24/25\n",
      "363/363 [==============================] - 1s 1ms/step - loss: 0.3560 - val_loss: 0.3628\n",
      "Epoch 25/25\n",
      "363/363 [==============================] - 1s 1ms/step - loss: 0.3582 - val_loss: 0.3750\n"
     ]
    }
   ],
   "source": [
    "# only difference between classification and regression is that \n",
    "# the output layer contains a single neuron as we just want to make a single prediciton\n",
    "\n",
    "model = keras.models.Sequential([\n",
    "    keras.layers.Dense(30, activation = 'relu', input_shape = x_train.shape[1:]),\n",
    "    keras.layers.Dense(1)\n",
    "])\n",
    "\n",
    "model.compile(loss='mean_squared_error', optimizer='sgd')\n",
    "\n",
    "history = model.fit(x_train, y_train, epochs=25, validation_data=(x_valid, y_valid))\n",
    "\n"
   ]
  },
  {
   "cell_type": "code",
   "execution_count": 146,
   "id": "46ae03f3",
   "metadata": {
    "hidden": true
   },
   "outputs": [
    {
     "name": "stdout",
     "output_type": "stream",
     "text": [
      "162/162 [==============================] - 0s 1ms/step - loss: 0.7414\n"
     ]
    }
   ],
   "source": [
    "mse_test = model.evaluate(x_test, y_test)\n",
    "\n",
    "x_new = x_test[:3]\n",
    "\n",
    "y_predict = model.predict(x_new)"
   ]
  },
  {
   "cell_type": "code",
   "execution_count": 147,
   "id": "49132b32",
   "metadata": {
    "hidden": true
   },
   "outputs": [
    {
     "data": {
      "text/plain": [
       "array([[4.3041162],\n",
       "       [1.9296608],\n",
       "       [1.1910689]], dtype=float32)"
      ]
     },
     "execution_count": 147,
     "metadata": {},
     "output_type": "execute_result"
    }
   ],
   "source": [
    "y_predict"
   ]
  },
  {
   "cell_type": "code",
   "execution_count": 148,
   "id": "bf97dd53",
   "metadata": {
    "hidden": true
   },
   "outputs": [
    {
     "data": {
      "text/plain": [
       "array([5.00001, 1.154  , 0.855  ])"
      ]
     },
     "execution_count": 148,
     "metadata": {},
     "output_type": "execute_result"
    }
   ],
   "source": [
    "y_test[:3]"
   ]
  },
  {
   "cell_type": "code",
   "execution_count": 149,
   "id": "cb7fe43f",
   "metadata": {
    "hidden": true
   },
   "outputs": [
    {
     "data": {
      "text/plain": [
       "0.7414163947105408"
      ]
     },
     "execution_count": 149,
     "metadata": {},
     "output_type": "execute_result"
    }
   ],
   "source": [
    "mse_test"
   ]
  },
  {
   "cell_type": "code",
   "execution_count": 153,
   "id": "b87367a8",
   "metadata": {
    "hidden": true
   },
   "outputs": [
    {
     "data": {
      "text/plain": [
       "array([[   8.3252    ,   41.        ,    6.98412698, ...,    2.55555556,\n",
       "          37.88      , -122.23      ],\n",
       "       [   8.3014    ,   21.        ,    6.23813708, ...,    2.10984183,\n",
       "          37.86      , -122.22      ],\n",
       "       [   7.2574    ,   52.        ,    8.28813559, ...,    2.80225989,\n",
       "          37.85      , -122.24      ],\n",
       "       ...,\n",
       "       [   1.7       ,   17.        ,    5.20554273, ...,    2.3256351 ,\n",
       "          39.43      , -121.22      ],\n",
       "       [   1.8672    ,   18.        ,    5.32951289, ...,    2.12320917,\n",
       "          39.43      , -121.32      ],\n",
       "       [   2.3886    ,   16.        ,    5.25471698, ...,    2.61698113,\n",
       "          39.37      , -121.24      ]])"
      ]
     },
     "execution_count": 153,
     "metadata": {},
     "output_type": "execute_result"
    }
   ],
   "source": [
    "housing.data"
   ]
  },
  {
   "cell_type": "code",
   "execution_count": 158,
   "id": "1dc6a028",
   "metadata": {
    "hidden": true
   },
   "outputs": [
    {
     "data": {
      "text/plain": [
       "<AxesSubplot:>"
      ]
     },
     "execution_count": 158,
     "metadata": {},
     "output_type": "execute_result"
    },
    {
     "data": {
      "image/png": "[encoded data removed]",
      "text/plain": [
       "<Figure size 576x216 with 1 Axes>"
      ]
     },
     "metadata": {},
     "output_type": "display_data"
    }
   ],
   "source": [
    "pd.DataFrame(history.history).plot(figsize=(8,3))"
   ]
  },
  {
   "cell_type": "markdown",
   "id": "6bd862b1",
   "metadata": {
    "heading_collapsed": true
   },
   "source": [
    "# Models using Functional API\n",
    "\n",
    "functional API is used to create complex models. Coplex topologies, multiple inputs or outputs"
   ]
  },
  {
   "cell_type": "markdown",
   "id": "c3fca996",
   "metadata": {
    "heading_collapsed": true,
    "hidden": true
   },
   "source": [
    "## Single input"
   ]
  },
  {
   "cell_type": "code",
   "execution_count": 215,
   "id": "a1e67c38",
   "metadata": {
    "hidden": true
   },
   "outputs": [],
   "source": [
    "inp_layer = keras.layers.Input(shape = x_train.shape[1:])\n",
    "hid1 = keras.layers.Dense(30, activation=\"relu\")(inp_layer)\n",
    "hid2 = keras.layers.Dense(30, activation = \"relu\")(hid1)\n",
    "concat = keras.layers.Concatenate()([inp_layer, hid2])\n",
    "output = keras.layers.Dense(1)(concat)"
   ]
  },
  {
   "cell_type": "code",
   "execution_count": 216,
   "id": "868e61b0",
   "metadata": {
    "hidden": true
   },
   "outputs": [],
   "source": [
    "model = keras.Model(inputs=[inp_layer], outputs=[output])"
   ]
  },
  {
   "cell_type": "code",
   "execution_count": 217,
   "id": "69e4d245",
   "metadata": {
    "hidden": true
   },
   "outputs": [
    {
     "name": "stdout",
     "output_type": "stream",
     "text": [
      "Model: \"model\"\n",
      "__________________________________________________________________________________________________\n",
      "Layer (type)                    Output Shape         Param #     Connected to                     \n",
      "==================================================================================================\n",
      "input_1 (InputLayer)            [(None, 8)]          0                                            \n",
      "__________________________________________________________________________________________________\n",
      "dense (Dense)                   (None, 30)           270         input_1[0][0]                    \n",
      "__________________________________________________________________________________________________\n",
      "dense_1 (Dense)                 (None, 30)           930         dense[0][0]                      \n",
      "__________________________________________________________________________________________________\n",
      "concatenate (Concatenate)       (None, 38)           0           input_1[0][0]                    \n",
      "                                                                 dense_1[0][0]                    \n",
      "__________________________________________________________________________________________________\n",
      "dense_2 (Dense)                 (None, 1)            39          concatenate[0][0]                \n",
      "==================================================================================================\n",
      "Total params: 1,239\n",
      "Trainable params: 1,239\n",
      "Non-trainable params: 0\n",
      "__________________________________________________________________________________________________\n"
     ]
    }
   ],
   "source": [
    "model.summary()"
   ]
  },
  {
   "cell_type": "code",
   "execution_count": 229,
   "id": "6d2b65f0",
   "metadata": {
    "hidden": true
   },
   "outputs": [],
   "source": [
    "model.compile(optimizer=keras.optimizers.SGD(learning_rate=1e-3), loss='mean_squared_error' )\n"
   ]
  },
  {
   "cell_type": "code",
   "execution_count": 231,
   "id": "3f31442b",
   "metadata": {
    "hidden": true
   },
   "outputs": [
    {
     "name": "stdout",
     "output_type": "stream",
     "text": [
      "Epoch 1/25\n",
      "363/363 [==============================] - 1s 3ms/step - loss: 0.4268 - val_loss: 0.4302\n",
      "Epoch 2/25\n",
      "363/363 [==============================] - 1s 2ms/step - loss: 0.4260 - val_loss: 0.4265\n",
      "Epoch 3/25\n",
      "363/363 [==============================] - 1s 2ms/step - loss: 0.4227 - val_loss: 0.4269\n",
      "Epoch 4/25\n",
      "363/363 [==============================] - 1s 2ms/step - loss: 0.4214 - val_loss: 0.4276\n",
      "Epoch 5/25\n",
      "363/363 [==============================] - 1s 2ms/step - loss: 0.4199 - val_loss: 0.4261\n",
      "Epoch 6/25\n",
      "363/363 [==============================] - 1s 2ms/step - loss: 0.4218 - val_loss: 0.4206\n",
      "Epoch 7/25\n",
      "363/363 [==============================] - 1s 3ms/step - loss: 0.4172 - val_loss: 0.4230\n",
      "Epoch 8/25\n",
      "363/363 [==============================] - 1s 2ms/step - loss: 0.4178 - val_loss: 0.4205\n",
      "Epoch 9/25\n",
      "363/363 [==============================] - 1s 3ms/step - loss: 0.4166 - val_loss: 0.4274\n",
      "Epoch 10/25\n",
      "363/363 [==============================] - 1s 2ms/step - loss: 0.4223 - val_loss: 0.4206\n",
      "Epoch 11/25\n",
      "363/363 [==============================] - 1s 2ms/step - loss: 0.4188 - val_loss: 0.4286\n",
      "Epoch 12/25\n",
      "363/363 [==============================] - 1s 2ms/step - loss: 0.4236 - val_loss: 0.4237\n",
      "Epoch 13/25\n",
      "363/363 [==============================] - 1s 2ms/step - loss: 0.4217 - val_loss: 0.4388\n",
      "Epoch 14/25\n",
      "363/363 [==============================] - 1s 2ms/step - loss: 0.4311 - val_loss: 0.4276\n",
      "Epoch 15/25\n",
      "363/363 [==============================] - 1s 2ms/step - loss: 0.4278 - val_loss: 0.4559\n",
      "Epoch 16/25\n",
      "363/363 [==============================] - 1s 2ms/step - loss: 0.4433 - val_loss: 0.4675\n",
      "Epoch 17/25\n",
      "363/363 [==============================] - 1s 2ms/step - loss: 0.4449 - val_loss: 0.4633\n",
      "Epoch 18/25\n",
      "363/363 [==============================] - 1s 2ms/step - loss: 0.4544 - val_loss: 0.4258\n",
      "Epoch 19/25\n",
      "363/363 [==============================] - 1s 2ms/step - loss: 0.4254 - val_loss: 0.4289\n",
      "Epoch 20/25\n",
      "363/363 [==============================] - 1s 2ms/step - loss: 0.4216 - val_loss: 0.4086\n",
      "Epoch 21/25\n",
      "363/363 [==============================] - 1s 2ms/step - loss: 0.4065 - val_loss: 0.4114\n",
      "Epoch 22/25\n",
      "363/363 [==============================] - 1s 2ms/step - loss: 0.4044 - val_loss: 0.4019\n",
      "Epoch 23/25\n",
      "363/363 [==============================] - 1s 2ms/step - loss: 0.3977 - val_loss: 0.4013\n",
      "Epoch 24/25\n",
      "363/363 [==============================] - 1s 2ms/step - loss: 0.3956 - val_loss: 0.3980\n",
      "Epoch 25/25\n",
      "363/363 [==============================] - 1s 2ms/step - loss: 0.3924 - val_loss: 0.3967\n"
     ]
    }
   ],
   "source": [
    "history = model.fit(x_train, y_train, epochs=25, validation_data=(x_valid, y_valid))"
   ]
  },
  {
   "cell_type": "code",
   "execution_count": 232,
   "id": "0b940e27",
   "metadata": {
    "hidden": true
   },
   "outputs": [
    {
     "name": "stdout",
     "output_type": "stream",
     "text": [
      "162/162 [==============================] - 0s 2ms/step - loss: 0.3787\n"
     ]
    },
    {
     "data": {
      "text/plain": [
       "0.37867456674575806"
      ]
     },
     "execution_count": 232,
     "metadata": {},
     "output_type": "execute_result"
    }
   ],
   "source": [
    "model.evaluate(x_test, y_test)"
   ]
  },
  {
   "cell_type": "code",
   "execution_count": 234,
   "id": "902b29ed",
   "metadata": {
    "hidden": true
   },
   "outputs": [
    {
     "data": {
      "text/plain": [
       "array([[3.1634185],\n",
       "       [2.3261647],\n",
       "       [0.8595564]], dtype=float32)"
      ]
     },
     "execution_count": 234,
     "metadata": {},
     "output_type": "execute_result"
    }
   ],
   "source": [
    "model.predict(x_new)"
   ]
  },
  {
   "cell_type": "code",
   "execution_count": 233,
   "id": "798fad7e",
   "metadata": {
    "hidden": true
   },
   "outputs": [
    {
     "data": {
      "text/plain": [
       "array([5.00001, 1.154  , 0.855  ])"
      ]
     },
     "execution_count": 233,
     "metadata": {},
     "output_type": "execute_result"
    }
   ],
   "source": [
    "y_test[:3]"
   ]
  },
  {
   "cell_type": "code",
   "execution_count": 230,
   "id": "b73752a3",
   "metadata": {
    "hidden": true
   },
   "outputs": [],
   "source": [
    "#clear the session for any model\n",
    "keras.backend.clear_session()\n"
   ]
  },
  {
   "cell_type": "markdown",
   "id": "dee54941",
   "metadata": {
    "heading_collapsed": true,
    "hidden": true
   },
   "source": [
    "## Multiple inputs"
   ]
  },
  {
   "cell_type": "code",
   "execution_count": 236,
   "id": "fd0a8500",
   "metadata": {
    "hidden": true
   },
   "outputs": [],
   "source": [
    "input_a = keras.layers.Input(shape=[5], name=\"wide_input\")\n",
    "input_b = keras.layers.Input(shape=[6], name=\"deep_input\")\n",
    "\n",
    "hid1 = keras.layers.Dense(30, activation=\"relu\")(input_b)\n",
    "hid2 = keras.layers.Dense(30, activation=\"relu\")(hid1)\n",
    "concat = keras.layers.Concatenate()([input_a, hid2])\n",
    "output = keras.layers.Dense(1)(concat)\n",
    "\n",
    "model = keras.Model(inputs=[input_a, input_b], outputs=[output])\n"
   ]
  },
  {
   "cell_type": "code",
   "execution_count": 252,
   "id": "b7e8a3e9",
   "metadata": {
    "hidden": true
   },
   "outputs": [],
   "source": [
    "model.compile(loss='mse', optimizer=keras.optimizers.SGD(learning_rate=1e-3))"
   ]
  },
  {
   "cell_type": "code",
   "execution_count": 253,
   "id": "ecf5d1e4",
   "metadata": {
    "hidden": true
   },
   "outputs": [
    {
     "name": "stdout",
     "output_type": "stream",
     "text": [
      "Model: \"model\"\n",
      "__________________________________________________________________________________________________\n",
      "Layer (type)                    Output Shape         Param #     Connected to                     \n",
      "==================================================================================================\n",
      "deep_input (InputLayer)         [(None, 6)]          0                                            \n",
      "__________________________________________________________________________________________________\n",
      "dense_1 (Dense)                 (None, 30)           210         deep_input[0][0]                 \n",
      "__________________________________________________________________________________________________\n",
      "wide_input (InputLayer)         [(None, 5)]          0                                            \n",
      "__________________________________________________________________________________________________\n",
      "dense_2 (Dense)                 (None, 30)           930         dense_1[0][0]                    \n",
      "__________________________________________________________________________________________________\n",
      "concatenate (Concatenate)       (None, 35)           0           wide_input[0][0]                 \n",
      "                                                                 dense_2[0][0]                    \n",
      "__________________________________________________________________________________________________\n",
      "dense_3 (Dense)                 (None, 1)            36          concatenate[0][0]                \n",
      "==================================================================================================\n",
      "Total params: 1,176\n",
      "Trainable params: 1,176\n",
      "Non-trainable params: 0\n",
      "__________________________________________________________________________________________________\n"
     ]
    }
   ],
   "source": [
    "model.summary()"
   ]
  },
  {
   "cell_type": "code",
   "execution_count": 254,
   "id": "ba94c61d",
   "metadata": {
    "hidden": true
   },
   "outputs": [
    {
     "name": "stdout",
     "output_type": "stream",
     "text": [
      "Epoch 1/20\n",
      "363/363 [==============================] - 2s 3ms/step - loss: 1.8299 - val_loss: 0.8869\n",
      "Epoch 2/20\n",
      "363/363 [==============================] - 1s 3ms/step - loss: 0.7191 - val_loss: 0.6551\n",
      "Epoch 3/20\n",
      "363/363 [==============================] - 1s 2ms/step - loss: 0.6464 - val_loss: 0.6121\n",
      "Epoch 4/20\n",
      "363/363 [==============================] - 1s 2ms/step - loss: 0.6107 - val_loss: 0.5859\n",
      "Epoch 5/20\n",
      "363/363 [==============================] - 1s 2ms/step - loss: 0.5846 - val_loss: 0.5621\n",
      "Epoch 6/20\n",
      "363/363 [==============================] - 1s 2ms/step - loss: 0.5623 - val_loss: 0.5437\n",
      "Epoch 7/20\n",
      "363/363 [==============================] - 1s 2ms/step - loss: 0.5449 - val_loss: 0.5336\n",
      "Epoch 8/20\n",
      "363/363 [==============================] - 1s 2ms/step - loss: 0.5303 - val_loss: 0.5180\n",
      "Epoch 9/20\n",
      "363/363 [==============================] - 1s 2ms/step - loss: 0.5180 - val_loss: 0.5077\n",
      "Epoch 10/20\n",
      "363/363 [==============================] - 1s 2ms/step - loss: 0.5092 - val_loss: 0.5017\n",
      "Epoch 11/20\n",
      "363/363 [==============================] - 1s 2ms/step - loss: 0.5013 - val_loss: 0.4964\n",
      "Epoch 12/20\n",
      "363/363 [==============================] - 1s 2ms/step - loss: 0.4956 - val_loss: 0.4906\n",
      "Epoch 13/20\n",
      "363/363 [==============================] - 1s 2ms/step - loss: 0.4909 - val_loss: 0.4854\n",
      "Epoch 14/20\n",
      "363/363 [==============================] - 1s 2ms/step - loss: 0.4868 - val_loss: 0.4832\n",
      "Epoch 15/20\n",
      "363/363 [==============================] - 1s 2ms/step - loss: 0.4835 - val_loss: 0.4788\n",
      "Epoch 16/20\n",
      "363/363 [==============================] - 1s 2ms/step - loss: 0.4802 - val_loss: 0.4789\n",
      "Epoch 17/20\n",
      "363/363 [==============================] - 1s 2ms/step - loss: 0.4777 - val_loss: 0.4743\n",
      "Epoch 18/20\n",
      "363/363 [==============================] - 1s 2ms/step - loss: 0.4747 - val_loss: 0.4755\n",
      "Epoch 19/20\n",
      "363/363 [==============================] - 1s 2ms/step - loss: 0.4731 - val_loss: 0.4715\n",
      "Epoch 20/20\n",
      "363/363 [==============================] - 1s 2ms/step - loss: 0.4708 - val_loss: 0.4684\n"
     ]
    }
   ],
   "source": [
    "x_train_a, x_train_b = x_train[:, :5], x_train[:, 2:]\n",
    "x_valid_a, x_valid_b = x_valid[:, :5], x_valid[:, 2:]\n",
    "x_test_a, x_test_b = x_test[:, :5], x_test[:, 2:]\n",
    "x_new_a, x_new_b = x_test_a[:3], x_test_b[:3]\n",
    "\n",
    "'''\n",
    "x_train_a, x_train_b = x_train[:,:5], x_train[:, 2:]\n",
    "x_valid_a, x_valid_b = x_valid[:, :5], x_valid[:, 2:]\n",
    "x_test_a, x_test_b = x_test[:, :5], x_test[:, 2:]\n",
    "x_new_a, x_new_b = x_test_a[:3], x_test_b[:3]\n",
    "\n",
    "history = model.fit((x_train_a, x_train_b), y_train, epochs=20,\n",
    "                    validation_data=((x_valid_a,x_valid_b), y_valid))\n",
    "'''\n",
    "history = model.fit((x_train_a, x_train_b), y_train, epochs=20,\n",
    "                    validation_data=((x_valid_a, x_valid_b), y_valid))"
   ]
  },
  {
   "cell_type": "code",
   "execution_count": 299,
   "id": "0c2624c4",
   "metadata": {
    "hidden": true
   },
   "outputs": [
    {
     "name": "stdout",
     "output_type": "stream",
     "text": [
      "162/162 [==============================] - 0s 1ms/step - loss: 0.4450\n"
     ]
    },
    {
     "data": {
      "text/plain": [
       "0.445022851228714"
      ]
     },
     "execution_count": 299,
     "metadata": {},
     "output_type": "execute_result"
    }
   ],
   "source": [
    "model.evaluate((x_test_a, x_test_b), y_test)"
   ]
  },
  {
   "cell_type": "markdown",
   "id": "afb1fe1d",
   "metadata": {
    "heading_collapsed": true,
    "hidden": true
   },
   "source": [
    "## Multiple inputs and multiple outputs"
   ]
  },
  {
   "cell_type": "markdown",
   "id": "8b4cd8c4",
   "metadata": {
    "hidden": true
   },
   "source": [
    "There may be a need for mltiple outputs\n",
    "\n",
    "we may want to perform 2 ML operations together - regression and classification\n",
    "            like locating and detecting the main object in the picture\n",
    "\n",
    "we may want to perform multiple independent tasks simultaneously. We can train 2 NNs but\n",
    "            this may yield a better result. eg: Multitask classification. detect facial\n",
    "            expression and simultaneously if the person is wearing glasses or not\n",
    "\n",
    "Another use case - as a regularization technique. "
   ]
  },
  {
   "cell_type": "code",
   "execution_count": 346,
   "id": "0c2138e2",
   "metadata": {
    "hidden": true
   },
   "outputs": [],
   "source": [
    "input_a = keras.layers.Input(shape=[5])\n",
    "input_b = keras.layers.Input(shape=[6])\n",
    "hid1 = keras.layers.Dense(30, activation='relu')(input_b)\n",
    "hid2 = keras.layers.Dense(30, activation='relu')(hid1)\n",
    "concat = keras.layers.Concatenate()([input_a, hid2])\n",
    "output = keras.layers.Dense(1, name=\"main_output\")(concat)\n",
    "aux_output = keras.layers.Dense(1, name=\"aux_output\")(hid2)\n",
    "\n",
    "\n"
   ]
  },
  {
   "cell_type": "code",
   "execution_count": 347,
   "id": "aa207979",
   "metadata": {
    "hidden": true
   },
   "outputs": [],
   "source": [
    "model = keras.Model(inputs=[input_a, input_b], outputs=[output, aux_output])"
   ]
  },
  {
   "cell_type": "code",
   "execution_count": 348,
   "id": "1944dfec",
   "metadata": {
    "hidden": true
   },
   "outputs": [
    {
     "name": "stdout",
     "output_type": "stream",
     "text": [
      "Model: \"model_3\"\n",
      "__________________________________________________________________________________________________\n",
      "Layer (type)                    Output Shape         Param #     Connected to                     \n",
      "==================================================================================================\n",
      "input_16 (InputLayer)           [(None, 6)]          0                                            \n",
      "__________________________________________________________________________________________________\n",
      "dense_22 (Dense)                (None, 30)           210         input_16[0][0]                   \n",
      "__________________________________________________________________________________________________\n",
      "input_15 (InputLayer)           [(None, 5)]          0                                            \n",
      "__________________________________________________________________________________________________\n",
      "dense_23 (Dense)                (None, 30)           930         dense_22[0][0]                   \n",
      "__________________________________________________________________________________________________\n",
      "concatenate_9 (Concatenate)     (None, 35)           0           input_15[0][0]                   \n",
      "                                                                 dense_23[0][0]                   \n",
      "__________________________________________________________________________________________________\n",
      "main_output (Dense)             (None, 1)            36          concatenate_9[0][0]              \n",
      "__________________________________________________________________________________________________\n",
      "aux_output (Dense)              (None, 1)            31          dense_23[0][0]                   \n",
      "==================================================================================================\n",
      "Total params: 1,207\n",
      "Trainable params: 1,207\n",
      "Non-trainable params: 0\n",
      "__________________________________________________________________________________________________\n"
     ]
    }
   ],
   "source": [
    "model.summary()"
   ]
  },
  {
   "cell_type": "code",
   "execution_count": 349,
   "id": "7b2a8b32",
   "metadata": {
    "hidden": true
   },
   "outputs": [],
   "source": [
    "loss_wts = {\"main_output\":0.9, \"aux_output\":0.1}\n",
    "model.compile(optimizer=keras.optimizers.SGD(learning_rate=1e-3), loss=['mse', 'mse'], loss_weights=loss_wts)"
   ]
  },
  {
   "cell_type": "code",
   "execution_count": 350,
   "id": "45846238",
   "metadata": {
    "hidden": true
   },
   "outputs": [
    {
     "name": "stdout",
     "output_type": "stream",
     "text": [
      "Model: \"model_3\"\n",
      "__________________________________________________________________________________________________\n",
      "Layer (type)                    Output Shape         Param #     Connected to                     \n",
      "==================================================================================================\n",
      "input_16 (InputLayer)           [(None, 6)]          0                                            \n",
      "__________________________________________________________________________________________________\n",
      "dense_22 (Dense)                (None, 30)           210         input_16[0][0]                   \n",
      "__________________________________________________________________________________________________\n",
      "input_15 (InputLayer)           [(None, 5)]          0                                            \n",
      "__________________________________________________________________________________________________\n",
      "dense_23 (Dense)                (None, 30)           930         dense_22[0][0]                   \n",
      "__________________________________________________________________________________________________\n",
      "concatenate_9 (Concatenate)     (None, 35)           0           input_15[0][0]                   \n",
      "                                                                 dense_23[0][0]                   \n",
      "__________________________________________________________________________________________________\n",
      "main_output (Dense)             (None, 1)            36          concatenate_9[0][0]              \n",
      "__________________________________________________________________________________________________\n",
      "aux_output (Dense)              (None, 1)            31          dense_23[0][0]                   \n",
      "==================================================================================================\n",
      "Total params: 1,207\n",
      "Trainable params: 1,207\n",
      "Non-trainable params: 0\n",
      "__________________________________________________________________________________________________\n"
     ]
    }
   ],
   "source": [
    "model.summary()"
   ]
  },
  {
   "cell_type": "code",
   "execution_count": 351,
   "id": "dae08a54",
   "metadata": {
    "hidden": true
   },
   "outputs": [
    {
     "name": "stdout",
     "output_type": "stream",
     "text": [
      "Epoch 1/20\n",
      "363/363 [==============================] - 2s 3ms/step - loss: 2.6606 - main_output_loss: 2.4529 - aux_output_loss: 4.5293 - val_loss: 1.2712 - val_main_output_loss: 0.9961 - val_aux_output_loss: 3.7471\n",
      "Epoch 2/20\n",
      "363/363 [==============================] - 1s 2ms/step - loss: 1.0739 - main_output_loss: 0.8501 - aux_output_loss: 3.0885 - val_loss: 0.8953 - val_main_output_loss: 0.6982 - val_aux_output_loss: 2.6696\n",
      "Epoch 3/20\n",
      "363/363 [==============================] - 1s 3ms/step - loss: 0.8293 - main_output_loss: 0.6689 - aux_output_loss: 2.2730 - val_loss: 0.7812 - val_main_output_loss: 0.6383 - val_aux_output_loss: 2.0674\n",
      "Epoch 4/20\n",
      "363/363 [==============================] - 1s 2ms/step - loss: 0.7550 - main_output_loss: 0.6349 - aux_output_loss: 1.8355 - val_loss: 0.7283 - val_main_output_loss: 0.6155 - val_aux_output_loss: 1.7435\n",
      "Epoch 5/20\n",
      "363/363 [==============================] - 1s 3ms/step - loss: 0.7114 - main_output_loss: 0.6134 - aux_output_loss: 1.5936 - val_loss: 0.6910 - val_main_output_loss: 0.5956 - val_aux_output_loss: 1.5498\n",
      "Epoch 6/20\n",
      "363/363 [==============================] - 1s 3ms/step - loss: 0.6815 - main_output_loss: 0.5968 - aux_output_loss: 1.4440 - val_loss: 0.6667 - val_main_output_loss: 0.5817 - val_aux_output_loss: 1.4315\n",
      "Epoch 7/20\n",
      "363/363 [==============================] - 1s 3ms/step - loss: 0.6580 - main_output_loss: 0.5812 - aux_output_loss: 1.3495 - val_loss: 0.6457 - val_main_output_loss: 0.5683 - val_aux_output_loss: 1.3424\n",
      "Epoch 8/20\n",
      "363/363 [==============================] - 1s 2ms/step - loss: 0.6391 - main_output_loss: 0.5683 - aux_output_loss: 1.2762 - val_loss: 0.6304 - val_main_output_loss: 0.5579 - val_aux_output_loss: 1.2828\n",
      "Epoch 9/20\n",
      "363/363 [==============================] - 1s 2ms/step - loss: 0.6222 - main_output_loss: 0.5554 - aux_output_loss: 1.2232 - val_loss: 0.6137 - val_main_output_loss: 0.5452 - val_aux_output_loss: 1.2306\n",
      "Epoch 10/20\n",
      "363/363 [==============================] - 1s 2ms/step - loss: 0.6084 - main_output_loss: 0.5450 - aux_output_loss: 1.1794 - val_loss: 0.6005 - val_main_output_loss: 0.5352 - val_aux_output_loss: 1.1882\n",
      "Epoch 11/20\n",
      "363/363 [==============================] - 1s 2ms/step - loss: 0.5970 - main_output_loss: 0.5364 - aux_output_loss: 1.1427 - val_loss: 0.5917 - val_main_output_loss: 0.5290 - val_aux_output_loss: 1.1558\n",
      "Epoch 12/20\n",
      "363/363 [==============================] - 1s 2ms/step - loss: 0.5863 - main_output_loss: 0.5278 - aux_output_loss: 1.1132 - val_loss: 0.5817 - val_main_output_loss: 0.5215 - val_aux_output_loss: 1.1234\n",
      "Epoch 13/20\n",
      "363/363 [==============================] - 1s 3ms/step - loss: 0.5782 - main_output_loss: 0.5219 - aux_output_loss: 1.0844 - val_loss: 0.5763 - val_main_output_loss: 0.5179 - val_aux_output_loss: 1.1012\n",
      "Epoch 14/20\n",
      "363/363 [==============================] - 1s 2ms/step - loss: 0.5697 - main_output_loss: 0.5151 - aux_output_loss: 1.0613 - val_loss: 0.5688 - val_main_output_loss: 0.5124 - val_aux_output_loss: 1.0773\n",
      "Epoch 15/20\n",
      "363/363 [==============================] - 1s 2ms/step - loss: 0.5619 - main_output_loss: 0.5089 - aux_output_loss: 1.0393 - val_loss: 0.5583 - val_main_output_loss: 0.5034 - val_aux_output_loss: 1.0522\n",
      "Epoch 16/20\n",
      "363/363 [==============================] - 1s 2ms/step - loss: 0.5553 - main_output_loss: 0.5038 - aux_output_loss: 1.0181 - val_loss: 0.5513 - val_main_output_loss: 0.4979 - val_aux_output_loss: 1.0318\n",
      "Epoch 17/20\n",
      "363/363 [==============================] - 1s 3ms/step - loss: 0.5494 - main_output_loss: 0.4996 - aux_output_loss: 0.9980 - val_loss: 0.5462 - val_main_output_loss: 0.4942 - val_aux_output_loss: 1.0143\n",
      "Epoch 18/20\n",
      "363/363 [==============================] - 1s 3ms/step - loss: 0.5436 - main_output_loss: 0.4951 - aux_output_loss: 0.9807 - val_loss: 0.5402 - val_main_output_loss: 0.4895 - val_aux_output_loss: 0.9963\n",
      "Epoch 19/20\n",
      "363/363 [==============================] - 1s 3ms/step - loss: 0.5395 - main_output_loss: 0.4923 - aux_output_loss: 0.9644 - val_loss: 0.5358 - val_main_output_loss: 0.4864 - val_aux_output_loss: 0.9804\n",
      "Epoch 20/20\n",
      "363/363 [==============================] - 1s 3ms/step - loss: 0.5349 - main_output_loss: 0.4889 - aux_output_loss: 0.9490 - val_loss: 0.5349 - val_main_output_loss: 0.4869 - val_aux_output_loss: 0.9669\n"
     ]
    }
   ],
   "source": [
    "history = model.fit([x_train_a, x_train_b], [y_train, y_train], \n",
    "                    epochs=20, validation_data=([x_valid_a, x_valid_b], [y_valid, y_valid]))"
   ]
  },
  {
   "cell_type": "code",
   "execution_count": 352,
   "id": "c13755b4",
   "metadata": {
    "hidden": true
   },
   "outputs": [
    {
     "name": "stdout",
     "output_type": "stream",
     "text": [
      "162/162 [==============================] - 0s 1ms/step - loss: 0.5132 - main_output_loss: 0.4685 - aux_output_loss: 0.9157\n"
     ]
    }
   ],
   "source": [
    "total_loss, main_loss, aux_loss = model.evaluate([x_test_a, x_test_b], [y_test, y_test])"
   ]
  },
  {
   "cell_type": "code",
   "execution_count": 353,
   "id": "a8c163e6",
   "metadata": {
    "hidden": true
   },
   "outputs": [
    {
     "data": {
      "text/plain": [
       "0.5131963491439819"
      ]
     },
     "execution_count": 353,
     "metadata": {},
     "output_type": "execute_result"
    }
   ],
   "source": [
    "total_loss"
   ]
  },
  {
   "cell_type": "code",
   "execution_count": 354,
   "id": "1a0899c8",
   "metadata": {
    "hidden": true
   },
   "outputs": [],
   "source": [
    "y_pred_main, y_pred_aux = model.predict([x_new_a, x_new_b])"
   ]
  },
  {
   "cell_type": "markdown",
   "id": "84a56262",
   "metadata": {
    "heading_collapsed": true
   },
   "source": [
    "# Subclassing API to build dynamic models"
   ]
  },
  {
   "cell_type": "markdown",
   "id": "50a8781f",
   "metadata": {
    "hidden": true
   },
   "source": [
    "This provides us with extra flexibilities, like using loops, if else statements\n",
    "etc.\n",
    "\n",
    "But this does come at a cost, we don't get to see how the layers are connected ewhen we call .summary()\n",
    "\n",
    "moreover, we cannot save it.\n",
    "\n",
    "Rest, we can just pass the inputs in the call() method of the class and then we can compile and \n",
    "call .fit() like before"
   ]
  },
  {
   "cell_type": "code",
   "execution_count": 332,
   "id": "d0c6876d",
   "metadata": {
    "hidden": true
   },
   "outputs": [],
   "source": [
    "class WideAndDeepModel(keras.Model):\n",
    "    def __init__(self, units=30, activation='relu', **kwargs):\n",
    "        super().__init__(**kwargs)\n",
    "        self.hid1 = keras.layers.Dense(units, activation=activation)\n",
    "        self.hid2 = keras.layers.Dense(units, activation=activation)\n",
    "        self.main_output = keras.layers.Dense(1)\n",
    "        self.aux_output = keras.layers.Dense(1)\n",
    "    \n",
    "    def call(self, inputs):\n",
    "        input_a, input_b = inputs\n",
    "        hid1 = self.hid1(input_b)\n",
    "        hid2 = self.hid2(hid1)\n",
    "        concat = keras.layers.concatenate([hid2, input_a])\n",
    "        main_output = self.main_output(concat)\n",
    "        aux_output = self.aux_output(hid2)\n",
    "        \n",
    "        return main_output, aux_output\n",
    "\n"
   ]
  },
  {
   "cell_type": "code",
   "execution_count": 333,
   "id": "c39b814c",
   "metadata": {
    "hidden": true
   },
   "outputs": [],
   "source": [
    "model = WideAndDeepModel()"
   ]
  },
  {
   "cell_type": "code",
   "execution_count": 339,
   "id": "2e5000cf",
   "metadata": {
    "hidden": true
   },
   "outputs": [],
   "source": [
    "model.compile(loss = ['mse', 'mse'], loss_weights=loss_wts, \n",
    "              optimizer=keras.optimizers.SGD(learning_rate=1e-3))"
   ]
  },
  {
   "cell_type": "code",
   "execution_count": 343,
   "id": "00836678",
   "metadata": {
    "hidden": true
   },
   "outputs": [
    {
     "data": {
      "text/plain": [
       "(<KerasTensor: shape=(None, 1) dtype=float32 (created by layer 'dense_20')>,\n",
       " <KerasTensor: shape=(None, 1) dtype=float32 (created by layer 'dense_21')>)"
      ]
     },
     "execution_count": 343,
     "metadata": {},
     "output_type": "execute_result"
    }
   ],
   "source": [
    "model.call([input_a, input_b])"
   ]
  },
  {
   "cell_type": "code",
   "execution_count": 344,
   "id": "71c66820",
   "metadata": {
    "hidden": true
   },
   "outputs": [
    {
     "name": "stdout",
     "output_type": "stream",
     "text": [
      "Model: \"wide_and_deep_model\"\n",
      "_________________________________________________________________\n",
      "Layer (type)                 Output Shape              Param #   \n",
      "=================================================================\n",
      "dense_18 (Dense)             (None, 30)                210       \n",
      "_________________________________________________________________\n",
      "dense_19 (Dense)             (None, 30)                930       \n",
      "_________________________________________________________________\n",
      "dense_20 (Dense)             (None, 1)                 36        \n",
      "_________________________________________________________________\n",
      "dense_21 (Dense)             (None, 1)                 31        \n",
      "=================================================================\n",
      "Total params: 1,207\n",
      "Trainable params: 1,207\n",
      "Non-trainable params: 0\n",
      "_________________________________________________________________\n"
     ]
    }
   ],
   "source": [
    "model.summary()"
   ]
  },
  {
   "cell_type": "markdown",
   "id": "0b4d6788",
   "metadata": {
    "heading_collapsed": true
   },
   "source": [
    "# Saving and restoring models\n"
   ]
  },
  {
   "cell_type": "code",
   "execution_count": 345,
   "id": "8ad626a8",
   "metadata": {
    "hidden": true
   },
   "outputs": [],
   "source": [
    "# before we save, we need a sequential or functional API model\n",
    "# Run that model and then come back here."
   ]
  },
  {
   "cell_type": "code",
   "execution_count": 355,
   "id": "832f239a",
   "metadata": {
    "hidden": true
   },
   "outputs": [
    {
     "name": "stdout",
     "output_type": "stream",
     "text": [
      "Model: \"model_3\"\n",
      "__________________________________________________________________________________________________\n",
      "Layer (type)                    Output Shape         Param #     Connected to                     \n",
      "==================================================================================================\n",
      "input_16 (InputLayer)           [(None, 6)]          0                                            \n",
      "__________________________________________________________________________________________________\n",
      "dense_22 (Dense)                (None, 30)           210         input_16[0][0]                   \n",
      "__________________________________________________________________________________________________\n",
      "input_15 (InputLayer)           [(None, 5)]          0                                            \n",
      "__________________________________________________________________________________________________\n",
      "dense_23 (Dense)                (None, 30)           930         dense_22[0][0]                   \n",
      "__________________________________________________________________________________________________\n",
      "concatenate_9 (Concatenate)     (None, 35)           0           input_15[0][0]                   \n",
      "                                                                 dense_23[0][0]                   \n",
      "__________________________________________________________________________________________________\n",
      "main_output (Dense)             (None, 1)            36          concatenate_9[0][0]              \n",
      "__________________________________________________________________________________________________\n",
      "aux_output (Dense)              (None, 1)            31          dense_23[0][0]                   \n",
      "==================================================================================================\n",
      "Total params: 1,207\n",
      "Trainable params: 1,207\n",
      "Non-trainable params: 0\n",
      "__________________________________________________________________________________________________\n"
     ]
    }
   ],
   "source": [
    "model.summary()"
   ]
  },
  {
   "cell_type": "code",
   "execution_count": 358,
   "id": "b4ef234a",
   "metadata": {
    "hidden": true
   },
   "outputs": [],
   "source": [
    "# we can use .save() method to save the model with .h5 extension\n",
    "# .h5 is the HDF5 format, to save \n",
    "# the model's architecture (including every layer's hyperparameters) and the values of \n",
    "# all the model''s parameters for every layer (connection weights, bias, etc)\n",
    "# it also saves the optimizer with it's hyperparameters\n",
    "\n",
    "#saving the multi output functional API model\n"
   ]
  },
  {
   "cell_type": "code",
   "execution_count": 359,
   "id": "128a70b6",
   "metadata": {
    "hidden": true
   },
   "outputs": [],
   "source": [
    "model.save(\"keras_functional_model.h5\")"
   ]
  },
  {
   "cell_type": "code",
   "execution_count": 360,
   "id": "6e9c0de0",
   "metadata": {
    "hidden": true
   },
   "outputs": [
    {
     "name": "stdout",
     "output_type": "stream",
     "text": [
      "DL nb.ipynb                keras_functional_model.h5\r\n"
     ]
    }
   ],
   "source": [
    "ls"
   ]
  },
  {
   "cell_type": "code",
   "execution_count": 363,
   "id": "8c7b1e8e",
   "metadata": {
    "hidden": true
   },
   "outputs": [],
   "source": [
    "# To restore the model\n",
    "\n",
    "model_loaded = keras.models.load_model(\"keras_functional_model.h5\")"
   ]
  },
  {
   "cell_type": "code",
   "execution_count": 364,
   "id": "a730e705",
   "metadata": {
    "hidden": true
   },
   "outputs": [
    {
     "name": "stdout",
     "output_type": "stream",
     "text": [
      "Model: \"model_3\"\n",
      "__________________________________________________________________________________________________\n",
      "Layer (type)                    Output Shape         Param #     Connected to                     \n",
      "==================================================================================================\n",
      "input_16 (InputLayer)           [(None, 6)]          0                                            \n",
      "__________________________________________________________________________________________________\n",
      "dense_22 (Dense)                (None, 30)           210         input_16[0][0]                   \n",
      "__________________________________________________________________________________________________\n",
      "input_15 (InputLayer)           [(None, 5)]          0                                            \n",
      "__________________________________________________________________________________________________\n",
      "dense_23 (Dense)                (None, 30)           930         dense_22[0][0]                   \n",
      "__________________________________________________________________________________________________\n",
      "concatenate_9 (Concatenate)     (None, 35)           0           input_15[0][0]                   \n",
      "                                                                 dense_23[0][0]                   \n",
      "__________________________________________________________________________________________________\n",
      "main_output (Dense)             (None, 1)            36          concatenate_9[0][0]              \n",
      "__________________________________________________________________________________________________\n",
      "aux_output (Dense)              (None, 1)            31          dense_23[0][0]                   \n",
      "==================================================================================================\n",
      "Total params: 1,207\n",
      "Trainable params: 1,207\n",
      "Non-trainable params: 0\n",
      "__________________________________________________________________________________________________\n"
     ]
    }
   ],
   "source": [
    "model_loaded.summary()"
   ]
  },
  {
   "cell_type": "markdown",
   "id": "c8d9a6e2",
   "metadata": {
    "heading_collapsed": true
   },
   "source": [
    "# Using Callbacks"
   ]
  },
  {
   "cell_type": "markdown",
   "id": "a9dccf26",
   "metadata": {
    "hidden": true
   },
   "source": [
    "callbacks are used to save the model at specific intervals, to save our progress.\n",
    "\n",
    "to avoid losing the training till here"
   ]
  },
  {
   "cell_type": "code",
   "execution_count": 365,
   "id": "f1139992",
   "metadata": {
    "hidden": true
   },
   "outputs": [],
   "source": [
    "checkpoint_cb = keras.callbacks.ModelCheckpoint(\"callback_saved_model.h5\")"
   ]
  },
  {
   "cell_type": "code",
   "execution_count": 366,
   "id": "6c1d81d2",
   "metadata": {
    "hidden": true
   },
   "outputs": [
    {
     "name": "stdout",
     "output_type": "stream",
     "text": [
      "Epoch 1/10\n",
      "363/363 [==============================] - 1s 2ms/step - loss: 0.5314 - main_output_loss: 0.4866 - aux_output_loss: 0.9345\n",
      "Epoch 2/10\n",
      "363/363 [==============================] - 1s 2ms/step - loss: 0.5278 - main_output_loss: 0.4842 - aux_output_loss: 0.9204\n",
      "Epoch 3/10\n",
      "363/363 [==============================] - 1s 3ms/step - loss: 0.5255 - main_output_loss: 0.4832 - aux_output_loss: 0.9063\n",
      "Epoch 4/10\n",
      "363/363 [==============================] - 2s 5ms/step - loss: 0.5225 - main_output_loss: 0.4813 - aux_output_loss: 0.8933\n",
      "Epoch 5/10\n",
      "363/363 [==============================] - 1s 3ms/step - loss: 0.5195 - main_output_loss: 0.4792 - aux_output_loss: 0.8824\n",
      "Epoch 6/10\n",
      "363/363 [==============================] - 1s 3ms/step - loss: 0.5167 - main_output_loss: 0.4775 - aux_output_loss: 0.8701\n",
      "Epoch 7/10\n",
      "363/363 [==============================] - 1s 2ms/step - loss: 0.5139 - main_output_loss: 0.4754 - aux_output_loss: 0.8602\n",
      "Epoch 8/10\n",
      "363/363 [==============================] - 1s 2ms/step - loss: 0.5111 - main_output_loss: 0.4736 - aux_output_loss: 0.8485\n",
      "Epoch 9/10\n",
      "363/363 [==============================] - 1s 2ms/step - loss: 0.5092 - main_output_loss: 0.4726 - aux_output_loss: 0.8386\n",
      "Epoch 10/10\n",
      "363/363 [==============================] - 1s 2ms/step - loss: 0.5065 - main_output_loss: 0.4707 - aux_output_loss: 0.8286\n"
     ]
    }
   ],
   "source": [
    "history = model.fit([x_train_a, x_train_b] , [y_train, y_train], epochs=10, callbacks=[checkpoint_cb])"
   ]
  },
  {
   "cell_type": "markdown",
   "id": "d18c9007",
   "metadata": {
    "hidden": true
   },
   "source": [
    "Moreover, if we are using a validaition set during training, we can use set \n",
    "\n",
    "save_best_only=True\n",
    "\n",
    "when creating  ModelCheckpoint.\n",
    "\n",
    "This saves only when the performance is best on the cross_val set so far.\n",
    " \n",
    "we need not worry about training for too long or overfitting.\n",
    "\n",
    "We can simply restore the best model so far on the validaiton set.\n",
    "\n"
   ]
  },
  {
   "cell_type": "code",
   "execution_count": 367,
   "id": "fe7149a6",
   "metadata": {
    "hidden": true
   },
   "outputs": [
    {
     "name": "stdout",
     "output_type": "stream",
     "text": [
      "Epoch 1/10\n",
      "363/363 [==============================] - 1s 3ms/step - loss: 0.5043 - main_output_loss: 0.4694 - aux_output_loss: 0.8183 - val_loss: 0.5020 - val_main_output_loss: 0.4645 - val_aux_output_loss: 0.8399\n",
      "Epoch 2/10\n",
      "363/363 [==============================] - 1s 3ms/step - loss: 0.5026 - main_output_loss: 0.4685 - aux_output_loss: 0.8093 - val_loss: 0.5028 - val_main_output_loss: 0.4661 - val_aux_output_loss: 0.8328\n",
      "Epoch 3/10\n",
      "363/363 [==============================] - 1s 2ms/step - loss: 0.4996 - main_output_loss: 0.4661 - aux_output_loss: 0.8006 - val_loss: 0.4970 - val_main_output_loss: 0.4611 - val_aux_output_loss: 0.8206\n",
      "Epoch 4/10\n",
      "363/363 [==============================] - 1s 2ms/step - loss: 0.4979 - main_output_loss: 0.4653 - aux_output_loss: 0.7915 - val_loss: 0.4989 - val_main_output_loss: 0.4638 - val_aux_output_loss: 0.8154\n",
      "Epoch 5/10\n",
      "363/363 [==============================] - 1s 2ms/step - loss: 0.4960 - main_output_loss: 0.4639 - aux_output_loss: 0.7845 - val_loss: 0.4949 - val_main_output_loss: 0.4604 - val_aux_output_loss: 0.8051\n",
      "Epoch 6/10\n",
      "363/363 [==============================] - 1s 2ms/step - loss: 0.4937 - main_output_loss: 0.4623 - aux_output_loss: 0.7763 - val_loss: 0.4923 - val_main_output_loss: 0.4584 - val_aux_output_loss: 0.7975\n",
      "Epoch 7/10\n",
      "363/363 [==============================] - 1s 2ms/step - loss: 0.4922 - main_output_loss: 0.4614 - aux_output_loss: 0.7691 - val_loss: 0.4914 - val_main_output_loss: 0.4581 - val_aux_output_loss: 0.7909\n",
      "Epoch 8/10\n",
      "363/363 [==============================] - 1s 2ms/step - loss: 0.4900 - main_output_loss: 0.4598 - aux_output_loss: 0.7616 - val_loss: 0.4913 - val_main_output_loss: 0.4587 - val_aux_output_loss: 0.7849\n",
      "Epoch 9/10\n",
      "363/363 [==============================] - 1s 2ms/step - loss: 0.4886 - main_output_loss: 0.4590 - aux_output_loss: 0.7549 - val_loss: 0.4887 - val_main_output_loss: 0.4566 - val_aux_output_loss: 0.7781\n",
      "Epoch 10/10\n",
      "363/363 [==============================] - 1s 2ms/step - loss: 0.4868 - main_output_loss: 0.4577 - aux_output_loss: 0.7484 - val_loss: 0.4873 - val_main_output_loss: 0.4557 - val_aux_output_loss: 0.7712\n"
     ]
    }
   ],
   "source": [
    "checkpoint_cb = keras.callbacks.ModelCheckpoint(\"callback_saved_model.h5\", save_best_only=True)\n",
    "\n",
    "history = model.fit([x_train_a, x_train_b] , [y_train, y_train], epochs=10,\n",
    "                   validation_data=([x_valid_a, x_valid_b], [y_valid, y_valid]), \n",
    "                   callbacks=[checkpoint_cb]) \n",
    "model = keras.models.load_model(\"callback_saved_model.h5\") # Loading the best model"
   ]
  },
  {
   "cell_type": "markdown",
   "id": "78d0f1c9",
   "metadata": {
    "hidden": true
   },
   "source": [
    "We can also implement early stopping by setting an early stoppping callback.\n",
    "\n",
    "It will interrupt training when it measures no progress on the validaiton set \n",
    "\n",
    "for a number of epochs(defined by the patience argument)\n",
    "\n",
    "It will optionally roll back to the best model.\n",
    "\n",
    "We can combine both callbacks to save checkpoints of our model and interrup training early when there is no more prograss.\n"
   ]
  },
  {
   "cell_type": "code",
   "execution_count": 368,
   "id": "c66bd971",
   "metadata": {
    "hidden": true
   },
   "outputs": [],
   "source": [
    "early_stopping_cb = keras.callbacks.EarlyStopping(patience = 10, \n",
    "                                                  restore_best_weights=True)"
   ]
  },
  {
   "cell_type": "code",
   "execution_count": 371,
   "id": "ae93ac3b",
   "metadata": {
    "hidden": true
   },
   "outputs": [
    {
     "name": "stdout",
     "output_type": "stream",
     "text": [
      "Epoch 1/100\n",
      "363/363 [==============================] - 1s 2ms/step - loss: 0.3967 - main_output_loss: 0.3799 - aux_output_loss: 0.5477 - val_loss: 0.4049 - val_main_output_loss: 0.3873 - val_aux_output_loss: 0.5625\n",
      "Epoch 2/100\n",
      "363/363 [==============================] - 1s 3ms/step - loss: 0.3957 - main_output_loss: 0.3789 - aux_output_loss: 0.5468 - val_loss: 0.4039 - val_main_output_loss: 0.3868 - val_aux_output_loss: 0.5586\n",
      "Epoch 3/100\n",
      "363/363 [==============================] - 1s 3ms/step - loss: 0.3958 - main_output_loss: 0.3791 - aux_output_loss: 0.5459 - val_loss: 0.4025 - val_main_output_loss: 0.3851 - val_aux_output_loss: 0.5586\n",
      "Epoch 4/100\n",
      "363/363 [==============================] - 1s 3ms/step - loss: 0.3958 - main_output_loss: 0.3793 - aux_output_loss: 0.5445 - val_loss: 0.4016 - val_main_output_loss: 0.3841 - val_aux_output_loss: 0.5587\n",
      "Epoch 5/100\n",
      "363/363 [==============================] - 1s 3ms/step - loss: 0.3907 - main_output_loss: 0.3736 - aux_output_loss: 0.5443 - val_loss: 0.3950 - val_main_output_loss: 0.3771 - val_aux_output_loss: 0.5561\n",
      "Epoch 6/100\n",
      "363/363 [==============================] - 1s 3ms/step - loss: 0.3885 - main_output_loss: 0.3713 - aux_output_loss: 0.5428 - val_loss: 0.3957 - val_main_output_loss: 0.3778 - val_aux_output_loss: 0.5563\n",
      "Epoch 7/100\n",
      "363/363 [==============================] - 1s 3ms/step - loss: 0.3872 - main_output_loss: 0.3700 - aux_output_loss: 0.5420 - val_loss: 0.3956 - val_main_output_loss: 0.3779 - val_aux_output_loss: 0.5552\n",
      "Epoch 8/100\n",
      "363/363 [==============================] - 1s 3ms/step - loss: 0.3865 - main_output_loss: 0.3694 - aux_output_loss: 0.5402 - val_loss: 0.3935 - val_main_output_loss: 0.3757 - val_aux_output_loss: 0.5536\n",
      "Epoch 9/100\n",
      "363/363 [==============================] - 1s 3ms/step - loss: 0.3858 - main_output_loss: 0.3687 - aux_output_loss: 0.5394 - val_loss: 0.3940 - val_main_output_loss: 0.3763 - val_aux_output_loss: 0.5530\n",
      "Epoch 10/100\n",
      "363/363 [==============================] - 1s 3ms/step - loss: 0.3851 - main_output_loss: 0.3681 - aux_output_loss: 0.5385 - val_loss: 0.3931 - val_main_output_loss: 0.3755 - val_aux_output_loss: 0.5517\n",
      "Epoch 11/100\n",
      "363/363 [==============================] - 1s 3ms/step - loss: 0.3842 - main_output_loss: 0.3672 - aux_output_loss: 0.5376 - val_loss: 0.3907 - val_main_output_loss: 0.3731 - val_aux_output_loss: 0.5491\n",
      "Epoch 12/100\n",
      "363/363 [==============================] - 1s 3ms/step - loss: 0.3837 - main_output_loss: 0.3667 - aux_output_loss: 0.5361 - val_loss: 0.3941 - val_main_output_loss: 0.3767 - val_aux_output_loss: 0.5511\n",
      "Epoch 13/100\n",
      "363/363 [==============================] - 1s 3ms/step - loss: 0.3834 - main_output_loss: 0.3664 - aux_output_loss: 0.5357 - val_loss: 0.3907 - val_main_output_loss: 0.3732 - val_aux_output_loss: 0.5480\n",
      "Epoch 14/100\n",
      "363/363 [==============================] - 1s 3ms/step - loss: 0.3825 - main_output_loss: 0.3656 - aux_output_loss: 0.5348 - val_loss: 0.3928 - val_main_output_loss: 0.3756 - val_aux_output_loss: 0.5479\n",
      "Epoch 15/100\n",
      "363/363 [==============================] - 1s 3ms/step - loss: 0.3820 - main_output_loss: 0.3652 - aux_output_loss: 0.5334 - val_loss: 0.3903 - val_main_output_loss: 0.3729 - val_aux_output_loss: 0.5462\n",
      "Epoch 16/100\n",
      "363/363 [==============================] - 1s 3ms/step - loss: 0.3812 - main_output_loss: 0.3643 - aux_output_loss: 0.5326 - val_loss: 0.3882 - val_main_output_loss: 0.3708 - val_aux_output_loss: 0.5448\n",
      "Epoch 17/100\n",
      "363/363 [==============================] - 1s 3ms/step - loss: 0.3806 - main_output_loss: 0.3638 - aux_output_loss: 0.5316 - val_loss: 0.3896 - val_main_output_loss: 0.3724 - val_aux_output_loss: 0.5448\n",
      "Epoch 18/100\n",
      "363/363 [==============================] - 1s 3ms/step - loss: 0.3801 - main_output_loss: 0.3634 - aux_output_loss: 0.5304 - val_loss: 0.3862 - val_main_output_loss: 0.3688 - val_aux_output_loss: 0.5429\n",
      "Epoch 19/100\n",
      "363/363 [==============================] - 1s 3ms/step - loss: 0.3792 - main_output_loss: 0.3625 - aux_output_loss: 0.5296 - val_loss: 0.3911 - val_main_output_loss: 0.3741 - val_aux_output_loss: 0.5449\n",
      "Epoch 20/100\n",
      "363/363 [==============================] - 1s 3ms/step - loss: 0.3790 - main_output_loss: 0.3623 - aux_output_loss: 0.5288 - val_loss: 0.3871 - val_main_output_loss: 0.3700 - val_aux_output_loss: 0.5415\n",
      "Epoch 21/100\n",
      "363/363 [==============================] - 1s 3ms/step - loss: 0.3784 - main_output_loss: 0.3619 - aux_output_loss: 0.5276 - val_loss: 0.3866 - val_main_output_loss: 0.3695 - val_aux_output_loss: 0.5412\n",
      "Epoch 22/100\n",
      "363/363 [==============================] - 1s 3ms/step - loss: 0.3778 - main_output_loss: 0.3612 - aux_output_loss: 0.5270 - val_loss: 0.3876 - val_main_output_loss: 0.3706 - val_aux_output_loss: 0.5402\n",
      "Epoch 23/100\n",
      "363/363 [==============================] - 1s 3ms/step - loss: 0.3772 - main_output_loss: 0.3607 - aux_output_loss: 0.5260 - val_loss: 0.3870 - val_main_output_loss: 0.3700 - val_aux_output_loss: 0.5400\n",
      "Epoch 24/100\n",
      "363/363 [==============================] - 1s 3ms/step - loss: 0.3766 - main_output_loss: 0.3601 - aux_output_loss: 0.5252 - val_loss: 0.3868 - val_main_output_loss: 0.3700 - val_aux_output_loss: 0.5388\n",
      "Epoch 25/100\n",
      "363/363 [==============================] - 2s 4ms/step - loss: 0.3763 - main_output_loss: 0.3598 - aux_output_loss: 0.5244 - val_loss: 0.3842 - val_main_output_loss: 0.3673 - val_aux_output_loss: 0.5367\n",
      "Epoch 26/100\n",
      "363/363 [==============================] - 1s 3ms/step - loss: 0.3755 - main_output_loss: 0.3590 - aux_output_loss: 0.5234 - val_loss: 0.3868 - val_main_output_loss: 0.3701 - val_aux_output_loss: 0.5366\n",
      "Epoch 27/100\n",
      "363/363 [==============================] - 1s 3ms/step - loss: 0.3753 - main_output_loss: 0.3590 - aux_output_loss: 0.5227 - val_loss: 0.3863 - val_main_output_loss: 0.3696 - val_aux_output_loss: 0.5366\n",
      "Epoch 28/100\n",
      "363/363 [==============================] - 1s 2ms/step - loss: 0.3745 - main_output_loss: 0.3582 - aux_output_loss: 0.5214 - val_loss: 0.3833 - val_main_output_loss: 0.3665 - val_aux_output_loss: 0.5341\n",
      "Epoch 29/100\n",
      "363/363 [==============================] - 1s 3ms/step - loss: 0.3741 - main_output_loss: 0.3578 - aux_output_loss: 0.5208 - val_loss: 0.3828 - val_main_output_loss: 0.3661 - val_aux_output_loss: 0.5324\n",
      "Epoch 30/100\n",
      "363/363 [==============================] - 1s 3ms/step - loss: 0.3736 - main_output_loss: 0.3574 - aux_output_loss: 0.5196 - val_loss: 0.3843 - val_main_output_loss: 0.3678 - val_aux_output_loss: 0.5332\n",
      "Epoch 31/100\n",
      "363/363 [==============================] - 1s 3ms/step - loss: 0.3725 - main_output_loss: 0.3563 - aux_output_loss: 0.5185 - val_loss: 0.3847 - val_main_output_loss: 0.3682 - val_aux_output_loss: 0.5326\n",
      "Epoch 32/100\n",
      "363/363 [==============================] - 1s 3ms/step - loss: 0.3725 - main_output_loss: 0.3563 - aux_output_loss: 0.5181 - val_loss: 0.3835 - val_main_output_loss: 0.3670 - val_aux_output_loss: 0.5318\n",
      "Epoch 33/100\n",
      "363/363 [==============================] - 1s 3ms/step - loss: 0.3722 - main_output_loss: 0.3561 - aux_output_loss: 0.5174 - val_loss: 0.3835 - val_main_output_loss: 0.3670 - val_aux_output_loss: 0.5313\n",
      "Epoch 34/100\n",
      "363/363 [==============================] - 1s 2ms/step - loss: 0.3717 - main_output_loss: 0.3556 - aux_output_loss: 0.5168 - val_loss: 0.3813 - val_main_output_loss: 0.3648 - val_aux_output_loss: 0.5298\n",
      "Epoch 35/100\n",
      "363/363 [==============================] - 1s 3ms/step - loss: 0.3714 - main_output_loss: 0.3553 - aux_output_loss: 0.5160 - val_loss: 0.3828 - val_main_output_loss: 0.3664 - val_aux_output_loss: 0.5301\n",
      "Epoch 36/100\n",
      "363/363 [==============================] - 1s 3ms/step - loss: 0.3708 - main_output_loss: 0.3548 - aux_output_loss: 0.5149 - val_loss: 0.3789 - val_main_output_loss: 0.3624 - val_aux_output_loss: 0.5271\n",
      "Epoch 37/100\n",
      "363/363 [==============================] - 1s 4ms/step - loss: 0.3705 - main_output_loss: 0.3545 - aux_output_loss: 0.5140 - val_loss: 0.3780 - val_main_output_loss: 0.3615 - val_aux_output_loss: 0.5261\n",
      "Epoch 38/100\n",
      "363/363 [==============================] - 1s 3ms/step - loss: 0.3699 - main_output_loss: 0.3540 - aux_output_loss: 0.5135 - val_loss: 0.3824 - val_main_output_loss: 0.3662 - val_aux_output_loss: 0.5281\n"
     ]
    },
    {
     "name": "stdout",
     "output_type": "stream",
     "text": [
      "Epoch 39/100\n",
      "363/363 [==============================] - 1s 2ms/step - loss: 0.3689 - main_output_loss: 0.3530 - aux_output_loss: 0.5121 - val_loss: 0.3848 - val_main_output_loss: 0.3688 - val_aux_output_loss: 0.5284\n",
      "Epoch 40/100\n",
      "363/363 [==============================] - 1s 3ms/step - loss: 0.3692 - main_output_loss: 0.3534 - aux_output_loss: 0.5116 - val_loss: 0.3815 - val_main_output_loss: 0.3653 - val_aux_output_loss: 0.5271\n",
      "Epoch 41/100\n",
      "363/363 [==============================] - 1s 2ms/step - loss: 0.3687 - main_output_loss: 0.3529 - aux_output_loss: 0.5110 - val_loss: 0.3845 - val_main_output_loss: 0.3687 - val_aux_output_loss: 0.5263\n",
      "Epoch 42/100\n",
      "363/363 [==============================] - 1s 3ms/step - loss: 0.3687 - main_output_loss: 0.3529 - aux_output_loss: 0.5102 - val_loss: 0.3793 - val_main_output_loss: 0.3632 - val_aux_output_loss: 0.5240\n",
      "Epoch 43/100\n",
      "363/363 [==============================] - 1s 2ms/step - loss: 0.3680 - main_output_loss: 0.3522 - aux_output_loss: 0.5096 - val_loss: 0.3793 - val_main_output_loss: 0.3633 - val_aux_output_loss: 0.5231\n",
      "Epoch 44/100\n",
      "363/363 [==============================] - 1s 2ms/step - loss: 0.3675 - main_output_loss: 0.3520 - aux_output_loss: 0.5074 - val_loss: 0.3855 - val_main_output_loss: 0.3699 - val_aux_output_loss: 0.5262\n",
      "Epoch 45/100\n",
      "363/363 [==============================] - 1s 3ms/step - loss: 0.3678 - main_output_loss: 0.3522 - aux_output_loss: 0.5086 - val_loss: 0.3793 - val_main_output_loss: 0.3633 - val_aux_output_loss: 0.5228\n",
      "Epoch 46/100\n",
      "363/363 [==============================] - 1s 3ms/step - loss: 0.3674 - main_output_loss: 0.3519 - aux_output_loss: 0.5065 - val_loss: 0.3796 - val_main_output_loss: 0.3638 - val_aux_output_loss: 0.5211\n",
      "Epoch 47/100\n",
      "363/363 [==============================] - 1s 3ms/step - loss: 0.3671 - main_output_loss: 0.3515 - aux_output_loss: 0.5070 - val_loss: 0.3842 - val_main_output_loss: 0.3688 - val_aux_output_loss: 0.5226\n"
     ]
    }
   ],
   "source": [
    "history = model.fit( [x_train_a, x_train_b] , [y_train, y_train], epochs=100,\n",
    "                   validation_data=([x_valid_a, x_valid_b], [y_valid, y_valid]),\n",
    "                    callbacks=[checkpoint_cb, early_stopping_cb])"
   ]
  },
  {
   "cell_type": "code",
   "execution_count": 372,
   "id": "c616ff7f",
   "metadata": {
    "hidden": true
   },
   "outputs": [
    {
     "name": "stdout",
     "output_type": "stream",
     "text": [
      "162/162 [==============================] - 0s 3ms/step - loss: 0.3744 - main_output_loss: 0.3618 - aux_output_loss: 0.4880\n"
     ]
    },
    {
     "data": {
      "text/plain": [
       "[0.374385267496109, 0.36176449060440063, 0.48797163367271423]"
      ]
     },
     "execution_count": 372,
     "metadata": {},
     "output_type": "execute_result"
    }
   ],
   "source": [
    "model.evaluate([x_test_a, x_test_b], [y_test, y_test])"
   ]
  },
  {
   "cell_type": "markdown",
   "id": "580b3d63",
   "metadata": {
    "hidden": true
   },
   "source": [
    "We can also implement custom callbacks to get eextra control.\n"
   ]
  },
  {
   "cell_type": "markdown",
   "id": "36aa13b2",
   "metadata": {},
   "source": [
    "# TensorBoard"
   ]
  },
  {
   "cell_type": "code",
   "execution_count": 373,
   "id": "809487c8",
   "metadata": {},
   "outputs": [],
   "source": [
    "import os\n",
    "root_logdir = os.path.join(os.curdir, \"my_logs\")\n",
    "\n",
    "def get_run_logdir():\n",
    "    import time\n",
    "    run_id = time.strftime(\"run_%Y_%m_%d-%H_%M_%S\")\n",
    "    return os.path.join(root_logdir, run_id)"
   ]
  },
  {
   "cell_type": "code",
   "execution_count": 374,
   "id": "58cdabb0",
   "metadata": {},
   "outputs": [],
   "source": [
    "run_logdir = get_run_logdir()"
   ]
  },
  {
   "cell_type": "code",
   "execution_count": 376,
   "id": "3d68da28",
   "metadata": {},
   "outputs": [
    {
     "data": {
      "text/plain": [
       "'./my_logs/run_2021_12_20-00_01_20'"
      ]
     },
     "execution_count": 376,
     "metadata": {},
     "output_type": "execute_result"
    }
   ],
   "source": [
    "run_logdir"
   ]
  },
  {
   "cell_type": "code",
   "execution_count": 389,
   "id": "3e444f34",
   "metadata": {},
   "outputs": [
    {
     "name": "stdout",
     "output_type": "stream",
     "text": [
      "Epoch 1/30\n",
      "363/363 [==============================] - 1s 3ms/step - loss: 0.3592 - main_output_loss: 0.3446 - aux_output_loss: 0.4912 - val_loss: 0.3694 - val_main_output_loss: 0.3544 - val_aux_output_loss: 0.5038\n",
      "Epoch 2/30\n",
      "363/363 [==============================] - 1s 3ms/step - loss: 0.3586 - main_output_loss: 0.3440 - aux_output_loss: 0.4904 - val_loss: 0.3699 - val_main_output_loss: 0.3551 - val_aux_output_loss: 0.5037\n",
      "Epoch 3/30\n",
      "363/363 [==============================] - 1s 3ms/step - loss: 0.3585 - main_output_loss: 0.3439 - aux_output_loss: 0.4898 - val_loss: 0.3737 - val_main_output_loss: 0.3591 - val_aux_output_loss: 0.5047\n",
      "Epoch 4/30\n",
      "363/363 [==============================] - 1s 2ms/step - loss: 0.3579 - main_output_loss: 0.3433 - aux_output_loss: 0.4892 - val_loss: 0.3717 - val_main_output_loss: 0.3571 - val_aux_output_loss: 0.5035\n",
      "Epoch 5/30\n",
      "363/363 [==============================] - 1s 2ms/step - loss: 0.3579 - main_output_loss: 0.3435 - aux_output_loss: 0.4878 - val_loss: 0.3685 - val_main_output_loss: 0.3537 - val_aux_output_loss: 0.5022\n",
      "Epoch 6/30\n",
      "363/363 [==============================] - 1s 2ms/step - loss: 0.3574 - main_output_loss: 0.3430 - aux_output_loss: 0.4877 - val_loss: 0.3703 - val_main_output_loss: 0.3557 - val_aux_output_loss: 0.5019\n",
      "Epoch 7/30\n",
      "363/363 [==============================] - 1s 2ms/step - loss: 0.3572 - main_output_loss: 0.3427 - aux_output_loss: 0.4872 - val_loss: 0.3751 - val_main_output_loss: 0.3607 - val_aux_output_loss: 0.5048\n",
      "Epoch 8/30\n",
      "363/363 [==============================] - 1s 2ms/step - loss: 0.3570 - main_output_loss: 0.3425 - aux_output_loss: 0.4870 - val_loss: 0.3713 - val_main_output_loss: 0.3569 - val_aux_output_loss: 0.5010\n",
      "Epoch 9/30\n",
      "363/363 [==============================] - 1s 2ms/step - loss: 0.3564 - main_output_loss: 0.3420 - aux_output_loss: 0.4859 - val_loss: 0.3754 - val_main_output_loss: 0.3613 - val_aux_output_loss: 0.5023\n",
      "Epoch 10/30\n",
      "363/363 [==============================] - 1s 2ms/step - loss: 0.3563 - main_output_loss: 0.3420 - aux_output_loss: 0.4849 - val_loss: 0.3703 - val_main_output_loss: 0.3558 - val_aux_output_loss: 0.5008\n",
      "Epoch 11/30\n",
      "363/363 [==============================] - 1s 3ms/step - loss: 0.3560 - main_output_loss: 0.3417 - aux_output_loss: 0.4845 - val_loss: 0.3694 - val_main_output_loss: 0.3550 - val_aux_output_loss: 0.4990\n",
      "Epoch 12/30\n",
      "363/363 [==============================] - 1s 3ms/step - loss: 0.3558 - main_output_loss: 0.3415 - aux_output_loss: 0.4840 - val_loss: 0.3705 - val_main_output_loss: 0.3562 - val_aux_output_loss: 0.4990\n",
      "Epoch 13/30\n",
      "363/363 [==============================] - 1s 3ms/step - loss: 0.3555 - main_output_loss: 0.3413 - aux_output_loss: 0.4837 - val_loss: 0.3713 - val_main_output_loss: 0.3569 - val_aux_output_loss: 0.5009\n",
      "Epoch 14/30\n",
      "363/363 [==============================] - 1s 3ms/step - loss: 0.3554 - main_output_loss: 0.3412 - aux_output_loss: 0.4831 - val_loss: 0.3733 - val_main_output_loss: 0.3593 - val_aux_output_loss: 0.4994\n",
      "Epoch 15/30\n",
      "363/363 [==============================] - 1s 3ms/step - loss: 0.3549 - main_output_loss: 0.3407 - aux_output_loss: 0.4819 - val_loss: 0.3682 - val_main_output_loss: 0.3539 - val_aux_output_loss: 0.4969\n",
      "Epoch 16/30\n",
      "363/363 [==============================] - 1s 3ms/step - loss: 0.3545 - main_output_loss: 0.3403 - aux_output_loss: 0.4821 - val_loss: 0.3708 - val_main_output_loss: 0.3568 - val_aux_output_loss: 0.4973\n",
      "Epoch 17/30\n",
      "363/363 [==============================] - 1s 3ms/step - loss: 0.3546 - main_output_loss: 0.3405 - aux_output_loss: 0.4810 - val_loss: 0.3715 - val_main_output_loss: 0.3575 - val_aux_output_loss: 0.4974\n",
      "Epoch 18/30\n",
      "363/363 [==============================] - 1s 2ms/step - loss: 0.3542 - main_output_loss: 0.3401 - aux_output_loss: 0.4808 - val_loss: 0.3701 - val_main_output_loss: 0.3561 - val_aux_output_loss: 0.4959\n",
      "Epoch 19/30\n",
      "363/363 [==============================] - 1s 2ms/step - loss: 0.3540 - main_output_loss: 0.3400 - aux_output_loss: 0.4797 - val_loss: 0.3672 - val_main_output_loss: 0.3530 - val_aux_output_loss: 0.4943\n",
      "Epoch 20/30\n",
      "363/363 [==============================] - 1s 2ms/step - loss: 0.3540 - main_output_loss: 0.3401 - aux_output_loss: 0.4794 - val_loss: 0.3677 - val_main_output_loss: 0.3537 - val_aux_output_loss: 0.4944\n",
      "Epoch 21/30\n",
      "363/363 [==============================] - 1s 2ms/step - loss: 0.3536 - main_output_loss: 0.3397 - aux_output_loss: 0.4786 - val_loss: 0.3708 - val_main_output_loss: 0.3570 - val_aux_output_loss: 0.4953\n",
      "Epoch 22/30\n",
      "363/363 [==============================] - 1s 2ms/step - loss: 0.3531 - main_output_loss: 0.3392 - aux_output_loss: 0.4784 - val_loss: 0.3719 - val_main_output_loss: 0.3581 - val_aux_output_loss: 0.4964\n",
      "Epoch 23/30\n",
      "363/363 [==============================] - 1s 2ms/step - loss: 0.3529 - main_output_loss: 0.3390 - aux_output_loss: 0.4775 - val_loss: 0.3702 - val_main_output_loss: 0.3565 - val_aux_output_loss: 0.4934\n",
      "Epoch 24/30\n",
      "363/363 [==============================] - 1s 2ms/step - loss: 0.3526 - main_output_loss: 0.3389 - aux_output_loss: 0.4765 - val_loss: 0.3642 - val_main_output_loss: 0.3502 - val_aux_output_loss: 0.4905\n",
      "Epoch 25/30\n",
      "363/363 [==============================] - 1s 4ms/step - loss: 0.3526 - main_output_loss: 0.3388 - aux_output_loss: 0.4765 - val_loss: 0.3642 - val_main_output_loss: 0.3501 - val_aux_output_loss: 0.4906\n",
      "Epoch 26/30\n",
      "363/363 [==============================] - 1s 2ms/step - loss: 0.3520 - main_output_loss: 0.3383 - aux_output_loss: 0.4758 - val_loss: 0.3667 - val_main_output_loss: 0.3529 - val_aux_output_loss: 0.4912\n",
      "Epoch 27/30\n",
      "363/363 [==============================] - 1s 2ms/step - loss: 0.3519 - main_output_loss: 0.3382 - aux_output_loss: 0.4753 - val_loss: 0.3664 - val_main_output_loss: 0.3526 - val_aux_output_loss: 0.4904\n",
      "Epoch 28/30\n",
      "363/363 [==============================] - 1s 2ms/step - loss: 0.3517 - main_output_loss: 0.3380 - aux_output_loss: 0.4746 - val_loss: 0.3651 - val_main_output_loss: 0.3514 - val_aux_output_loss: 0.4882\n",
      "Epoch 29/30\n",
      "363/363 [==============================] - 1s 2ms/step - loss: 0.3516 - main_output_loss: 0.3380 - aux_output_loss: 0.4744 - val_loss: 0.3736 - val_main_output_loss: 0.3604 - val_aux_output_loss: 0.4927\n",
      "Epoch 30/30\n",
      "363/363 [==============================] - 1s 3ms/step - loss: 0.3511 - main_output_loss: 0.3375 - aux_output_loss: 0.4736 - val_loss: 0.3676 - val_main_output_loss: 0.3539 - val_aux_output_loss: 0.4902\n"
     ]
    }
   ],
   "source": [
    "tensorboard_cb = keras.callbacks.TensorBoard(run_logdir)\n",
    "history = model.fit([x_train_a, x_train_b] , [y_train, y_train], epochs=30,\n",
    "                   validation_data=([x_valid_a, x_valid_b], [y_valid, y_valid]), \n",
    "                   callbacks=[tensorboard_cb])"
   ]
  },
  {
   "cell_type": "code",
   "execution_count": 386,
   "id": "5d043902",
   "metadata": {},
   "outputs": [
    {
     "name": "stdout",
     "output_type": "stream",
     "text": [
      "/Users/pushpakruhil/DATA SCIENCE/HOML/DL\n"
     ]
    }
   ],
   "source": [
    "cd /Users/pushpakruhil/DATA SCIENCE/HOML/DL/my_logs"
   ]
  },
  {
   "cell_type": "code",
   "execution_count": 1,
   "id": "5ad1b319",
   "metadata": {},
   "outputs": [
    {
     "ename": "ModuleNotFoundError",
     "evalue": "No module named 'tensorboard'",
     "output_type": "error",
     "traceback": [
      "\u001b[0;31m---------------------------------------------------------------------------\u001b[0m",
      "\u001b[0;31mModuleNotFoundError\u001b[0m                       Traceback (most recent call last)",
      "Input \u001b[0;32mIn [1]\u001b[0m, in \u001b[0;36m<module>\u001b[0;34m\u001b[0m\n\u001b[0;32m----> 1\u001b[0m \u001b[43mget_ipython\u001b[49m\u001b[43m(\u001b[49m\u001b[43m)\u001b[49m\u001b[38;5;241;43m.\u001b[39;49m\u001b[43mrun_line_magic\u001b[49m\u001b[43m(\u001b[49m\u001b[38;5;124;43m'\u001b[39;49m\u001b[38;5;124;43mload_ext\u001b[39;49m\u001b[38;5;124;43m'\u001b[39;49m\u001b[43m,\u001b[49m\u001b[43m \u001b[49m\u001b[38;5;124;43m'\u001b[39;49m\u001b[38;5;124;43mtensorboard\u001b[39;49m\u001b[38;5;124;43m'\u001b[39;49m\u001b[43m)\u001b[49m\n",
      "File \u001b[0;32m~/opt/anaconda3/envs/idao/lib/python3.8/site-packages/IPython/core/interactiveshell.py:2204\u001b[0m, in \u001b[0;36mInteractiveShell.run_line_magic\u001b[0;34m(self, magic_name, line, _stack_depth)\u001b[0m\n\u001b[1;32m   2202\u001b[0m     kwargs[\u001b[38;5;124m'\u001b[39m\u001b[38;5;124mlocal_ns\u001b[39m\u001b[38;5;124m'\u001b[39m] \u001b[38;5;241m=\u001b[39m \u001b[38;5;28mself\u001b[39m\u001b[38;5;241m.\u001b[39mget_local_scope(stack_depth)\n\u001b[1;32m   2203\u001b[0m \u001b[38;5;28;01mwith\u001b[39;00m \u001b[38;5;28mself\u001b[39m\u001b[38;5;241m.\u001b[39mbuiltin_trap:\n\u001b[0;32m-> 2204\u001b[0m     result \u001b[38;5;241m=\u001b[39m \u001b[43mfn\u001b[49m\u001b[43m(\u001b[49m\u001b[38;5;241;43m*\u001b[39;49m\u001b[43margs\u001b[49m\u001b[43m,\u001b[49m\u001b[43m \u001b[49m\u001b[38;5;241;43m*\u001b[39;49m\u001b[38;5;241;43m*\u001b[39;49m\u001b[43mkwargs\u001b[49m\u001b[43m)\u001b[49m\n\u001b[1;32m   2205\u001b[0m \u001b[38;5;28;01mreturn\u001b[39;00m result\n",
      "File \u001b[0;32m~/opt/anaconda3/envs/idao/lib/python3.8/site-packages/IPython/core/magics/extension.py:33\u001b[0m, in \u001b[0;36mExtensionMagics.load_ext\u001b[0;34m(self, module_str)\u001b[0m\n\u001b[1;32m     31\u001b[0m \u001b[38;5;28;01mif\u001b[39;00m \u001b[38;5;129;01mnot\u001b[39;00m module_str:\n\u001b[1;32m     32\u001b[0m     \u001b[38;5;28;01mraise\u001b[39;00m UsageError(\u001b[38;5;124m'\u001b[39m\u001b[38;5;124mMissing module name.\u001b[39m\u001b[38;5;124m'\u001b[39m)\n\u001b[0;32m---> 33\u001b[0m res \u001b[38;5;241m=\u001b[39m \u001b[38;5;28;43mself\u001b[39;49m\u001b[38;5;241;43m.\u001b[39;49m\u001b[43mshell\u001b[49m\u001b[38;5;241;43m.\u001b[39;49m\u001b[43mextension_manager\u001b[49m\u001b[38;5;241;43m.\u001b[39;49m\u001b[43mload_extension\u001b[49m\u001b[43m(\u001b[49m\u001b[43mmodule_str\u001b[49m\u001b[43m)\u001b[49m\n\u001b[1;32m     35\u001b[0m \u001b[38;5;28;01mif\u001b[39;00m res \u001b[38;5;241m==\u001b[39m \u001b[38;5;124m'\u001b[39m\u001b[38;5;124malready loaded\u001b[39m\u001b[38;5;124m'\u001b[39m:\n\u001b[1;32m     36\u001b[0m     \u001b[38;5;28mprint\u001b[39m(\u001b[38;5;124m\"\u001b[39m\u001b[38;5;124mThe \u001b[39m\u001b[38;5;132;01m%s\u001b[39;00m\u001b[38;5;124m extension is already loaded. To reload it, use:\u001b[39m\u001b[38;5;124m\"\u001b[39m \u001b[38;5;241m%\u001b[39m module_str)\n",
      "File \u001b[0;32m~/opt/anaconda3/envs/idao/lib/python3.8/site-packages/IPython/core/extensions.py:76\u001b[0m, in \u001b[0;36mExtensionManager.load_extension\u001b[0;34m(self, module_str)\u001b[0m\n\u001b[1;32m     69\u001b[0m \u001b[38;5;124;03m\"\"\"Load an IPython extension by its module name.\u001b[39;00m\n\u001b[1;32m     70\u001b[0m \n\u001b[1;32m     71\u001b[0m \u001b[38;5;124;03mReturns the string \"already loaded\" if the extension is already loaded,\u001b[39;00m\n\u001b[1;32m     72\u001b[0m \u001b[38;5;124;03m\"no load function\" if the module doesn't have a load_ipython_extension\u001b[39;00m\n\u001b[1;32m     73\u001b[0m \u001b[38;5;124;03mfunction, or None if it succeeded.\u001b[39;00m\n\u001b[1;32m     74\u001b[0m \u001b[38;5;124;03m\"\"\"\u001b[39;00m\n\u001b[1;32m     75\u001b[0m \u001b[38;5;28;01mtry\u001b[39;00m:\n\u001b[0;32m---> 76\u001b[0m     \u001b[38;5;28;01mreturn\u001b[39;00m \u001b[38;5;28;43mself\u001b[39;49m\u001b[38;5;241;43m.\u001b[39;49m\u001b[43m_load_extension\u001b[49m\u001b[43m(\u001b[49m\u001b[43mmodule_str\u001b[49m\u001b[43m)\u001b[49m\n\u001b[1;32m     77\u001b[0m \u001b[38;5;28;01mexcept\u001b[39;00m \u001b[38;5;167;01mModuleNotFoundError\u001b[39;00m:\n\u001b[1;32m     78\u001b[0m     \u001b[38;5;28;01mif\u001b[39;00m module_str \u001b[38;5;129;01min\u001b[39;00m BUILTINS_EXTS:\n",
      "File \u001b[0;32m~/opt/anaconda3/envs/idao/lib/python3.8/site-packages/IPython/core/extensions.py:92\u001b[0m, in \u001b[0;36mExtensionManager._load_extension\u001b[0;34m(self, module_str)\u001b[0m\n\u001b[1;32m     90\u001b[0m \u001b[38;5;28;01mif\u001b[39;00m module_str \u001b[38;5;129;01mnot\u001b[39;00m \u001b[38;5;129;01min\u001b[39;00m sys\u001b[38;5;241m.\u001b[39mmodules:\n\u001b[1;32m     91\u001b[0m     \u001b[38;5;28;01mwith\u001b[39;00m prepended_to_syspath(\u001b[38;5;28mself\u001b[39m\u001b[38;5;241m.\u001b[39mipython_extension_dir):\n\u001b[0;32m---> 92\u001b[0m         mod \u001b[38;5;241m=\u001b[39m \u001b[43mimport_module\u001b[49m\u001b[43m(\u001b[49m\u001b[43mmodule_str\u001b[49m\u001b[43m)\u001b[49m\n\u001b[1;32m     93\u001b[0m         \u001b[38;5;28;01mif\u001b[39;00m mod\u001b[38;5;241m.\u001b[39m\u001b[38;5;18m__file__\u001b[39m\u001b[38;5;241m.\u001b[39mstartswith(\u001b[38;5;28mself\u001b[39m\u001b[38;5;241m.\u001b[39mipython_extension_dir):\n\u001b[1;32m     94\u001b[0m             \u001b[38;5;28mprint\u001b[39m((\u001b[38;5;124m\"\u001b[39m\u001b[38;5;124mLoading extensions from \u001b[39m\u001b[38;5;132;01m{dir}\u001b[39;00m\u001b[38;5;124m is deprecated. \u001b[39m\u001b[38;5;124m\"\u001b[39m\n\u001b[1;32m     95\u001b[0m                    \u001b[38;5;124m\"\u001b[39m\u001b[38;5;124mWe recommend managing extensions like any \u001b[39m\u001b[38;5;124m\"\u001b[39m\n\u001b[1;32m     96\u001b[0m                    \u001b[38;5;124m\"\u001b[39m\u001b[38;5;124mother Python packages, in site-packages.\u001b[39m\u001b[38;5;124m\"\u001b[39m)\u001b[38;5;241m.\u001b[39mformat(\n\u001b[1;32m     97\u001b[0m                   \u001b[38;5;28mdir\u001b[39m\u001b[38;5;241m=\u001b[39mcompress_user(\u001b[38;5;28mself\u001b[39m\u001b[38;5;241m.\u001b[39mipython_extension_dir)))\n",
      "File \u001b[0;32m~/opt/anaconda3/envs/idao/lib/python3.8/importlib/__init__.py:127\u001b[0m, in \u001b[0;36mimport_module\u001b[0;34m(name, package)\u001b[0m\n\u001b[1;32m    125\u001b[0m             \u001b[38;5;28;01mbreak\u001b[39;00m\n\u001b[1;32m    126\u001b[0m         level \u001b[38;5;241m+\u001b[39m\u001b[38;5;241m=\u001b[39m \u001b[38;5;241m1\u001b[39m\n\u001b[0;32m--> 127\u001b[0m \u001b[38;5;28;01mreturn\u001b[39;00m \u001b[43m_bootstrap\u001b[49m\u001b[38;5;241;43m.\u001b[39;49m\u001b[43m_gcd_import\u001b[49m\u001b[43m(\u001b[49m\u001b[43mname\u001b[49m\u001b[43m[\u001b[49m\u001b[43mlevel\u001b[49m\u001b[43m:\u001b[49m\u001b[43m]\u001b[49m\u001b[43m,\u001b[49m\u001b[43m \u001b[49m\u001b[43mpackage\u001b[49m\u001b[43m,\u001b[49m\u001b[43m \u001b[49m\u001b[43mlevel\u001b[49m\u001b[43m)\u001b[49m\n",
      "File \u001b[0;32m<frozen importlib._bootstrap>:1014\u001b[0m, in \u001b[0;36m_gcd_import\u001b[0;34m(name, package, level)\u001b[0m\n",
      "File \u001b[0;32m<frozen importlib._bootstrap>:991\u001b[0m, in \u001b[0;36m_find_and_load\u001b[0;34m(name, import_)\u001b[0m\n",
      "File \u001b[0;32m<frozen importlib._bootstrap>:973\u001b[0m, in \u001b[0;36m_find_and_load_unlocked\u001b[0;34m(name, import_)\u001b[0m\n",
      "\u001b[0;31mModuleNotFoundError\u001b[0m: No module named 'tensorboard'"
     ]
    }
   ],
   "source": [
    "%load_ext tensorboard"
   ]
  },
  {
   "cell_type": "code",
   "execution_count": 396,
   "id": "440598fb",
   "metadata": {},
   "outputs": [
    {
     "data": {
      "text/html": [
       "\n",
       "      <iframe id=\"tensorboard-frame-47523ba08a1f1321\" width=\"100%\" height=\"800\" frameborder=\"0\">\n",
       "      </iframe>\n",
       "      <script>\n",
       "        (function() {\n",
       "          const frame = document.getElementById(\"tensorboard-frame-47523ba08a1f1321\");\n",
       "          const url = new URL(\"/\", window.location);\n",
       "          const port = 6016;\n",
       "          if (port) {\n",
       "            url.port = port;\n",
       "          }\n",
       "          frame.src = url;\n",
       "        })();\n",
       "      </script>\n",
       "    "
      ],
      "text/plain": [
       "<IPython.core.display.HTML object>"
      ]
     },
     "metadata": {},
     "output_type": "display_data"
    }
   ],
   "source": [
    "%tensorboard --logdir =\"/Users/pushpakruhil/DATA SCIENCE/HOML/DL/my_logs/\" --port=6016"
   ]
  },
  {
   "cell_type": "code",
   "execution_count": 397,
   "id": "5a65e313",
   "metadata": {},
   "outputs": [],
   "source": [
    "import pandas as pd"
   ]
  },
  {
   "cell_type": "code",
   "execution_count": null,
   "id": "4753d979",
   "metadata": {},
   "outputs": [],
   "source": []
  }
 ],
 "metadata": {
  "kernelspec": {
   "display_name": "Python 3 (ipykernel)",
   "language": "python",
   "name": "python3"
  },
  "language_info": {
   "codemirror_mode": {
    "name": "ipython",
    "version": 3
   },
   "file_extension": ".py",
   "mimetype": "text/x-python",
   "name": "python",
   "nbconvert_exporter": "python",
   "pygments_lexer": "ipython3",
   "version": "3.8.12"
  },
  "toc": {
   "base_numbering": 1,
   "nav_menu": {},
   "number_sections": true,
   "sideBar": true,
   "skip_h1_title": false,
   "title_cell": "Table of Contents",
   "title_sidebar": "Contents",
   "toc_cell": false,
   "toc_position": {},
   "toc_section_display": true,
   "toc_window_display": false
  },
  "varInspector": {
   "cols": {
    "lenName": 16,
    "lenType": 16,
    "lenVar": 40
   },
   "kernels_config": {
    "python": {
     "delete_cmd_postfix": "",
     "delete_cmd_prefix": "del ",
     "library": "var_list.py",
     "varRefreshCmd": "print(var_dic_list())"
    },
    "r": {
     "delete_cmd_postfix": ") ",
     "delete_cmd_prefix": "rm(",
     "library": "var_list.r",
     "varRefreshCmd": "cat(var_dic_list()) "
    }
   },
   "types_to_exclude": [
    "module",
    "function",
    "builtin_function_or_method",
    "instance",
    "_Feature"
   ],
   "window_display": false
  }
 },
 "nbformat": 4,
 "nbformat_minor": 5
}

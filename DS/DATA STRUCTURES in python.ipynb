{
 "cells": [
  {
   "cell_type": "markdown",
   "metadata": {
    "heading_collapsed": true
   },
   "source": [
    "# stacks\n",
    "\n"
   ]
  },
  {
   "cell_type": "markdown",
   "metadata": {
    "hidden": true
   },
   "source": [
    "LIFO Concept\n",
    "\n",
    "push, pop, peek\n",
    "\n",
    "eg of stacks - undo redo\n",
    "\n",
    "\n"
   ]
  },
  {
   "cell_type": "markdown",
   "metadata": {
    "heading_collapsed": true,
    "hidden": true
   },
   "source": [
    "## using lists\n"
   ]
  },
  {
   "cell_type": "code",
   "execution_count": 4,
   "metadata": {
    "hidden": true
   },
   "outputs": [
    {
     "name": "stdout",
     "output_type": "stream",
     "text": [
      "[5, 3, 10, 12]\n"
     ]
    }
   ],
   "source": [
    "my_stack = list()\n",
    "#append function for push\n",
    "#pop for pop\n",
    "my_stack.append(5)\n",
    "my_stack.append(3)\n",
    "my_stack.append(10)\n",
    "my_stack.append(12)\n",
    "print(my_stack)"
   ]
  },
  {
   "cell_type": "code",
   "execution_count": 5,
   "metadata": {
    "hidden": true
   },
   "outputs": [
    {
     "name": "stdout",
     "output_type": "stream",
     "text": [
      "12\n"
     ]
    }
   ],
   "source": [
    "print(my_stack.pop())"
   ]
  },
  {
   "cell_type": "code",
   "execution_count": 6,
   "metadata": {
    "hidden": true
   },
   "outputs": [
    {
     "name": "stdout",
     "output_type": "stream",
     "text": [
      "10\n"
     ]
    }
   ],
   "source": [
    "print(my_stack.pop())"
   ]
  },
  {
   "cell_type": "code",
   "execution_count": 7,
   "metadata": {
    "hidden": true
   },
   "outputs": [
    {
     "name": "stdout",
     "output_type": "stream",
     "text": [
      "3\n"
     ]
    }
   ],
   "source": [
    "print(my_stack.pop())"
   ]
  },
  {
   "cell_type": "code",
   "execution_count": 8,
   "metadata": {
    "hidden": true
   },
   "outputs": [
    {
     "name": "stdout",
     "output_type": "stream",
     "text": [
      "5\n"
     ]
    }
   ],
   "source": [
    "print(my_stack.pop())"
   ]
  },
  {
   "cell_type": "code",
   "execution_count": 10,
   "metadata": {
    "hidden": true
   },
   "outputs": [],
   "source": [
    "#print(my_stack.pop())"
   ]
  },
  {
   "cell_type": "markdown",
   "metadata": {
    "heading_collapsed": true,
    "hidden": true
   },
   "source": [
    "## using wrappped class"
   ]
  },
  {
   "cell_type": "code",
   "execution_count": 23,
   "metadata": {
    "hidden": true
   },
   "outputs": [],
   "source": [
    "class stack():\n",
    "    def __init__(self):\n",
    "        self.stack = list();\n",
    "    def push(self, item):\n",
    "        return self.stack.append(item);\n",
    "    def pop(self):\n",
    "        if len(self.stack)>0:\n",
    "            return self.stack.pop()\n",
    "        else:\n",
    "            return None\n",
    "    def peek(self):\n",
    "        if len(self.stack)>0:\n",
    "            return self.stack[len(self.stack) -1 ] #-1 because len starts counting from 1\n",
    "        else:\n",
    "            return None\n",
    "    def __str__(self):\n",
    "        return str(self.stack)"
   ]
  },
  {
   "cell_type": "code",
   "execution_count": 33,
   "metadata": {
    "hidden": true
   },
   "outputs": [],
   "source": [
    "my_stack = stack()\n",
    "my_stack.push(5)"
   ]
  },
  {
   "cell_type": "code",
   "execution_count": 30,
   "metadata": {
    "hidden": true
   },
   "outputs": [
    {
     "name": "stdout",
     "output_type": "stream",
     "text": [
      "[[5, 3, 2]]\n"
     ]
    }
   ],
   "source": [
    "print((my_stack))"
   ]
  },
  {
   "cell_type": "markdown",
   "metadata": {
    "heading_collapsed": true
   },
   "source": [
    "# queue\n"
   ]
  },
  {
   "cell_type": "markdown",
   "metadata": {
    "hidden": true
   },
   "source": [
    "FIFO Concept\n",
    "\n",
    "enqueue, dequeue\n",
    "eg - anything that has a line to work with. taking orders in McD, bank tellers, etc\n",
    "\n"
   ]
  },
  {
   "cell_type": "markdown",
   "metadata": {
    "heading_collapsed": true,
    "hidden": true
   },
   "source": [
    "## using python deque(double ended queue)"
   ]
  },
  {
   "cell_type": "code",
   "execution_count": 34,
   "metadata": {
    "hidden": true
   },
   "outputs": [
    {
     "name": "stdout",
     "output_type": "stream",
     "text": [
      "deque([5, 10, 15])\n"
     ]
    }
   ],
   "source": [
    "from collections import deque\n",
    "q = deque()\n",
    "q.append(5)\n",
    "q.append(10)\n",
    "q.append(15)\n",
    "\n",
    "print(q)"
   ]
  },
  {
   "cell_type": "code",
   "execution_count": 35,
   "metadata": {
    "hidden": true
   },
   "outputs": [
    {
     "name": "stdout",
     "output_type": "stream",
     "text": [
      "5\n"
     ]
    }
   ],
   "source": [
    "print(q.popleft())"
   ]
  },
  {
   "cell_type": "markdown",
   "metadata": {
    "heading_collapsed": true,
    "hidden": true
   },
   "source": [
    "## using wrapped class"
   ]
  },
  {
   "cell_type": "code",
   "execution_count": 75,
   "metadata": {
    "hidden": true
   },
   "outputs": [],
   "source": [
    "class queue():\n",
    "    def __init__(self):\n",
    "        self.queue = list();\n",
    "    \n",
    "    def enqueue(self, item):\n",
    "        return self.queue.append(item);\n",
    "    \n",
    "    def dequeue(self):\n",
    "        if len(self.queue) >0:\n",
    "            return self.queue.pop(0)\n",
    "        else:\n",
    "            return \"underflow\"\n",
    "    def get_size(self):\n",
    "        return len(self.queue)\n",
    "    \n",
    "    def __str__(self):\n",
    "        print(\"front, rear -->\")\n",
    "        return  str(self.queue)"
   ]
  },
  {
   "cell_type": "code",
   "execution_count": 76,
   "metadata": {
    "hidden": true
   },
   "outputs": [
    {
     "name": "stdout",
     "output_type": "stream",
     "text": [
      "front, rear -->\n",
      "[5, 10, 15]\n"
     ]
    }
   ],
   "source": [
    "my_q = queue()\n",
    "my_q.enqueue(5)\n",
    "my_q.enqueue(10)\n",
    "my_q.enqueue(15)\n",
    "print(my_q)"
   ]
  },
  {
   "cell_type": "code",
   "execution_count": 83,
   "metadata": {
    "hidden": true
   },
   "outputs": [
    {
     "data": {
      "text/plain": [
       "'underflow'"
      ]
     },
     "execution_count": 83,
     "metadata": {},
     "output_type": "execute_result"
    }
   ],
   "source": [
    "my_q.dequeue()"
   ]
  },
  {
   "cell_type": "code",
   "execution_count": 84,
   "metadata": {
    "hidden": true
   },
   "outputs": [
    {
     "name": "stdout",
     "output_type": "stream",
     "text": [
      "front, rear -->\n",
      "[]\n"
     ]
    }
   ],
   "source": [
    "print(my_q)"
   ]
  },
  {
   "cell_type": "markdown",
   "metadata": {
    "heading_collapsed": true
   },
   "source": [
    "# maxHeap\n",
    "\n"
   ]
  },
  {
   "cell_type": "markdown",
   "metadata": {
    "hidden": true
   },
   "source": [
    "implemented on lists, again\n",
    "\n",
    "parent node >= child nodes\n",
    "\n",
    "indexing is done left to right at each height\n",
    "\n",
    "\n",
    "             1\n",
    "        2         3\n",
    "      4  5       6  7\n",
    "      \n",
    "\n",
    "lets say we need any elemnt x at position i\n",
    "\n",
    "parents of that node -> parent(i) = i/2\n",
    "\n",
    "children of that node -> left(i) = i*2 ; right(i) = (i*2) +1\n",
    "\n",
    "\n",
    ".\n",
    "\n",
    ".\n",
    "\n",
    ".\n",
    "\n",
    ".\n",
    "\n",
    ".\n",
    "\n",
    ".\n",
    "\n",
    "**OPERATIONS**\n",
    "\n",
    "push(insert), peek(get max), pop(remove max)\n",
    "\n",
    "\n",
    ".\n",
    "\n",
    "***push***\n",
    "\n",
    "add value to the end of the array, and then float it up to its proper position by comparing to parent node\n",
    "\n",
    "\n",
    ".\n",
    "\n",
    "\n",
    "***peek***\n",
    "\n",
    "return the value at heap[1]\n",
    "\n",
    "\n",
    "\n",
    ".\n",
    "\n",
    "\n",
    "***pop***\n",
    "\n",
    "move max to end of array(replace it with last element),,, delete it,,, bubble down the item at index 1 to its proper position,,,return max\n"
   ]
  },
  {
   "cell_type": "markdown",
   "metadata": {
    "hidden": true
   },
   "source": [
    "public functions : push, peek, pop\n",
    "\n",
    "pvt functions : swap, __floatUp, __bubbleDown, __str"
   ]
  },
  {
   "cell_type": "markdown",
   "metadata": {
    "heading_collapsed": true,
    "hidden": true
   },
   "source": [
    "## understanding the code"
   ]
  },
  {
   "cell_type": "code",
   "execution_count": 24,
   "metadata": {
    "code_folding": [],
    "hidden": true
   },
   "outputs": [],
   "source": [
    "class MaxHeap:\n",
    "    def __init__(self, items=[]):\n",
    "        super().__init__()\n",
    "        self.heap = [0]\n",
    "        for i in items:\n",
    "            self.heap.append(i);\n",
    "            self.__floatUp( len(self.heap) - 1)\n",
    "    \n",
    "    def push(self, data):\n",
    "        self.heap.append(data);\n",
    "        self.__floatUp(len(self.heap) - 1)\n",
    "    \n",
    "    def peek(self):\n",
    "        if self.heap[1]:\n",
    "            return self.heap[1]\n",
    "        else:\n",
    "            return False\n",
    "    \n",
    "    def pop(self):\n",
    "        #remove the max element\n",
    "        if len(self.heap) == 2:\n",
    "            max = self.heap.pop()\n",
    "        \n",
    "        elif len(self.heap)>2 :\n",
    "            self.__swap(1, len(self.heap) - 1)\n",
    "            max = self.heap.pop()\n",
    "            self.__bubbleDown(1)\n",
    "        else:\n",
    "            max = False\n",
    "        return max\n",
    "#-----------------------------------------------\n",
    "    def __floatUp(self, index):\n",
    "        parent = index//2;\n",
    "        if index <=1:\n",
    "            return \n",
    "        elif self.heap[index] > self.heap[parent]:\n",
    "            self.__swap(index, parent);\n",
    "            #running the code recursively\n",
    "            self.__floatUp(parent);\n",
    "    \n",
    "    def __swap(self, i, j):\n",
    "        self.heap[i], self.heap[j] = self.heap[j], self.heap[i];\n",
    "    \n",
    "    def __bubbleDown(self, index):\n",
    "        left = index*2;\n",
    "        right = (index*2) +1;\n",
    "        largest = index;\n",
    "        if len(self.heap) > left and self.heap[largest] < self.heap[left]:\n",
    "            largest = left\n",
    "        if len(self.heap) > right and self.heap[largest] < self.heap[right]:\n",
    "            largest = right\n",
    "        if largest != index:\n",
    "            self.__swap(index, largest)\n",
    "            self.__bubbleDown(largest)\n",
    "    \n",
    "    def __str__(self):\n",
    "        return str(self.heap)\n",
    "        \n",
    "        "
   ]
  },
  {
   "cell_type": "code",
   "execution_count": 26,
   "metadata": {
    "hidden": true
   },
   "outputs": [
    {
     "name": "stdout",
     "output_type": "stream",
     "text": [
      "[0, 95, 3, 21]\n",
      "[0, 95, 10, 21, 3]\n",
      "95\n",
      "21\n"
     ]
    }
   ],
   "source": [
    "m = MaxHeap([95, 3, 21])\n",
    "print(m)\n",
    "m.push(10)\n",
    "print(m)\n",
    "print(m.pop())\n",
    "print(m.peek())"
   ]
  },
  {
   "cell_type": "markdown",
   "metadata": {
    "heading_collapsed": true,
    "hidden": true
   },
   "source": [
    "## retrying the code"
   ]
  },
  {
   "cell_type": "code",
   "execution_count": 28,
   "metadata": {
    "code_folding": [],
    "hidden": true
   },
   "outputs": [],
   "source": [
    "class maxHeap:\n",
    "    def __init__(self, items=[]):\n",
    "\n",
    "        self.heap = [0]\n",
    "        for i in items:\n",
    "            self.heap.append(i)\n",
    "            self.__floatUp(len(self.heap)-1)\n",
    "        \n",
    "        \n",
    "        \n",
    "    def push(self, data):\n",
    "        self.heap.append(data);\n",
    "        self.__floatUp(len(self.heap)-1);\n",
    "        \n",
    "    \n",
    "    def peek(self):\n",
    "        return self.heap[1];\n",
    "    \n",
    "    def pop(self):\n",
    "        if len(self.heap)<2:\n",
    "            max = None\n",
    "        elif len(self.heap)==2:\n",
    "            max = self.heap.pop()\n",
    "        else:\n",
    "            self.__swap(1, len(self.heap)-1)\n",
    "            max = self.heap.pop()\n",
    "            self.__bubbleDown(1)\n",
    "        return max;\n",
    "            \n",
    "    \n",
    "#    -------------------------------------\n",
    "    \n",
    "    \n",
    "    def __swap(self, i, j):\n",
    "        self.heap[i], self.heap[j] = self.heap[j], self.heap[i]\n",
    "        \n",
    "        \n",
    "        \n",
    "    def __floatUp(self, index):\n",
    "        parent = index//2;\n",
    "        if index<=1:\n",
    "            return\n",
    "        \n",
    "        elif self.heap[index] > self.heap[parent]:\n",
    "            self.__swap(index, parent)\n",
    "            self.__floatUp(parent)\n",
    "    \n",
    "    \n",
    "    \n",
    "    def __bubbleDown(self, index):\n",
    "        left = index*2;\n",
    "        right = (index*2) +1;\n",
    "        largest = index;\n",
    "        \n",
    "        if len(self.heap)>left and self.heap[left]>self.heap[index]:\n",
    "            largest = left;\n",
    "        if len(self.heap)>right and self.heap[right]>self.heap[index]:\n",
    "            largest = right;\n",
    "        if largest != index:\n",
    "            self.__swap(index, largest)\n",
    "            self.__bubbleDown(largest)\n",
    "    def __str__(self):\n",
    "        return str(self.heap);"
   ]
  },
  {
   "cell_type": "code",
   "execution_count": 29,
   "metadata": {
    "hidden": true
   },
   "outputs": [
    {
     "name": "stdout",
     "output_type": "stream",
     "text": [
      "[0, 95, 3, 21]\n",
      "[0, 95, 10, 21, 3]\n",
      "95\n",
      "21\n"
     ]
    }
   ],
   "source": [
    "m = maxHeap([95, 3, 21])\n",
    "print(m)\n",
    "m.push(10)\n",
    "print(m)\n",
    "print(m.pop())\n",
    "print(m.peek())"
   ]
  },
  {
   "cell_type": "markdown",
   "metadata": {},
   "source": [
    "# linked lists"
   ]
  },
  {
   "cell_type": "markdown",
   "metadata": {
    "heading_collapsed": true
   },
   "source": [
    "## understanding the code"
   ]
  },
  {
   "cell_type": "code",
   "execution_count": 13,
   "metadata": {
    "hidden": true
   },
   "outputs": [],
   "source": [
    "class node:\n",
    "    def __init__(self, d, n=None):\n",
    "        self.data= d;\n",
    "        self.next_node = n;\n",
    "        \n",
    "    def __str__(self):\n",
    "        return str(\"(\" + str(self.data) + \")\");\n",
    "    \n",
    "        "
   ]
  },
  {
   "cell_type": "code",
   "execution_count": 14,
   "metadata": {
    "code_folding": [],
    "hidden": true
   },
   "outputs": [],
   "source": [
    "class LinkedList:\n",
    "    \n",
    "    def __init__(self, r=None):\n",
    "        self.root = r;\n",
    "        self.size = 0;\n",
    "    \n",
    "    def add(self, d):\n",
    "        new_node = node(d, self.root);\n",
    "        self.root = new_node\n",
    "        self.size +=1\n",
    "        \n",
    "    def find(self, d):\n",
    "        this_node = self.root\n",
    "        while this_node is not None:\n",
    "            if this_node.data == d:\n",
    "                return d\n",
    "            else:\n",
    "                this_node = this_node.next_node\n",
    "        return None\n",
    "    \n",
    "    def remove(self, d):\n",
    "        this_node = self.root;\n",
    "        prev_node = None;\n",
    "        \n",
    "        while this_node is not None:\n",
    "            if this_node.data == d:\n",
    "                if prev_node is not None: # data is not in root node\n",
    "                    prev_node.next_node = this_node.next_node    \n",
    "                else: #data is in root node\n",
    "                    self.root = this_node.next_node\n",
    "                self.size -= 1\n",
    "                return True\n",
    "            else:\n",
    "                prev_node = this_node;\n",
    "                this_node = this_node.next_node\n",
    "        return False\n",
    "    \n",
    "    def print_list(self):\n",
    "        this_node = self.root;\n",
    "        while this_node is not None:\n",
    "            print(this_node, end=\"->\")\n",
    "            this_node = this_node.next_node\n",
    "        print(\"None\")"
   ]
  },
  {
   "cell_type": "code",
   "execution_count": 15,
   "metadata": {
    "hidden": true
   },
   "outputs": [
    {
     "name": "stdout",
     "output_type": "stream",
     "text": [
      "(13)->(2)->(10)->None\n",
      "size : 3\n"
     ]
    }
   ],
   "source": [
    "LL = LinkedList()\n",
    "LL.add(10)\n",
    "LL.add(2)\n",
    "LL.add(13)\n",
    "LL.print_list()\n",
    "\n",
    "print(\"size : \" + str(LL.size ) )"
   ]
  },
  {
   "cell_type": "code",
   "execution_count": 17,
   "metadata": {
    "hidden": true
   },
   "outputs": [
    {
     "name": "stdout",
     "output_type": "stream",
     "text": [
      "size : 2\n",
      "13\n",
      "(13)\n"
     ]
    }
   ],
   "source": [
    "#LL = LinkedList()\n",
    "LL.remove(2)\n",
    "print(\"size : \" + str(LL.size) )\n",
    "print(LL.find(13))\n",
    "print(LL.root)"
   ]
  },
  {
   "cell_type": "markdown",
   "metadata": {
    "heading_collapsed": true
   },
   "source": [
    "## trying the code"
   ]
  },
  {
   "cell_type": "code",
   "execution_count": 59,
   "metadata": {
    "hidden": true
   },
   "outputs": [],
   "source": [
    "class node:\n",
    "    def __init__(self, d, n=None):\n",
    "        self.data = d;\n",
    "        self.next_node = n;\n",
    "    def __str__(self):\n",
    "        return(\"(\" + str(self.data) +\")\");\n",
    "\n",
    "        \n",
    "\n",
    "class LL:\n",
    "    def __init__(self, r=None):\n",
    "        self.root = r;\n",
    "        self.size = 0;\n",
    "    \n",
    "    def add(self, d):\n",
    "        new_node = node(d, self.root);\n",
    "        self.root = new_node;\n",
    "        self.size += 1;\n",
    "    def view(self):\n",
    "        this_node = self.root;\n",
    "        while this_node is not None:\n",
    "            print(this_node, end=\"-->\")\n",
    "            this_node = this_node.next_node\n",
    "        print(\"None\")\n",
    "        \n",
    "    def find(self, d):\n",
    "        this_node = self.root\n",
    "        while this_node is not None:\n",
    "            if this_node.data == d:\n",
    "                return d;\n",
    "            else:\n",
    "                this_node = this_node.next_node;\n",
    "        return None;\n",
    "    \n",
    "    def remove(self, d):\n",
    "        this_node = self.root;\n",
    "        prev_node = None;\n",
    "        \n",
    "        while this_node is not None:\n",
    "            if this_node.data == d:\n",
    "                if prev_node == None: #data is in root\n",
    "                    self.root = this_node.next_node;\n",
    "                else: #data is not in root node\n",
    "                    prev_node.next_node = this_node.next_node;\n",
    "                self.size -=1;\n",
    "                return True;\n",
    "            \n",
    "            else:\n",
    "                this_node = this_node.next_node;\n",
    "            return False\n",
    "        \n",
    "                \n",
    "                \n",
    "        \n",
    "                \n",
    "        "
   ]
  },
  {
   "cell_type": "code",
   "execution_count": 60,
   "metadata": {
    "hidden": true
   },
   "outputs": [
    {
     "name": "stdout",
     "output_type": "stream",
     "text": [
      "size : 5\n"
     ]
    }
   ],
   "source": [
    "ll = LL()\n",
    "ll.add(5)\n",
    "ll.add(12)\n",
    "ll.add(15)\n",
    "ll.add(2)\n",
    "ll.add(0)\n",
    "print(\"size : \" + str(ll.size ) )"
   ]
  },
  {
   "cell_type": "code",
   "execution_count": 61,
   "metadata": {
    "hidden": true
   },
   "outputs": [
    {
     "name": "stdout",
     "output_type": "stream",
     "text": [
      "(0)-->(2)-->(15)-->(12)-->(5)-->None\n"
     ]
    }
   ],
   "source": [
    "ll.view()"
   ]
  },
  {
   "cell_type": "code",
   "execution_count": 45,
   "metadata": {
    "hidden": true
   },
   "outputs": [
    {
     "name": "stdout",
     "output_type": "stream",
     "text": [
      "12\n"
     ]
    }
   ],
   "source": [
    "print(ll.find(12))\n"
   ]
  },
  {
   "cell_type": "code",
   "execution_count": 49,
   "metadata": {
    "hidden": true
   },
   "outputs": [
    {
     "data": {
      "text/plain": [
       "False"
      ]
     },
     "execution_count": 49,
     "metadata": {},
     "output_type": "execute_result"
    }
   ],
   "source": [
    "ll.remove(2)\n",
    "ll.remove(0)"
   ]
  },
  {
   "cell_type": "code",
   "execution_count": 50,
   "metadata": {
    "hidden": true
   },
   "outputs": [
    {
     "name": "stdout",
     "output_type": "stream",
     "text": [
      "15-->12-->5-->None\n"
     ]
    }
   ],
   "source": [
    "ll.view()"
   ]
  },
  {
   "cell_type": "code",
   "execution_count": 51,
   "metadata": {
    "hidden": true
   },
   "outputs": [
    {
     "name": "stdout",
     "output_type": "stream",
     "text": [
      "size : 3\n"
     ]
    }
   ],
   "source": [
    "print(\"size : \" + str(ll.size ) )"
   ]
  },
  {
   "cell_type": "markdown",
   "metadata": {},
   "source": [
    "# linked list - circular\n"
   ]
  },
  {
   "cell_type": "code",
   "execution_count": null,
   "metadata": {},
   "outputs": [],
   "source": []
  }
 ],
 "metadata": {
  "kernelspec": {
   "display_name": "Python 3",
   "language": "python",
   "name": "python3"
  },
  "language_info": {
   "codemirror_mode": {
    "name": "ipython",
    "version": 3
   },
   "file_extension": ".py",
   "mimetype": "text/x-python",
   "name": "python",
   "nbconvert_exporter": "python",
   "pygments_lexer": "ipython3",
   "version": "3.8.5"
  },
  "toc": {
   "base_numbering": 1,
   "nav_menu": {},
   "number_sections": true,
   "sideBar": true,
   "skip_h1_title": false,
   "title_cell": "Table of Contents",
   "title_sidebar": "Contents",
   "toc_cell": false,
   "toc_position": {},
   "toc_section_display": true,
   "toc_window_display": true
  },
  "varInspector": {
   "cols": {
    "lenName": 16,
    "lenType": 16,
    "lenVar": 40
   },
   "kernels_config": {
    "python": {
     "delete_cmd_postfix": "",
     "delete_cmd_prefix": "del ",
     "library": "var_list.py",
     "varRefreshCmd": "print(var_dic_list())"
    },
    "r": {
     "delete_cmd_postfix": ") ",
     "delete_cmd_prefix": "rm(",
     "library": "var_list.r",
     "varRefreshCmd": "cat(var_dic_list()) "
    }
   },
   "types_to_exclude": [
    "module",
    "function",
    "builtin_function_or_method",
    "instance",
    "_Feature"
   ],
   "window_display": false
  }
 },
 "nbformat": 4,
 "nbformat_minor": 4
}

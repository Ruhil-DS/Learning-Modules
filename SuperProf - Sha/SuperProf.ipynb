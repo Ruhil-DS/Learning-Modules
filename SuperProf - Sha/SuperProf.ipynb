{
 "cells": [
  {
   "cell_type": "markdown",
   "id": "ad0d2619",
   "metadata": {
    "pycharm": {
     "name": "#%% md\n"
    }
   },
   "source": [
    "# Pydantic with ORM"
   ]
  },
  {
   "cell_type": "markdown",
   "source": [
    "The Config property orm_mode must be set to True.\n"
   ],
   "metadata": {
    "collapsed": false,
    "pycharm": {
     "name": "#%% md\n"
    }
   }
  },
  {
   "cell_type": "code",
   "execution_count": 290,
   "outputs": [
    {
     "name": "stdout",
     "output_type": "stream",
     "text": [
      "id=123 || public_key=foobar || name=Testing || domains=['example.com', 'foobar.com'] \n",
      "---------\n",
      "{'id': 123, 'public_key': 'foobar', 'name': 'Testing', 'domains': ['example.com', 'foobar.com']}\n"
     ]
    }
   ],
   "source": [
    "from typing import List\n",
    "from sqlalchemy import Column, Integer, String\n",
    "from sqlalchemy.dialects.postgresql import ARRAY\n",
    "from sqlalchemy.ext.declarative import declarative_base\n",
    "from pydantic import BaseModel, constr\n",
    "\n",
    "Base = declarative_base()\n",
    "\n",
    "\n",
    "class CompanyOrm(Base):\n",
    "    __tablename__ = 'companies'\n",
    "    id = Column(Integer, primary_key=True, nullable=False)\n",
    "    public_key = Column(String(20), index=True, nullable=False, unique=True)\n",
    "    name = Column(String(63), unique=True)\n",
    "    domains = Column(ARRAY(String(255)))\n",
    "\n",
    "    def __str__(self):\n",
    "        msg = f'id={self.id} || public_key={self.public_key} || name={self.name} || domains={self.domains} '\n",
    "        return msg\n",
    "\n",
    "\n",
    "\n",
    "class CompanyModel(BaseModel):\n",
    "    id: int\n",
    "    public_key: constr(max_length=20)\n",
    "    name: constr(max_length=63)\n",
    "    domains: List[constr(max_length=255)]\n",
    "\n",
    "    class Config:\n",
    "        orm_mode = True\n",
    "\n",
    "\n",
    "\n",
    "co_orm = CompanyOrm(\n",
    "    id='123',\n",
    "    public_key='foobar',\n",
    "    name='Testing',\n",
    "    domains=['example.com', 'foobar.com'],\n",
    ")\n",
    "\n",
    "\n",
    "print(co_orm)\n",
    "print(\"---------\")\n",
    "co_model = CompanyModel.from_orm(co_orm)\n",
    "print(co_model.dict())\n"
   ],
   "metadata": {
    "collapsed": false,
    "pycharm": {
     "name": "#%%\n"
    }
   }
  },
  {
   "cell_type": "markdown",
   "source": [
    "What if we want to use a reserved name, that ends with an underscore in SQLAlchemy"
   ],
   "metadata": {
    "collapsed": false,
    "pycharm": {
     "name": "#%% md\n"
    }
   }
  },
  {
   "cell_type": "code",
   "execution_count": null,
   "outputs": [],
   "source": [],
   "metadata": {
    "collapsed": false,
    "pycharm": {
     "name": "#%%\n"
    }
   }
  },
  {
   "cell_type": "code",
   "execution_count": 293,
   "outputs": [
    {
     "name": "stdout",
     "output_type": "stream",
     "text": [
      "{}\n",
      "{}\n"
     ]
    }
   ],
   "source": [
    "import typing\n",
    "\n",
    "from pydantic import BaseModel, Field\n",
    "import sqlalchemy as sa\n",
    "from sqlalchemy.ext.declarative import declarative_base\n",
    "\n",
    "\n",
    "class MyModel(BaseModel):\n",
    "    _metadata: typing.Dict[str, str]  = Field(alias='metadata_')\n",
    "\n",
    "    class Config:\n",
    "        orm_mode = True\n",
    "\n",
    "\n",
    "Base = declarative_base()\n",
    "\n",
    "\n",
    "class SQLModel(Base):\n",
    "    __tablename__ = 'my_table'\n",
    "    id = sa.Column('id', sa.Integer, primary_key=True)\n",
    "    # 'metadata' is reserved by SQLAlchemy, hence the '_'\n",
    "    metadata_ = sa.Column('metadata', sa.JSON)\n",
    "\n",
    "\n",
    "sql_model = SQLModel(metadata_={'key': 'val'}, id=1)\n",
    "\n",
    "pydantic_model = MyModel.from_orm(sql_model)\n",
    "\n",
    "print(pydantic_model.dict())\n",
    "#> {'metadata': {'key': 'val'}}\n",
    "print(pydantic_model.dict(by_alias=True))\n",
    "#> {'metadata_': {'key': 'val'}}\n",
    "\n",
    "# notice the difference between the key name in both the cases"
   ],
   "metadata": {
    "collapsed": false,
    "pycharm": {
     "name": "#%%\n"
    }
   }
  },
  {
   "cell_type": "markdown",
   "source": [
    "# Validations"
   ],
   "metadata": {
    "collapsed": false,
    "pycharm": {
     "name": "#%% md\n"
    }
   }
  },
  {
   "cell_type": "code",
   "execution_count": 297,
   "outputs": [
    {
     "name": "stdout",
     "output_type": "stream",
     "text": [
      "error:  1 validation error for readDict\n",
      "id\n",
      "  value is not a valid integer (type=type_error.integer)\n"
     ]
    }
   ],
   "source": [
    "from pydantic import BaseModel, ValidationError\n",
    "\n",
    "data = {\n",
    "    \"id\": \"E15\",\n",
    "    \"Fname\": \"Pushpak\",\n",
    "    \"Lname\": \"Ruhil\"\n",
    "}\n",
    "\n",
    "\n",
    "class readDict(BaseModel):\n",
    "    id: int\n",
    "    Fname: str\n",
    "    Lname: str\n",
    "\n",
    "\n",
    "try:\n",
    "    parse = readDict(**data)\n",
    "    print(\"after parsing: \", parse)\n",
    "except ValidationError as e:\n",
    "    print(\"error: \", str(e))  # .errors(), str(e)\n",
    "\n"
   ],
   "metadata": {
    "collapsed": false,
    "pycharm": {
     "name": "#%%\n"
    }
   }
  },
  {
   "cell_type": "code",
   "execution_count": 298,
   "outputs": [],
   "source": [
    "from pydantic import validator\n",
    "\n",
    "# defining our own exception\n",
    "class FirstLetterException(Exception):\n",
    "    def __init__(self, msg):\n",
    "        super().__init__(msg)\n",
    "\n",
    "\n",
    "class customErrors(BaseModel):\n",
    "    id: int\n",
    "    Fname: str\n",
    "    Lname: str\n",
    "\n",
    "    @validator('Fname')\n",
    "    def name_Validator(cls, val:str):\n",
    "        if val[0].islower():\n",
    "            raise FirstLetterException(\"First letter of the First name needs to be capital.\")\n",
    "        return val\n",
    "\n",
    "\n"
   ],
   "metadata": {
    "collapsed": false,
    "pycharm": {
     "name": "#%%\n"
    }
   }
  },
  {
   "cell_type": "code",
   "execution_count": 300,
   "outputs": [
    {
     "name": "stdout",
     "output_type": "stream",
     "text": [
      "after: id=15 Fname='Pushpak' Lname='Ruhil'\n"
     ]
    }
   ],
   "source": [
    "data = {\n",
    "    \"id\": \"15\",\n",
    "    \"Fname\": \"Pushpak\",\n",
    "    \"Lname\": \"Ruhil\"\n",
    "}\n",
    "\n",
    "print(\"after:\", customErrors(**data))\n"
   ],
   "metadata": {
    "collapsed": false,
    "pycharm": {
     "name": "#%%\n"
    }
   }
  },
  {
   "cell_type": "code",
   "execution_count": 301,
   "outputs": [],
   "source": [
    "class customErrors(BaseModel):\n",
    "    id: int\n",
    "    Fname: str\n",
    "    Lname: str\n",
    "\n",
    "    @validator('Fname', 'Lname')\n",
    "    def name_Validator(cls, all_vals:str, values, field):\n",
    "        if all_vals[0].islower():\n",
    "            raise FirstLetterException(f\"First letter of the {field.name} needs to be capital. \\\"{all_vals}\\\" was provided\")\n",
    "        return all_vals\n",
    "\n"
   ],
   "metadata": {
    "collapsed": false,
    "pycharm": {
     "name": "#%%\n"
    }
   }
  },
  {
   "cell_type": "code",
   "execution_count": 303,
   "outputs": [
    {
     "ename": "FirstLetterException",
     "evalue": "First letter of the Fname needs to be capital. \"pushpak\" was provided",
     "output_type": "error",
     "traceback": [
      "\u001B[0;31m---------------------------------------------------------------------------\u001B[0m",
      "\u001B[0;31mFirstLetterException\u001B[0m                      Traceback (most recent call last)",
      "\u001B[0;32m/var/folders/6j/v9zb038n2bxdy2_vbd43mhnc0000gn/T/ipykernel_27216/276182967.py\u001B[0m in \u001B[0;36m<module>\u001B[0;34m\u001B[0m\n\u001B[1;32m      5\u001B[0m }\n\u001B[1;32m      6\u001B[0m \u001B[0;34m\u001B[0m\u001B[0m\n\u001B[0;32m----> 7\u001B[0;31m \u001B[0mprint\u001B[0m\u001B[0;34m(\u001B[0m\u001B[0;34m\"after:\"\u001B[0m\u001B[0;34m,\u001B[0m \u001B[0mcustomErrors\u001B[0m\u001B[0;34m(\u001B[0m\u001B[0;34m**\u001B[0m\u001B[0mdata\u001B[0m\u001B[0;34m)\u001B[0m\u001B[0;34m)\u001B[0m\u001B[0;34m\u001B[0m\u001B[0;34m\u001B[0m\u001B[0m\n\u001B[0m\u001B[1;32m      8\u001B[0m \u001B[0;34m\u001B[0m\u001B[0m\n",
      "\u001B[0;32m~/opt/anaconda3/lib/python3.9/site-packages/pydantic/main.cpython-39-darwin.so\u001B[0m in \u001B[0;36mpydantic.main.BaseModel.__init__\u001B[0;34m()\u001B[0m\n",
      "\u001B[0;32m~/opt/anaconda3/lib/python3.9/site-packages/pydantic/main.cpython-39-darwin.so\u001B[0m in \u001B[0;36mpydantic.main.validate_model\u001B[0;34m()\u001B[0m\n",
      "\u001B[0;32m~/opt/anaconda3/lib/python3.9/site-packages/pydantic/fields.cpython-39-darwin.so\u001B[0m in \u001B[0;36mpydantic.fields.ModelField.validate\u001B[0;34m()\u001B[0m\n",
      "\u001B[0;32m~/opt/anaconda3/lib/python3.9/site-packages/pydantic/fields.cpython-39-darwin.so\u001B[0m in \u001B[0;36mpydantic.fields.ModelField._apply_validators\u001B[0;34m()\u001B[0m\n",
      "\u001B[0;32m~/opt/anaconda3/lib/python3.9/site-packages/pydantic/class_validators.cpython-39-darwin.so\u001B[0m in \u001B[0;36mpydantic.class_validators._generic_validator_cls.lambda7\u001B[0;34m()\u001B[0m\n",
      "\u001B[0;32m/var/folders/6j/v9zb038n2bxdy2_vbd43mhnc0000gn/T/ipykernel_27216/2111555697.py\u001B[0m in \u001B[0;36mname_Validator\u001B[0;34m(cls, all_vals, values, field)\u001B[0m\n\u001B[1;32m      7\u001B[0m     \u001B[0;32mdef\u001B[0m \u001B[0mname_Validator\u001B[0m\u001B[0;34m(\u001B[0m\u001B[0mcls\u001B[0m\u001B[0;34m,\u001B[0m \u001B[0mall_vals\u001B[0m\u001B[0;34m:\u001B[0m\u001B[0mstr\u001B[0m\u001B[0;34m,\u001B[0m \u001B[0mvalues\u001B[0m\u001B[0;34m,\u001B[0m \u001B[0mfield\u001B[0m\u001B[0;34m)\u001B[0m\u001B[0;34m:\u001B[0m\u001B[0;34m\u001B[0m\u001B[0;34m\u001B[0m\u001B[0m\n\u001B[1;32m      8\u001B[0m         \u001B[0;32mif\u001B[0m \u001B[0mall_vals\u001B[0m\u001B[0;34m[\u001B[0m\u001B[0;36m0\u001B[0m\u001B[0;34m]\u001B[0m\u001B[0;34m.\u001B[0m\u001B[0mislower\u001B[0m\u001B[0;34m(\u001B[0m\u001B[0;34m)\u001B[0m\u001B[0;34m:\u001B[0m\u001B[0;34m\u001B[0m\u001B[0;34m\u001B[0m\u001B[0m\n\u001B[0;32m----> 9\u001B[0;31m             \u001B[0;32mraise\u001B[0m \u001B[0mFirstLetterException\u001B[0m\u001B[0;34m(\u001B[0m\u001B[0;34mf\"First letter of the {field.name} needs to be capital. \\\"{all_vals}\\\" was provided\"\u001B[0m\u001B[0;34m)\u001B[0m\u001B[0;34m\u001B[0m\u001B[0;34m\u001B[0m\u001B[0m\n\u001B[0m\u001B[1;32m     10\u001B[0m         \u001B[0;32mreturn\u001B[0m \u001B[0mall_vals\u001B[0m\u001B[0;34m\u001B[0m\u001B[0;34m\u001B[0m\u001B[0m\n\u001B[1;32m     11\u001B[0m \u001B[0;34m\u001B[0m\u001B[0m\n",
      "\u001B[0;31mFirstLetterException\u001B[0m: First letter of the Fname needs to be capital. \"pushpak\" was provided"
     ]
    }
   ],
   "source": [
    "\n",
    "data = {\n",
    "    \"id\": \"15\",\n",
    "    \"Fname\": \"pushpak\",\n",
    "    \"Lname\": \"ruhil\"\n",
    "}\n",
    "\n",
    "print(\"after:\", customErrors(**data))\n"
   ],
   "metadata": {
    "collapsed": false,
    "pycharm": {
     "name": "#%%\n"
    }
   }
  },
  {
   "cell_type": "markdown",
   "source": [
    "https://towardsdatascience.com/battle-of-the-data-containers-which-python-typed-structure-is-the-best-6d28fde824e\n",
    "\n",
    "A good guide for comparison between dataclass, pydantic, and other data containers\n",
    "\n",
    "the guide states -> \"Pydantic’s main purpose is parsing and using with ORMs, i.e. it is more suited to do sanitization/validation of data than being a mere container.\"\n",
    "\n",
    "\"However, before using pydantic you have to be sure that in fact, you require to sanitize data, as it will come with a performance hit, as you will see in the following sections.\"\n"
   ],
   "metadata": {
    "collapsed": false,
    "pycharm": {
     "name": "#%% md\n"
    }
   }
  },
  {
   "cell_type": "code",
   "execution_count": 304,
   "outputs": [
    {
     "name": "stdout",
     "output_type": "stream",
     "text": [
      "id=15 Fname='Pushpak' Lname='Ruhil'\n"
     ]
    }
   ],
   "source": [
    "print(customErrors.parse_file(r'data.json'))"
   ],
   "metadata": {
    "collapsed": false,
    "pycharm": {
     "name": "#%%\n"
    }
   }
  },
  {
   "cell_type": "markdown",
   "source": [],
   "metadata": {
    "collapsed": false,
    "pycharm": {
     "name": "#%% md\n"
    }
   }
  },
  {
   "cell_type": "markdown",
   "source": [],
   "metadata": {
    "collapsed": false,
    "pycharm": {
     "name": "#%% md\n"
    }
   }
  },
  {
   "cell_type": "markdown",
   "source": [
    "# Continue from here --->"
   ],
   "metadata": {
    "collapsed": false,
    "pycharm": {
     "name": "#%% md\n"
    }
   }
  },
  {
   "cell_type": "markdown",
   "source": [
    "# Dynamic models\n",
    "\n",
    "when the shape of the data is not known until run-time"
   ],
   "metadata": {
    "collapsed": false,
    "pycharm": {
     "name": "#%% md\n"
    }
   }
  },
  {
   "cell_type": "code",
   "execution_count": 305,
   "outputs": [
    {
     "name": "stdout",
     "output_type": "stream",
     "text": [
      "<class 'pydantic.main.BarModel'>\n"
     ]
    }
   ],
   "source": [
    "from pydantic import BaseModel, create_model\n",
    "from typing import List\n",
    "\n",
    "class FooModel(BaseModel):\n",
    "    foo: str\n",
    "    bar: int = 123\n",
    "\n",
    "\n",
    "BarModel = create_model(\n",
    "    'BarModel',\n",
    "    apple='russet',\n",
    "    banana='yellow',\n",
    "    mango='12354',\n",
    "    __base__=FooModel,\n",
    ")\n",
    "print(BarModel)\n",
    "#> <class 'pydantic.main.BarModel'>"
   ],
   "metadata": {
    "collapsed": false,
    "pycharm": {
     "name": "#%%\n"
    }
   }
  },
  {
   "cell_type": "code",
   "execution_count": 308,
   "outputs": [
    {
     "data": {
      "text/plain": "{'foo': ModelField(name='foo', type=str, required=True),\n 'bar': ModelField(name='bar', type=int, required=False, default=123),\n 'apple': ModelField(name='apple', type=str, required=False, default='russet'),\n 'banana': ModelField(name='banana', type=str, required=False, default='yellow'),\n 'mango': ModelField(name='mango', type=str, required=False, default='12354')}"
     },
     "execution_count": 308,
     "metadata": {},
     "output_type": "execute_result"
    }
   ],
   "source": [
    "BarModel.__fields__"
   ],
   "metadata": {
    "collapsed": false,
    "pycharm": {
     "name": "#%%\n"
    }
   }
  },
  {
   "cell_type": "code",
   "execution_count": 307,
   "outputs": [
    {
     "name": "stdout",
     "output_type": "stream",
     "text": [
      "foo None\n",
      "bar 123\n",
      "apple russet\n",
      "banana yellow\n",
      "mango 12354\n"
     ]
    }
   ],
   "source": [
    "for k, v in BarModel.__fields__.items():\n",
    "    print(k, v.default)\n",
    "    # print(type(v.default))"
   ],
   "metadata": {
    "collapsed": false,
    "pycharm": {
     "name": "#%%\n"
    }
   }
  },
  {
   "cell_type": "code",
   "execution_count": 184,
   "outputs": [],
   "source": [
    "data = {\n",
    "    'streak': '1',\n",
    "    'tracker_count': '3',\n",
    "    'member_since': '172 days',\n",
    "    'trackers': {'28': ['Numbersss', 'num', '2022-07-06T19:16:44.994'],\n",
    "                 '38': ['lets see', 'time_dur', '2022-03-06T23:17'],\n",
    "                '52': ['lets see', 'bool', '2022-03-07T14:30']},\n",
    "    'graph_path': 'static/images/homepage_pushpak.png'\n",
    "}\n",
    "\n",
    "\n",
    "\n",
    "\n",
    "class DashboardJSON(BaseModel):\n",
    "    streak :  int\n",
    "    tracker_count: int\n",
    "    member_since: str\n",
    "    graph_path: str\n",
    "    class Config:\n",
    "        extra = 'allow' # Allows extra attributes without defining them. Works great for dynamic data\n",
    "\n"
   ],
   "metadata": {
    "collapsed": false,
    "pycharm": {
     "name": "#%%\n"
    }
   }
  },
  {
   "cell_type": "code",
   "execution_count": 182,
   "outputs": [
    {
     "ename": "TypeError",
     "evalue": "The type of trackers_Data.streak differs from the new default value; if you wish to change the type of this field, please use a type annotation",
     "output_type": "error",
     "traceback": [
      "\u001B[0;31m---------------------------------------------------------------------------\u001B[0m",
      "\u001B[0;31mTypeError\u001B[0m                                 Traceback (most recent call last)",
      "\u001B[0;32m/var/folders/6j/v9zb038n2bxdy2_vbd43mhnc0000gn/T/ipykernel_27216/2521121886.py\u001B[0m in \u001B[0;36m<module>\u001B[0;34m\u001B[0m\n\u001B[0;32m----> 1\u001B[0;31m \u001B[0mtrackers_data\u001B[0m \u001B[0;34m=\u001B[0m \u001B[0mcreate_model\u001B[0m\u001B[0;34m(\u001B[0m\u001B[0;34m'trackers_Data'\u001B[0m\u001B[0;34m,\u001B[0m \u001B[0;34m**\u001B[0m\u001B[0mdata\u001B[0m\u001B[0;34m,\u001B[0m \u001B[0m__base__\u001B[0m \u001B[0;34m=\u001B[0m \u001B[0mDashboardJSON\u001B[0m\u001B[0;34m)\u001B[0m\u001B[0;34m\u001B[0m\u001B[0;34m\u001B[0m\u001B[0m\n\u001B[0m\u001B[1;32m      2\u001B[0m \u001B[0;32mfor\u001B[0m \u001B[0mk\u001B[0m\u001B[0;34m,\u001B[0m\u001B[0mv\u001B[0m \u001B[0;32min\u001B[0m \u001B[0;34m(\u001B[0m\u001B[0mtrackers_data\u001B[0m\u001B[0;34m.\u001B[0m\u001B[0m__fields__\u001B[0m\u001B[0;34m.\u001B[0m\u001B[0mitems\u001B[0m\u001B[0;34m(\u001B[0m\u001B[0;34m)\u001B[0m\u001B[0;34m)\u001B[0m\u001B[0;34m:\u001B[0m\u001B[0;34m\u001B[0m\u001B[0;34m\u001B[0m\u001B[0m\n\u001B[1;32m      3\u001B[0m     \u001B[0mprint\u001B[0m\u001B[0;34m(\u001B[0m\u001B[0mk\u001B[0m\u001B[0;34m,\u001B[0m \u001B[0mv\u001B[0m\u001B[0;34m.\u001B[0m\u001B[0mdefault\u001B[0m\u001B[0;34m)\u001B[0m\u001B[0;34m\u001B[0m\u001B[0;34m\u001B[0m\u001B[0m\n\u001B[1;32m      4\u001B[0m \u001B[0;34m\u001B[0m\u001B[0m\n",
      "\u001B[0;32m~/opt/anaconda3/lib/python3.9/site-packages/pydantic/main.cpython-39-darwin.so\u001B[0m in \u001B[0;36mpydantic.main.create_model\u001B[0;34m()\u001B[0m\n",
      "\u001B[0;32m~/opt/anaconda3/lib/python3.9/site-packages/pydantic/main.cpython-39-darwin.so\u001B[0m in \u001B[0;36mpydantic.main.ModelMetaclass.__new__\u001B[0;34m()\u001B[0m\n",
      "\u001B[0;31mTypeError\u001B[0m: The type of trackers_Data.streak differs from the new default value; if you wish to change the type of this field, please use a type annotation"
     ]
    }
   ],
   "source": [
    "trackers_data = create_model('trackers_Data', **data, __base__ = DashboardJSON)\n",
    "for k,v in (trackers_data.__fields__.items()):\n",
    "    print(k, v.default)\n"
   ],
   "metadata": {
    "collapsed": false,
    "pycharm": {
     "name": "#%%\n"
    }
   }
  },
  {
   "cell_type": "code",
   "execution_count": 199,
   "outputs": [
    {
     "name": "stdout",
     "output_type": "stream",
     "text": [
      "{\n",
      "   \"streak\": 1,\n",
      "   \"tracker_count\": 3,\n",
      "   \"member_since\": \"172 days\",\n",
      "   \"graph_path\": \"static/images/homepage_pushpak.png\",\n",
      "   \"trackers\": {\n",
      "      \"28\": [\n",
      "         \"Numbersss\",\n",
      "         \"num\",\n",
      "         \"2022-07-06T19:16:44.994\"\n",
      "      ],\n",
      "      \"38\": [\n",
      "         \"lets see\",\n",
      "         \"time_dur\",\n",
      "         \"2022-03-06T23:17\"\n",
      "      ],\n",
      "      \"52\": [\n",
      "         \"lets see\",\n",
      "         \"bool\",\n",
      "         \"2022-03-07T14:30\"\n",
      "      ]\n",
      "   }\n",
      "}\n"
     ]
    }
   ],
   "source": [
    "print(DashboardJSON(**data).json(indent=3))"
   ],
   "metadata": {
    "collapsed": false,
    "pycharm": {
     "name": "#%%\n"
    }
   }
  },
  {
   "cell_type": "code",
   "execution_count": 199,
   "outputs": [],
   "source": [],
   "metadata": {
    "collapsed": false,
    "pycharm": {
     "name": "#%%\n"
    }
   }
  },
  {
   "cell_type": "code",
   "execution_count": 200,
   "outputs": [
    {
     "name": "stdout",
     "output_type": "stream",
     "text": [
      "username=None\n",
      "-------------------\n"
     ]
    },
    {
     "ename": "username_alphanumeric",
     "evalue": "Username must be alpha numeric",
     "output_type": "error",
     "traceback": [
      "\u001B[0;31m---------------------------------------------------------------------------\u001B[0m",
      "\u001B[0;31musername_alphanumeric\u001B[0m                     Traceback (most recent call last)",
      "\u001B[0;32m/var/folders/6j/v9zb038n2bxdy2_vbd43mhnc0000gn/T/ipykernel_27216/2419425208.py\u001B[0m in \u001B[0;36m<module>\u001B[0;34m\u001B[0m\n\u001B[1;32m     30\u001B[0m \u001B[0;34m\u001B[0m\u001B[0m\n\u001B[1;32m     31\u001B[0m \u001B[0;32mtry\u001B[0m\u001B[0;34m:\u001B[0m\u001B[0;34m\u001B[0m\u001B[0;34m\u001B[0m\u001B[0m\n\u001B[0;32m---> 32\u001B[0;31m     \u001B[0mUserModel\u001B[0m\u001B[0;34m(\u001B[0m\u001B[0musername\u001B[0m\u001B[0;34m=\u001B[0m\u001B[0;34m'scolvi##n'\u001B[0m\u001B[0;34m)\u001B[0m\u001B[0;34m\u001B[0m\u001B[0;34m\u001B[0m\u001B[0m\n\u001B[0m\u001B[1;32m     33\u001B[0m \u001B[0;32mexcept\u001B[0m \u001B[0mValidationError\u001B[0m \u001B[0;32mas\u001B[0m \u001B[0me\u001B[0m\u001B[0;34m:\u001B[0m\u001B[0;34m\u001B[0m\u001B[0;34m\u001B[0m\u001B[0m\n\u001B[1;32m     34\u001B[0m     \u001B[0mprint\u001B[0m\u001B[0;34m(\u001B[0m\u001B[0me\u001B[0m\u001B[0;34m)\u001B[0m\u001B[0;34m\u001B[0m\u001B[0;34m\u001B[0m\u001B[0m\n",
      "\u001B[0;32m~/opt/anaconda3/lib/python3.9/site-packages/pydantic/main.cpython-39-darwin.so\u001B[0m in \u001B[0;36mpydantic.main.BaseModel.__init__\u001B[0;34m()\u001B[0m\n",
      "\u001B[0;32m~/opt/anaconda3/lib/python3.9/site-packages/pydantic/main.cpython-39-darwin.so\u001B[0m in \u001B[0;36mpydantic.main.validate_model\u001B[0;34m()\u001B[0m\n",
      "\u001B[0;32m~/opt/anaconda3/lib/python3.9/site-packages/pydantic/fields.cpython-39-darwin.so\u001B[0m in \u001B[0;36mpydantic.fields.ModelField.validate\u001B[0;34m()\u001B[0m\n",
      "\u001B[0;32m~/opt/anaconda3/lib/python3.9/site-packages/pydantic/fields.cpython-39-darwin.so\u001B[0m in \u001B[0;36mpydantic.fields.ModelField._apply_validators\u001B[0;34m()\u001B[0m\n",
      "\u001B[0;32m~/opt/anaconda3/lib/python3.9/site-packages/pydantic/class_validators.cpython-39-darwin.so\u001B[0m in \u001B[0;36mpydantic.class_validators._generic_validator_cls.lambda3\u001B[0;34m()\u001B[0m\n",
      "\u001B[0;32m/var/folders/6j/v9zb038n2bxdy2_vbd43mhnc0000gn/T/ipykernel_27216/2419425208.py\u001B[0m in \u001B[0;36mUsernameException\u001B[0;34m(cls, v)\u001B[0m\n\u001B[1;32m      9\u001B[0m \u001B[0;32mdef\u001B[0m \u001B[0mUsernameException\u001B[0m\u001B[0;34m(\u001B[0m\u001B[0mcls\u001B[0m\u001B[0;34m,\u001B[0m \u001B[0mv\u001B[0m\u001B[0;34m)\u001B[0m\u001B[0;34m:\u001B[0m\u001B[0;34m\u001B[0m\u001B[0;34m\u001B[0m\u001B[0m\n\u001B[1;32m     10\u001B[0m     \u001B[0;32mif\u001B[0m \u001B[0;32mnot\u001B[0m \u001B[0mv\u001B[0m\u001B[0;34m.\u001B[0m\u001B[0misalnum\u001B[0m\u001B[0;34m(\u001B[0m\u001B[0;34m)\u001B[0m\u001B[0;34m:\u001B[0m\u001B[0;34m\u001B[0m\u001B[0;34m\u001B[0m\u001B[0m\n\u001B[0;32m---> 11\u001B[0;31m         \u001B[0;32mraise\u001B[0m \u001B[0musername_alphanumeric\u001B[0m\u001B[0;34m(\u001B[0m\u001B[0;34m\"Username must be alpha numeric\"\u001B[0m\u001B[0;34m)\u001B[0m\u001B[0;34m\u001B[0m\u001B[0;34m\u001B[0m\u001B[0m\n\u001B[0m\u001B[1;32m     12\u001B[0m \u001B[0;34m\u001B[0m\u001B[0m\n\u001B[1;32m     13\u001B[0m our_validator = {\n",
      "\u001B[0;31musername_alphanumeric\u001B[0m: Username must be alpha numeric"
     ]
    }
   ],
   "source": [
    "from pydantic import create_model, ValidationError, validator\n",
    "\n",
    "\n",
    "class username_alphanumeric(Exception):\n",
    "    def __init__(cls, msg):\n",
    "        super().__init__(msg)\n",
    "\n",
    "# ===============\n",
    "def UsernameException(cls, v):\n",
    "    if not v.isalnum():\n",
    "        raise username_alphanumeric(\"Username must be alpha numeric\")\n",
    "\n",
    "our_validator = {\n",
    "    'username_validator': validator('username')(UsernameException)\n",
    "}\n",
    "\n",
    "# ===============\n",
    "\n",
    "UserModel = create_model(\n",
    "    'UserModel',\n",
    "    username=(str, ...),\n",
    "    __validators__=our_validator\n",
    ")\n",
    "\n",
    "user = UserModel(username='scolvin')\n",
    "print(user)\n",
    "\n",
    "\n",
    "print(\"-------------------\")\n",
    "\n",
    "try:\n",
    "    UserModel(username='scolvi##n')\n",
    "except ValidationError as e:\n",
    "    print(e)"
   ],
   "metadata": {
    "collapsed": false,
    "pycharm": {
     "name": "#%%\n"
    }
   }
  },
  {
   "cell_type": "markdown",
   "source": [
    "# Field Ordering"
   ],
   "metadata": {
    "collapsed": false,
    "pycharm": {
     "name": "#%% md\n"
    }
   }
  },
  {
   "cell_type": "code",
   "execution_count": null,
   "outputs": [],
   "source": [],
   "metadata": {
    "collapsed": false,
    "pycharm": {
     "name": "#%%\n"
    }
   }
  },
  {
   "cell_type": "code",
   "execution_count": 214,
   "outputs": [
    {
     "name": "stdout",
     "output_type": "stream",
     "text": [
      "dict_keys(['a', 'c', 'e', 'b', 'd'])\n",
      "-----------\n",
      "{'a': 1, 'c': 1, 'e': 3, 'b': 2, 'd': 0}\n",
      "--------------------------------------------\n",
      "dict_keys(['a', 'b', 'c', 'd', 'e'])\n",
      "-----------\n",
      "{'a': 1, 'b': 2, 'c': 1, 'd': 0, 'e': 2.0}\n"
     ]
    }
   ],
   "source": [
    "\n",
    "class Model(BaseModel):\n",
    "    a: int\n",
    "    b = 2\n",
    "    c: int = 1\n",
    "    d = 0\n",
    "    e: int\n",
    "\n",
    "\n",
    "print(Model.__fields__.keys())\n",
    "print(\"-----------\")\n",
    "m = Model(e=3, a=1, x=10) # x is ignored\n",
    "print(m.dict())\n",
    "print(\"--------------------------------------------\")\n",
    "class Model2(BaseModel):\n",
    "    a: int\n",
    "    b:int = 2\n",
    "    c: int = 1\n",
    "    d:int = 0\n",
    "    e: float\n",
    "\n",
    "print(Model2.__fields__.keys())\n",
    "print(\"-----------\")\n",
    "m = Model2(e=2, a=1)\n",
    "print(m.dict())"
   ],
   "metadata": {
    "collapsed": false,
    "pycharm": {
     "name": "#%%\n"
    }
   }
  },
  {
   "cell_type": "code",
   "execution_count": null,
   "outputs": [],
   "source": [],
   "metadata": {
    "collapsed": false,
    "pycharm": {
     "name": "#%%\n"
    }
   }
  },
  {
   "cell_type": "markdown",
   "source": [
    "Field function to be more specific about fields ->\n",
    "\n",
    "Field() -> https://pydantic-docs.helpmanual.io/usage/schema/#field-customization"
   ],
   "metadata": {
    "collapsed": false,
    "pycharm": {
     "name": "#%% md\n"
    }
   }
  },
  {
   "cell_type": "markdown",
   "source": [
    "# Root validator"
   ],
   "metadata": {
    "collapsed": false,
    "pycharm": {
     "name": "#%% md\n"
    }
   }
  },
  {
   "cell_type": "code",
   "execution_count": null,
   "outputs": [],
   "source": [],
   "metadata": {
    "collapsed": false,
    "pycharm": {
     "name": "#%%\n"
    }
   }
  },
  {
   "cell_type": "code",
   "execution_count": 220,
   "outputs": [
    {
     "name": "stdout",
     "output_type": "stream",
     "text": [
      "username='scolvin' password1='zxcvbn' password2='zxcvbn'\n",
      "--------------------------------------------\n",
      "--------------------------------------------\n",
      "1 validation error for UserModel\n",
      "__root__\n",
      "  passwords do not match (type=value_error)\n",
      "--------------------------------------------\n",
      "--------------------------------------------\n",
      "1 validation error for UserModel\n",
      "__root__\n",
      "  card_number should not be included (type=assertion_error)\n"
     ]
    }
   ],
   "source": [
    "from pydantic import BaseModel, ValidationError, root_validator\n",
    "\n",
    "\n",
    "class UserModel(BaseModel):\n",
    "    username: str\n",
    "    password1: str\n",
    "    password2: str\n",
    "\n",
    "    @root_validator(pre=True)\n",
    "    def check_card_number_omitted(cls, values):\n",
    "        assert 'card_number' not in values, 'card_number should not be included'\n",
    "        return values\n",
    "\n",
    "    @root_validator\n",
    "    def check_passwords_match(cls, values):\n",
    "        pw1, pw2 = values.get('password1'), values.get('password2')\n",
    "        if pw1 is not None and pw2 is not None and pw1 != pw2:\n",
    "            raise ValueError('passwords do not match')\n",
    "        return values\n",
    "\n",
    "\n",
    "print(UserModel(username='scolvin', password1='zxcvbn', password2='zxcvbn'))\n",
    "\n",
    "print(\"--------------------------------------------\")\n",
    "print(\"--------------------------------------------\")\n",
    "try:\n",
    "    UserModel(username='scolvin', password1='zxcvbn', password2='zxcvbn2')\n",
    "except ValidationError as e:\n",
    "    print(e)\n",
    "\n",
    "\n",
    "\n",
    "print(\"--------------------------------------------\")\n",
    "print(\"--------------------------------------------\")\n",
    "\n",
    "try:\n",
    "    UserModel(\n",
    "        username='scolvin',\n",
    "        password1='zxcvbn',\n",
    "        password2='zxcvbn',\n",
    "        card_number='1234',\n",
    "    )\n",
    "except ValidationError as e:\n",
    "    print(e)"
   ],
   "metadata": {
    "collapsed": false,
    "pycharm": {
     "name": "#%%\n"
    }
   }
  },
  {
   "cell_type": "code",
   "execution_count": 220,
   "outputs": [],
   "source": [],
   "metadata": {
    "collapsed": false,
    "pycharm": {
     "name": "#%%\n"
    }
   }
  },
  {
   "cell_type": "markdown",
   "source": [
    "# Config sub-class\n",
    "\n",
    "options available -> https://pydantic-docs.helpmanual.io/usage/model_config/#options"
   ],
   "metadata": {
    "collapsed": false,
    "pycharm": {
     "name": "#%% md\n"
    }
   }
  },
  {
   "cell_type": "code",
   "execution_count": 229,
   "outputs": [],
   "source": [
    "class Model(BaseModel):\n",
    "    v: str\n",
    "\n",
    "    class Config:\n",
    "        title= \"Hello there\"\n",
    "        # pass\n"
   ],
   "metadata": {
    "collapsed": false,
    "pycharm": {
     "name": "#%%\n"
    }
   }
  },
  {
   "cell_type": "code",
   "execution_count": 230,
   "outputs": [
    {
     "name": "stdout",
     "output_type": "stream",
     "text": [
      "{\n",
      "  \"title\": \"Hello there\",\n",
      "  \"type\": \"object\",\n",
      "  \"properties\": {\n",
      "    \"v\": {\n",
      "      \"title\": \"V\",\n",
      "      \"type\": \"string\"\n",
      "    }\n",
      "  },\n",
      "  \"required\": [\n",
      "    \"v\"\n",
      "  ]\n",
      "}\n"
     ]
    }
   ],
   "source": [
    "print( Model(v=\"A string to be passed\").schema_json(indent=2) )"
   ],
   "metadata": {
    "collapsed": false,
    "pycharm": {
     "name": "#%%\n"
    }
   }
  },
  {
   "cell_type": "markdown",
   "source": [
    "# Alias generator"
   ],
   "metadata": {
    "collapsed": false,
    "pycharm": {
     "name": "#%% md\n"
    }
   }
  },
  {
   "cell_type": "code",
   "execution_count": 233,
   "outputs": [
    {
     "name": "stdout",
     "output_type": "stream",
     "text": [
      "dict_keys(['name', 'language_code'])\n",
      "{'Name': 'Filiz', 'LanguageCode': 'tr-TR'}\n"
     ]
    }
   ],
   "source": [
    "def to_camel(string: str) -> str:\n",
    "    return ''.join(word.capitalize() for word in string.split('_'))\n",
    "\n",
    "\n",
    "class Voice(BaseModel):\n",
    "    name: str\n",
    "    language_code: str\n",
    "\n",
    "    class Config:\n",
    "        alias_generator = to_camel\n",
    "\n",
    "\n",
    "voice = Voice(Name='Filiz', LanguageCode='tr-TR')\n",
    "print(voice.__fields__.keys())\n",
    "\n",
    "print(voice.dict(by_alias=True))"
   ],
   "metadata": {
    "collapsed": false,
    "pycharm": {
     "name": "#%%\n"
    }
   }
  },
  {
   "cell_type": "markdown",
   "source": [
    "# Union of data types to allow multiple"
   ],
   "metadata": {
    "collapsed": false,
    "pycharm": {
     "name": "#%% md\n"
    }
   }
  },
  {
   "cell_type": "code",
   "execution_count": 234,
   "outputs": [
    {
     "name": "stdout",
     "output_type": "stream",
     "text": [
      "x='1' y=Foo()\n"
     ]
    }
   ],
   "source": [
    "from typing import Union\n",
    "\n",
    "from pydantic import BaseModel\n",
    "\n",
    "\n",
    "class Foo(BaseModel):\n",
    "    pass\n",
    "\n",
    "\n",
    "class Bar(BaseModel):\n",
    "    pass\n",
    "\n",
    "\n",
    "class Model(BaseModel):\n",
    "    x: Union[str, int]\n",
    "    y: Union[Foo, Bar]\n",
    "\n",
    "    # class Config:\n",
    "    #     smart_union = True\n",
    "\n",
    "\n",
    "print(Model(x=1, y=Bar()))"
   ],
   "metadata": {
    "collapsed": false,
    "pycharm": {
     "name": "#%%\n"
    }
   }
  },
  {
   "cell_type": "markdown",
   "source": [
    "pydantic tries to validate in the order of the Union. So sometimes you may have unexpected coerced data.\n",
    "\n",
    "This can be prevented using the class Config"
   ],
   "metadata": {
    "collapsed": false,
    "pycharm": {
     "name": "#%% md\n"
    }
   }
  },
  {
   "cell_type": "markdown",
   "source": [
    "# Pvt attributes"
   ],
   "metadata": {
    "collapsed": false,
    "pycharm": {
     "name": "#%% md\n"
    }
   }
  },
  {
   "cell_type": "code",
   "execution_count": 237,
   "outputs": [],
   "source": [
    "class Model(BaseModel):\n",
    "    x: int\n",
    "    y: int\n",
    "    _pvt : str\n",
    "\n",
    "test = Model(x=10, y=15, _pvt=\"this will be ingored, can only be set from the class\")"
   ],
   "metadata": {
    "collapsed": false,
    "pycharm": {
     "name": "#%%\n"
    }
   }
  },
  {
   "cell_type": "code",
   "execution_count": 239,
   "outputs": [
    {
     "data": {
      "text/plain": "'{\"x\": 10, \"y\": 15}'"
     },
     "execution_count": 239,
     "metadata": {},
     "output_type": "execute_result"
    }
   ],
   "source": [
    "test.json()"
   ],
   "metadata": {
    "collapsed": false,
    "pycharm": {
     "name": "#%%\n"
    }
   }
  },
  {
   "cell_type": "code",
   "execution_count": 244,
   "outputs": [],
   "source": [
    "maps_data = {\n",
    "  \"destination_addresses\": [\n",
    "    \"Washington, DC, USA\",\n",
    "    \"Philadelphia, PA, USA\",\n",
    "    \"Santa Barbara, CA, USA\",\n",
    "    \"Miami, FL, USA\",\n",
    "    \"Austin, TX, USA\",\n",
    "    \"Napa County, CA, USA\"\n",
    "  ],\n",
    "  \"origin_addresses\": [\n",
    "    \"New York, NY, USA\"\n",
    "  ],\n",
    "  \"rows\": [{\n",
    "    \"elements\": [{\n",
    "        \"distance\": {\n",
    "          \"text\": \"227 mi\",\n",
    "          \"value\": 365468\n",
    "        },\n",
    "        \"duration\": {\n",
    "          \"text\": \"3 hours 54 mins\",\n",
    "          \"value\": 14064\n",
    "        },\n",
    "        \"status\": \"OK\"\n",
    "      },\n",
    "      {\n",
    "        \"distance\": {\n",
    "          \"text\": \"94.6 mi\",\n",
    "          \"value\": 152193\n",
    "        },\n",
    "        \"duration\": {\n",
    "          \"text\": \"1 hour 44 mins\",\n",
    "          \"value\": 6227\n",
    "        },\n",
    "        \"status\": \"OK\"\n",
    "      },\n",
    "      {\n",
    "        \"distance\": {\n",
    "          \"text\": \"2,878 mi\",\n",
    "          \"value\": 4632197\n",
    "        },\n",
    "        \"duration\": {\n",
    "          \"text\": \"1 day 18 hours\",\n",
    "          \"value\": 151772\n",
    "        },\n",
    "        \"status\": \"OK\"\n",
    "      },\n",
    "      {\n",
    "        \"distance\": {\n",
    "          \"text\": \"1,286 mi\",\n",
    "          \"value\": 2069031\n",
    "        },\n",
    "        \"duration\": {\n",
    "          \"text\": \"18 hours 43 mins\",\n",
    "          \"value\": 67405\n",
    "        },\n",
    "        \"status\": \"OK\"\n",
    "      },\n",
    "      {\n",
    "        \"distance\": {\n",
    "          \"text\": \"1,742 mi\",\n",
    "          \"value\": 2802972\n",
    "        },\n",
    "        \"duration\": {\n",
    "          \"text\": \"1 day 2 hours\",\n",
    "          \"value\": 93070\n",
    "        },\n",
    "        \"status\": \"OK\"\n",
    "      },\n",
    "      {\n",
    "        \"distance\": {\n",
    "          \"text\": \"2,871 mi\",\n",
    "          \"value\": 4620514\n",
    "        },\n",
    "        \"duration\": {\n",
    "          \"text\": \"1 day 18 hours\",\n",
    "          \"value\": 152913\n",
    "        },\n",
    "        \"status\": \"OK\"\n",
    "      }\n",
    "    ]\n",
    "  }],\n",
    "  \"status\": \"OK\"\n",
    "}"
   ],
   "metadata": {
    "collapsed": false,
    "pycharm": {
     "name": "#%%\n"
    }
   }
  },
  {
   "cell_type": "code",
   "execution_count": 270,
   "outputs": [],
   "source": [
    "\n",
    "def json_extract(obj, key):\n",
    "    \"\"\"Recursively fetch values from nested JSON.\"\"\"\n",
    "    arr = []\n",
    "\n",
    "    def extract(obj, arr, key):\n",
    "        \"\"\"Recursively search for values of key in JSON tree.\"\"\"\n",
    "        if isinstance(obj, dict):\n",
    "            for k, v in obj.items():\n",
    "                if isinstance(v, (dict, list)):\n",
    "                    extract(v, arr, key)\n",
    "                elif k == key:\n",
    "                    arr.append(v)\n",
    "        elif isinstance(obj, list):\n",
    "            for item in obj:\n",
    "                extract(item, arr, key)\n",
    "        return arr\n",
    "\n",
    "    values = extract(obj, arr, key)\n",
    "    return values"
   ],
   "metadata": {
    "collapsed": false,
    "pycharm": {
     "name": "#%%\n"
    }
   }
  },
  {
   "cell_type": "code",
   "execution_count": 271,
   "outputs": [],
   "source": [
    "map_result = json_extract(maps_data, 'text')\n",
    "\n",
    "\n"
   ],
   "metadata": {
    "collapsed": false,
    "pycharm": {
     "name": "#%%\n"
    }
   }
  },
  {
   "cell_type": "code",
   "execution_count": 277,
   "outputs": [],
   "source": [
    "map_distance = map_result[0::2]\n",
    "map_time = map_result[1::2]"
   ],
   "metadata": {
    "collapsed": false,
    "pycharm": {
     "name": "#%%\n"
    }
   }
  },
  {
   "cell_type": "code",
   "execution_count": 284,
   "outputs": [
    {
     "name": "stdout",
     "output_type": "stream",
     "text": [
      "3 hours 54 mins required for a distance of 227 mi\n",
      "1 hour 44 mins required for a distance of 94.6 mi\n",
      "1 day 18 hours required for a distance of 2,878 mi\n",
      "18 hours 43 mins required for a distance of 1,286 mi\n",
      "1 day 2 hours required for a distance of 1,742 mi\n",
      "1 day 18 hours required for a distance of 2,871 mi\n"
     ]
    }
   ],
   "source": [
    "for d,t in zip(map_distance, map_time):\n",
    "    print(f'{t} required for a distance of {d}')"
   ],
   "metadata": {
    "collapsed": false,
    "pycharm": {
     "name": "#%%\n"
    }
   }
  },
  {
   "cell_type": "code",
   "execution_count": null,
   "outputs": [],
   "source": [],
   "metadata": {
    "collapsed": false,
    "pycharm": {
     "name": "#%%\n"
    }
   }
  }
 ],
 "metadata": {
  "kernelspec": {
   "display_name": "Python 3 (ipykernel)",
   "language": "python",
   "name": "python3"
  },
  "language_info": {
   "codemirror_mode": {
    "name": "ipython",
    "version": 3
   },
   "file_extension": ".py",
   "mimetype": "text/x-python",
   "name": "python",
   "nbconvert_exporter": "python",
   "pygments_lexer": "ipython3",
   "version": "3.9.10"
  },
  "toc": {
   "base_numbering": 1,
   "nav_menu": {},
   "number_sections": true,
   "sideBar": true,
   "skip_h1_title": false,
   "title_cell": "Table of Contents",
   "title_sidebar": "Contents",
   "toc_cell": false,
   "toc_position": {},
   "toc_section_display": true,
   "toc_window_display": false
  },
  "varInspector": {
   "cols": {
    "lenName": 16,
    "lenType": 16,
    "lenVar": 40
   },
   "kernels_config": {
    "python": {
     "delete_cmd_postfix": "",
     "delete_cmd_prefix": "del ",
     "library": "var_list.py",
     "varRefreshCmd": "print(var_dic_list())"
    },
    "r": {
     "delete_cmd_postfix": ") ",
     "delete_cmd_prefix": "rm(",
     "library": "var_list.r",
     "varRefreshCmd": "cat(var_dic_list()) "
    }
   },
   "types_to_exclude": [
    "module",
    "function",
    "builtin_function_or_method",
    "instance",
    "_Feature"
   ],
   "window_display": false
  }
 },
 "nbformat": 4,
 "nbformat_minor": 5
}
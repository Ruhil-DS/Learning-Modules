{
 "cells": [
  {
   "cell_type": "markdown",
   "metadata": {
    "collapsed": true,
    "pycharm": {
     "name": "#%% md\n"
    }
   },
   "source": [
    "# Basics Understanding ->"
   ]
  },
  {
   "cell_type": "markdown",
   "source": [
    "BASIC WORK-FLOW -->\n",
    "\n",
    "create an engine to connect with the database file/server\n",
    "\n",
    "create a connection using the engine.\n",
    "\n",
    "execute commands with the connection.\n",
    "\n",
    "\n",
    "\n",
    "\n"
   ],
   "metadata": {
    "collapsed": false,
    "pycharm": {
     "name": "#%% md\n"
    }
   }
  },
  {
   "cell_type": "markdown",
   "source": [
    "importing everything"
   ],
   "metadata": {
    "collapsed": false,
    "pycharm": {
     "name": "#%% md\n"
    }
   }
  },
  {
   "cell_type": "code",
   "execution_count": 285,
   "outputs": [],
   "source": [
    "import sqlalchemy as sqla\n",
    "from sqlalchemy import Column\n",
    "from sqlalchemy import ForeignKey\n",
    "from sqlalchemy import Integer\n",
    "from sqlalchemy import String\n",
    "from sqlalchemy.orm import declarative_base\n",
    "\n",
    "\n",
    "from sqlalchemy.orm import relationship\n",
    "\n",
    "AlchemyBase = declarative_base()"
   ],
   "metadata": {
    "collapsed": false,
    "pycharm": {
     "name": "#%%\n"
    }
   }
  },
  {
   "cell_type": "markdown",
   "source": [
    "## Defining the schema for our ORM"
   ],
   "metadata": {
    "collapsed": false,
    "pycharm": {
     "name": "#%% md\n"
    }
   }
  },
  {
   "cell_type": "code",
   "execution_count": 286,
   "outputs": [],
   "source": [
    "class Course(AlchemyBase):\n",
    "    __tablename__ = 'course'\n",
    "    course_id = Column(Integer, primary_key=True, autoincrement=True)\n",
    "    course_code = Column(String, unique=True, nullable=False)\n",
    "    course_name = Column(String, nullable=False)\n",
    "    course_description = Column(String)\n",
    "\n",
    "\n",
    "class Student(AlchemyBase):\n",
    "    __tablename__ = 'student'\n",
    "    student_id = Column(Integer, primary_key=True, autoincrement=True)\n",
    "    roll_number = Column(String, unique=True, nullable=False)\n",
    "    first_name = Column(String, nullable=False)\n",
    "    last_name = Column(String)\n",
    "\n",
    "\n",
    "class Enrolments(AlchemyBase):\n",
    "    __tablename__ = 'enrollments'\n",
    "    enrollment_id = Column(Integer, primary_key=True, autoincrement=True)\n",
    "    estudent_id = Column(Integer, ForeignKey(Student.student_id), nullable=False)\n",
    "    ecourse_id = Column(Integer, ForeignKey(Course.course_id), nullable=False)\n"
   ],
   "metadata": {
    "collapsed": false,
    "pycharm": {
     "name": "#%%\n"
    }
   }
  },
  {
   "cell_type": "code",
   "execution_count": 287,
   "outputs": [],
   "source": [
    "import sqlalchemy as db\n",
    "from sqlalchemy import *\n",
    "\n"
   ],
   "metadata": {
    "collapsed": false,
    "pycharm": {
     "name": "#%%\n"
    }
   }
  },
  {
   "cell_type": "code",
   "execution_count": 288,
   "outputs": [],
   "source": [
    "engine = create_engine(\"sqlite:///database.sqlite3\")"
   ],
   "metadata": {
    "collapsed": false,
    "pycharm": {
     "name": "#%%\n"
    }
   }
  },
  {
   "cell_type": "code",
   "execution_count": 289,
   "outputs": [],
   "source": [
    "connection = engine.connect()"
   ],
   "metadata": {
    "collapsed": false,
    "pycharm": {
     "name": "#%%\n"
    }
   }
  },
  {
   "cell_type": "code",
   "execution_count": 290,
   "outputs": [],
   "source": [
    "Session = db.orm.sessionmaker(bind=engine)\n",
    "\n",
    "session = Session()\n",
    "\n"
   ],
   "metadata": {
    "collapsed": false,
    "pycharm": {
     "name": "#%%\n"
    }
   }
  },
  {
   "cell_type": "code",
   "execution_count": 291,
   "outputs": [
    {
     "name": "stdout",
     "output_type": "stream",
     "text": [
      "['course', 'enrollments', 'sqlite_sequence', 'student']\n"
     ]
    },
    {
     "name": "stderr",
     "output_type": "stream",
     "text": [
      "/var/folders/6j/v9zb038n2bxdy2_vbd43mhnc0000gn/T/ipykernel_66096/1320240585.py:1: SADeprecationWarning: The Engine.table_names() method is deprecated and will be removed in a future release.  Please refer to Inspector.get_table_names(). (deprecated since: 1.4)\n",
      "  print(engine.table_names());\n"
     ]
    }
   ],
   "source": [
    "print(engine.table_names());"
   ],
   "metadata": {
    "collapsed": false,
    "pycharm": {
     "name": "#%%\n"
    }
   }
  },
  {
   "cell_type": "code",
   "execution_count": 292,
   "outputs": [],
   "source": [
    "def print_results(query_to_execute):\n",
    "    columns = connection.execute(query_to_execute).keys()\n",
    "    results = connection.execute(query_to_execute)\n",
    "\n",
    "    for column in columns:\n",
    "        print(column, end=\" | \")\n",
    "    print(\"\\n---------------------------------------------------------------\")\n",
    "\n",
    "    for result in results.fetchall(): # No need to explicitly mention fetchall()\n",
    "        for data in result:\n",
    "            print(data, end=\"     |      \")\n",
    "        print()\n",
    "\n"
   ],
   "metadata": {
    "collapsed": false,
    "pycharm": {
     "name": "#%%\n"
    }
   }
  },
  {
   "cell_type": "code",
   "execution_count": 297,
   "outputs": [
    {
     "name": "stdout",
     "output_type": "stream",
     "text": [
      "(1, 'CSE01', 'MAD I', 'Modern Application Development - I')\n",
      "(2, 'CSE02', 'DBMS', 'Database management Systems')\n",
      "(3, 'CSE03', 'PDSA', 'Programming, Data Structures and Algorithms using Python')\n",
      "(4, 'BST13', 'BDM', 'Business Data Management')\n",
      "(7, 'PG001', 'JAVA', 'Programming concepts using JAVA')\n"
     ]
    }
   ],
   "source": [
    "result = connection.execute(\"SELECT course.course_id, course.course_code, course.course_name, course.course_description FROM course\")\n",
    "\n",
    "for r in result:\n",
    "    print(r)"
   ],
   "metadata": {
    "collapsed": false,
    "pycharm": {
     "name": "#%%\n"
    }
   }
  },
  {
   "cell_type": "code",
   "source": [
    "\n",
    "query = select(Course)\n",
    "print(\"-----------\")\n",
    "print(query)\n",
    "print(\"-----------\")\n",
    "print_results(query)"
   ],
   "metadata": {
    "collapsed": false,
    "pycharm": {
     "name": "#%%\n"
    }
   },
   "execution_count": 296,
   "outputs": [
    {
     "name": "stdout",
     "output_type": "stream",
     "text": [
      "-----------\n",
      "SELECT course.course_id, course.course_code, course.course_name, course.course_description \n",
      "FROM course\n",
      "-----------\n",
      "course_id | course_code | course_name | course_description | \n",
      "---------------------------------------------------------------\n",
      "1     |      CSE01     |      MAD I     |      Modern Application Development - I     |      \n",
      "2     |      CSE02     |      DBMS     |      Database management Systems     |      \n",
      "3     |      CSE03     |      PDSA     |      Programming, Data Structures and Algorithms using Python     |      \n",
      "4     |      BST13     |      BDM     |      Business Data Management     |      \n",
      "7     |      PG001     |      JAVA     |      Programming concepts using JAVA     |      \n"
     ]
    }
   ]
  },
  {
   "cell_type": "markdown",
   "source": [],
   "metadata": {
    "collapsed": false,
    "pycharm": {
     "name": "#%% md\n"
    }
   }
  },
  {
   "cell_type": "markdown",
   "source": [
    "# WHERE CLAUSE"
   ],
   "metadata": {
    "collapsed": false,
    "pycharm": {
     "name": "#%% md\n"
    }
   }
  },
  {
   "cell_type": "code",
   "execution_count": 299,
   "outputs": [],
   "source": [
    "query = select(Course).where(Course.course_name == 'MAD I')"
   ],
   "metadata": {
    "collapsed": false,
    "pycharm": {
     "name": "#%%\n"
    }
   }
  },
  {
   "cell_type": "code",
   "execution_count": 300,
   "outputs": [
    {
     "name": "stdout",
     "output_type": "stream",
     "text": [
      "course_id | course_code | course_name | course_description | \n",
      "---------------------------------------------------------------\n",
      "1     |      CSE01     |      MAD I     |      Modern Application Development - I     |      \n"
     ]
    }
   ],
   "source": [
    "print_results(query)"
   ],
   "metadata": {
    "collapsed": false,
    "pycharm": {
     "name": "#%%\n"
    }
   }
  },
  {
   "cell_type": "markdown",
   "source": [
    "# AND / OR / NOT conditions in WHERE clause"
   ],
   "metadata": {
    "collapsed": false,
    "pycharm": {
     "name": "#%% md\n"
    }
   }
  },
  {
   "cell_type": "markdown",
   "source": [
    "## OR"
   ],
   "metadata": {
    "collapsed": false,
    "pycharm": {
     "name": "#%% md\n"
    }
   }
  },
  {
   "cell_type": "code",
   "execution_count": 301,
   "outputs": [
    {
     "name": "stdout",
     "output_type": "stream",
     "text": [
      "course_id | course_code | course_name | course_description | \n",
      "---------------------------------------------------------------\n",
      "1     |      CSE01     |      MAD I     |      Modern Application Development - I     |      \n",
      "3     |      CSE03     |      PDSA     |      Programming, Data Structures and Algorithms using Python     |      \n",
      "4     |      BST13     |      BDM     |      Business Data Management     |      \n"
     ]
    }
   ],
   "source": [
    "query = select(Course).where(or_(Course.course_name == 'MAD I', Course.course_name == 'PDSA', Course.course_name == 'BDM'))\n",
    "print_results(query)"
   ],
   "metadata": {
    "collapsed": false,
    "pycharm": {
     "name": "#%%\n"
    }
   }
  },
  {
   "cell_type": "markdown",
   "source": [
    "## AND"
   ],
   "metadata": {
    "collapsed": false,
    "pycharm": {
     "name": "#%% md\n"
    }
   }
  },
  {
   "cell_type": "code",
   "execution_count": 169,
   "outputs": [
    {
     "name": "stdout",
     "output_type": "stream",
     "text": [
      "student_id | roll_number | first_name | last_name | \n",
      "---------------------------------------------------------------\n",
      "19     |      102     |      Pushpak     |      Ruhil     |      \n",
      "20     |      103     |      XYZ     |      Ruhil     |      \n",
      "21     |      104     |      PQR     |      Ruhil     |      \n",
      "22     |      105     |      ABC     |      Ruhil     |      \n"
     ]
    }
   ],
   "source": [
    "query = select(Student).where(Student.last_name == 'Ruhil')\n",
    "\n",
    "print_results(query)"
   ],
   "metadata": {
    "collapsed": false,
    "pycharm": {
     "name": "#%%\n"
    }
   }
  },
  {
   "cell_type": "code",
   "execution_count": 302,
   "outputs": [
    {
     "name": "stdout",
     "output_type": "stream",
     "text": [
      "student_id | roll_number | first_name | last_name | \n",
      "---------------------------------------------------------------\n",
      "22     |      105     |      ABC     |      Ruhil     |      \n"
     ]
    }
   ],
   "source": [
    "query = select(Student).where(and_(Student.first_name == 'ABC', Student.last_name == 'Ruhil'))\n",
    "\n",
    "print_results(query)"
   ],
   "metadata": {
    "collapsed": false,
    "pycharm": {
     "name": "#%%\n"
    }
   }
  },
  {
   "cell_type": "markdown",
   "source": [
    "## NOT"
   ],
   "metadata": {
    "collapsed": false,
    "pycharm": {
     "name": "#%% md\n"
    }
   }
  },
  {
   "cell_type": "code",
   "execution_count": 173,
   "outputs": [
    {
     "name": "stdout",
     "output_type": "stream",
     "text": [
      "student_id | roll_number | first_name | last_name | \n",
      "---------------------------------------------------------------\n",
      "18     |      101     |      Pushpak     |           |      \n",
      "19     |      102     |      Pushpak     |      Ruhil     |      \n",
      "21     |      104     |      PQR     |      Ruhil     |      \n",
      "22     |      105     |      ABC     |      Ruhil     |      \n"
     ]
    }
   ],
   "source": [
    "query = select(Student).where(not_(Student.roll_number == 103))\n",
    "\n",
    "print_results(query)"
   ],
   "metadata": {
    "collapsed": false,
    "pycharm": {
     "name": "#%%\n"
    }
   }
  },
  {
   "cell_type": "markdown",
   "source": [
    "# IN"
   ],
   "metadata": {
    "collapsed": false,
    "pycharm": {
     "name": "#%% md\n"
    }
   }
  },
  {
   "cell_type": "code",
   "execution_count": 174,
   "outputs": [
    {
     "name": "stdout",
     "output_type": "stream",
     "text": [
      "student_id | roll_number | first_name | last_name | \n",
      "---------------------------------------------------------------\n",
      "20     |      103     |      XYZ     |      Ruhil     |      \n",
      "22     |      105     |      ABC     |      Ruhil     |      \n"
     ]
    }
   ],
   "source": [
    "query = select(Student).where(Student.first_name.in_([\"ABC\", \"XYZ\"]))\n",
    "\n",
    "print_results(query)"
   ],
   "metadata": {
    "collapsed": false,
    "pycharm": {
     "name": "#%%\n"
    }
   }
  },
  {
   "cell_type": "markdown",
   "source": [
    "# NOT IN"
   ],
   "metadata": {
    "collapsed": false,
    "pycharm": {
     "name": "#%% md\n"
    }
   }
  },
  {
   "cell_type": "code",
   "execution_count": 179,
   "outputs": [
    {
     "name": "stdout",
     "output_type": "stream",
     "text": [
      "student_id | roll_number | first_name | last_name | \n",
      "---------------------------------------------------------------\n",
      "21     |      104     |      PQR     |      Ruhil     |      \n",
      "22     |      105     |      ABC     |      Ruhil     |      \n"
     ]
    }
   ],
   "source": [
    "query = select(Student).where(Student.first_name.notin_([\"Pushpak\", \"XYZ\"]))\n",
    "\n",
    "print_results(query)"
   ],
   "metadata": {
    "collapsed": false,
    "pycharm": {
     "name": "#%%\n"
    }
   }
  },
  {
   "cell_type": "code",
   "execution_count": 182,
   "outputs": [
    {
     "name": "stdout",
     "output_type": "stream",
     "text": [
      "student_id | roll_number | first_name | last_name | \n",
      "---------------------------------------------------------------\n",
      "18     |      101     |      Pushpak     |           |      \n",
      "19     |      102     |      Pushpak     |      Ruhil     |      \n",
      "20     |      103     |      XYZ     |      Ruhil     |      \n",
      "21     |      104     |      PQR     |      Ruhil     |      \n",
      "22     |      105     |      ABC     |      Ruhil     |      \n"
     ]
    }
   ],
   "source": [
    "query = select(Student).order_by(asc(Student.roll_number))\n",
    "\n",
    "print_results(query)"
   ],
   "metadata": {
    "collapsed": false,
    "pycharm": {
     "name": "#%%\n"
    }
   }
  },
  {
   "cell_type": "code",
   "execution_count": 183,
   "outputs": [
    {
     "name": "stdout",
     "output_type": "stream",
     "text": [
      "student_id | roll_number | first_name | last_name | \n",
      "---------------------------------------------------------------\n",
      "22     |      105     |      ABC     |      Ruhil     |      \n",
      "21     |      104     |      PQR     |      Ruhil     |      \n",
      "20     |      103     |      XYZ     |      Ruhil     |      \n",
      "19     |      102     |      Pushpak     |      Ruhil     |      \n",
      "18     |      101     |      Pushpak     |           |      \n"
     ]
    }
   ],
   "source": [
    "query = select(Student).order_by(desc(Student.roll_number))\n",
    "\n",
    "print_results(query)"
   ],
   "metadata": {
    "collapsed": false,
    "pycharm": {
     "name": "#%%\n"
    }
   }
  },
  {
   "cell_type": "markdown",
   "source": [
    "# Using SQL Functions and Group by"
   ],
   "metadata": {
    "collapsed": false,
    "pycharm": {
     "name": "#%% md\n"
    }
   }
  },
  {
   "cell_type": "code",
   "execution_count": 193,
   "outputs": [
    {
     "name": "stdout",
     "output_type": "stream",
     "text": [
      "Student Count | first_name | \n",
      "---------------------------------------------------------------\n",
      "2     |      Pushpak     |      \n",
      "1     |      XYZ     |      \n",
      "1     |      PQR     |      \n",
      "1     |      ABC     |      \n"
     ]
    }
   ],
   "source": [
    "query = select(func.count(Student.first_name).label(\"Student Count\"), Student.first_name).group_by(Student.first_name).order_by(desc(\"Student Count\"))\n",
    "\n",
    "print_results(query)"
   ],
   "metadata": {
    "collapsed": false,
    "pycharm": {
     "name": "#%%\n"
    }
   }
  },
  {
   "cell_type": "code",
   "execution_count": 194,
   "outputs": [
    {
     "name": "stdout",
     "output_type": "stream",
     "text": [
      "Sum of Roll | \n",
      "---------------------------------------------------------------\n",
      "515     |      \n"
     ]
    }
   ],
   "source": [
    "query = select(func.sum(Student.roll_number).label(\"Sum of Roll\"))\n",
    "\n",
    "print_results(query)"
   ],
   "metadata": {
    "collapsed": false,
    "pycharm": {
     "name": "#%%\n"
    }
   }
  },
  {
   "cell_type": "markdown",
   "source": [
    "# Distinct"
   ],
   "metadata": {
    "collapsed": false,
    "pycharm": {
     "name": "#%% md\n"
    }
   }
  },
  {
   "cell_type": "code",
   "execution_count": 196,
   "outputs": [
    {
     "name": "stdout",
     "output_type": "stream",
     "text": [
      "first_name | \n",
      "---------------------------------------------------------------\n",
      "Pushpak     |      \n",
      "XYZ     |      \n",
      "PQR     |      \n",
      "ABC     |      \n"
     ]
    }
   ],
   "source": [
    "query = select(Student.first_name.distinct())\n",
    "\n",
    "print_results(query)"
   ],
   "metadata": {
    "collapsed": false,
    "pycharm": {
     "name": "#%%\n"
    }
   }
  },
  {
   "cell_type": "code",
   "execution_count": 201,
   "outputs": [
    {
     "name": "stdout",
     "output_type": "stream",
     "text": [
      "Distinct Names | student_id | roll_number | first_name | last_name | \n",
      "---------------------------------------------------------------\n",
      "Pushpak     |      18     |      101     |      Pushpak     |           |      \n",
      "Pushpak     |      19     |      102     |      Pushpak     |      Ruhil     |      \n",
      "XYZ     |      20     |      103     |      XYZ     |      Ruhil     |      \n",
      "PQR     |      21     |      104     |      PQR     |      Ruhil     |      \n",
      "ABC     |      22     |      105     |      ABC     |      Ruhil     |      \n"
     ]
    }
   ],
   "source": [
    "query = select(Student.first_name.distinct().label(\"Distinct Names\"), \"*\")\n",
    "\n",
    "print_results(query)"
   ],
   "metadata": {
    "collapsed": false,
    "pycharm": {
     "name": "#%%\n"
    }
   }
  },
  {
   "cell_type": "markdown",
   "source": [
    "# Limit"
   ],
   "metadata": {
    "collapsed": false,
    "pycharm": {
     "name": "#%% md\n"
    }
   }
  },
  {
   "cell_type": "code",
   "execution_count": 214,
   "outputs": [
    {
     "name": "stdout",
     "output_type": "stream",
     "text": [
      "student_id | roll_number | first_name | last_name | \n",
      "---------------------------------------------------------------\n",
      "22     |      105     |      ABC     |      Ruhil     |      \n",
      "21     |      104     |      PQR     |      Ruhil     |      \n"
     ]
    }
   ],
   "source": [
    "query = select(Student).order_by(desc(Student.roll_number)).limit(2)\n",
    "\n",
    "print_results(query)"
   ],
   "metadata": {
    "collapsed": false,
    "pycharm": {
     "name": "#%%\n"
    }
   }
  },
  {
   "cell_type": "markdown",
   "source": [
    "# Join"
   ],
   "metadata": {
    "collapsed": false,
    "pycharm": {
     "name": "#%% md\n"
    }
   }
  },
  {
   "cell_type": "markdown",
   "source": [],
   "metadata": {
    "collapsed": false,
    "pycharm": {
     "name": "#%% md\n"
    }
   }
  },
  {
   "cell_type": "code",
   "execution_count": 219,
   "outputs": [
    {
     "name": "stdout",
     "output_type": "stream",
     "text": [
      "student_id | roll_number | first_name | last_name | enrollment_id | estudent_id | ecourse_id | \n",
      "---------------------------------------------------------------\n",
      "18     |      101     |      Pushpak     |           |      31     |      18     |      1     |      \n",
      "18     |      101     |      Pushpak     |           |      32     |      18     |      2     |      \n"
     ]
    }
   ],
   "source": [
    "query = select(Student, Enrolments).where(Student.student_id == Enrolments.estudent_id)\n",
    "\n",
    "print_results(query)"
   ],
   "metadata": {
    "collapsed": false,
    "pycharm": {
     "name": "#%%\n"
    }
   }
  },
  {
   "cell_type": "code",
   "execution_count": 231,
   "outputs": [
    {
     "name": "stdout",
     "output_type": "stream",
     "text": [
      "student_id | roll_number | first_name | last_name | enrollment_id | estudent_id | ecourse_id | \n",
      "---------------------------------------------------------------\n",
      "18     |      101     |      Pushpak     |           |      31     |      18     |      1     |      \n",
      "18     |      101     |      Pushpak     |           |      32     |      18     |      2     |      \n"
     ]
    }
   ],
   "source": [
    "query = select(Student, Enrolments).select_from(join(Student, Enrolments))\n",
    "\n",
    "print_results(query)"
   ],
   "metadata": {
    "collapsed": false,
    "pycharm": {
     "name": "#%%\n"
    }
   }
  },
  {
   "cell_type": "markdown",
   "source": [
    "# Inserting data"
   ],
   "metadata": {
    "collapsed": false,
    "pycharm": {
     "name": "#%% md\n"
    }
   }
  },
  {
   "cell_type": "code",
   "execution_count": 232,
   "outputs": [],
   "source": [
    "data_to_add = Student(roll_number=120, first_name='Ajay', last_name='Singh')"
   ],
   "metadata": {
    "collapsed": false,
    "pycharm": {
     "name": "#%%\n"
    }
   }
  },
  {
   "cell_type": "code",
   "execution_count": 234,
   "outputs": [],
   "source": [
    "\n",
    "Session = db.orm.sessionmaker(bind=engine)\n",
    "\n",
    "session = Session()\n",
    "\n"
   ],
   "metadata": {
    "collapsed": false,
    "pycharm": {
     "name": "#%%\n"
    }
   }
  },
  {
   "cell_type": "code",
   "execution_count": 235,
   "outputs": [],
   "source": [
    "session.add(data_to_add)"
   ],
   "metadata": {
    "collapsed": false,
    "pycharm": {
     "name": "#%%\n"
    }
   }
  },
  {
   "cell_type": "code",
   "execution_count": 236,
   "outputs": [],
   "source": [
    "session.commit()"
   ],
   "metadata": {
    "collapsed": false,
    "pycharm": {
     "name": "#%%\n"
    }
   }
  },
  {
   "cell_type": "code",
   "execution_count": 243,
   "outputs": [],
   "source": [
    "data_not_to_add = Student(roll_number=121, first_name='Ajay2', last_name='Singh2')\n",
    "session.add(data_not_to_add)\n"
   ],
   "metadata": {
    "collapsed": false,
    "pycharm": {
     "name": "#%%\n"
    }
   }
  },
  {
   "cell_type": "code",
   "execution_count": 244,
   "outputs": [],
   "source": [
    "session.rollback()"
   ],
   "metadata": {
    "collapsed": false,
    "pycharm": {
     "name": "#%%\n"
    }
   }
  },
  {
   "cell_type": "code",
   "execution_count": 241,
   "outputs": [],
   "source": [
    "session.commit()"
   ],
   "metadata": {
    "collapsed": false,
    "pycharm": {
     "name": "#%%\n"
    }
   }
  },
  {
   "cell_type": "markdown",
   "source": [
    "Using the INSERT/VALUE command methods"
   ],
   "metadata": {
    "collapsed": false,
    "pycharm": {
     "name": "#%% md\n"
    }
   }
  },
  {
   "cell_type": "code",
   "execution_count": 250,
   "outputs": [
    {
     "data": {
      "text/plain": "<sqlalchemy.engine.cursor.LegacyCursorResult at 0x1126b7be0>"
     },
     "execution_count": 250,
     "metadata": {},
     "output_type": "execute_result"
    }
   ],
   "source": [
    "\n",
    "query = insert(Course).values(course_name='JAVA', course_code='PROG1', course_description='Programming concepts using JAVA')\n",
    "\n",
    "connection.execute(query)\n"
   ],
   "metadata": {
    "collapsed": false,
    "pycharm": {
     "name": "#%%\n"
    }
   }
  },
  {
   "cell_type": "markdown",
   "source": [
    "# UPDATE"
   ],
   "metadata": {
    "collapsed": false,
    "pycharm": {
     "name": "#%% md\n"
    }
   }
  },
  {
   "cell_type": "code",
   "execution_count": 251,
   "outputs": [],
   "source": [
    "\n",
    "query = update(Course).where(Course.course_name == 'JAVA').values(course_code = 'PG001')"
   ],
   "metadata": {
    "collapsed": false,
    "pycharm": {
     "name": "#%%\n"
    }
   }
  },
  {
   "cell_type": "code",
   "execution_count": 254,
   "outputs": [
    {
     "data": {
      "text/plain": "<sqlalchemy.sql.dml.Update object at 0x112de27c0>"
     },
     "execution_count": 254,
     "metadata": {},
     "output_type": "execute_result"
    }
   ],
   "source": [
    "connection.execute(query)\n"
   ],
   "metadata": {
    "collapsed": false,
    "pycharm": {
     "name": "#%%\n"
    }
   }
  },
  {
   "cell_type": "markdown",
   "source": [
    "# QUERY API"
   ],
   "metadata": {
    "collapsed": false,
    "pycharm": {
     "name": "#%% md\n"
    }
   }
  },
  {
   "cell_type": "code",
   "execution_count": 269,
   "outputs": [
    {
     "name": "stdout",
     "output_type": "stream",
     "text": [
      "1   |   CSE01   |   MAD I   |   Modern Application Development - I\n",
      "2   |   CSE02   |   DBMS   |   Database management Systems\n",
      "3   |   CSE03   |   PDSA   |   Programming, Data Structures and Algorithms using Python\n",
      "4   |   BST13   |   BDM   |   Business Data Management\n",
      "7   |   PG001   |   JAVA   |   Programming concepts using JAVA\n"
     ]
    }
   ],
   "source": [
    "courses = session.query(Course).all()\n",
    "for course in courses:\n",
    "    print(course.course_id, course.course_code, course.course_name, course.course_description, sep=\"   |   \" )"
   ],
   "metadata": {
    "collapsed": false,
    "pycharm": {
     "name": "#%%\n"
    }
   }
  },
  {
   "cell_type": "code",
   "execution_count": 281,
   "outputs": [
    {
     "name": "stdout",
     "output_type": "stream",
     "text": [
      "7   |   PG001   |   JAVA   |   Programming concepts using JAVA\n"
     ]
    }
   ],
   "source": [
    "courses = session.query(Course).filter_by(course_name=\"JAVA\")\n",
    "for course in courses:\n",
    "    print(course.course_id, course.course_code, course.course_name, course.course_description, sep=\"   |   \" )"
   ],
   "metadata": {
    "collapsed": false,
    "pycharm": {
     "name": "#%%\n"
    }
   }
  },
  {
   "cell_type": "code",
   "execution_count": null,
   "outputs": [],
   "source": [],
   "metadata": {
    "collapsed": false,
    "pycharm": {
     "name": "#%%\n"
    }
   }
  }
 ],
 "metadata": {
  "kernelspec": {
   "display_name": "Python 3",
   "language": "python",
   "name": "python3"
  },
  "language_info": {
   "codemirror_mode": {
    "name": "ipython",
    "version": 2
   },
   "file_extension": ".py",
   "mimetype": "text/x-python",
   "name": "python",
   "nbconvert_exporter": "python",
   "pygments_lexer": "ipython2",
   "version": "2.7.6"
  }
 },
 "nbformat": 4,
 "nbformat_minor": 0
}
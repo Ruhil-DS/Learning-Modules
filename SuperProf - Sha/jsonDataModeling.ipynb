{
 "cells": [
  {
   "cell_type": "markdown",
   "metadata": {
    "collapsed": true,
    "pycharm": {
     "name": "#%% md\n"
    }
   },
   "source": [
    "# NoSQL"
   ]
  },
  {
   "cell_type": "markdown",
   "source": [
    "Types of NoSQL ->\n",
    " - Document DB\n",
    " - Key-Value pair DB\n",
    " - Graph DB\n",
    " - Column DB\n",
    "\n",
    "Main focus -> Document DB,\n",
    "\n",
    "Doc DB and & K-V pair DB both are also quite similar.\n"
   ],
   "metadata": {
    "collapsed": false,
    "pycharm": {
     "name": "#%% md\n"
    }
   }
  },
  {
   "cell_type": "markdown",
   "source": [
    "## Why NOSQL"
   ],
   "metadata": {
    "collapsed": false,
    "pycharm": {
     "name": "#%% md\n"
    }
   }
  },
  {
   "cell_type": "markdown",
   "source": [
    "2 Primary reasons ->\n",
    " - Scalability : Can scale the DB\n",
    " - Flexibility : No fix schema, data types, etc\n",
    "\n",
    "Other reasons ->\n",
    " - Availability\n",
    " - Performance\n"
   ],
   "metadata": {
    "collapsed": false,
    "pycharm": {
     "name": "#%% md\n"
    }
   }
  },
  {
   "cell_type": "markdown",
   "source": [
    "## Use cases of NoSQL"
   ],
   "metadata": {
    "collapsed": false,
    "pycharm": {
     "name": "#%% md\n"
    }
   }
  },
  {
   "cell_type": "markdown",
   "source": [
    "\n",
    "![](../../Desktop/UsaCases.png)"
   ],
   "metadata": {
    "collapsed": false,
    "pycharm": {
     "name": "#%% md\n"
    }
   }
  },
  {
   "cell_type": "markdown",
   "source": [
    "#### SHOULD NOT USE NOSQL WITH FINANCE\n",
    "\n",
    "Because of the absence of ACID properties\n"
   ],
   "metadata": {
    "collapsed": false,
    "pycharm": {
     "name": "#%% md\n"
    }
   }
  },
  {
   "cell_type": "markdown",
   "source": [
    "![](../../Desktop/RD1.png)\n",
    "\n",
    "-----\n",
    "\n",
    "\n",
    "![](../../Desktop/RD2.png)\n",
    "\n",
    "\n",
    "\n",
    "------\n",
    "If we have already deployed our DB, we will have to do a lot of work to make a simple change\n",
    "\n",
    "That is where NoSQL helps\n"
   ],
   "metadata": {
    "collapsed": false,
    "pycharm": {
     "name": "#%% md\n"
    }
   }
  },
  {
   "cell_type": "markdown",
   "source": [
    "No schema enforced, but we have --> schema on read\n"
   ],
   "metadata": {
    "collapsed": false,
    "pycharm": {
     "name": "#%% md\n"
    }
   }
  },
  {
   "cell_type": "markdown",
   "source": [
    "Relational DB strains when we have to create new tables with mapping foreign keys. This can be done easily with NoSQL\n",
    "\n"
   ],
   "metadata": {
    "collapsed": false,
    "pycharm": {
     "name": "#%% md\n"
    }
   },
   "execution_count": 0
  },
  {
   "cell_type": "markdown",
   "source": [
    "--------\n",
    "\n",
    "Easy mapping with NoSQL ->"
   ],
   "metadata": {
    "collapsed": false,
    "pycharm": {
     "name": "#%% md\n"
    }
   },
   "outputs": [],
   "execution_count": 0
  },
  {
   "cell_type": "markdown",
   "source": [
    "![](../../Desktop/ForeignKey.png)"
   ],
   "metadata": {
    "collapsed": false,
    "pycharm": {
     "name": "#%% md\n"
    }
   }
  },
  {
   "cell_type": "markdown",
   "source": [
    "## Relational vs NoSQL Document DB"
   ],
   "metadata": {
    "collapsed": false,
    "pycharm": {
     "name": "#%% md\n"
    }
   }
  },
  {
   "cell_type": "markdown",
   "source": [
    "![](../../Desktop/Screenshot%202022-07-31%20at%201.40.04%20PM.png)\n",
    "\n",
    "\n",
    "\n",
    "-----\n",
    "-----\n",
    "-----\n",
    "This is still not the best doc DB, because of the card details."
   ],
   "metadata": {
    "collapsed": false,
    "pycharm": {
     "name": "#%% md\n"
    }
   },
   "outputs": [],
   "execution_count": 0
  },
  {
   "cell_type": "markdown",
   "source": [
    "## Adding a new table to extend the billing type.\n",
    "\n",
    "So much easier with Doc NoSQL"
   ],
   "metadata": {
    "collapsed": false,
    "pycharm": {
     "name": "#%% md\n"
    }
   }
  },
  {
   "cell_type": "markdown",
   "source": [
    "![](../../../../var/folders/6j/v9zb038n2bxdy2_vbd43mhnc0000gn/T/TemporaryItems/NSIRD_screencaptureui_O9dNLl/Screenshot%202022-07-31%20at%201.42.43%20PM.png)\n",
    "\n",
    "\n",
    "If we notice, we have different document here. CBL2015 changed to CBL2016"
   ],
   "metadata": {
    "collapsed": false,
    "pycharm": {
     "name": "#%% md\n"
    }
   }
  },
  {
   "cell_type": "markdown",
   "source": [
    "# Modeling data\n",
    "## Strategies / Rules of thumb\n",
    "\n",
    "\n"
   ],
   "metadata": {
    "collapsed": false,
    "pycharm": {
     "name": "#%% md\n"
    }
   }
  },
  {
   "cell_type": "markdown",
   "source": [
    "## 1\n",
    "\n",
    "### If the relationship is One-to-One or One-To-Many\n",
    "-> store related data as nested objects.\n",
    "\n",
    "------\n",
    "------\n",
    "\n",
    "Example -> Purchase history of a Customer in a Customer Document db"
   ],
   "metadata": {
    "collapsed": false,
    "pycharm": {
     "name": "#%% md\n"
    }
   }
  },
  {
   "cell_type": "code",
   "source": [
    "Json = {\n",
    "    \"Name\": \"Gabbar Singh\",\n",
    "    \"DOB\" : \"1990-01-30\",\n",
    "    \"Purchases\" : [\n",
    "        {\n",
    "        \"item\" :\"Guns\",\n",
    "        \"amount\" :50000,\n",
    "        \"date\" :\"2007-03-15\",\n",
    "        },\n",
    "        {\n",
    "        \"item\" :\"Horse\",\n",
    "        \"amount\":40000,\n",
    "        \"date\" :\"2007-04-26\"\n",
    "        }\n",
    "    ]\n",
    "}"
   ],
   "metadata": {
    "collapsed": false,
    "pycharm": {
     "name": "#%%\n"
    }
   },
   "execution_count": 7,
   "outputs": []
  },
  {
   "cell_type": "markdown",
   "source": [
    "## 2\n",
    "\n",
    "### If the relation is many-to-one or many-to-many\n",
    "-> store related data as seprated documents\n",
    "\n",
    "-----\n",
    "Example : connections of a customer are stored in separate document DBs. They are only referred to, in the original Customer DB file.\n"
   ],
   "metadata": {
    "collapsed": false,
    "pycharm": {
     "name": "#%% md\n"
    }
   }
  },
  {
   "cell_type": "code",
   "source": [
    "Json = {\n",
    "    \"Name\" :\"Gabbar Singh\",\n",
    "    \"DOB\" :\"1990-01-30\",\n",
    "    \"Connections\" : [\n",
    "        \"XYZ987\", # referred\n",
    "        \"PQR823\", # referred\n",
    "        \"PQR828\" # referred\n",
    "        ]\n",
    "    }\n",
    "\n"
   ],
   "metadata": {
    "collapsed": false,
    "pycharm": {
     "name": "#%%\n"
    }
   },
   "execution_count": 8,
   "outputs": []
  },
  {
   "cell_type": "markdown",
   "source": [
    "![](../../../../var/folders/6j/v9zb038n2bxdy2_vbd43mhnc0000gn/T/TemporaryItems/NSIRD_screencaptureui_gbtbWm/Screenshot%202022-07-31%20at%204.44.52%20PM.png)"
   ],
   "metadata": {
    "collapsed": false,
    "pycharm": {
     "name": "#%% md\n"
    }
   }
  },
  {
   "cell_type": "markdown",
   "source": [
    "# Accesing Data - Strategies/ROT"
   ],
   "metadata": {
    "collapsed": false,
    "pycharm": {
     "name": "#%% md\n"
    }
   }
  },
  {
   "cell_type": "markdown",
   "source": [
    "## 3\n",
    "### When data reads are mostly parent fields\n",
    "\n",
    "-> store children as separate documents\n",
    "\n",
    "-----\n",
    "example : Storing connections as a list only to point to a different doc. But we store the info in another doc DB\n"
   ],
   "metadata": {
    "collapsed": false,
    "pycharm": {
     "name": "#%% md\n"
    }
   }
  },
  {
   "cell_type": "markdown",
   "source": [
    "## 4\n",
    "\n",
    "### When data reads are mostly parent + child fields\n",
    "\n",
    "-> store children as nested objects\n",
    "\n",
    "-----\n",
    "example : shopping cart object\n",
    "\n",
    "You would want to store the purchase history/items list together in the main doc. This way, you wouldn't have to make multiple calls/lookups\n"
   ],
   "metadata": {
    "collapsed": false,
    "pycharm": {
     "name": "#%% md\n"
    }
   }
  },
  {
   "cell_type": "markdown",
   "source": [
    "## 5\n",
    "\n",
    "### When data writes are mostly parent or child (not both)\n",
    "\n",
    "--> store children as separate documents\n",
    "\n",
    "-----\n",
    "example : again, connections. We either write to the parent customer or to a connection, which is another customer.\n"
   ],
   "metadata": {
    "collapsed": false,
    "pycharm": {
     "name": "#%% md\n"
    }
   }
  },
  {
   "cell_type": "markdown",
   "source": [
    "## 6\n",
    "\n",
    "### When data writes are mostly parent AND child (both)\n",
    "\n",
    "--> store children as nested objects\n",
    "\n",
    "-----\n",
    "example: Purchase history of a customer"
   ],
   "metadata": {
    "collapsed": false,
    "pycharm": {
     "name": "#%% md\n"
    }
   }
  },
  {
   "cell_type": "markdown",
   "source": [
    "![](../../../../var/folders/6j/v9zb038n2bxdy2_vbd43mhnc0000gn/T/TemporaryItems/NSIRD_screencaptureui_QUiOmq/Screenshot%202022-07-31%20at%205.17.43%20PM.png)"
   ],
   "metadata": {
    "collapsed": false,
    "pycharm": {
     "name": "#%% md\n"
    }
   }
  },
  {
   "cell_type": "markdown",
   "source": [
    "## Different ways to access Document DB in Couchbase\n",
    "\n",
    "5 diff ways :\n",
    "\n",
    "![](../../../../var/folders/6j/v9zb038n2bxdy2_vbd43mhnc0000gn/T/TemporaryItems/NSIRD_screencaptureui_HUR9Kk/Screenshot%202022-07-31%20at%205.19.48%20PM.png)"
   ],
   "metadata": {
    "collapsed": false,
    "pycharm": {
     "name": "#%% md\n"
    }
   }
  },
  {
   "cell_type": "markdown",
   "source": [
    "![](../../../../var/folders/6j/v9zb038n2bxdy2_vbd43mhnc0000gn/T/TemporaryItems/NSIRD_screencaptureui_CJJQEU/Screenshot%202022-07-31%20at%205.22.51%20PM.png)"
   ],
   "metadata": {
    "collapsed": false,
    "pycharm": {
     "name": "#%% md\n"
    }
   }
  },
  {
   "cell_type": "markdown",
   "source": [
    "semantics - 21f2001180"
   ],
   "metadata": {
    "collapsed": false,
    "pycharm": {
     "name": "#%% md\n"
    }
   }
  },
  {
   "cell_type": "markdown",
   "source": [
    "Deterministic way : way around joins, when not supported by the DB\n",
    "\n",
    "![](../../../../var/folders/6j/v9zb038n2bxdy2_vbd43mhnc0000gn/T/TemporaryItems/NSIRD_screencaptureui_FeCuHy/Screenshot%202022-07-31%20at%205.26.03%20PM.png)"
   ],
   "metadata": {
    "collapsed": false,
    "pycharm": {
     "name": "#%% md\n"
    }
   }
  },
  {
   "cell_type": "code",
   "execution_count": null,
   "outputs": [],
   "source": [
    "author_matt = {'name':\"matt\", \"blog\":[blog1, blog2, blog3]}\n",
    "\n",
    "author_matt_blogs = {blog1: {details_blog1}, blog2: {details_blog2}, ...}\n",
    "\n",
    "author_matt_blogs_blog1 = {blog1: {blog content}, comments:{...}}\n",
    "\n",
    "author_matt_blogs_blog1_comments = {cmnt1: '...'}\n",
    "\n"
   ],
   "metadata": {
    "collapsed": false,
    "pycharm": {
     "name": "#%%\n"
    }
   }
  },
  {
   "cell_type": "markdown",
   "source": [
    "![](../../../../var/folders/6j/v9zb038n2bxdy2_vbd43mhnc0000gn/T/TemporaryItems/NSIRD_screencaptureui_sYMNaX/Screenshot%202022-07-31%20at%205.42.45%20PM.png)"
   ],
   "metadata": {
    "collapsed": false,
    "pycharm": {
     "name": "#%% md\n"
    }
   }
  },
  {
   "cell_type": "markdown",
   "source": [
    "# _________________________________"
   ],
   "metadata": {
    "collapsed": false,
    "pycharm": {
     "name": "#%% md\n"
    }
   }
  },
  {
   "cell_type": "markdown",
   "source": [
    "# JSON Anatomy\n",
    "\n",
    "each JSON will also have a document key"
   ],
   "metadata": {
    "collapsed": false,
    "pycharm": {
     "name": "#%% md\n"
    }
   }
  },
  {
   "cell_type": "markdown",
   "source": [
    "![](../../../../var/folders/6j/v9zb038n2bxdy2_vbd43mhnc0000gn/T/TemporaryItems/NSIRD_screencaptureui_em82FK/Screenshot%202022-08-01%20at%209.56.58%20AM.png)"
   ],
   "metadata": {
    "collapsed": false,
    "pycharm": {
     "name": "#%% md\n"
    }
   }
  },
  {
   "cell_type": "markdown",
   "source": [
    "\n",
    "\n",
    "![](../../../../var/folders/6j/v9zb038n2bxdy2_vbd43mhnc0000gn/T/TemporaryItems/NSIRD_screencaptureui_64mvZX/Screenshot%202022-08-01%20at%2010.01.38%20AM.png)"
   ],
   "metadata": {
    "collapsed": false,
    "pycharm": {
     "name": "#%% md\n"
    }
   }
  },
  {
   "cell_type": "code",
   "execution_count": null,
   "outputs": [],
   "source": [],
   "metadata": {
    "collapsed": false,
    "pycharm": {
     "name": "#%%\n"
    }
   }
  },
  {
   "cell_type": "markdown",
   "source": [
    "![](../../../../var/folders/6j/v9zb038n2bxdy2_vbd43mhnc0000gn/T/TemporaryItems/NSIRD_screencaptureui_FoLeeD/Screenshot%202022-08-01%20at%2010.03.25%20AM.png)"
   ],
   "metadata": {
    "collapsed": false,
    "pycharm": {
     "name": "#%% md\n"
    }
   }
  },
  {
   "cell_type": "markdown",
   "source": [
    "# Document management fields - meta data\n",
    "\n",
    "keep the metadata in a single sub-document, not distributed throughout the document.\n",
    "\n",
    "Also, don't name the document \"meta\" (can conflict with the NoSQL database we use)\n",
    "\n"
   ],
   "metadata": {
    "collapsed": false,
    "pycharm": {
     "name": "#%% md\n"
    }
   }
  },
  {
   "cell_type": "markdown",
   "source": [
    "# Timestamp options"
   ],
   "metadata": {
    "collapsed": false,
    "pycharm": {
     "name": "#%% md\n"
    }
   }
  },
  {
   "cell_type": "markdown",
   "source": [
    "![](../../../../var/folders/6j/v9zb038n2bxdy2_vbd43mhnc0000gn/T/TemporaryItems/NSIRD_screencaptureui_WuTpDu/Screenshot%202022-08-01%20at%2010.09.05%20AM.png)"
   ],
   "metadata": {
    "collapsed": false,
    "pycharm": {
     "name": "#%% md\n"
    }
   }
  },
  {
   "cell_type": "markdown",
   "source": [
    "# JSON data presence ROT\n",
    "\n",
    "#### DO NOT STORE DEFAULT VALUES - ADDS UP SPACE\n",
    "#### DO NOT STORE SAME INFO TWICE UNLESS REALLY REQ. - BILLING/SHIPPING ADDRESS\n",
    "#### THERE ARE 4 STATES OF DATA PRESENCE IN A JSON DOC :\n"
   ],
   "metadata": {
    "collapsed": false,
    "pycharm": {
     "name": "#%% md\n"
    }
   }
  },
  {
   "cell_type": "markdown",
   "source": [
    "![](../../../../var/folders/6j/v9zb038n2bxdy2_vbd43mhnc0000gn/T/TemporaryItems/NSIRD_screencaptureui_ySI7R8/Screenshot%202022-08-01%20at%2010.13.07%20AM.png)"
   ],
   "metadata": {
    "collapsed": false,
    "pycharm": {
     "name": "#%% md\n"
    }
   }
  },
  {
   "cell_type": "markdown",
   "source": [
    "#### Use cases are different, always read the document if you are confused.\n",
    "\n",
    "##### IS [NOT] VALUED is considered a better choice as it tells us whether a value is present or not."
   ],
   "metadata": {
    "collapsed": false,
    "pycharm": {
     "name": "#%% md\n"
    }
   }
  },
  {
   "cell_type": "markdown",
   "source": [
    "#### Doc keys strategies"
   ],
   "metadata": {
    "collapsed": false,
    "pycharm": {
     "name": "#%% md\n"
    }
   }
  },
  {
   "cell_type": "markdown",
   "source": [
    "![](../../../../var/folders/6j/v9zb038n2bxdy2_vbd43mhnc0000gn/T/TemporaryItems/NSIRD_screencaptureui_q7vYTA/Screenshot%202022-08-01%20at%2010.18.16%20AM.png)"
   ],
   "metadata": {
    "collapsed": false,
    "pycharm": {
     "name": "#%% md\n"
    }
   }
  },
  {
   "cell_type": "markdown",
   "source": [
    "![](../../../../var/folders/6j/v9zb038n2bxdy2_vbd43mhnc0000gn/T/TemporaryItems/NSIRD_screencaptureui_FBmnn8/Screenshot%202022-08-01%20at%2010.26.01%20AM.png)"
   ],
   "metadata": {
    "collapsed": false,
    "pycharm": {
     "name": "#%% md\n"
    }
   }
  },
  {
   "cell_type": "markdown",
   "source": [
    "![](../../../../var/folders/6j/v9zb038n2bxdy2_vbd43mhnc0000gn/T/TemporaryItems/NSIRD_screencaptureui_yae9MS/Screenshot%202022-08-01%20at%2010.29.38%20AM.png)"
   ],
   "metadata": {
    "collapsed": false,
    "pycharm": {
     "name": "#%% md\n"
    }
   }
  },
  {
   "cell_type": "markdown",
   "source": [
    "## Best use of Arrays\n"
   ],
   "metadata": {
    "collapsed": false,
    "pycharm": {
     "name": "#%% md\n"
    }
   }
  },
  {
   "cell_type": "markdown",
   "source": [
    "![](../../../../var/folders/6j/v9zb038n2bxdy2_vbd43mhnc0000gn/T/TemporaryItems/NSIRD_screencaptureui_xA2IE8/Screenshot%202022-08-01%20at%2011.00.28%20AM.png)"
   ],
   "metadata": {
    "collapsed": false,
    "pycharm": {
     "name": "#%% md\n"
    }
   }
  },
  {
   "cell_type": "markdown",
   "source": [],
   "metadata": {
    "collapsed": false,
    "pycharm": {
     "name": "#%% md\n"
    }
   }
  },
  {
   "cell_type": "markdown",
   "source": [],
   "metadata": {
    "collapsed": false,
    "pycharm": {
     "name": "#%% md\n"
    }
   }
  },
  {
   "cell_type": "markdown",
   "source": [],
   "metadata": {
    "collapsed": false,
    "pycharm": {
     "name": "#%% md\n"
    }
   }
  }
 ],
 "metadata": {
  "kernelspec": {
   "display_name": "Python 3",
   "language": "python",
   "name": "python3"
  },
  "language_info": {
   "codemirror_mode": {
    "name": "ipython",
    "version": 2
   },
   "file_extension": ".py",
   "mimetype": "text/x-python",
   "name": "python",
   "nbconvert_exporter": "python",
   "pygments_lexer": "ipython2",
   "version": "2.7.6"
  }
 },
 "nbformat": 4,
 "nbformat_minor": 0
}
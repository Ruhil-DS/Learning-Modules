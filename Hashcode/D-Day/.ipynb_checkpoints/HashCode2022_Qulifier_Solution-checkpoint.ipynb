{
 "cells": [
  {
   "cell_type": "code",
   "execution_count": 2,
   "id": "12b9622e",
   "metadata": {},
   "outputs": [],
   "source": [
    "import random\n",
    "import itertools\n",
    "import numpy as np\n",
    "import pandas as pd\n",
    "from tqdm import tqdm"
   ]
  },
  {
   "cell_type": "code",
   "execution_count": 3,
   "id": "e6d8dd9e",
   "metadata": {},
   "outputs": [],
   "source": [
    "contributors = {\"Anna\":{\"C++\":2}, \"Bob\": {\"HTML\":5, \"CSS\":5}, \"Maria\":{\"Python\":3}}\n",
    "projects = {\"Logging\":[5,10,5,{\"C++\":[3, 1]}], \n",
    "            \"WebServer\":[7,10,7,2,{\"HTML\":[3, 1], \"C++\":[2, 1]}], \n",
    "            \"WebChat\":[10,20,20,2,{\"Python\":[3,1], \"HTML\":[3,1]}]}"
   ]
  },
  {
   "cell_type": "code",
   "execution_count": 4,
   "id": "cb0eb571",
   "metadata": {},
   "outputs": [],
   "source": [
    "df = pd.DataFrame(contributors).fillna(0).T.astype(int)"
   ]
  },
  {
   "cell_type": "code",
   "execution_count": 5,
   "id": "e46a529f",
   "metadata": {},
   "outputs": [
    {
     "data": {
      "text/html": [
       "<div>\n",
       "<style scoped>\n",
       "    .dataframe tbody tr th:only-of-type {\n",
       "        vertical-align: middle;\n",
       "    }\n",
       "\n",
       "    .dataframe tbody tr th {\n",
       "        vertical-align: top;\n",
       "    }\n",
       "\n",
       "    .dataframe thead th {\n",
       "        text-align: right;\n",
       "    }\n",
       "</style>\n",
       "<table border=\"1\" class=\"dataframe\">\n",
       "  <thead>\n",
       "    <tr style=\"text-align: right;\">\n",
       "      <th></th>\n",
       "      <th>C++</th>\n",
       "      <th>HTML</th>\n",
       "      <th>CSS</th>\n",
       "      <th>Python</th>\n",
       "    </tr>\n",
       "  </thead>\n",
       "  <tbody>\n",
       "    <tr>\n",
       "      <th>Anna</th>\n",
       "      <td>2</td>\n",
       "      <td>0</td>\n",
       "      <td>0</td>\n",
       "      <td>0</td>\n",
       "    </tr>\n",
       "    <tr>\n",
       "      <th>Bob</th>\n",
       "      <td>0</td>\n",
       "      <td>5</td>\n",
       "      <td>5</td>\n",
       "      <td>0</td>\n",
       "    </tr>\n",
       "    <tr>\n",
       "      <th>Maria</th>\n",
       "      <td>0</td>\n",
       "      <td>0</td>\n",
       "      <td>0</td>\n",
       "      <td>3</td>\n",
       "    </tr>\n",
       "  </tbody>\n",
       "</table>\n",
       "</div>"
      ],
      "text/plain": [
       "       C++  HTML  CSS  Python\n",
       "Anna     2     0    0       0\n",
       "Bob      0     5    5       0\n",
       "Maria    0     0    0       3"
      ]
     },
     "execution_count": 5,
     "metadata": {},
     "output_type": "execute_result"
    }
   ],
   "source": [
    "df"
   ]
  },
  {
   "cell_type": "code",
   "execution_count": 6,
   "id": "db7382e6",
   "metadata": {
    "scrolled": true
   },
   "outputs": [
    {
     "ename": "ValueError",
     "evalue": "Unable to coerce to Series, length must be 4: given 1",
     "output_type": "error",
     "traceback": [
      "\u001b[0;31m---------------------------------------------------------------------------\u001b[0m",
      "\u001b[0;31mValueError\u001b[0m                                Traceback (most recent call last)",
      "\u001b[0;32m/var/folders/6j/v9zb038n2bxdy2_vbd43mhnc0000gn/T/ipykernel_83646/2956982668.py\u001b[0m in \u001b[0;36m<module>\u001b[0;34m\u001b[0m\n\u001b[0;32m----> 1\u001b[0;31m \u001b[0mdf\u001b[0m\u001b[0;34m[\u001b[0m\u001b[0mdf\u001b[0m\u001b[0;34m[\u001b[0m\u001b[0mdf\u001b[0m\u001b[0;34m[\u001b[0m\u001b[0;34m\"HTML\"\u001b[0m\u001b[0;34m]\u001b[0m \u001b[0;34m>=\u001b[0m \u001b[0;36m5\u001b[0m\u001b[0;34m]\u001b[0m \u001b[0;34m==\u001b[0m \u001b[0;34m[\u001b[0m\u001b[0;34m'Bob'\u001b[0m\u001b[0;34m]\u001b[0m\u001b[0;34m]\u001b[0m\u001b[0;34m\u001b[0m\u001b[0;34m\u001b[0m\u001b[0m\n\u001b[0m",
      "\u001b[0;32m~/opt/anaconda3/lib/python3.9/site-packages/pandas/core/ops/common.py\u001b[0m in \u001b[0;36mnew_method\u001b[0;34m(self, other)\u001b[0m\n\u001b[1;32m     68\u001b[0m         \u001b[0mother\u001b[0m \u001b[0;34m=\u001b[0m \u001b[0mitem_from_zerodim\u001b[0m\u001b[0;34m(\u001b[0m\u001b[0mother\u001b[0m\u001b[0;34m)\u001b[0m\u001b[0;34m\u001b[0m\u001b[0;34m\u001b[0m\u001b[0m\n\u001b[1;32m     69\u001b[0m \u001b[0;34m\u001b[0m\u001b[0m\n\u001b[0;32m---> 70\u001b[0;31m         \u001b[0;32mreturn\u001b[0m \u001b[0mmethod\u001b[0m\u001b[0;34m(\u001b[0m\u001b[0mself\u001b[0m\u001b[0;34m,\u001b[0m \u001b[0mother\u001b[0m\u001b[0;34m)\u001b[0m\u001b[0;34m\u001b[0m\u001b[0;34m\u001b[0m\u001b[0m\n\u001b[0m\u001b[1;32m     71\u001b[0m \u001b[0;34m\u001b[0m\u001b[0m\n\u001b[1;32m     72\u001b[0m     \u001b[0;32mreturn\u001b[0m \u001b[0mnew_method\u001b[0m\u001b[0;34m\u001b[0m\u001b[0;34m\u001b[0m\u001b[0m\n",
      "\u001b[0;32m~/opt/anaconda3/lib/python3.9/site-packages/pandas/core/arraylike.py\u001b[0m in \u001b[0;36m__eq__\u001b[0;34m(self, other)\u001b[0m\n\u001b[1;32m     38\u001b[0m     \u001b[0;34m@\u001b[0m\u001b[0munpack_zerodim_and_defer\u001b[0m\u001b[0;34m(\u001b[0m\u001b[0;34m\"__eq__\"\u001b[0m\u001b[0;34m)\u001b[0m\u001b[0;34m\u001b[0m\u001b[0;34m\u001b[0m\u001b[0m\n\u001b[1;32m     39\u001b[0m     \u001b[0;32mdef\u001b[0m \u001b[0m__eq__\u001b[0m\u001b[0;34m(\u001b[0m\u001b[0mself\u001b[0m\u001b[0;34m,\u001b[0m \u001b[0mother\u001b[0m\u001b[0;34m)\u001b[0m\u001b[0;34m:\u001b[0m\u001b[0;34m\u001b[0m\u001b[0;34m\u001b[0m\u001b[0m\n\u001b[0;32m---> 40\u001b[0;31m         \u001b[0;32mreturn\u001b[0m \u001b[0mself\u001b[0m\u001b[0;34m.\u001b[0m\u001b[0m_cmp_method\u001b[0m\u001b[0;34m(\u001b[0m\u001b[0mother\u001b[0m\u001b[0;34m,\u001b[0m \u001b[0moperator\u001b[0m\u001b[0;34m.\u001b[0m\u001b[0meq\u001b[0m\u001b[0;34m)\u001b[0m\u001b[0;34m\u001b[0m\u001b[0;34m\u001b[0m\u001b[0m\n\u001b[0m\u001b[1;32m     41\u001b[0m \u001b[0;34m\u001b[0m\u001b[0m\n\u001b[1;32m     42\u001b[0m     \u001b[0;34m@\u001b[0m\u001b[0munpack_zerodim_and_defer\u001b[0m\u001b[0;34m(\u001b[0m\u001b[0;34m\"__ne__\"\u001b[0m\u001b[0;34m)\u001b[0m\u001b[0;34m\u001b[0m\u001b[0;34m\u001b[0m\u001b[0m\n",
      "\u001b[0;32m~/opt/anaconda3/lib/python3.9/site-packages/pandas/core/frame.py\u001b[0m in \u001b[0;36m_cmp_method\u001b[0;34m(self, other, op)\u001b[0m\n\u001b[1;32m   6931\u001b[0m         \u001b[0maxis\u001b[0m \u001b[0;34m=\u001b[0m \u001b[0;36m1\u001b[0m  \u001b[0;31m# only relevant for Series other case\u001b[0m\u001b[0;34m\u001b[0m\u001b[0;34m\u001b[0m\u001b[0m\n\u001b[1;32m   6932\u001b[0m \u001b[0;34m\u001b[0m\u001b[0m\n\u001b[0;32m-> 6933\u001b[0;31m         \u001b[0mself\u001b[0m\u001b[0;34m,\u001b[0m \u001b[0mother\u001b[0m \u001b[0;34m=\u001b[0m \u001b[0mops\u001b[0m\u001b[0;34m.\u001b[0m\u001b[0malign_method_FRAME\u001b[0m\u001b[0;34m(\u001b[0m\u001b[0mself\u001b[0m\u001b[0;34m,\u001b[0m \u001b[0mother\u001b[0m\u001b[0;34m,\u001b[0m \u001b[0maxis\u001b[0m\u001b[0;34m,\u001b[0m \u001b[0mflex\u001b[0m\u001b[0;34m=\u001b[0m\u001b[0;32mFalse\u001b[0m\u001b[0;34m,\u001b[0m \u001b[0mlevel\u001b[0m\u001b[0;34m=\u001b[0m\u001b[0;32mNone\u001b[0m\u001b[0;34m)\u001b[0m\u001b[0;34m\u001b[0m\u001b[0;34m\u001b[0m\u001b[0m\n\u001b[0m\u001b[1;32m   6934\u001b[0m \u001b[0;34m\u001b[0m\u001b[0m\n\u001b[1;32m   6935\u001b[0m         \u001b[0;31m# See GH#4537 for discussion of scalar op behavior\u001b[0m\u001b[0;34m\u001b[0m\u001b[0;34m\u001b[0m\u001b[0m\n",
      "\u001b[0;32m~/opt/anaconda3/lib/python3.9/site-packages/pandas/core/ops/__init__.py\u001b[0m in \u001b[0;36malign_method_FRAME\u001b[0;34m(left, right, axis, flex, level)\u001b[0m\n\u001b[1;32m    280\u001b[0m             )\n\u001b[1;32m    281\u001b[0m         \u001b[0;31m# GH17901\u001b[0m\u001b[0;34m\u001b[0m\u001b[0;34m\u001b[0m\u001b[0m\n\u001b[0;32m--> 282\u001b[0;31m         \u001b[0mright\u001b[0m \u001b[0;34m=\u001b[0m \u001b[0mto_series\u001b[0m\u001b[0;34m(\u001b[0m\u001b[0mright\u001b[0m\u001b[0;34m)\u001b[0m\u001b[0;34m\u001b[0m\u001b[0;34m\u001b[0m\u001b[0m\n\u001b[0m\u001b[1;32m    283\u001b[0m \u001b[0;34m\u001b[0m\u001b[0m\n\u001b[1;32m    284\u001b[0m     \u001b[0;32mif\u001b[0m \u001b[0mflex\u001b[0m \u001b[0;32mis\u001b[0m \u001b[0;32mnot\u001b[0m \u001b[0;32mNone\u001b[0m \u001b[0;32mand\u001b[0m \u001b[0misinstance\u001b[0m\u001b[0;34m(\u001b[0m\u001b[0mright\u001b[0m\u001b[0;34m,\u001b[0m \u001b[0mABCDataFrame\u001b[0m\u001b[0;34m)\u001b[0m\u001b[0;34m:\u001b[0m\u001b[0;34m\u001b[0m\u001b[0;34m\u001b[0m\u001b[0m\n",
      "\u001b[0;32m~/opt/anaconda3/lib/python3.9/site-packages/pandas/core/ops/__init__.py\u001b[0m in \u001b[0;36mto_series\u001b[0;34m(right)\u001b[0m\n\u001b[1;32m    237\u001b[0m         \u001b[0;32melse\u001b[0m\u001b[0;34m:\u001b[0m\u001b[0;34m\u001b[0m\u001b[0;34m\u001b[0m\u001b[0m\n\u001b[1;32m    238\u001b[0m             \u001b[0;32mif\u001b[0m \u001b[0mlen\u001b[0m\u001b[0;34m(\u001b[0m\u001b[0mleft\u001b[0m\u001b[0;34m.\u001b[0m\u001b[0mcolumns\u001b[0m\u001b[0;34m)\u001b[0m \u001b[0;34m!=\u001b[0m \u001b[0mlen\u001b[0m\u001b[0;34m(\u001b[0m\u001b[0mright\u001b[0m\u001b[0;34m)\u001b[0m\u001b[0;34m:\u001b[0m\u001b[0;34m\u001b[0m\u001b[0;34m\u001b[0m\u001b[0m\n\u001b[0;32m--> 239\u001b[0;31m                 raise ValueError(\n\u001b[0m\u001b[1;32m    240\u001b[0m                     \u001b[0mmsg\u001b[0m\u001b[0;34m.\u001b[0m\u001b[0mformat\u001b[0m\u001b[0;34m(\u001b[0m\u001b[0mreq_len\u001b[0m\u001b[0;34m=\u001b[0m\u001b[0mlen\u001b[0m\u001b[0;34m(\u001b[0m\u001b[0mleft\u001b[0m\u001b[0;34m.\u001b[0m\u001b[0mcolumns\u001b[0m\u001b[0;34m)\u001b[0m\u001b[0;34m,\u001b[0m \u001b[0mgiven_len\u001b[0m\u001b[0;34m=\u001b[0m\u001b[0mlen\u001b[0m\u001b[0;34m(\u001b[0m\u001b[0mright\u001b[0m\u001b[0;34m)\u001b[0m\u001b[0;34m)\u001b[0m\u001b[0;34m\u001b[0m\u001b[0;34m\u001b[0m\u001b[0m\n\u001b[1;32m    241\u001b[0m                 )\n",
      "\u001b[0;31mValueError\u001b[0m: Unable to coerce to Series, length must be 4: given 1"
     ]
    }
   ],
   "source": [
    "df[df[df[\"HTML\"] >= 5] == ['Bob']]"
   ]
  },
  {
   "cell_type": "code",
   "execution_count": 7,
   "id": "b6f44436",
   "metadata": {
    "scrolled": true
   },
   "outputs": [
    {
     "name": "stderr",
     "output_type": "stream",
     "text": [
      "/var/folders/6j/v9zb038n2bxdy2_vbd43mhnc0000gn/T/ipykernel_83646/2166175556.py:1: UserWarning: Boolean Series key will be reindexed to match DataFrame index.\n",
      "  df.loc[['Bob', 'Anna']][df[\"HTML\"] >= 5][\"HTML\"] += 1\n",
      "/var/folders/6j/v9zb038n2bxdy2_vbd43mhnc0000gn/T/ipykernel_83646/2166175556.py:1: SettingWithCopyWarning: \n",
      "A value is trying to be set on a copy of a slice from a DataFrame.\n",
      "Try using .loc[row_indexer,col_indexer] = value instead\n",
      "\n",
      "See the caveats in the documentation: https://pandas.pydata.org/pandas-docs/stable/user_guide/indexing.html#returning-a-view-versus-a-copy\n",
      "  df.loc[['Bob', 'Anna']][df[\"HTML\"] >= 5][\"HTML\"] += 1\n"
     ]
    }
   ],
   "source": [
    "df.loc[['Bob', 'Anna']][df[\"HTML\"] >= 5][\"HTML\"] += 1"
   ]
  },
  {
   "cell_type": "code",
   "execution_count": 8,
   "id": "cca6414e",
   "metadata": {},
   "outputs": [
    {
     "data": {
      "text/html": [
       "<div>\n",
       "<style scoped>\n",
       "    .dataframe tbody tr th:only-of-type {\n",
       "        vertical-align: middle;\n",
       "    }\n",
       "\n",
       "    .dataframe tbody tr th {\n",
       "        vertical-align: top;\n",
       "    }\n",
       "\n",
       "    .dataframe thead th {\n",
       "        text-align: right;\n",
       "    }\n",
       "</style>\n",
       "<table border=\"1\" class=\"dataframe\">\n",
       "  <thead>\n",
       "    <tr style=\"text-align: right;\">\n",
       "      <th></th>\n",
       "      <th>C++</th>\n",
       "      <th>HTML</th>\n",
       "      <th>CSS</th>\n",
       "      <th>Python</th>\n",
       "    </tr>\n",
       "  </thead>\n",
       "  <tbody>\n",
       "    <tr>\n",
       "      <th>Anna</th>\n",
       "      <td>2</td>\n",
       "      <td>0</td>\n",
       "      <td>0</td>\n",
       "      <td>0</td>\n",
       "    </tr>\n",
       "    <tr>\n",
       "      <th>Bob</th>\n",
       "      <td>0</td>\n",
       "      <td>5</td>\n",
       "      <td>5</td>\n",
       "      <td>0</td>\n",
       "    </tr>\n",
       "    <tr>\n",
       "      <th>Maria</th>\n",
       "      <td>0</td>\n",
       "      <td>0</td>\n",
       "      <td>0</td>\n",
       "      <td>3</td>\n",
       "    </tr>\n",
       "  </tbody>\n",
       "</table>\n",
       "</div>"
      ],
      "text/plain": [
       "       C++  HTML  CSS  Python\n",
       "Anna     2     0    0       0\n",
       "Bob      0     5    5       0\n",
       "Maria    0     0    0       3"
      ]
     },
     "execution_count": 8,
     "metadata": {},
     "output_type": "execute_result"
    }
   ],
   "source": [
    "df"
   ]
  },
  {
   "cell_type": "markdown",
   "id": "1ba96a33",
   "metadata": {},
   "source": [
    "## Monte Carlo method\n",
    "\n",
    "1. Pick a project at random and remove it from the list of projects. \n",
    "2. Find the contributors who fit the requirement. If none of the contributors fit the project pick a different project"
   ]
  },
  {
   "cell_type": "code",
   "execution_count": 9,
   "id": "e52c2fdc",
   "metadata": {},
   "outputs": [],
   "source": [
    "def find_contributors(df:pd.DataFrame, skill:str, level:int):\n",
    "    return list(df[df[skill] >= level].index)\n",
    "\n",
    "def update_skills(df:pd.DataFrame, assigned_skills:dict, levels:list):\n",
    "    i = 0\n",
    "    for skill, names in assigned_skills.items():\n",
    "        df_ = df.loc[names]\n",
    "        #df_[df_[skill] <= levels[i]] = \n",
    "\n",
    "def random_solver(contributors:list, projects:list):\n",
    "    contribs = pd.DataFrame(contributors).fillna(0).T.astype(int)\n",
    "    proj = list(projects.keys())\n",
    "    results = {}\n",
    "    while proj:\n",
    "        this_project = proj.pop(random.randrange(len(proj)))\n",
    "        req = projects[this_project][-1]\n",
    "        flag = True\n",
    "        assigned = {}\n",
    "        levels = []\n",
    "        for skill, level_rep in req.items():\n",
    "            level, rep = level_rep[0], level_rep[1]\n",
    "            levels.append(level)\n",
    "            cont = find_contributors(contribs, skill, level)\n",
    "            if len(cont) >= rep:\n",
    "                assigned[skill] = random.sample(cont, rep)\n",
    "            else:\n",
    "                flag = False\n",
    "        if flag:\n",
    "            #contribs = update_skills(data, assigned)\n",
    "            results[this_project] = sum(list(assigned.values()), [])     \n",
    "    return results"
   ]
  },
  {
   "cell_type": "code",
   "execution_count": 10,
   "id": "d00df5b8",
   "metadata": {},
   "outputs": [],
   "source": [
    "res = random_solver(contributors, projects)"
   ]
  },
  {
   "cell_type": "code",
   "execution_count": 11,
   "id": "7e21417d",
   "metadata": {},
   "outputs": [
    {
     "data": {
      "text/plain": [
       "{'WebServer': ['Bob', 'Anna'], 'WebChat': ['Maria', 'Bob']}"
      ]
     },
     "execution_count": 11,
     "metadata": {},
     "output_type": "execute_result"
    }
   ],
   "source": [
    "res"
   ]
  },
  {
   "cell_type": "code",
   "execution_count": 12,
   "id": "7fa59d93",
   "metadata": {},
   "outputs": [],
   "source": [
    "def parse_input_file():\n",
    "    \"\"\"\n",
    "    Parse the input file and output json like structure\n",
    "\n",
    "    An output struture example : \n",
    "    c -> total no of contributors\n",
    "    p -> total no of projects\n",
    "    contributors = {anna:{'HTML':1, 'python':1}}\n",
    "    projects = {projectname:[Days,score,BestBefore,No.of Roles, {HTML':[1,2],'python':[2,2]}]}\n",
    "    \"\"\"\n",
    "    file = FILE\n",
    "    with open(file) as f:\n",
    "        line_count = 1\n",
    "        content = f.readlines()\n",
    "        c,p = map(int,content[0].split())\n",
    "        for i in range(c):\n",
    "            name,role = content[line_count].split()\n",
    "            contributors[name]={}\n",
    "            role = int(role)\n",
    "            for j in range(role):\n",
    "                skill,level = content[line_count+j+1].split()\n",
    "                level = int(level)\n",
    "                contributors[name][skill] = level\n",
    "            line_count += role+1\n",
    "        for i in range(p):\n",
    "            name,days,score,best,roles = content[line_count].split()\n",
    "            roles = int(roles)\n",
    "            projects[name]=[int(days),int(score),int(best),int(roles)]\n",
    "            skills = dict()\n",
    "            for j in range(roles):\n",
    "                skill,level = content[line_count+j+1].split()\n",
    "                level = int(level)\n",
    "                if skill in skills:\n",
    "                    skills[skill][1] += 1\n",
    "                else:\n",
    "                    skills[skill] = [level,1]\n",
    "            line_count += roles + 1\n",
    "            projects[name].append(skills)\n",
    "            \n",
    "\n",
    "def create_submission(filename:str, res:dict)->None:\n",
    "    \"\"\"\n",
    "    :param filename :(str) filename for the submission file.\n",
    "    :param delivered_pizzas :(dict) keys as team size and\n",
    "                             values as the pizzas (index) delivered. \n",
    "                             E.g.- ['cheese', 'peppers',\n",
    "                                    'mushrooms', 'tomatoes']\n",
    "                             \n",
    "    \"\"\"\n",
    "    f = open(filename, \"w\") \n",
    "    f.writelines(f\"{len(res)} \\n\")\n",
    "    for proj, names in res.items():\n",
    "        names = \" \".join(names)\n",
    "        f.writelines(f\"{proj}\\n\")\n",
    "        f.writelines(f\"{names}\\n\")\n",
    "    f.close()"
   ]
  },
  {
   "cell_type": "code",
   "execution_count": 13,
   "id": "847d25ae",
   "metadata": {},
   "outputs": [
    {
     "ename": "FileNotFoundError",
     "evalue": "[Errno 2] No such file or directory: 'b_better_start_small.in.txt'",
     "output_type": "error",
     "traceback": [
      "\u001b[0;31m---------------------------------------------------------------------------\u001b[0m",
      "\u001b[0;31mFileNotFoundError\u001b[0m                         Traceback (most recent call last)",
      "\u001b[0;32m/var/folders/6j/v9zb038n2bxdy2_vbd43mhnc0000gn/T/ipykernel_83646/889035589.py\u001b[0m in \u001b[0;36m<module>\u001b[0;34m\u001b[0m\n\u001b[1;32m      2\u001b[0m \u001b[0mcontributors\u001b[0m \u001b[0;34m=\u001b[0m \u001b[0mdict\u001b[0m\u001b[0;34m(\u001b[0m\u001b[0;34m)\u001b[0m\u001b[0;34m\u001b[0m\u001b[0;34m\u001b[0m\u001b[0m\n\u001b[1;32m      3\u001b[0m \u001b[0mprojects\u001b[0m \u001b[0;34m=\u001b[0m \u001b[0mdict\u001b[0m\u001b[0;34m(\u001b[0m\u001b[0;34m)\u001b[0m\u001b[0;34m\u001b[0m\u001b[0;34m\u001b[0m\u001b[0m\n\u001b[0;32m----> 4\u001b[0;31m \u001b[0mparse_input_file\u001b[0m\u001b[0;34m(\u001b[0m\u001b[0;34m)\u001b[0m\u001b[0;34m\u001b[0m\u001b[0;34m\u001b[0m\u001b[0m\n\u001b[0m\u001b[1;32m      5\u001b[0m \u001b[0mres\u001b[0m \u001b[0;34m=\u001b[0m \u001b[0mrandom_solver\u001b[0m\u001b[0;34m(\u001b[0m\u001b[0mcontributors\u001b[0m\u001b[0;34m,\u001b[0m \u001b[0mprojects\u001b[0m\u001b[0;34m)\u001b[0m\u001b[0;34m\u001b[0m\u001b[0;34m\u001b[0m\u001b[0m\n",
      "\u001b[0;32m/var/folders/6j/v9zb038n2bxdy2_vbd43mhnc0000gn/T/ipykernel_83646/1575660278.py\u001b[0m in \u001b[0;36mparse_input_file\u001b[0;34m()\u001b[0m\n\u001b[1;32m     10\u001b[0m     \"\"\"\n\u001b[1;32m     11\u001b[0m     \u001b[0mfile\u001b[0m \u001b[0;34m=\u001b[0m \u001b[0mFILE\u001b[0m\u001b[0;34m\u001b[0m\u001b[0;34m\u001b[0m\u001b[0m\n\u001b[0;32m---> 12\u001b[0;31m     \u001b[0;32mwith\u001b[0m \u001b[0mopen\u001b[0m\u001b[0;34m(\u001b[0m\u001b[0mfile\u001b[0m\u001b[0;34m)\u001b[0m \u001b[0;32mas\u001b[0m \u001b[0mf\u001b[0m\u001b[0;34m:\u001b[0m\u001b[0;34m\u001b[0m\u001b[0;34m\u001b[0m\u001b[0m\n\u001b[0m\u001b[1;32m     13\u001b[0m         \u001b[0mline_count\u001b[0m \u001b[0;34m=\u001b[0m \u001b[0;36m1\u001b[0m\u001b[0;34m\u001b[0m\u001b[0;34m\u001b[0m\u001b[0m\n\u001b[1;32m     14\u001b[0m         \u001b[0mcontent\u001b[0m \u001b[0;34m=\u001b[0m \u001b[0mf\u001b[0m\u001b[0;34m.\u001b[0m\u001b[0mreadlines\u001b[0m\u001b[0;34m(\u001b[0m\u001b[0;34m)\u001b[0m\u001b[0;34m\u001b[0m\u001b[0;34m\u001b[0m\u001b[0m\n",
      "\u001b[0;31mFileNotFoundError\u001b[0m: [Errno 2] No such file or directory: 'b_better_start_small.in.txt'"
     ]
    }
   ],
   "source": [
    "FILE = 'b_better_start_small.in.txt'\n",
    "contributors = dict()\n",
    "projects = dict()\n",
    "parse_input_file()\n",
    "res = random_solver(contributors, projects)"
   ]
  },
  {
   "cell_type": "code",
   "execution_count": 14,
   "id": "a037f26e",
   "metadata": {
    "scrolled": false
   },
   "outputs": [
    {
     "data": {
      "text/plain": [
       "{'WebServer': ['Bob', 'Anna'], 'WebChat': ['Maria', 'Bob']}"
      ]
     },
     "execution_count": 14,
     "metadata": {},
     "output_type": "execute_result"
    }
   ],
   "source": [
    "res"
   ]
  },
  {
   "cell_type": "code",
   "execution_count": 84,
   "id": "c8e1e70e",
   "metadata": {},
   "outputs": [],
   "source": [
    "create_submission('f_file.txt', res)"
   ]
  },
  {
   "cell_type": "code",
   "execution_count": null,
   "id": "40d44c73",
   "metadata": {},
   "outputs": [],
   "source": [
    "proj_dic = {'webServer':[('Bob', 5), ('Anna', 6)], 'Logging':[('Anna', 11)], \n",
    "            'WebChat':[('Maria', 4), ('Bob', 16)]}\n",
    "\n",
    "projects = {'webServer':[7,10, 7, 2], 'Logging':[5, 10, 5, 1], 'WebChat':[10, 20, 15, 2]}\n",
    "\n",
    "\n",
    "def scorer(proj_dic):\n",
    "    final_score = 0 # Variable to store the final score, this will be returned\n",
    "\n",
    "    # Iterating through each project in the submission dictionary\n",
    "    for proj_name in proj_dic.keys():\n",
    "        info = projects[proj_name] # stores the list with D,S,B,R\n",
    "                # days it takes, score for the proj, best before day, number of roles\n",
    "\n",
    "        best_before = info[2]\n",
    "        current_score = info[1]\n",
    "        \n",
    "        last_days = []\n",
    "        for i in proj_dic[proj_name]:\n",
    "            last_days.append(i[1])\n",
    "        last_day = max(last_days)\n",
    "\n",
    "        # Now we check with the best before day\n",
    "        if best_before - last_day >= 0: \n",
    "            # If days are still left in the best before, that means, before or ON due date.\n",
    "            # We get full score\n",
    "            final_score += current_score\n",
    "\n",
    "        elif (best_before - last_day) < 0 :\n",
    "            late_by = (last_day - best_before)\n",
    "            \n",
    "            score_now = current_score - late_by\n",
    "            \n",
    "            if score_now >= 0:\n",
    "                final_score += score_now\n",
    "            \n",
    "\n",
    "    return final_score - 1\n",
    "      \n",
    "score = scorer(proj_dic)\n",
    "print(score)"
   ]
  }
 ],
 "metadata": {
  "kernelspec": {
   "display_name": "Python 3 (ipykernel)",
   "language": "python",
   "name": "python3"
  },
  "language_info": {
   "codemirror_mode": {
    "name": "ipython",
    "version": 3
   },
   "file_extension": ".py",
   "mimetype": "text/x-python",
   "name": "python",
   "nbconvert_exporter": "python",
   "pygments_lexer": "ipython3",
   "version": "3.9.10"
  },
  "toc": {
   "base_numbering": 1,
   "nav_menu": {},
   "number_sections": true,
   "sideBar": true,
   "skip_h1_title": false,
   "title_cell": "Table of Contents",
   "title_sidebar": "Contents",
   "toc_cell": false,
   "toc_position": {},
   "toc_section_display": true,
   "toc_window_display": false
  },
  "varInspector": {
   "cols": {
    "lenName": 16,
    "lenType": 16,
    "lenVar": 40
   },
   "kernels_config": {
    "python": {
     "delete_cmd_postfix": "",
     "delete_cmd_prefix": "del ",
     "library": "var_list.py",
     "varRefreshCmd": "print(var_dic_list())"
    },
    "r": {
     "delete_cmd_postfix": ") ",
     "delete_cmd_prefix": "rm(",
     "library": "var_list.r",
     "varRefreshCmd": "cat(var_dic_list()) "
    }
   },
   "types_to_exclude": [
    "module",
    "function",
    "builtin_function_or_method",
    "instance",
    "_Feature"
   ],
   "window_display": false
  }
 },
 "nbformat": 4,
 "nbformat_minor": 5
}
